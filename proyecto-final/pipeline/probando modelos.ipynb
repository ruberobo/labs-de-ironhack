{
 "cells": [
  {
   "cell_type": "code",
   "execution_count": 4,
   "metadata": {},
   "outputs": [],
   "source": [
    "import pandas as pd\n",
    "import numpy as np\n",
    "import requests\n",
    "import re\n",
    "import seaborn as sns\n",
    "import matplotlib.pyplot as plt"
   ]
  },
  {
   "cell_type": "code",
   "execution_count": 5,
   "metadata": {},
   "outputs": [],
   "source": [
    "#plotly\n",
    "import plotly.express as px\n",
    "from plotly.subplots import make_subplots\n",
    "import plotly.graph_objects as go"
   ]
  },
  {
   "cell_type": "code",
   "execution_count": 6,
   "metadata": {},
   "outputs": [],
   "source": [
    "import warnings\n",
    "warnings.filterwarnings('ignore')"
   ]
  },
  {
   "cell_type": "code",
   "execution_count": 7,
   "metadata": {},
   "outputs": [],
   "source": [
    "from sklearn.svm import SVC\n",
    "from sklearn.model_selection import train_test_split as tts\n",
    "from sklearn.metrics import confusion_matrix\n",
    "from sklearn.metrics import r2_score\n",
    "from sklearn.linear_model import LogisticRegression\n",
    "from sklearn.metrics import accuracy_score as acc"
   ]
  },
  {
   "cell_type": "code",
   "execution_count": 46,
   "metadata": {},
   "outputs": [],
   "source": [
    "from sklearn.naive_bayes import GaussianNB as GNB #Bayes para regresion \n",
    "from sklearn.naive_bayes import MultinomialNB as MNB #Bayes con variables discretas (categoricas)\n",
    "from sklearn.naive_bayes import ComplementNB as CNB\n",
    "from sklearn.naive_bayes import BernoulliNB as BNB \n",
    "from sklearn.ensemble import GradientBoostingClassifier as GBC"
   ]
  },
  {
   "cell_type": "code",
   "execution_count": 112,
   "metadata": {},
   "outputs": [],
   "source": [
    "sinave_imss4=pd.read_csv('/Users/rube/Documents/ironhack/proyecto final/data_limpia/sinave_total.csv',)\n"
   ]
  },
  {
   "cell_type": "code",
   "execution_count": 113,
   "metadata": {},
   "outputs": [
    {
     "data": {
      "text/html": [
       "<div>\n",
       "<style scoped>\n",
       "    .dataframe tbody tr th:only-of-type {\n",
       "        vertical-align: middle;\n",
       "    }\n",
       "\n",
       "    .dataframe tbody tr th {\n",
       "        vertical-align: top;\n",
       "    }\n",
       "\n",
       "    .dataframe thead th {\n",
       "        text-align: right;\n",
       "    }\n",
       "</style>\n",
       "<table border=\"1\" class=\"dataframe\">\n",
       "  <thead>\n",
       "    <tr style=\"text-align: right;\">\n",
       "      <th></th>\n",
       "      <th>fecha_ingreso</th>\n",
       "      <th>cve_entidad_residencia</th>\n",
       "      <th>cve_municipio_residencia</th>\n",
       "      <th>diagnostico_clinico_neumonia</th>\n",
       "      <th>edad</th>\n",
       "      <th>esta_emabarazada</th>\n",
       "      <th>meses_embarazo</th>\n",
       "      <th>fiebre</th>\n",
       "      <th>tos</th>\n",
       "      <th>odinofagia</th>\n",
       "      <th>...</th>\n",
       "      <th>recibio_tratamiento</th>\n",
       "      <th>recibio_tratamiento_antiviral</th>\n",
       "      <th>vacunado</th>\n",
       "      <th>Masculino</th>\n",
       "      <th>Femenino</th>\n",
       "      <th>Ambulatorio</th>\n",
       "      <th>HOSPITALIZADO</th>\n",
       "      <th>tiene_covid19</th>\n",
       "      <th>negativo_covid19</th>\n",
       "      <th>urgencia</th>\n",
       "    </tr>\n",
       "  </thead>\n",
       "  <tbody>\n",
       "    <tr>\n",
       "      <th>0</th>\n",
       "      <td>2020-01-02</td>\n",
       "      <td>9</td>\n",
       "      <td>2.0</td>\n",
       "      <td>0</td>\n",
       "      <td>5</td>\n",
       "      <td>0</td>\n",
       "      <td>0.0</td>\n",
       "      <td>1</td>\n",
       "      <td>1</td>\n",
       "      <td>1</td>\n",
       "      <td>...</td>\n",
       "      <td>0</td>\n",
       "      <td>1</td>\n",
       "      <td>0</td>\n",
       "      <td>0</td>\n",
       "      <td>0</td>\n",
       "      <td>1</td>\n",
       "      <td>0</td>\n",
       "      <td>0</td>\n",
       "      <td>1</td>\n",
       "      <td>1</td>\n",
       "    </tr>\n",
       "    <tr>\n",
       "      <th>1</th>\n",
       "      <td>2020-01-02</td>\n",
       "      <td>9</td>\n",
       "      <td>5.0</td>\n",
       "      <td>0</td>\n",
       "      <td>8</td>\n",
       "      <td>0</td>\n",
       "      <td>0.0</td>\n",
       "      <td>1</td>\n",
       "      <td>1</td>\n",
       "      <td>0</td>\n",
       "      <td>...</td>\n",
       "      <td>0</td>\n",
       "      <td>1</td>\n",
       "      <td>0</td>\n",
       "      <td>0</td>\n",
       "      <td>0</td>\n",
       "      <td>1</td>\n",
       "      <td>0</td>\n",
       "      <td>0</td>\n",
       "      <td>1</td>\n",
       "      <td>1</td>\n",
       "    </tr>\n",
       "    <tr>\n",
       "      <th>2</th>\n",
       "      <td>2020-01-02</td>\n",
       "      <td>9</td>\n",
       "      <td>8.0</td>\n",
       "      <td>0</td>\n",
       "      <td>3</td>\n",
       "      <td>0</td>\n",
       "      <td>0.0</td>\n",
       "      <td>1</td>\n",
       "      <td>1</td>\n",
       "      <td>1</td>\n",
       "      <td>...</td>\n",
       "      <td>1</td>\n",
       "      <td>1</td>\n",
       "      <td>0</td>\n",
       "      <td>0</td>\n",
       "      <td>0</td>\n",
       "      <td>1</td>\n",
       "      <td>0</td>\n",
       "      <td>0</td>\n",
       "      <td>1</td>\n",
       "      <td>1</td>\n",
       "    </tr>\n",
       "    <tr>\n",
       "      <th>3</th>\n",
       "      <td>2020-01-02</td>\n",
       "      <td>9</td>\n",
       "      <td>5.0</td>\n",
       "      <td>0</td>\n",
       "      <td>3</td>\n",
       "      <td>0</td>\n",
       "      <td>0.0</td>\n",
       "      <td>1</td>\n",
       "      <td>1</td>\n",
       "      <td>0</td>\n",
       "      <td>...</td>\n",
       "      <td>0</td>\n",
       "      <td>1</td>\n",
       "      <td>0</td>\n",
       "      <td>0</td>\n",
       "      <td>0</td>\n",
       "      <td>1</td>\n",
       "      <td>0</td>\n",
       "      <td>0</td>\n",
       "      <td>1</td>\n",
       "      <td>1</td>\n",
       "    </tr>\n",
       "    <tr>\n",
       "      <th>4</th>\n",
       "      <td>2020-01-02</td>\n",
       "      <td>9</td>\n",
       "      <td>5.0</td>\n",
       "      <td>1</td>\n",
       "      <td>29</td>\n",
       "      <td>0</td>\n",
       "      <td>0.0</td>\n",
       "      <td>1</td>\n",
       "      <td>1</td>\n",
       "      <td>1</td>\n",
       "      <td>...</td>\n",
       "      <td>1</td>\n",
       "      <td>1</td>\n",
       "      <td>0</td>\n",
       "      <td>0</td>\n",
       "      <td>0</td>\n",
       "      <td>0</td>\n",
       "      <td>1</td>\n",
       "      <td>0</td>\n",
       "      <td>1</td>\n",
       "      <td>1</td>\n",
       "    </tr>\n",
       "    <tr>\n",
       "      <th>...</th>\n",
       "      <td>...</td>\n",
       "      <td>...</td>\n",
       "      <td>...</td>\n",
       "      <td>...</td>\n",
       "      <td>...</td>\n",
       "      <td>...</td>\n",
       "      <td>...</td>\n",
       "      <td>...</td>\n",
       "      <td>...</td>\n",
       "      <td>...</td>\n",
       "      <td>...</td>\n",
       "      <td>...</td>\n",
       "      <td>...</td>\n",
       "      <td>...</td>\n",
       "      <td>...</td>\n",
       "      <td>...</td>\n",
       "      <td>...</td>\n",
       "      <td>...</td>\n",
       "      <td>...</td>\n",
       "      <td>...</td>\n",
       "      <td>...</td>\n",
       "    </tr>\n",
       "    <tr>\n",
       "      <th>68324</th>\n",
       "      <td>2020-09-26</td>\n",
       "      <td>9</td>\n",
       "      <td>14.0</td>\n",
       "      <td>1</td>\n",
       "      <td>68</td>\n",
       "      <td>0</td>\n",
       "      <td>0.0</td>\n",
       "      <td>1</td>\n",
       "      <td>1</td>\n",
       "      <td>1</td>\n",
       "      <td>...</td>\n",
       "      <td>0</td>\n",
       "      <td>0</td>\n",
       "      <td>0</td>\n",
       "      <td>0</td>\n",
       "      <td>0</td>\n",
       "      <td>0</td>\n",
       "      <td>1</td>\n",
       "      <td>0</td>\n",
       "      <td>1</td>\n",
       "      <td>1</td>\n",
       "    </tr>\n",
       "    <tr>\n",
       "      <th>68325</th>\n",
       "      <td>2020-09-26</td>\n",
       "      <td>9</td>\n",
       "      <td>12.0</td>\n",
       "      <td>1</td>\n",
       "      <td>35</td>\n",
       "      <td>0</td>\n",
       "      <td>0.0</td>\n",
       "      <td>1</td>\n",
       "      <td>1</td>\n",
       "      <td>1</td>\n",
       "      <td>...</td>\n",
       "      <td>0</td>\n",
       "      <td>0</td>\n",
       "      <td>0</td>\n",
       "      <td>0</td>\n",
       "      <td>0</td>\n",
       "      <td>0</td>\n",
       "      <td>1</td>\n",
       "      <td>0</td>\n",
       "      <td>1</td>\n",
       "      <td>1</td>\n",
       "    </tr>\n",
       "    <tr>\n",
       "      <th>68326</th>\n",
       "      <td>2020-09-26</td>\n",
       "      <td>9</td>\n",
       "      <td>15.0</td>\n",
       "      <td>0</td>\n",
       "      <td>46</td>\n",
       "      <td>0</td>\n",
       "      <td>0.0</td>\n",
       "      <td>1</td>\n",
       "      <td>0</td>\n",
       "      <td>1</td>\n",
       "      <td>...</td>\n",
       "      <td>0</td>\n",
       "      <td>0</td>\n",
       "      <td>0</td>\n",
       "      <td>0</td>\n",
       "      <td>0</td>\n",
       "      <td>1</td>\n",
       "      <td>0</td>\n",
       "      <td>0</td>\n",
       "      <td>1</td>\n",
       "      <td>1</td>\n",
       "    </tr>\n",
       "    <tr>\n",
       "      <th>68327</th>\n",
       "      <td>2020-09-26</td>\n",
       "      <td>9</td>\n",
       "      <td>13.0</td>\n",
       "      <td>1</td>\n",
       "      <td>51</td>\n",
       "      <td>0</td>\n",
       "      <td>0.0</td>\n",
       "      <td>0</td>\n",
       "      <td>1</td>\n",
       "      <td>1</td>\n",
       "      <td>...</td>\n",
       "      <td>0</td>\n",
       "      <td>1</td>\n",
       "      <td>0</td>\n",
       "      <td>0</td>\n",
       "      <td>0</td>\n",
       "      <td>0</td>\n",
       "      <td>1</td>\n",
       "      <td>0</td>\n",
       "      <td>1</td>\n",
       "      <td>1</td>\n",
       "    </tr>\n",
       "    <tr>\n",
       "      <th>68328</th>\n",
       "      <td>2020-09-26</td>\n",
       "      <td>9</td>\n",
       "      <td>7.0</td>\n",
       "      <td>1</td>\n",
       "      <td>50</td>\n",
       "      <td>0</td>\n",
       "      <td>0.0</td>\n",
       "      <td>1</td>\n",
       "      <td>1</td>\n",
       "      <td>1</td>\n",
       "      <td>...</td>\n",
       "      <td>0</td>\n",
       "      <td>0</td>\n",
       "      <td>0</td>\n",
       "      <td>0</td>\n",
       "      <td>0</td>\n",
       "      <td>0</td>\n",
       "      <td>1</td>\n",
       "      <td>0</td>\n",
       "      <td>1</td>\n",
       "      <td>1</td>\n",
       "    </tr>\n",
       "  </tbody>\n",
       "</table>\n",
       "<p>68329 rows × 47 columns</p>\n",
       "</div>"
      ],
      "text/plain": [
       "      fecha_ingreso  cve_entidad_residencia  cve_municipio_residencia  \\\n",
       "0        2020-01-02                       9                       2.0   \n",
       "1        2020-01-02                       9                       5.0   \n",
       "2        2020-01-02                       9                       8.0   \n",
       "3        2020-01-02                       9                       5.0   \n",
       "4        2020-01-02                       9                       5.0   \n",
       "...             ...                     ...                       ...   \n",
       "68324    2020-09-26                       9                      14.0   \n",
       "68325    2020-09-26                       9                      12.0   \n",
       "68326    2020-09-26                       9                      15.0   \n",
       "68327    2020-09-26                       9                      13.0   \n",
       "68328    2020-09-26                       9                       7.0   \n",
       "\n",
       "       diagnostico_clinico_neumonia  edad  esta_emabarazada  meses_embarazo  \\\n",
       "0                                 0     5                 0             0.0   \n",
       "1                                 0     8                 0             0.0   \n",
       "2                                 0     3                 0             0.0   \n",
       "3                                 0     3                 0             0.0   \n",
       "4                                 1    29                 0             0.0   \n",
       "...                             ...   ...               ...             ...   \n",
       "68324                             1    68                 0             0.0   \n",
       "68325                             1    35                 0             0.0   \n",
       "68326                             0    46                 0             0.0   \n",
       "68327                             1    51                 0             0.0   \n",
       "68328                             1    50                 0             0.0   \n",
       "\n",
       "       fiebre  tos  odinofagia  ...  recibio_tratamiento  \\\n",
       "0           1    1           1  ...                    0   \n",
       "1           1    1           0  ...                    0   \n",
       "2           1    1           1  ...                    1   \n",
       "3           1    1           0  ...                    0   \n",
       "4           1    1           1  ...                    1   \n",
       "...       ...  ...         ...  ...                  ...   \n",
       "68324       1    1           1  ...                    0   \n",
       "68325       1    1           1  ...                    0   \n",
       "68326       1    0           1  ...                    0   \n",
       "68327       0    1           1  ...                    0   \n",
       "68328       1    1           1  ...                    0   \n",
       "\n",
       "       recibio_tratamiento_antiviral  vacunado  Masculino  Femenino  \\\n",
       "0                                  1         0          0         0   \n",
       "1                                  1         0          0         0   \n",
       "2                                  1         0          0         0   \n",
       "3                                  1         0          0         0   \n",
       "4                                  1         0          0         0   \n",
       "...                              ...       ...        ...       ...   \n",
       "68324                              0         0          0         0   \n",
       "68325                              0         0          0         0   \n",
       "68326                              0         0          0         0   \n",
       "68327                              1         0          0         0   \n",
       "68328                              0         0          0         0   \n",
       "\n",
       "       Ambulatorio  HOSPITALIZADO  tiene_covid19  negativo_covid19  urgencia  \n",
       "0                1              0              0                 1         1  \n",
       "1                1              0              0                 1         1  \n",
       "2                1              0              0                 1         1  \n",
       "3                1              0              0                 1         1  \n",
       "4                0              1              0                 1         1  \n",
       "...            ...            ...            ...               ...       ...  \n",
       "68324            0              1              0                 1         1  \n",
       "68325            0              1              0                 1         1  \n",
       "68326            1              0              0                 1         1  \n",
       "68327            0              1              0                 1         1  \n",
       "68328            0              1              0                 1         1  \n",
       "\n",
       "[68329 rows x 47 columns]"
      ]
     },
     "execution_count": 113,
     "metadata": {},
     "output_type": "execute_result"
    }
   ],
   "source": [
    "sinave_imss4"
   ]
  },
  {
   "cell_type": "code",
   "execution_count": 44,
   "metadata": {},
   "outputs": [
    {
     "data": {
      "text/plain": [
       "<AxesSubplot:>"
      ]
     },
     "execution_count": 44,
     "metadata": {},
     "output_type": "execute_result"
    },
    {
     "data": {
      "image/png": "[encoded data removed]",
      "text/plain": [
       "<Figure size 432x288 with 2 Axes>"
      ]
     },
     "metadata": {
      "needs_background": "light"
     },
     "output_type": "display_data"
    }
   ],
   "source": [
    "sns.heatmap(sinave_imss4.corr())"
   ]
  },
  {
   "cell_type": "code",
   "execution_count": 114,
   "metadata": {},
   "outputs": [],
   "source": [
    "#todo\n",
    "X_train, X_test, y_train, y_test=tts(sinave_imss4[['diagnostico_clinico_neumonia', 'edad', 'esta_emabarazada',\n",
    "    'fiebre', 'tos', 'odinofagia', 'disnea',\n",
    "       'irritabilidad', 'diarrea', 'dolor_toracico', 'calofrios', 'cefalea',\n",
    "       'mialgias', 'artralgias', 'ataque_al_estado_general', 'rinorrea',\n",
    "       'polipnea', 'vomito', 'dolor_abdominal', 'conjuntivitis', 'cianosis',\n",
    "       'inicio_subito_sintomas', 'diabetes', 'epoc', 'asma', 'inmunosupresivo',\n",
    "       'hipertension', 'VIH_SIDA', 'otra_condicion', 'enfermedad_cardiaca',\n",
    "       'obesidad', 'insuficiencia_renal_cronica', 'tabaquismo',\n",
    "       'recibio_tratamiento', 'recibio_tratamiento_antiviral', 'vacunado',\n",
    "       'Masculino', 'Femenino', 'Ambulatorio', 'HOSPITALIZADO']]\n",
    "                                                   , sinave_imss4['tiene_covid19'], test_size=0.2)"
   ]
  },
  {
   "cell_type": "code",
   "execution_count": 10,
   "metadata": {},
   "outputs": [],
   "source": [
    "#menos columnas\n",
    "X_train2, X_test2, y_train2, y_test2=tts(sinave_imss4[[ 'edad', 'esta_emabarazada',\n",
    "       'meses_embarazo',\n",
    "       'inicio_subito_sintomas', 'diabetes', 'epoc', 'asma',\n",
    "       'hipertension', 'VIH_SIDA', 'enfermedad_cardiaca',\n",
    "       'obesidad', 'insuficiencia_renal_cronica', 'tabaquismo',\n",
    "       ]]\n",
    "                                                   , sinave_imss4['tiene_covid19'], test_size=0.2)"
   ]
  },
  {
   "cell_type": "code",
   "execution_count": 115,
   "metadata": {},
   "outputs": [
    {
     "name": "stdout",
     "output_type": "stream",
     "text": [
      "CPU times: user 1.04 s, sys: 74.7 ms, total: 1.11 s\n",
      "Wall time: 616 ms\n"
     ]
    }
   ],
   "source": [
    "%%time\n",
    "#regresión logistica\n",
    "\n",
    "logit_reg = LogisticRegression()\n",
    "logit_fit = logit_reg.fit(X_train,y_train)\n",
    "y_pred = logit_fit.predict(X_test)"
   ]
  },
  {
   "cell_type": "code",
   "execution_count": 116,
   "metadata": {},
   "outputs": [
    {
     "data": {
      "text/plain": [
       "0.6068344797307186"
      ]
     },
     "execution_count": 116,
     "metadata": {},
     "output_type": "execute_result"
    }
   ],
   "source": [
    "acc(y_test, y_pred)"
   ]
  },
  {
   "cell_type": "code",
   "execution_count": 117,
   "metadata": {},
   "outputs": [
    {
     "name": "stdout",
     "output_type": "stream",
     "text": [
      "CPU times: user 73.6 ms, sys: 19.7 ms, total: 93.3 ms\n",
      "Wall time: 103 ms\n"
     ]
    }
   ],
   "source": [
    "%%time\n",
    "gnb=GNB().fit(X_train,y_train)\n",
    "y_pred3= gnb.predict(X_test)"
   ]
  },
  {
   "cell_type": "code",
   "execution_count": 118,
   "metadata": {},
   "outputs": [
    {
     "data": {
      "text/plain": [
       "0.5926386653007464"
      ]
     },
     "execution_count": 118,
     "metadata": {},
     "output_type": "execute_result"
    }
   ],
   "source": [
    "acc(y_test, y_pred3)"
   ]
  },
  {
   "cell_type": "code",
   "execution_count": 119,
   "metadata": {},
   "outputs": [
    {
     "name": "stdout",
     "output_type": "stream",
     "text": [
      "CPU times: user 32.8 ms, sys: 16.8 ms, total: 49.6 ms\n",
      "Wall time: 63.3 ms\n"
     ]
    }
   ],
   "source": [
    "%%time\n",
    "mnb=MNB(alpha=1,fit_prior=False).fit(X_train,y_train)\n",
    "y_pred4=mnb.predict(X_test)"
   ]
  },
  {
   "cell_type": "code",
   "execution_count": 120,
   "metadata": {},
   "outputs": [
    {
     "data": {
      "text/plain": [
       "0.575808576028099"
      ]
     },
     "execution_count": 120,
     "metadata": {},
     "output_type": "execute_result"
    }
   ],
   "source": [
    "acc(y_test, y_pred4)"
   ]
  },
  {
   "cell_type": "markdown",
   "metadata": {},
   "source": [
    "# hyperop"
   ]
  },
  {
   "cell_type": "code",
   "execution_count": 78,
   "metadata": {},
   "outputs": [],
   "source": [
    "from hyperopt import fmin, hp, tpe, Trials, space_eval, STATUS_OK\n",
    "from hyperopt.pyll import scope as ho_scope\n",
    "from hyperopt.pyll.stochastic import sample as ho_sample"
   ]
  },
  {
   "cell_type": "code",
   "execution_count": 79,
   "metadata": {},
   "outputs": [],
   "source": [
    "space = {'penalty':hp.choice('penanlty',['l2']),\n",
    "         'tol':hp.choice('tol',[0.0001,0.000001]),\n",
    "         \n",
    "         'solver':hp.choice('solver',['newton-cg', 'lbfgs', 'liblinear', 'sag', 'saga']),\n",
    "         \n",
    "         \n",
    "    'fit_intercept':hp.choice('fit_intercept',[True,False]),\n",
    "    \n",
    "    'C': hp.choice('C', [0.01,0.1,1]),\n",
    "    \n",
    "    'max_iter':hp.choice('max_iter', [100, 1000,10000]),\n",
    "         \n",
    "        \n",
    "}"
   ]
  },
  {
   "cell_type": "code",
   "execution_count": 80,
   "metadata": {},
   "outputs": [],
   "source": [
    "from sklearn.metrics import mean_squared_error as mse"
   ]
  },
  {
   "cell_type": "code",
   "execution_count": 81,
   "metadata": {},
   "outputs": [],
   "source": [
    "def objetivo(x):\n",
    "    \n",
    "    modelo = LogisticRegression(penalty=x['penalty'],tol=x['tol'],C = x['C'], fit_intercept=x['fit_intercept'],\n",
    "            max_iter = x['max_iter'],solver=x['solver'])\n",
    "    \n",
    "    \n",
    "    modelo.fit(X_train, y_train) #Entrenamiento es fit()\n",
    "    \n",
    "    y_pred=modelo.predict(X_test) #Prediccion\n",
    "    \n",
    "    rmse=mse(y_test, y_pred)**0.5\n",
    "    \n",
    "    return {'loss': rmse, 'status':STATUS_OK}"
   ]
  },
  {
   "cell_type": "code",
   "execution_count": 82,
   "metadata": {},
   "outputs": [],
   "source": [
    "trials_reg=Trials()"
   ]
  },
  {
   "cell_type": "code",
   "execution_count": 83,
   "metadata": {},
   "outputs": [
    {
     "name": "stdout",
     "output_type": "stream",
     "text": [
      "100%|██████████| 10/10 [12:54<00:00, 77.46s/trial, best loss: 0.6274374394133485]\n",
      "CPU times: user 11min 31s, sys: 6.22 s, total: 11min 37s\n",
      "Wall time: 12min 54s\n"
     ]
    }
   ],
   "source": [
    "%%time\n",
    "best=fmin(fn=objetivo, space=space, algo=tpe.suggest, max_evals=10, trials=Trials())\n"
   ]
  },
  {
   "cell_type": "code",
   "execution_count": 84,
   "metadata": {},
   "outputs": [
    {
     "data": {
      "text/plain": [
       "{'C': 0,\n",
       " 'fit_intercept': 0,\n",
       " 'max_iter': 2,\n",
       " 'penanlty': 0,\n",
       " 'solver': 3,\n",
       " 'tol': 1}"
      ]
     },
     "execution_count": 84,
     "metadata": {},
     "output_type": "execute_result"
    }
   ],
   "source": [
    "best"
   ]
  },
  {
   "cell_type": "code",
   "execution_count": 91,
   "metadata": {},
   "outputs": [
    {
     "name": "stdout",
     "output_type": "stream",
     "text": [
      "CPU times: user 472 ms, sys: 17.9 ms, total: 490 ms\n",
      "Wall time: 539 ms\n"
     ]
    }
   ],
   "source": [
    "%%time\n",
    "#regresión logistica\n",
    "\n",
    "logit_reg = LogisticRegression(fit_intercept=True, max_iter=10000, \n",
    "                               C=0.01,penalty='l2', tol=0.00001, solver='liblinear')\n",
    "logit_fit = logit_reg.fit(X_train,y_train)\n",
    "y_pred_p = logit_fit.predict(X_test)"
   ]
  },
  {
   "cell_type": "code",
   "execution_count": 92,
   "metadata": {},
   "outputs": [
    {
     "data": {
      "text/plain": [
       "0.6050782965022684"
      ]
     },
     "execution_count": 92,
     "metadata": {},
     "output_type": "execute_result"
    }
   ],
   "source": [
    "acc(y_test, y_pred_p)"
   ]
  },
  {
   "cell_type": "code",
   "execution_count": 131,
   "metadata": {},
   "outputs": [],
   "source": [
    "import pickle\n"
   ]
  },
  {
   "cell_type": "code",
   "execution_count": 132,
   "metadata": {},
   "outputs": [],
   "source": [
    "# Load from file\n",
    "with open('coronavirus', 'rb') as file:\n",
    "    modelo = pickle.load(file)\n",
    "    "
   ]
  },
  {
   "cell_type": "code",
   "execution_count": null,
   "metadata": {},
   "outputs": [],
   "source": [
    "'diagnostico_clinico_neumonia', 'edad', 'esta_emabarazada',\n",
    "       'meses_embarazo', 'fiebre', 'tos', 'odinofagia', 'disnea',\n",
    "       'irritabilidad', 'diarrea', 'dolor_toracico', 'calofrios', 'cefalea',\n",
    "       'mialgias', 'artralgias', 'ataque_al_estado_general', 'rinorrea',\n",
    "       'polipnea', 'vomito', 'dolor_abdominal', 'conjuntivitis', 'cianosis',\n",
    "       'inicio_subito_sintomas', 'diabetes', 'epoc', 'asma', 'inmunosupresivo',\n",
    "       'hipertension', 'VIH_SIDA', 'otra_condicion', 'enfermedad_cardiaca',\n",
    "       'obesidad', 'insuficiencia_renal_cronica', 'tabaquismo',\n",
    "       'recibio_tratamiento', 'recibio_tratamiento_antiviral', 'vacunado',\n",
    "       'Masculino', 'Femenino', 'Ambulatorio', 'HOSPITALIZADO','urgencia'"
   ]
  },
  {
   "cell_type": "code",
   "execution_count": 104,
   "metadata": {},
   "outputs": [
    {
     "name": "stdout",
     "output_type": "stream",
     "text": [
      "¿diagonostico neumonía?no\n",
      "edad con numeros entero30\n",
      "¿esta embarazada?no\n",
      "si esta embarazada inserte meses en número entero, de otra forma coloque cero0\n",
      "¿fiebre?no\n",
      "¿tos?no\n",
      "¿dolor de garganta?si\n",
      "¿dificultad para respirar?no\n",
      "¿irritabilidad?si\n",
      "¿diarrea?no\n",
      "¿dolor toracico?no\n",
      "¿escalofrios?si\n",
      "¿dolor de cabeza?no\n",
      "¿dolor muscular?si\n",
      "¿dolor en articulaciones?no\n",
      "¿se siente mal en general?si\n",
      "¿escurrimiento nasal?no\n",
      "¿respiración acelerada?no\n",
      "¿vómito?no\n",
      "¿dolor abdominal?si\n",
      "¿irritación de ojos?no\n",
      "¿cambio de color en piel?no\n",
      "¿sus sintomas iniciaron de manera súbita?si\n",
      "¿diabetes?no\n",
      "¿enfermedad pulmonar obstructiva crónica?no\n",
      "¿asma?si\n",
      "¿inmunosupresivo?no\n",
      "¿hipertension?no\n",
      "¿Es VIH positivo?si\n",
      "¿alguna otra condición?no\n",
      "¿enfermedad cárdiaca?no\n",
      "¿sobrepeso u obesidad?si\n",
      "¿padece insuficiencia renal?no\n",
      "¿fuma?no\n",
      "¿recibió tratamiento para su padecimiento?no\n",
      "¿tomo antivirales?no\n",
      "¿se vacuno co ntra influenza?si\n",
      "Si se considera masculino escriba si,si es femenino colo que no y responda si la siguiente preguntasi\n",
      "Si se considera femenino escriba sisi\n",
      "¿tratamiento ambulatorio?no\n",
      "¿requirió hospitalización?no\n",
      "¿fue servicio de urgencia?si\n"
     ]
    }
   ],
   "source": [
    "\n",
    "neumonia=input('¿diagonostico neumonía?')\n",
    "edad=input('edad con numeros entero')\n",
    "embarazo=input('¿esta embarazada?')\n",
    "meses=input('si esta embarazada inserte meses en número entero, de otra forma coloque cero')\n",
    "fiebre=input('¿fiebre?')\n",
    "tos=input('¿tos?')\n",
    "odinofagia=input('¿dolor de garganta?')\n",
    "disnea=input('¿dificultad para respirar?')\n",
    "irritabilidad=input('¿irritabilidad?')\n",
    "diarrea=input('¿diarrea?')\n",
    "dolor_t=input('¿dolor toracico?')\n",
    "calofrios= input('¿escalofrios?')\n",
    "cefalea=input('¿dolor de cabeza?')\n",
    "mialgia=input('¿dolor muscular?')\n",
    "artralgia=input('¿dolor en articulaciones?')\n",
    "ataque=input('¿se siente mal en general?')\n",
    "rinorrea=input('¿escurrimiento nasal?')\n",
    "polipnea=input('¿respiración acelerada?')\n",
    "vomito=input('¿vómito?')\n",
    "dolor_ab=input('¿dolor abdominal?')\n",
    "conjuntivitis = input('¿irritación de ojos?')\n",
    "cianosis=input ('¿cambio de color en piel?')\n",
    "inicio_subito=input('¿sus sintomas iniciaron de manera súbita?')\n",
    "diabetes=input('¿diabetes?')\n",
    "epoc=input('¿enfermedad pulmonar obstructiva crónica?')\n",
    "asma=input('¿asma?')\n",
    "inmunosupresivo = input('¿inmunosupresivo?')\n",
    "hipertension=input('¿hipertension?')\n",
    "vih=input('¿Es VIH positivo?')\n",
    "otra=input('¿alguna otra condición?')\n",
    "enfermedad_cardiaca=input('¿enfermedad cárdiaca?')\n",
    "obesidad=input('¿sobrepeso u obesidad?')\n",
    "renal=input('¿padece insuficiencia renal?')\n",
    "tabaquismo=input('¿fuma?')\n",
    "tratamiento=input('¿recibió tratamiento para su padecimiento?')\n",
    "antiviral=input('¿tomo antivirales?')\n",
    "vacunado=input('¿se vacuno co ntra influenza?')\n",
    "masculino=input('Si se considera masculino escriba si,si es femenino escriba no y responda si la siguiente pregunta')\n",
    "femenino=input('Si se considera femenino escriba si')\n",
    "ambulatorio=input('¿tratamiento ambulatorio?')\n",
    "hospitalizado=input('¿requirió hospitalización?')\n",
    "urgencia=input('¿fue servicio de urgencia?')\n",
    "\n"
   ]
  },
  {
   "cell_type": "code",
   "execution_count": 148,
   "metadata": {},
   "outputs": [],
   "source": [
    "array=np.array([\n",
    "        neumonia,edad,embarazo,meses,fiebre,tos,odinofagia,disnea,irritabilidad,diarrea,dolor_t,calofrios,\n",
    "    cefalea,mialgia,artralgia,ataque,rinorrea,polipnea,vomito,dolor_ab,conjuntivitis,cianosis,inicio_subito,\n",
    "    diabetes,epoc,asma,inmunosupresivo,hipertension,vih,otra,enfermedad_cardiaca,obesidad,renal,\n",
    "    tabaquismo,tratamiento,antiviral,vacunado,masculino,femenino,ambulatorio,hospitalizado,urgencia])"
   ]
  },
  {
   "cell_type": "code",
   "execution_count": 152,
   "metadata": {},
   "outputs": [
    {
     "name": "stdout",
     "output_type": "stream",
     "text": [
      "30\n",
      "0\n"
     ]
    }
   ],
   "source": [
    "lista=[]\n",
    "for i in array:\n",
    "    if i.isnumeric()==True:\n",
    "        lista.append(int(i))\n",
    "        \n",
    "    else:\n",
    "        x=i.lower()\n",
    "        if x=='si':\n",
    "            y=x.replace('si','1')\n",
    "        if x=='no':\n",
    "            y=x.replace('no','0')\n",
    "        \n",
    "        lista.append(int(y))\n",
    "    "
   ]
  },
  {
   "cell_type": "code",
   "execution_count": 154,
   "metadata": {},
   "outputs": [],
   "source": [
    "coronavirus=modelo.predict(np.array([lista]))"
   ]
  },
  {
   "cell_type": "code",
   "execution_count": 155,
   "metadata": {},
   "outputs": [
    {
     "name": "stdout",
     "output_type": "stream",
     "text": [
      "Usted no tiene coronavirus\n"
     ]
    }
   ],
   "source": [
    "if coronavirus[0]==0:\n",
    "    print('Usted no tiene coronavirus')\n",
    "    \n",
    "else:\n",
    "    print('Puede que usted tenga coronavirus, cuidese mucho y quedese en casa')\n",
    "    "
   ]
  },
  {
   "cell_type": "code",
   "execution_count": null,
   "metadata": {},
   "outputs": [],
   "source": []
  }
 ],
 "metadata": {
  "kernelspec": {
   "display_name": "Python 3",
   "language": "python",
   "name": "python3"
  },
  "language_info": {
   "codemirror_mode": {
    "name": "ipython",
    "version": 3
   },
   "file_extension": ".py",
   "mimetype": "text/x-python",
   "name": "python",
   "nbconvert_exporter": "python",
   "pygments_lexer": "ipython3",
   "version": "3.7.7"
  }
 },
 "nbformat": 4,
 "nbformat_minor": 4
}
