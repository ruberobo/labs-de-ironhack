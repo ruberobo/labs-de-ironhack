{
 "cells": [
  {
   "cell_type": "code",
   "execution_count": 314,
   "metadata": {},
   "outputs": [],
   "source": [
    "import pandas as pd\n",
    "import numpy as np\n",
    "import requests\n",
    "import re\n",
    "import seaborn as sns\n",
    "import matplotlib.pyplot as plt"
   ]
  },
  {
   "cell_type": "code",
   "execution_count": 315,
   "metadata": {},
   "outputs": [],
   "source": [
    "#plotly\n",
    "import plotly.express as px\n",
    "from plotly.subplots import make_subplots\n",
    "import plotly.graph_objects as go"
   ]
  },
  {
   "cell_type": "code",
   "execution_count": 316,
   "metadata": {},
   "outputs": [],
   "source": [
    "import warnings\n",
    "warnings.filterwarnings('ignore')"
   ]
  },
  {
   "cell_type": "markdown",
   "metadata": {},
   "source": [
    "# hospitales"
   ]
  },
  {
   "cell_type": "code",
   "execution_count": 317,
   "metadata": {},
   "outputs": [],
   "source": [
    "#hospitalizados\n",
    "cdmx= pd.read_csv('/Users/rube/Documents/ironhack/proyecto final/data_covid/traslados-a-hospitales.csv')"
   ]
  },
  {
   "cell_type": "code",
   "execution_count": 318,
   "metadata": {},
   "outputs": [
    {
     "data": {
      "text/html": [
       "<div>\n",
       "<style scoped>\n",
       "    .dataframe tbody tr th:only-of-type {\n",
       "        vertical-align: middle;\n",
       "    }\n",
       "\n",
       "    .dataframe tbody tr th {\n",
       "        vertical-align: top;\n",
       "    }\n",
       "\n",
       "    .dataframe thead th {\n",
       "        text-align: right;\n",
       "    }\n",
       "</style>\n",
       "<table border=\"1\" class=\"dataframe\">\n",
       "  <thead>\n",
       "    <tr style=\"text-align: right;\">\n",
       "      <th></th>\n",
       "      <th>Fecha</th>\n",
       "      <th>Alcaldia Inicio</th>\n",
       "      <th>Sector Inicio</th>\n",
       "      <th>LOCATEL</th>\n",
       "      <th>LUGAR DE TRASLADO</th>\n",
       "    </tr>\n",
       "  </thead>\n",
       "  <tbody>\n",
       "    <tr>\n",
       "      <th>0</th>\n",
       "      <td>2020-03-27</td>\n",
       "      <td>MIGUEL HIDALGO</td>\n",
       "      <td>Polanco-Castillo</td>\n",
       "      <td>SI</td>\n",
       "      <td>H. PRIVADO ESPAÑOL</td>\n",
       "    </tr>\n",
       "    <tr>\n",
       "      <th>1</th>\n",
       "      <td>2020-03-29</td>\n",
       "      <td>BENITO JUAREZ</td>\n",
       "      <td>Narvarte-Alamos</td>\n",
       "      <td>SI</td>\n",
       "      <td>ISSSTE H. R. GRAL. IGNACIO ZARAGOZA</td>\n",
       "    </tr>\n",
       "    <tr>\n",
       "      <th>2</th>\n",
       "      <td>2020-03-31</td>\n",
       "      <td>IZTAPALAPA</td>\n",
       "      <td>Quetzal</td>\n",
       "      <td>SI</td>\n",
       "      <td>IMSS H. G. Z. 28 GABRIEL MANCERA</td>\n",
       "    </tr>\n",
       "    <tr>\n",
       "      <th>3</th>\n",
       "      <td>2020-04-03</td>\n",
       "      <td>BENITO JUAREZ</td>\n",
       "      <td>Del Valle</td>\n",
       "      <td>SI</td>\n",
       "      <td>ISSSTE CTO. MED. NAL. 20 DE NOVIEMBRE</td>\n",
       "    </tr>\n",
       "    <tr>\n",
       "      <th>4</th>\n",
       "      <td>2020-04-11</td>\n",
       "      <td>GUSTAVO A. MADERO</td>\n",
       "      <td>Pradera</td>\n",
       "      <td>SI</td>\n",
       "      <td>SEDESA H. G. DE LA VILLA</td>\n",
       "    </tr>\n",
       "    <tr>\n",
       "      <th>...</th>\n",
       "      <td>...</td>\n",
       "      <td>...</td>\n",
       "      <td>...</td>\n",
       "      <td>...</td>\n",
       "      <td>...</td>\n",
       "    </tr>\n",
       "    <tr>\n",
       "      <th>2020</th>\n",
       "      <td>2020-09-05</td>\n",
       "      <td>GUSTAVO A. MADERO</td>\n",
       "      <td>Pradera</td>\n",
       "      <td>SI</td>\n",
       "      <td>IMSS H. DE EXPANSIÓN AUTODROMO HERMANOS RODRIGUEZ</td>\n",
       "    </tr>\n",
       "    <tr>\n",
       "      <th>2021</th>\n",
       "      <td>2020-09-05</td>\n",
       "      <td>IZTAPALAPA</td>\n",
       "      <td>Estrella</td>\n",
       "      <td>SI</td>\n",
       "      <td>IMSS H. DE EXPANSIÓN AUTODROMO HERMANOS RODRIGUEZ</td>\n",
       "    </tr>\n",
       "    <tr>\n",
       "      <th>2022</th>\n",
       "      <td>2020-09-05</td>\n",
       "      <td>AZCAPOTZALCO</td>\n",
       "      <td>Claveria</td>\n",
       "      <td>SI</td>\n",
       "      <td>IMSS H. DE EXPANSIÓN AUTODROMO HERMANOS RODRIGUEZ</td>\n",
       "    </tr>\n",
       "    <tr>\n",
       "      <th>2023</th>\n",
       "      <td>2020-09-05</td>\n",
       "      <td>VENUSTIANO CARRANZA</td>\n",
       "      <td>Congreso</td>\n",
       "      <td>SI</td>\n",
       "      <td>IMSS H. DE EXPANSIÓN AUTODROMO HERMANOS RODRIGUEZ</td>\n",
       "    </tr>\n",
       "    <tr>\n",
       "      <th>2024</th>\n",
       "      <td>2020-09-06</td>\n",
       "      <td>GUSTAVO A. MADERO</td>\n",
       "      <td>Ticoman</td>\n",
       "      <td>SI</td>\n",
       "      <td>SEDESA H. G. DR. ENRIQUE CABRERA</td>\n",
       "    </tr>\n",
       "  </tbody>\n",
       "</table>\n",
       "<p>2025 rows × 5 columns</p>\n",
       "</div>"
      ],
      "text/plain": [
       "           Fecha      Alcaldia Inicio     Sector Inicio LOCATEL  \\\n",
       "0     2020-03-27       MIGUEL HIDALGO  Polanco-Castillo      SI   \n",
       "1     2020-03-29        BENITO JUAREZ   Narvarte-Alamos      SI   \n",
       "2     2020-03-31           IZTAPALAPA           Quetzal      SI   \n",
       "3     2020-04-03        BENITO JUAREZ         Del Valle      SI   \n",
       "4     2020-04-11    GUSTAVO A. MADERO           Pradera      SI   \n",
       "...          ...                  ...               ...     ...   \n",
       "2020  2020-09-05    GUSTAVO A. MADERO           Pradera      SI   \n",
       "2021  2020-09-05           IZTAPALAPA          Estrella      SI   \n",
       "2022  2020-09-05         AZCAPOTZALCO          Claveria      SI   \n",
       "2023  2020-09-05  VENUSTIANO CARRANZA          Congreso      SI   \n",
       "2024  2020-09-06    GUSTAVO A. MADERO           Ticoman      SI   \n",
       "\n",
       "                                      LUGAR DE TRASLADO  \n",
       "0                                    H. PRIVADO ESPAÑOL  \n",
       "1                   ISSSTE H. R. GRAL. IGNACIO ZARAGOZA  \n",
       "2                      IMSS H. G. Z. 28 GABRIEL MANCERA  \n",
       "3                 ISSSTE CTO. MED. NAL. 20 DE NOVIEMBRE  \n",
       "4                              SEDESA H. G. DE LA VILLA  \n",
       "...                                                 ...  \n",
       "2020  IMSS H. DE EXPANSIÓN AUTODROMO HERMANOS RODRIGUEZ  \n",
       "2021  IMSS H. DE EXPANSIÓN AUTODROMO HERMANOS RODRIGUEZ  \n",
       "2022  IMSS H. DE EXPANSIÓN AUTODROMO HERMANOS RODRIGUEZ  \n",
       "2023  IMSS H. DE EXPANSIÓN AUTODROMO HERMANOS RODRIGUEZ  \n",
       "2024                   SEDESA H. G. DR. ENRIQUE CABRERA  \n",
       "\n",
       "[2025 rows x 5 columns]"
      ]
     },
     "execution_count": 318,
     "metadata": {},
     "output_type": "execute_result"
    }
   ],
   "source": [
    "cdmx"
   ]
  },
  {
   "cell_type": "code",
   "execution_count": 319,
   "metadata": {},
   "outputs": [],
   "source": [
    "cdmx.drop(['Alcaldia Inicio','Sector Inicio', 'LOCATEL'], inplace=True, axis=1)"
   ]
  },
  {
   "cell_type": "code",
   "execution_count": 320,
   "metadata": {},
   "outputs": [],
   "source": [
    "imsscdmx = cdmx[cdmx['LUGAR DE TRASLADO'].apply(lambda x:x.startswith('IMSS'))] #seleccionó solo imss"
   ]
  },
  {
   "cell_type": "code",
   "execution_count": 321,
   "metadata": {},
   "outputs": [
    {
     "data": {
      "text/html": [
       "<div>\n",
       "<style scoped>\n",
       "    .dataframe tbody tr th:only-of-type {\n",
       "        vertical-align: middle;\n",
       "    }\n",
       "\n",
       "    .dataframe tbody tr th {\n",
       "        vertical-align: top;\n",
       "    }\n",
       "\n",
       "    .dataframe thead th {\n",
       "        text-align: right;\n",
       "    }\n",
       "</style>\n",
       "<table border=\"1\" class=\"dataframe\">\n",
       "  <thead>\n",
       "    <tr style=\"text-align: right;\">\n",
       "      <th></th>\n",
       "      <th>LUGAR DE TRASLADO</th>\n",
       "    </tr>\n",
       "    <tr>\n",
       "      <th>Fecha</th>\n",
       "      <th></th>\n",
       "    </tr>\n",
       "  </thead>\n",
       "  <tbody>\n",
       "    <tr>\n",
       "      <th>2020-03-31</th>\n",
       "      <td>IMSS H. G. Z. 28 GABRIEL MANCERA</td>\n",
       "    </tr>\n",
       "    <tr>\n",
       "      <th>2020-04-12</th>\n",
       "      <td>IMSS H. G. Z. 27 TLATELOLCO</td>\n",
       "    </tr>\n",
       "    <tr>\n",
       "      <th>2020-04-20</th>\n",
       "      <td>IMSS H. G. Z. 8 SAN ÁNGEL</td>\n",
       "    </tr>\n",
       "    <tr>\n",
       "      <th>2020-05-11</th>\n",
       "      <td>IMSS H. G. Z. 47 VICENTE GUERRERO</td>\n",
       "    </tr>\n",
       "    <tr>\n",
       "      <th>2020-05-12</th>\n",
       "      <td>IMSS H. G. Z. 1-A DR. RODOLFO ANTONIO DE MUCHA...</td>\n",
       "    </tr>\n",
       "    <tr>\n",
       "      <th>...</th>\n",
       "      <td>...</td>\n",
       "    </tr>\n",
       "    <tr>\n",
       "      <th>2020-09-04</th>\n",
       "      <td>IMSS H. G. Z. 1 CARLOS MAC GREGOR</td>\n",
       "    </tr>\n",
       "    <tr>\n",
       "      <th>2020-09-05</th>\n",
       "      <td>IMSS H. DE EXPANSIÓN AUTODROMO HERMANOS RODRIGUEZ</td>\n",
       "    </tr>\n",
       "    <tr>\n",
       "      <th>2020-09-05</th>\n",
       "      <td>IMSS H. DE EXPANSIÓN AUTODROMO HERMANOS RODRIGUEZ</td>\n",
       "    </tr>\n",
       "    <tr>\n",
       "      <th>2020-09-05</th>\n",
       "      <td>IMSS H. DE EXPANSIÓN AUTODROMO HERMANOS RODRIGUEZ</td>\n",
       "    </tr>\n",
       "    <tr>\n",
       "      <th>2020-09-05</th>\n",
       "      <td>IMSS H. DE EXPANSIÓN AUTODROMO HERMANOS RODRIGUEZ</td>\n",
       "    </tr>\n",
       "  </tbody>\n",
       "</table>\n",
       "<p>945 rows × 1 columns</p>\n",
       "</div>"
      ],
      "text/plain": [
       "                                            LUGAR DE TRASLADO\n",
       "Fecha                                                        \n",
       "2020-03-31                   IMSS H. G. Z. 28 GABRIEL MANCERA\n",
       "2020-04-12                        IMSS H. G. Z. 27 TLATELOLCO\n",
       "2020-04-20                          IMSS H. G. Z. 8 SAN ÁNGEL\n",
       "2020-05-11                  IMSS H. G. Z. 47 VICENTE GUERRERO\n",
       "2020-05-12  IMSS H. G. Z. 1-A DR. RODOLFO ANTONIO DE MUCHA...\n",
       "...                                                       ...\n",
       "2020-09-04                  IMSS H. G. Z. 1 CARLOS MAC GREGOR\n",
       "2020-09-05  IMSS H. DE EXPANSIÓN AUTODROMO HERMANOS RODRIGUEZ\n",
       "2020-09-05  IMSS H. DE EXPANSIÓN AUTODROMO HERMANOS RODRIGUEZ\n",
       "2020-09-05  IMSS H. DE EXPANSIÓN AUTODROMO HERMANOS RODRIGUEZ\n",
       "2020-09-05  IMSS H. DE EXPANSIÓN AUTODROMO HERMANOS RODRIGUEZ\n",
       "\n",
       "[945 rows x 1 columns]"
      ]
     },
     "execution_count": 321,
     "metadata": {},
     "output_type": "execute_result"
    }
   ],
   "source": [
    "#paso a fecha el indice\n",
    "imsscdmx['Fecha']= pd.to_datetime(imsscdmx['Fecha'])\n",
    "imsscdmx.index = pd.DatetimeIndex(imsscdmx['Fecha'])\n",
    "imsscdmx.drop(['Fecha'], axis=1, inplace=True)\n",
    "imsscdmx"
   ]
  },
  {
   "cell_type": "code",
   "execution_count": 322,
   "metadata": {},
   "outputs": [],
   "source": [
    "#limpio columna hospitales\n",
    "def limpio_h(x):\n",
    "    y= x.replace('IMSS ','')\n",
    "    z= y.replace('.','')\n",
    "    return z.strip()"
   ]
  },
  {
   "cell_type": "code",
   "execution_count": 323,
   "metadata": {},
   "outputs": [],
   "source": [
    "imsscdmx['LUGAR DE TRASLADO']= imsscdmx['LUGAR DE TRASLADO'].apply(limpio_h)"
   ]
  },
  {
   "cell_type": "code",
   "execution_count": 324,
   "metadata": {},
   "outputs": [
    {
     "data": {
      "text/plain": [
       "H G Z 47 VICENTE GUERRERO                            100\n",
       "H G Z 1-A DR RODOLFO ANTONIO DE MUCHA M (VENADOS)     88\n",
       "H G Z 24 INSURGENTES                                  84\n",
       "H G Z 27 TLATELOLCO                                   82\n",
       "H G Z 2A TRONCOSO                                     74\n",
       "H G Z 8 SAN ÁNGEL                                     74\n",
       "H G Z 1 CARLOS MC GREGOR                              48\n",
       "H G Z 30 IZTACALCO                                    48\n",
       "H G R 02 TRAUMATOLOGIA Y ORTOPEDIA VILLA COAPA        45\n",
       "H G Z 48 S PEDRO XALPA                                40\n",
       "Name: LUGAR DE TRASLADO, dtype: int64"
      ]
     },
     "execution_count": 324,
     "metadata": {},
     "output_type": "execute_result"
    }
   ],
   "source": [
    "top10_hospitales=imsscdmx['LUGAR DE TRASLADO'].value_counts().head(10)\n",
    "top10_hospitales"
   ]
  },
  {
   "cell_type": "code",
   "execution_count": 325,
   "metadata": {},
   "outputs": [
    {
     "data": {
      "text/plain": [
       "<AxesSubplot:xlabel='Fecha'>"
      ]
     },
     "execution_count": 325,
     "metadata": {},
     "output_type": "execute_result"
    },
    {
     "data": {
      "image/png": "[encoded data removed]",
      "text/plain": [
       "<Figure size 432x288 with 1 Axes>"
      ]
     },
     "metadata": {
      "needs_background": "light"
     },
     "output_type": "display_data"
    }
   ],
   "source": [
    "#todo imss\n",
    "imssfecha=imsscdmx.groupby('Fecha').agg('count')\n",
    "\n",
    "imssfecha['LUGAR DE TRASLADO'].plot()"
   ]
  },
  {
   "cell_type": "code",
   "execution_count": 326,
   "metadata": {},
   "outputs": [],
   "source": [
    "#por hospital\n",
    "imss_dia=pd.get_dummies(imsscdmx['LUGAR DE TRASLADO']).groupby(imsscdmx.index).agg(sum)\n",
    "imss_mes=pd.get_dummies(imsscdmx['LUGAR DE TRASLADO']).groupby(imsscdmx.index.month).agg(sum)"
   ]
  },
  {
   "cell_type": "code",
   "execution_count": 327,
   "metadata": {},
   "outputs": [
    {
     "data": {
      "text/plain": [
       "Fecha\n",
       "2020-03-19     2\n",
       "2020-03-25     1\n",
       "2020-03-28     1\n",
       "2020-03-30     1\n",
       "2020-03-31     2\n",
       "              ..\n",
       "2020-09-02     9\n",
       "2020-09-03    11\n",
       "2020-09-04     8\n",
       "2020-09-05    11\n",
       "2020-09-06    10\n",
       "Name: Total, Length: 159, dtype: int64"
      ]
     },
     "execution_count": 327,
     "metadata": {},
     "output_type": "execute_result"
    }
   ],
   "source": [
    "imss_dia['Total']=imss_dia.sum(axis=1)\n",
    "imss_dia['Total']"
   ]
  },
  {
   "cell_type": "code",
   "execution_count": 332,
   "metadata": {},
   "outputs": [
    {
     "data": {
      "application/vnd.plotly.v1+json": {
       "config": {
        "plotlyServerURL": "https://plot.ly"
       },
       "data": [
        {
         "name": "H G Z 47 VICENTE GUERRERO",
         "type": "bar",
         "x": [
          3,
          4,
          5,
          6,
          7,
          8,
          9
         ],
         "xaxis": "x",
         "y": [
          1,
          3,
          26,
          19,
          19,
          28,
          4
         ],
         "yaxis": "y"
        },
        {
         "name": "H G Z 1-A DR RODOLFO ANTONIO DE MUCHA M (VENADOS)",
         "type": "bar",
         "x": [
          3,
          4,
          5,
          6,
          7,
          8,
          9
         ],
         "xaxis": "x",
         "y": [
          1,
          2,
          22,
          17,
          23,
          18,
          5
         ],
         "yaxis": "y"
        },
        {
         "name": "H G Z 24 INSURGENTES",
         "type": "bar",
         "x": [
          3,
          4,
          5,
          6,
          7,
          8,
          9
         ],
         "xaxis": "x",
         "y": [
          1,
          2,
          35,
          27,
          5,
          14,
          0
         ],
         "yaxis": "y"
        },
        {
         "name": "H G Z 27 TLATELOLCO",
         "type": "bar",
         "x": [
          3,
          4,
          5,
          6,
          7,
          8,
          9
         ],
         "xaxis": "x",
         "y": [
          0,
          8,
          30,
          15,
          16,
          12,
          1
         ],
         "yaxis": "y"
        },
        {
         "name": "H G Z 2A TRONCOSO",
         "type": "bar",
         "x": [
          3,
          4,
          5,
          6,
          7,
          8,
          9
         ],
         "xaxis": "x",
         "y": [
          1,
          3,
          26,
          14,
          12,
          13,
          5
         ],
         "yaxis": "y"
        },
        {
         "name": "H G Z 8 SAN ÁNGEL",
         "type": "bar",
         "x": [
          3,
          4,
          5,
          6,
          7,
          8,
          9
         ],
         "xaxis": "x",
         "y": [
          0,
          4,
          13,
          13,
          22,
          18,
          4
         ],
         "yaxis": "y"
        },
        {
         "name": "H G Z 1 CARLOS MC GREGOR",
         "type": "bar",
         "x": [
          3,
          4,
          5,
          6,
          7,
          8,
          9
         ],
         "xaxis": "x",
         "y": [
          0,
          4,
          18,
          14,
          11,
          1,
          0
         ],
         "yaxis": "y"
        },
        {
         "name": "H G Z 30 IZTACALCO",
         "type": "bar",
         "x": [
          3,
          4,
          5,
          6,
          7,
          8,
          9
         ],
         "xaxis": "x",
         "y": [
          0,
          0,
          19,
          11,
          5,
          11,
          2
         ],
         "yaxis": "y"
        },
        {
         "name": "H G R 02 TRAUMATOLOGIA Y ORTOPEDIA VILLA COAPA",
         "type": "bar",
         "x": [
          3,
          4,
          5,
          6,
          7,
          8,
          9
         ],
         "xaxis": "x",
         "y": [
          0,
          0,
          0,
          4,
          20,
          14,
          7
         ],
         "yaxis": "y"
        },
        {
         "name": "H G Z 48 S PEDRO XALPA",
         "type": "bar",
         "x": [
          3,
          4,
          5,
          6,
          7,
          8,
          9
         ],
         "xaxis": "x",
         "y": [
          0,
          6,
          16,
          3,
          2,
          11,
          2
         ],
         "yaxis": "y"
        },
        {
         "name": "Total",
         "type": "scatter",
         "x": [
          "2020-03-19T00:00:00",
          "2020-03-25T00:00:00",
          "2020-03-28T00:00:00",
          "2020-03-30T00:00:00",
          "2020-03-31T00:00:00",
          "2020-04-03T00:00:00",
          "2020-04-05T00:00:00",
          "2020-04-06T00:00:00",
          "2020-04-07T00:00:00",
          "2020-04-08T00:00:00",
          "2020-04-10T00:00:00",
          "2020-04-11T00:00:00",
          "2020-04-12T00:00:00",
          "2020-04-14T00:00:00",
          "2020-04-15T00:00:00",
          "2020-04-16T00:00:00",
          "2020-04-17T00:00:00",
          "2020-04-18T00:00:00",
          "2020-04-19T00:00:00",
          "2020-04-20T00:00:00",
          "2020-04-21T00:00:00",
          "2020-04-22T00:00:00",
          "2020-04-23T00:00:00",
          "2020-04-24T00:00:00",
          "2020-04-25T00:00:00",
          "2020-04-26T00:00:00",
          "2020-04-27T00:00:00",
          "2020-04-28T00:00:00",
          "2020-04-29T00:00:00",
          "2020-04-30T00:00:00",
          "2020-05-01T00:00:00",
          "2020-05-02T00:00:00",
          "2020-05-03T00:00:00",
          "2020-05-04T00:00:00",
          "2020-05-05T00:00:00",
          "2020-05-06T00:00:00",
          "2020-05-07T00:00:00",
          "2020-05-08T00:00:00",
          "2020-05-09T00:00:00",
          "2020-05-10T00:00:00",
          "2020-05-11T00:00:00",
          "2020-05-12T00:00:00",
          "2020-05-13T00:00:00",
          "2020-05-14T00:00:00",
          "2020-05-15T00:00:00",
          "2020-05-16T00:00:00",
          "2020-05-17T00:00:00",
          "2020-05-18T00:00:00",
          "2020-05-19T00:00:00",
          "2020-05-20T00:00:00",
          "2020-05-21T00:00:00",
          "2020-05-22T00:00:00",
          "2020-05-23T00:00:00",
          "2020-05-24T00:00:00",
          "2020-05-25T00:00:00",
          "2020-05-26T00:00:00",
          "2020-05-27T00:00:00",
          "2020-05-28T00:00:00",
          "2020-05-29T00:00:00",
          "2020-05-30T00:00:00",
          "2020-05-31T00:00:00",
          "2020-06-01T00:00:00",
          "2020-06-02T00:00:00",
          "2020-06-03T00:00:00",
          "2020-06-04T00:00:00",
          "2020-06-05T00:00:00",
          "2020-06-06T00:00:00",
          "2020-06-07T00:00:00",
          "2020-06-08T00:00:00",
          "2020-06-09T00:00:00",
          "2020-06-10T00:00:00",
          "2020-06-11T00:00:00",
          "2020-06-12T00:00:00",
          "2020-06-13T00:00:00",
          "2020-06-14T00:00:00",
          "2020-06-15T00:00:00",
          "2020-06-16T00:00:00",
          "2020-06-17T00:00:00",
          "2020-06-18T00:00:00",
          "2020-06-19T00:00:00",
          "2020-06-20T00:00:00",
          "2020-06-21T00:00:00",
          "2020-06-22T00:00:00",
          "2020-06-23T00:00:00",
          "2020-06-24T00:00:00",
          "2020-06-25T00:00:00",
          "2020-06-26T00:00:00",
          "2020-06-27T00:00:00",
          "2020-06-28T00:00:00",
          "2020-06-29T00:00:00",
          "2020-06-30T00:00:00",
          "2020-07-01T00:00:00",
          "2020-07-02T00:00:00",
          "2020-07-03T00:00:00",
          "2020-07-04T00:00:00",
          "2020-07-05T00:00:00",
          "2020-07-06T00:00:00",
          "2020-07-07T00:00:00",
          "2020-07-08T00:00:00",
          "2020-07-09T00:00:00",
          "2020-07-10T00:00:00",
          "2020-07-11T00:00:00",
          "2020-07-12T00:00:00",
          "2020-07-13T00:00:00",
          "2020-07-14T00:00:00",
          "2020-07-15T00:00:00",
          "2020-07-16T00:00:00",
          "2020-07-17T00:00:00",
          "2020-07-18T00:00:00",
          "2020-07-19T00:00:00",
          "2020-07-20T00:00:00",
          "2020-07-21T00:00:00",
          "2020-07-22T00:00:00",
          "2020-07-23T00:00:00",
          "2020-07-24T00:00:00",
          "2020-07-25T00:00:00",
          "2020-07-26T00:00:00",
          "2020-07-27T00:00:00",
          "2020-07-28T00:00:00",
          "2020-07-29T00:00:00",
          "2020-07-30T00:00:00",
          "2020-07-31T00:00:00",
          "2020-08-01T00:00:00",
          "2020-08-02T00:00:00",
          "2020-08-03T00:00:00",
          "2020-08-04T00:00:00",
          "2020-08-05T00:00:00",
          "2020-08-06T00:00:00",
          "2020-08-07T00:00:00",
          "2020-08-08T00:00:00",
          "2020-08-09T00:00:00",
          "2020-08-10T00:00:00",
          "2020-08-11T00:00:00",
          "2020-08-12T00:00:00",
          "2020-08-13T00:00:00",
          "2020-08-14T00:00:00",
          "2020-08-15T00:00:00",
          "2020-08-16T00:00:00",
          "2020-08-17T00:00:00",
          "2020-08-18T00:00:00",
          "2020-08-19T00:00:00",
          "2020-08-20T00:00:00",
          "2020-08-21T00:00:00",
          "2020-08-22T00:00:00",
          "2020-08-23T00:00:00",
          "2020-08-24T00:00:00",
          "2020-08-25T00:00:00",
          "2020-08-26T00:00:00",
          "2020-08-27T00:00:00",
          "2020-08-28T00:00:00",
          "2020-08-29T00:00:00",
          "2020-08-30T00:00:00",
          "2020-08-31T00:00:00",
          "2020-09-01T00:00:00",
          "2020-09-02T00:00:00",
          "2020-09-03T00:00:00",
          "2020-09-04T00:00:00",
          "2020-09-05T00:00:00",
          "2020-09-06T00:00:00"
         ],
         "xaxis": "x2",
         "y": [
          2,
          1,
          1,
          1,
          2,
          1,
          4,
          1,
          1,
          1,
          2,
          2,
          4,
          1,
          1,
          1,
          4,
          1,
          7,
          3,
          2,
          3,
          2,
          3,
          2,
          4,
          2,
          4,
          2,
          5,
          4,
          4,
          6,
          3,
          7,
          6,
          7,
          13,
          14,
          9,
          13,
          13,
          11,
          15,
          12,
          18,
          11,
          8,
          5,
          7,
          9,
          7,
          10,
          8,
          7,
          11,
          9,
          6,
          5,
          6,
          10,
          2,
          5,
          9,
          8,
          6,
          6,
          11,
          5,
          10,
          5,
          10,
          3,
          4,
          5,
          3,
          8,
          6,
          4,
          6,
          5,
          4,
          5,
          5,
          2,
          5,
          5,
          1,
          9,
          7,
          10,
          4,
          3,
          6,
          10,
          5,
          8,
          7,
          6,
          4,
          3,
          5,
          4,
          6,
          3,
          5,
          5,
          6,
          4,
          5,
          5,
          3,
          3,
          5,
          6,
          5,
          5,
          8,
          5,
          6,
          9,
          8,
          4,
          9,
          5,
          5,
          13,
          6,
          3,
          5,
          2,
          5,
          6,
          7,
          6,
          4,
          2,
          6,
          7,
          8,
          7,
          5,
          6,
          10,
          6,
          7,
          13,
          4,
          5,
          7,
          11,
          11,
          10,
          6,
          9,
          11,
          8,
          11,
          10
         ],
         "yaxis": "y2"
        }
       ],
       "layout": {
        "annotations": [
         {
          "font": {
           "size": 16
          },
          "showarrow": false,
          "text": "por mes",
          "x": 0.5,
          "xanchor": "center",
          "xref": "paper",
          "y": 1,
          "yanchor": "bottom",
          "yref": "paper"
         },
         {
          "font": {
           "size": 16
          },
          "showarrow": false,
          "text": "por día",
          "x": 0.5,
          "xanchor": "center",
          "xref": "paper",
          "y": 0.375,
          "yanchor": "bottom",
          "yref": "paper"
         }
        ],
        "height": 800,
        "legend": {
         "orientation": "h",
         "x": 1,
         "xanchor": "right",
         "y": 1.02,
         "yanchor": "bottom"
        },
        "showlegend": true,
        "template": {
         "data": {
          "bar": [
           {
            "error_x": {
             "color": "#2a3f5f"
            },
            "error_y": {
             "color": "#2a3f5f"
            },
            "marker": {
             "line": {
              "color": "#E5ECF6",
              "width": 0.5
             }
            },
            "type": "bar"
           }
          ],
          "barpolar": [
           {
            "marker": {
             "line": {
              "color": "#E5ECF6",
              "width": 0.5
             }
            },
            "type": "barpolar"
           }
          ],
          "carpet": [
           {
            "aaxis": {
             "endlinecolor": "#2a3f5f",
             "gridcolor": "white",
             "linecolor": "white",
             "minorgridcolor": "white",
             "startlinecolor": "#2a3f5f"
            },
            "baxis": {
             "endlinecolor": "#2a3f5f",
             "gridcolor": "white",
             "linecolor": "white",
             "minorgridcolor": "white",
             "startlinecolor": "#2a3f5f"
            },
            "type": "carpet"
           }
          ],
          "choropleth": [
           {
            "colorbar": {
             "outlinewidth": 0,
             "ticks": ""
            },
            "type": "choropleth"
           }
          ],
          "contour": [
           {
            "colorbar": {
             "outlinewidth": 0,
             "ticks": ""
            },
            "colorscale": [
             [
              0,
              "#0d0887"
             ],
             [
              0.1111111111111111,
              "#46039f"
             ],
             [
              0.2222222222222222,
              "#7201a8"
             ],
             [
              0.3333333333333333,
              "#9c179e"
             ],
             [
              0.4444444444444444,
              "#bd3786"
             ],
             [
              0.5555555555555556,
              "#d8576b"
             ],
             [
              0.6666666666666666,
              "#ed7953"
             ],
             [
              0.7777777777777778,
              "#fb9f3a"
             ],
             [
              0.8888888888888888,
              "#fdca26"
             ],
             [
              1,
              "#f0f921"
             ]
            ],
            "type": "contour"
           }
          ],
          "contourcarpet": [
           {
            "colorbar": {
             "outlinewidth": 0,
             "ticks": ""
            },
            "type": "contourcarpet"
           }
          ],
          "heatmap": [
           {
            "colorbar": {
             "outlinewidth": 0,
             "ticks": ""
            },
            "colorscale": [
             [
              0,
              "#0d0887"
             ],
             [
              0.1111111111111111,
              "#46039f"
             ],
             [
              0.2222222222222222,
              "#7201a8"
             ],
             [
              0.3333333333333333,
              "#9c179e"
             ],
             [
              0.4444444444444444,
              "#bd3786"
             ],
             [
              0.5555555555555556,
              "#d8576b"
             ],
             [
              0.6666666666666666,
              "#ed7953"
             ],
             [
              0.7777777777777778,
              "#fb9f3a"
             ],
             [
              0.8888888888888888,
              "#fdca26"
             ],
             [
              1,
              "#f0f921"
             ]
            ],
            "type": "heatmap"
           }
          ],
          "heatmapgl": [
           {
            "colorbar": {
             "outlinewidth": 0,
             "ticks": ""
            },
            "colorscale": [
             [
              0,
              "#0d0887"
             ],
             [
              0.1111111111111111,
              "#46039f"
             ],
             [
              0.2222222222222222,
              "#7201a8"
             ],
             [
              0.3333333333333333,
              "#9c179e"
             ],
             [
              0.4444444444444444,
              "#bd3786"
             ],
             [
              0.5555555555555556,
              "#d8576b"
             ],
             [
              0.6666666666666666,
              "#ed7953"
             ],
             [
              0.7777777777777778,
              "#fb9f3a"
             ],
             [
              0.8888888888888888,
              "#fdca26"
             ],
             [
              1,
              "#f0f921"
             ]
            ],
            "type": "heatmapgl"
           }
          ],
          "histogram": [
           {
            "marker": {
             "colorbar": {
              "outlinewidth": 0,
              "ticks": ""
             }
            },
            "type": "histogram"
           }
          ],
          "histogram2d": [
           {
            "colorbar": {
             "outlinewidth": 0,
             "ticks": ""
            },
            "colorscale": [
             [
              0,
              "#0d0887"
             ],
             [
              0.1111111111111111,
              "#46039f"
             ],
             [
              0.2222222222222222,
              "#7201a8"
             ],
             [
              0.3333333333333333,
              "#9c179e"
             ],
             [
              0.4444444444444444,
              "#bd3786"
             ],
             [
              0.5555555555555556,
              "#d8576b"
             ],
             [
              0.6666666666666666,
              "#ed7953"
             ],
             [
              0.7777777777777778,
              "#fb9f3a"
             ],
             [
              0.8888888888888888,
              "#fdca26"
             ],
             [
              1,
              "#f0f921"
             ]
            ],
            "type": "histogram2d"
           }
          ],
          "histogram2dcontour": [
           {
            "colorbar": {
             "outlinewidth": 0,
             "ticks": ""
            },
            "colorscale": [
             [
              0,
              "#0d0887"
             ],
             [
              0.1111111111111111,
              "#46039f"
             ],
             [
              0.2222222222222222,
              "#7201a8"
             ],
             [
              0.3333333333333333,
              "#9c179e"
             ],
             [
              0.4444444444444444,
              "#bd3786"
             ],
             [
              0.5555555555555556,
              "#d8576b"
             ],
             [
              0.6666666666666666,
              "#ed7953"
             ],
             [
              0.7777777777777778,
              "#fb9f3a"
             ],
             [
              0.8888888888888888,
              "#fdca26"
             ],
             [
              1,
              "#f0f921"
             ]
            ],
            "type": "histogram2dcontour"
           }
          ],
          "mesh3d": [
           {
            "colorbar": {
             "outlinewidth": 0,
             "ticks": ""
            },
            "type": "mesh3d"
           }
          ],
          "parcoords": [
           {
            "line": {
             "colorbar": {
              "outlinewidth": 0,
              "ticks": ""
             }
            },
            "type": "parcoords"
           }
          ],
          "pie": [
           {
            "automargin": true,
            "type": "pie"
           }
          ],
          "scatter": [
           {
            "marker": {
             "colorbar": {
              "outlinewidth": 0,
              "ticks": ""
             }
            },
            "type": "scatter"
           }
          ],
          "scatter3d": [
           {
            "line": {
             "colorbar": {
              "outlinewidth": 0,
              "ticks": ""
             }
            },
            "marker": {
             "colorbar": {
              "outlinewidth": 0,
              "ticks": ""
             }
            },
            "type": "scatter3d"
           }
          ],
          "scattercarpet": [
           {
            "marker": {
             "colorbar": {
              "outlinewidth": 0,
              "ticks": ""
             }
            },
            "type": "scattercarpet"
           }
          ],
          "scattergeo": [
           {
            "marker": {
             "colorbar": {
              "outlinewidth": 0,
              "ticks": ""
             }
            },
            "type": "scattergeo"
           }
          ],
          "scattergl": [
           {
            "marker": {
             "colorbar": {
              "outlinewidth": 0,
              "ticks": ""
             }
            },
            "type": "scattergl"
           }
          ],
          "scattermapbox": [
           {
            "marker": {
             "colorbar": {
              "outlinewidth": 0,
              "ticks": ""
             }
            },
            "type": "scattermapbox"
           }
          ],
          "scatterpolar": [
           {
            "marker": {
             "colorbar": {
              "outlinewidth": 0,
              "ticks": ""
             }
            },
            "type": "scatterpolar"
           }
          ],
          "scatterpolargl": [
           {
            "marker": {
             "colorbar": {
              "outlinewidth": 0,
              "ticks": ""
             }
            },
            "type": "scatterpolargl"
           }
          ],
          "scatterternary": [
           {
            "marker": {
             "colorbar": {
              "outlinewidth": 0,
              "ticks": ""
             }
            },
            "type": "scatterternary"
           }
          ],
          "surface": [
           {
            "colorbar": {
             "outlinewidth": 0,
             "ticks": ""
            },
            "colorscale": [
             [
              0,
              "#0d0887"
             ],
             [
              0.1111111111111111,
              "#46039f"
             ],
             [
              0.2222222222222222,
              "#7201a8"
             ],
             [
              0.3333333333333333,
              "#9c179e"
             ],
             [
              0.4444444444444444,
              "#bd3786"
             ],
             [
              0.5555555555555556,
              "#d8576b"
             ],
             [
              0.6666666666666666,
              "#ed7953"
             ],
             [
              0.7777777777777778,
              "#fb9f3a"
             ],
             [
              0.8888888888888888,
              "#fdca26"
             ],
             [
              1,
              "#f0f921"
             ]
            ],
            "type": "surface"
           }
          ],
          "table": [
           {
            "cells": {
             "fill": {
              "color": "#EBF0F8"
             },
             "line": {
              "color": "white"
             }
            },
            "header": {
             "fill": {
              "color": "#C8D4E3"
             },
             "line": {
              "color": "white"
             }
            },
            "type": "table"
           }
          ]
         },
         "layout": {
          "annotationdefaults": {
           "arrowcolor": "#2a3f5f",
           "arrowhead": 0,
           "arrowwidth": 1
          },
          "coloraxis": {
           "colorbar": {
            "outlinewidth": 0,
            "ticks": ""
           }
          },
          "colorscale": {
           "diverging": [
            [
             0,
             "#8e0152"
            ],
            [
             0.1,
             "#c51b7d"
            ],
            [
             0.2,
             "#de77ae"
            ],
            [
             0.3,
             "#f1b6da"
            ],
            [
             0.4,
             "#fde0ef"
            ],
            [
             0.5,
             "#f7f7f7"
            ],
            [
             0.6,
             "#e6f5d0"
            ],
            [
             0.7,
             "#b8e186"
            ],
            [
             0.8,
             "#7fbc41"
            ],
            [
             0.9,
             "#4d9221"
            ],
            [
             1,
             "#276419"
            ]
           ],
           "sequential": [
            [
             0,
             "#0d0887"
            ],
            [
             0.1111111111111111,
             "#46039f"
            ],
            [
             0.2222222222222222,
             "#7201a8"
            ],
            [
             0.3333333333333333,
             "#9c179e"
            ],
            [
             0.4444444444444444,
             "#bd3786"
            ],
            [
             0.5555555555555556,
             "#d8576b"
            ],
            [
             0.6666666666666666,
             "#ed7953"
            ],
            [
             0.7777777777777778,
             "#fb9f3a"
            ],
            [
             0.8888888888888888,
             "#fdca26"
            ],
            [
             1,
             "#f0f921"
            ]
           ],
           "sequentialminus": [
            [
             0,
             "#0d0887"
            ],
            [
             0.1111111111111111,
             "#46039f"
            ],
            [
             0.2222222222222222,
             "#7201a8"
            ],
            [
             0.3333333333333333,
             "#9c179e"
            ],
            [
             0.4444444444444444,
             "#bd3786"
            ],
            [
             0.5555555555555556,
             "#d8576b"
            ],
            [
             0.6666666666666666,
             "#ed7953"
            ],
            [
             0.7777777777777778,
             "#fb9f3a"
            ],
            [
             0.8888888888888888,
             "#fdca26"
            ],
            [
             1,
             "#f0f921"
            ]
           ]
          },
          "colorway": [
           "#636efa",
           "#EF553B",
           "#00cc96",
           "#ab63fa",
           "#FFA15A",
           "#19d3f3",
           "#FF6692",
           "#B6E880",
           "#FF97FF",
           "#FECB52"
          ],
          "font": {
           "color": "#2a3f5f"
          },
          "geo": {
           "bgcolor": "white",
           "lakecolor": "white",
           "landcolor": "#E5ECF6",
           "showlakes": true,
           "showland": true,
           "subunitcolor": "white"
          },
          "hoverlabel": {
           "align": "left"
          },
          "hovermode": "closest",
          "mapbox": {
           "style": "light"
          },
          "paper_bgcolor": "white",
          "plot_bgcolor": "#E5ECF6",
          "polar": {
           "angularaxis": {
            "gridcolor": "white",
            "linecolor": "white",
            "ticks": ""
           },
           "bgcolor": "#E5ECF6",
           "radialaxis": {
            "gridcolor": "white",
            "linecolor": "white",
            "ticks": ""
           }
          },
          "scene": {
           "xaxis": {
            "backgroundcolor": "#E5ECF6",
            "gridcolor": "white",
            "gridwidth": 2,
            "linecolor": "white",
            "showbackground": true,
            "ticks": "",
            "zerolinecolor": "white"
           },
           "yaxis": {
            "backgroundcolor": "#E5ECF6",
            "gridcolor": "white",
            "gridwidth": 2,
            "linecolor": "white",
            "showbackground": true,
            "ticks": "",
            "zerolinecolor": "white"
           },
           "zaxis": {
            "backgroundcolor": "#E5ECF6",
            "gridcolor": "white",
            "gridwidth": 2,
            "linecolor": "white",
            "showbackground": true,
            "ticks": "",
            "zerolinecolor": "white"
           }
          },
          "shapedefaults": {
           "line": {
            "color": "#2a3f5f"
           }
          },
          "ternary": {
           "aaxis": {
            "gridcolor": "white",
            "linecolor": "white",
            "ticks": ""
           },
           "baxis": {
            "gridcolor": "white",
            "linecolor": "white",
            "ticks": ""
           },
           "bgcolor": "#E5ECF6",
           "caxis": {
            "gridcolor": "white",
            "linecolor": "white",
            "ticks": ""
           }
          },
          "title": {
           "x": 0.05
          },
          "xaxis": {
           "automargin": true,
           "gridcolor": "white",
           "linecolor": "white",
           "ticks": "",
           "title": {
            "standoff": 15
           },
           "zerolinecolor": "white",
           "zerolinewidth": 2
          },
          "yaxis": {
           "automargin": true,
           "gridcolor": "white",
           "linecolor": "white",
           "ticks": "",
           "title": {
            "standoff": 15
           },
           "zerolinecolor": "white",
           "zerolinewidth": 2
          }
         }
        },
        "width": 1000,
        "xaxis": {
         "anchor": "y",
         "domain": [
          0,
          1
         ],
         "title": {
          "text": "mes"
         }
        },
        "xaxis2": {
         "anchor": "y2",
         "domain": [
          0,
          1
         ],
         "title": {
          "text": "día"
         }
        },
        "yaxis": {
         "anchor": "x",
         "domain": [
          0.625,
          1
         ],
         "title": {
          "text": "hospitalizados"
         }
        },
        "yaxis2": {
         "anchor": "x2",
         "domain": [
          0,
          0.375
         ],
         "title": {
          "text": "hospitalizados"
         }
        }
       }
      },
      "text/html": [
       "<div>\n",
       "        \n",
       "        \n",
       "            <div id=\"30e7ddf6-ee45-45b0-9ba9-6b79725bebe9\" class=\"plotly-graph-div\" style=\"height:800px; width:1000px;\"></div>\n",
       "            <script type=\"text/javascript\">\n",
       "                require([\"plotly\"], function(Plotly) {\n",
       "                    window.PLOTLYENV=window.PLOTLYENV || {};\n",
       "                    \n",
       "                if (document.getElementById(\"30e7ddf6-ee45-45b0-9ba9-6b79725bebe9\")) {\n",
       "                    Plotly.newPlot(\n",
       "                        '30e7ddf6-ee45-45b0-9ba9-6b79725bebe9',\n",
       "                        [{\"name\": \"H G Z 47 VICENTE GUERRERO\", \"type\": \"bar\", \"x\": [3, 4, 5, 6, 7, 8, 9], \"xaxis\": \"x\", \"y\": [1, 3, 26, 19, 19, 28, 4], \"yaxis\": \"y\"}, {\"name\": \"H G Z 1-A DR RODOLFO ANTONIO DE MUCHA M (VENADOS)\", \"type\": \"bar\", \"x\": [3, 4, 5, 6, 7, 8, 9], \"xaxis\": \"x\", \"y\": [1, 2, 22, 17, 23, 18, 5], \"yaxis\": \"y\"}, {\"name\": \"H G Z 24 INSURGENTES\", \"type\": \"bar\", \"x\": [3, 4, 5, 6, 7, 8, 9], \"xaxis\": \"x\", \"y\": [1, 2, 35, 27, 5, 14, 0], \"yaxis\": \"y\"}, {\"name\": \"H G Z 27 TLATELOLCO\", \"type\": \"bar\", \"x\": [3, 4, 5, 6, 7, 8, 9], \"xaxis\": \"x\", \"y\": [0, 8, 30, 15, 16, 12, 1], \"yaxis\": \"y\"}, {\"name\": \"H G Z 2A TRONCOSO\", \"type\": \"bar\", \"x\": [3, 4, 5, 6, 7, 8, 9], \"xaxis\": \"x\", \"y\": [1, 3, 26, 14, 12, 13, 5], \"yaxis\": \"y\"}, {\"name\": \"H G Z 8 SAN \\u00c1NGEL\", \"type\": \"bar\", \"x\": [3, 4, 5, 6, 7, 8, 9], \"xaxis\": \"x\", \"y\": [0, 4, 13, 13, 22, 18, 4], \"yaxis\": \"y\"}, {\"name\": \"H G Z 1 CARLOS MC GREGOR\", \"type\": \"bar\", \"x\": [3, 4, 5, 6, 7, 8, 9], \"xaxis\": \"x\", \"y\": [0, 4, 18, 14, 11, 1, 0], \"yaxis\": \"y\"}, {\"name\": \"H G Z 30 IZTACALCO\", \"type\": \"bar\", \"x\": [3, 4, 5, 6, 7, 8, 9], \"xaxis\": \"x\", \"y\": [0, 0, 19, 11, 5, 11, 2], \"yaxis\": \"y\"}, {\"name\": \"H G R 02 TRAUMATOLOGIA Y ORTOPEDIA VILLA COAPA\", \"type\": \"bar\", \"x\": [3, 4, 5, 6, 7, 8, 9], \"xaxis\": \"x\", \"y\": [0, 0, 0, 4, 20, 14, 7], \"yaxis\": \"y\"}, {\"name\": \"H G Z 48 S PEDRO XALPA\", \"type\": \"bar\", \"x\": [3, 4, 5, 6, 7, 8, 9], \"xaxis\": \"x\", \"y\": [0, 6, 16, 3, 2, 11, 2], \"yaxis\": \"y\"}, {\"name\": \"Total\", \"type\": \"scatter\", \"x\": [\"2020-03-19T00:00:00\", \"2020-03-25T00:00:00\", \"2020-03-28T00:00:00\", \"2020-03-30T00:00:00\", \"2020-03-31T00:00:00\", \"2020-04-03T00:00:00\", \"2020-04-05T00:00:00\", \"2020-04-06T00:00:00\", \"2020-04-07T00:00:00\", \"2020-04-08T00:00:00\", \"2020-04-10T00:00:00\", \"2020-04-11T00:00:00\", \"2020-04-12T00:00:00\", \"2020-04-14T00:00:00\", \"2020-04-15T00:00:00\", \"2020-04-16T00:00:00\", \"2020-04-17T00:00:00\", \"2020-04-18T00:00:00\", \"2020-04-19T00:00:00\", \"2020-04-20T00:00:00\", \"2020-04-21T00:00:00\", \"2020-04-22T00:00:00\", \"2020-04-23T00:00:00\", \"2020-04-24T00:00:00\", \"2020-04-25T00:00:00\", \"2020-04-26T00:00:00\", \"2020-04-27T00:00:00\", \"2020-04-28T00:00:00\", \"2020-04-29T00:00:00\", \"2020-04-30T00:00:00\", \"2020-05-01T00:00:00\", \"2020-05-02T00:00:00\", \"2020-05-03T00:00:00\", \"2020-05-04T00:00:00\", \"2020-05-05T00:00:00\", \"2020-05-06T00:00:00\", \"2020-05-07T00:00:00\", \"2020-05-08T00:00:00\", \"2020-05-09T00:00:00\", \"2020-05-10T00:00:00\", \"2020-05-11T00:00:00\", \"2020-05-12T00:00:00\", \"2020-05-13T00:00:00\", \"2020-05-14T00:00:00\", \"2020-05-15T00:00:00\", \"2020-05-16T00:00:00\", \"2020-05-17T00:00:00\", \"2020-05-18T00:00:00\", \"2020-05-19T00:00:00\", \"2020-05-20T00:00:00\", \"2020-05-21T00:00:00\", \"2020-05-22T00:00:00\", \"2020-05-23T00:00:00\", \"2020-05-24T00:00:00\", \"2020-05-25T00:00:00\", \"2020-05-26T00:00:00\", \"2020-05-27T00:00:00\", \"2020-05-28T00:00:00\", \"2020-05-29T00:00:00\", \"2020-05-30T00:00:00\", \"2020-05-31T00:00:00\", \"2020-06-01T00:00:00\", \"2020-06-02T00:00:00\", \"2020-06-03T00:00:00\", \"2020-06-04T00:00:00\", \"2020-06-05T00:00:00\", \"2020-06-06T00:00:00\", \"2020-06-07T00:00:00\", \"2020-06-08T00:00:00\", \"2020-06-09T00:00:00\", \"2020-06-10T00:00:00\", \"2020-06-11T00:00:00\", \"2020-06-12T00:00:00\", \"2020-06-13T00:00:00\", \"2020-06-14T00:00:00\", \"2020-06-15T00:00:00\", \"2020-06-16T00:00:00\", \"2020-06-17T00:00:00\", \"2020-06-18T00:00:00\", \"2020-06-19T00:00:00\", \"2020-06-20T00:00:00\", \"2020-06-21T00:00:00\", \"2020-06-22T00:00:00\", \"2020-06-23T00:00:00\", \"2020-06-24T00:00:00\", \"2020-06-25T00:00:00\", \"2020-06-26T00:00:00\", \"2020-06-27T00:00:00\", \"2020-06-28T00:00:00\", \"2020-06-29T00:00:00\", \"2020-06-30T00:00:00\", \"2020-07-01T00:00:00\", \"2020-07-02T00:00:00\", \"2020-07-03T00:00:00\", \"2020-07-04T00:00:00\", \"2020-07-05T00:00:00\", \"2020-07-06T00:00:00\", \"2020-07-07T00:00:00\", \"2020-07-08T00:00:00\", \"2020-07-09T00:00:00\", \"2020-07-10T00:00:00\", \"2020-07-11T00:00:00\", \"2020-07-12T00:00:00\", \"2020-07-13T00:00:00\", \"2020-07-14T00:00:00\", \"2020-07-15T00:00:00\", \"2020-07-16T00:00:00\", \"2020-07-17T00:00:00\", \"2020-07-18T00:00:00\", \"2020-07-19T00:00:00\", \"2020-07-20T00:00:00\", \"2020-07-21T00:00:00\", \"2020-07-22T00:00:00\", \"2020-07-23T00:00:00\", \"2020-07-24T00:00:00\", \"2020-07-25T00:00:00\", \"2020-07-26T00:00:00\", \"2020-07-27T00:00:00\", \"2020-07-28T00:00:00\", \"2020-07-29T00:00:00\", \"2020-07-30T00:00:00\", \"2020-07-31T00:00:00\", \"2020-08-01T00:00:00\", \"2020-08-02T00:00:00\", \"2020-08-03T00:00:00\", \"2020-08-04T00:00:00\", \"2020-08-05T00:00:00\", \"2020-08-06T00:00:00\", \"2020-08-07T00:00:00\", \"2020-08-08T00:00:00\", \"2020-08-09T00:00:00\", \"2020-08-10T00:00:00\", \"2020-08-11T00:00:00\", \"2020-08-12T00:00:00\", \"2020-08-13T00:00:00\", \"2020-08-14T00:00:00\", \"2020-08-15T00:00:00\", \"2020-08-16T00:00:00\", \"2020-08-17T00:00:00\", \"2020-08-18T00:00:00\", \"2020-08-19T00:00:00\", \"2020-08-20T00:00:00\", \"2020-08-21T00:00:00\", \"2020-08-22T00:00:00\", \"2020-08-23T00:00:00\", \"2020-08-24T00:00:00\", \"2020-08-25T00:00:00\", \"2020-08-26T00:00:00\", \"2020-08-27T00:00:00\", \"2020-08-28T00:00:00\", \"2020-08-29T00:00:00\", \"2020-08-30T00:00:00\", \"2020-08-31T00:00:00\", \"2020-09-01T00:00:00\", \"2020-09-02T00:00:00\", \"2020-09-03T00:00:00\", \"2020-09-04T00:00:00\", \"2020-09-05T00:00:00\", \"2020-09-06T00:00:00\"], \"xaxis\": \"x2\", \"y\": [2, 1, 1, 1, 2, 1, 4, 1, 1, 1, 2, 2, 4, 1, 1, 1, 4, 1, 7, 3, 2, 3, 2, 3, 2, 4, 2, 4, 2, 5, 4, 4, 6, 3, 7, 6, 7, 13, 14, 9, 13, 13, 11, 15, 12, 18, 11, 8, 5, 7, 9, 7, 10, 8, 7, 11, 9, 6, 5, 6, 10, 2, 5, 9, 8, 6, 6, 11, 5, 10, 5, 10, 3, 4, 5, 3, 8, 6, 4, 6, 5, 4, 5, 5, 2, 5, 5, 1, 9, 7, 10, 4, 3, 6, 10, 5, 8, 7, 6, 4, 3, 5, 4, 6, 3, 5, 5, 6, 4, 5, 5, 3, 3, 5, 6, 5, 5, 8, 5, 6, 9, 8, 4, 9, 5, 5, 13, 6, 3, 5, 2, 5, 6, 7, 6, 4, 2, 6, 7, 8, 7, 5, 6, 10, 6, 7, 13, 4, 5, 7, 11, 11, 10, 6, 9, 11, 8, 11, 10], \"yaxis\": \"y2\"}],\n",
       "                        {\"annotations\": [{\"font\": {\"size\": 16}, \"showarrow\": false, \"text\": \"por mes\", \"x\": 0.5, \"xanchor\": \"center\", \"xref\": \"paper\", \"y\": 1.0, \"yanchor\": \"bottom\", \"yref\": \"paper\"}, {\"font\": {\"size\": 16}, \"showarrow\": false, \"text\": \"por d\\u00eda\", \"x\": 0.5, \"xanchor\": \"center\", \"xref\": \"paper\", \"y\": 0.375, \"yanchor\": \"bottom\", \"yref\": \"paper\"}], \"height\": 800, \"legend\": {\"orientation\": \"h\", \"x\": 1, \"xanchor\": \"right\", \"y\": 1.02, \"yanchor\": \"bottom\"}, \"showlegend\": true, \"template\": {\"data\": {\"bar\": [{\"error_x\": {\"color\": \"#2a3f5f\"}, \"error_y\": {\"color\": \"#2a3f5f\"}, \"marker\": {\"line\": {\"color\": \"#E5ECF6\", \"width\": 0.5}}, \"type\": \"bar\"}], \"barpolar\": [{\"marker\": {\"line\": {\"color\": \"#E5ECF6\", \"width\": 0.5}}, \"type\": \"barpolar\"}], \"carpet\": [{\"aaxis\": {\"endlinecolor\": \"#2a3f5f\", \"gridcolor\": \"white\", \"linecolor\": \"white\", \"minorgridcolor\": \"white\", \"startlinecolor\": \"#2a3f5f\"}, \"baxis\": {\"endlinecolor\": \"#2a3f5f\", \"gridcolor\": \"white\", \"linecolor\": \"white\", \"minorgridcolor\": \"white\", \"startlinecolor\": \"#2a3f5f\"}, \"type\": \"carpet\"}], \"choropleth\": [{\"colorbar\": {\"outlinewidth\": 0, \"ticks\": \"\"}, \"type\": \"choropleth\"}], \"contour\": [{\"colorbar\": {\"outlinewidth\": 0, \"ticks\": \"\"}, \"colorscale\": [[0.0, \"#0d0887\"], [0.1111111111111111, \"#46039f\"], [0.2222222222222222, \"#7201a8\"], [0.3333333333333333, \"#9c179e\"], [0.4444444444444444, \"#bd3786\"], [0.5555555555555556, \"#d8576b\"], [0.6666666666666666, \"#ed7953\"], [0.7777777777777778, \"#fb9f3a\"], [0.8888888888888888, \"#fdca26\"], [1.0, \"#f0f921\"]], \"type\": \"contour\"}], \"contourcarpet\": [{\"colorbar\": {\"outlinewidth\": 0, \"ticks\": \"\"}, \"type\": \"contourcarpet\"}], \"heatmap\": [{\"colorbar\": {\"outlinewidth\": 0, \"ticks\": \"\"}, \"colorscale\": [[0.0, \"#0d0887\"], [0.1111111111111111, \"#46039f\"], [0.2222222222222222, \"#7201a8\"], [0.3333333333333333, \"#9c179e\"], [0.4444444444444444, \"#bd3786\"], [0.5555555555555556, \"#d8576b\"], [0.6666666666666666, \"#ed7953\"], [0.7777777777777778, \"#fb9f3a\"], [0.8888888888888888, \"#fdca26\"], [1.0, \"#f0f921\"]], \"type\": \"heatmap\"}], \"heatmapgl\": [{\"colorbar\": {\"outlinewidth\": 0, \"ticks\": \"\"}, \"colorscale\": [[0.0, \"#0d0887\"], [0.1111111111111111, \"#46039f\"], [0.2222222222222222, \"#7201a8\"], [0.3333333333333333, \"#9c179e\"], [0.4444444444444444, \"#bd3786\"], [0.5555555555555556, \"#d8576b\"], [0.6666666666666666, \"#ed7953\"], [0.7777777777777778, \"#fb9f3a\"], [0.8888888888888888, \"#fdca26\"], [1.0, \"#f0f921\"]], \"type\": \"heatmapgl\"}], \"histogram\": [{\"marker\": {\"colorbar\": {\"outlinewidth\": 0, \"ticks\": \"\"}}, \"type\": \"histogram\"}], \"histogram2d\": [{\"colorbar\": {\"outlinewidth\": 0, \"ticks\": \"\"}, \"colorscale\": [[0.0, \"#0d0887\"], [0.1111111111111111, \"#46039f\"], [0.2222222222222222, \"#7201a8\"], [0.3333333333333333, \"#9c179e\"], [0.4444444444444444, \"#bd3786\"], [0.5555555555555556, \"#d8576b\"], [0.6666666666666666, \"#ed7953\"], [0.7777777777777778, \"#fb9f3a\"], [0.8888888888888888, \"#fdca26\"], [1.0, \"#f0f921\"]], \"type\": \"histogram2d\"}], \"histogram2dcontour\": [{\"colorbar\": {\"outlinewidth\": 0, \"ticks\": \"\"}, \"colorscale\": [[0.0, \"#0d0887\"], [0.1111111111111111, \"#46039f\"], [0.2222222222222222, \"#7201a8\"], [0.3333333333333333, \"#9c179e\"], [0.4444444444444444, \"#bd3786\"], [0.5555555555555556, \"#d8576b\"], [0.6666666666666666, \"#ed7953\"], [0.7777777777777778, \"#fb9f3a\"], [0.8888888888888888, \"#fdca26\"], [1.0, \"#f0f921\"]], \"type\": \"histogram2dcontour\"}], \"mesh3d\": [{\"colorbar\": {\"outlinewidth\": 0, \"ticks\": \"\"}, \"type\": \"mesh3d\"}], \"parcoords\": [{\"line\": {\"colorbar\": {\"outlinewidth\": 0, \"ticks\": \"\"}}, \"type\": \"parcoords\"}], \"pie\": [{\"automargin\": true, \"type\": \"pie\"}], \"scatter\": [{\"marker\": {\"colorbar\": {\"outlinewidth\": 0, \"ticks\": \"\"}}, \"type\": \"scatter\"}], \"scatter3d\": [{\"line\": {\"colorbar\": {\"outlinewidth\": 0, \"ticks\": \"\"}}, \"marker\": {\"colorbar\": {\"outlinewidth\": 0, \"ticks\": \"\"}}, \"type\": \"scatter3d\"}], \"scattercarpet\": [{\"marker\": {\"colorbar\": {\"outlinewidth\": 0, \"ticks\": \"\"}}, \"type\": \"scattercarpet\"}], \"scattergeo\": [{\"marker\": {\"colorbar\": {\"outlinewidth\": 0, \"ticks\": \"\"}}, \"type\": \"scattergeo\"}], \"scattergl\": [{\"marker\": {\"colorbar\": {\"outlinewidth\": 0, \"ticks\": \"\"}}, \"type\": \"scattergl\"}], \"scattermapbox\": [{\"marker\": {\"colorbar\": {\"outlinewidth\": 0, \"ticks\": \"\"}}, \"type\": \"scattermapbox\"}], \"scatterpolar\": [{\"marker\": {\"colorbar\": {\"outlinewidth\": 0, \"ticks\": \"\"}}, \"type\": \"scatterpolar\"}], \"scatterpolargl\": [{\"marker\": {\"colorbar\": {\"outlinewidth\": 0, \"ticks\": \"\"}}, \"type\": \"scatterpolargl\"}], \"scatterternary\": [{\"marker\": {\"colorbar\": {\"outlinewidth\": 0, \"ticks\": \"\"}}, \"type\": \"scatterternary\"}], \"surface\": [{\"colorbar\": {\"outlinewidth\": 0, \"ticks\": \"\"}, \"colorscale\": [[0.0, \"#0d0887\"], [0.1111111111111111, \"#46039f\"], [0.2222222222222222, \"#7201a8\"], [0.3333333333333333, \"#9c179e\"], [0.4444444444444444, \"#bd3786\"], [0.5555555555555556, \"#d8576b\"], [0.6666666666666666, \"#ed7953\"], [0.7777777777777778, \"#fb9f3a\"], [0.8888888888888888, \"#fdca26\"], [1.0, \"#f0f921\"]], \"type\": \"surface\"}], \"table\": [{\"cells\": {\"fill\": {\"color\": \"#EBF0F8\"}, \"line\": {\"color\": \"white\"}}, \"header\": {\"fill\": {\"color\": \"#C8D4E3\"}, \"line\": {\"color\": \"white\"}}, \"type\": \"table\"}]}, \"layout\": {\"annotationdefaults\": {\"arrowcolor\": \"#2a3f5f\", \"arrowhead\": 0, \"arrowwidth\": 1}, \"coloraxis\": {\"colorbar\": {\"outlinewidth\": 0, \"ticks\": \"\"}}, \"colorscale\": {\"diverging\": [[0, \"#8e0152\"], [0.1, \"#c51b7d\"], [0.2, \"#de77ae\"], [0.3, \"#f1b6da\"], [0.4, \"#fde0ef\"], [0.5, \"#f7f7f7\"], [0.6, \"#e6f5d0\"], [0.7, \"#b8e186\"], [0.8, \"#7fbc41\"], [0.9, \"#4d9221\"], [1, \"#276419\"]], \"sequential\": [[0.0, \"#0d0887\"], [0.1111111111111111, \"#46039f\"], [0.2222222222222222, \"#7201a8\"], [0.3333333333333333, \"#9c179e\"], [0.4444444444444444, \"#bd3786\"], [0.5555555555555556, \"#d8576b\"], [0.6666666666666666, \"#ed7953\"], [0.7777777777777778, \"#fb9f3a\"], [0.8888888888888888, \"#fdca26\"], [1.0, \"#f0f921\"]], \"sequentialminus\": [[0.0, \"#0d0887\"], [0.1111111111111111, \"#46039f\"], [0.2222222222222222, \"#7201a8\"], [0.3333333333333333, \"#9c179e\"], [0.4444444444444444, \"#bd3786\"], [0.5555555555555556, \"#d8576b\"], [0.6666666666666666, \"#ed7953\"], [0.7777777777777778, \"#fb9f3a\"], [0.8888888888888888, \"#fdca26\"], [1.0, \"#f0f921\"]]}, \"colorway\": [\"#636efa\", \"#EF553B\", \"#00cc96\", \"#ab63fa\", \"#FFA15A\", \"#19d3f3\", \"#FF6692\", \"#B6E880\", \"#FF97FF\", \"#FECB52\"], \"font\": {\"color\": \"#2a3f5f\"}, \"geo\": {\"bgcolor\": \"white\", \"lakecolor\": \"white\", \"landcolor\": \"#E5ECF6\", \"showlakes\": true, \"showland\": true, \"subunitcolor\": \"white\"}, \"hoverlabel\": {\"align\": \"left\"}, \"hovermode\": \"closest\", \"mapbox\": {\"style\": \"light\"}, \"paper_bgcolor\": \"white\", \"plot_bgcolor\": \"#E5ECF6\", \"polar\": {\"angularaxis\": {\"gridcolor\": \"white\", \"linecolor\": \"white\", \"ticks\": \"\"}, \"bgcolor\": \"#E5ECF6\", \"radialaxis\": {\"gridcolor\": \"white\", \"linecolor\": \"white\", \"ticks\": \"\"}}, \"scene\": {\"xaxis\": {\"backgroundcolor\": \"#E5ECF6\", \"gridcolor\": \"white\", \"gridwidth\": 2, \"linecolor\": \"white\", \"showbackground\": true, \"ticks\": \"\", \"zerolinecolor\": \"white\"}, \"yaxis\": {\"backgroundcolor\": \"#E5ECF6\", \"gridcolor\": \"white\", \"gridwidth\": 2, \"linecolor\": \"white\", \"showbackground\": true, \"ticks\": \"\", \"zerolinecolor\": \"white\"}, \"zaxis\": {\"backgroundcolor\": \"#E5ECF6\", \"gridcolor\": \"white\", \"gridwidth\": 2, \"linecolor\": \"white\", \"showbackground\": true, \"ticks\": \"\", \"zerolinecolor\": \"white\"}}, \"shapedefaults\": {\"line\": {\"color\": \"#2a3f5f\"}}, \"ternary\": {\"aaxis\": {\"gridcolor\": \"white\", \"linecolor\": \"white\", \"ticks\": \"\"}, \"baxis\": {\"gridcolor\": \"white\", \"linecolor\": \"white\", \"ticks\": \"\"}, \"bgcolor\": \"#E5ECF6\", \"caxis\": {\"gridcolor\": \"white\", \"linecolor\": \"white\", \"ticks\": \"\"}}, \"title\": {\"x\": 0.05}, \"xaxis\": {\"automargin\": true, \"gridcolor\": \"white\", \"linecolor\": \"white\", \"ticks\": \"\", \"title\": {\"standoff\": 15}, \"zerolinecolor\": \"white\", \"zerolinewidth\": 2}, \"yaxis\": {\"automargin\": true, \"gridcolor\": \"white\", \"linecolor\": \"white\", \"ticks\": \"\", \"title\": {\"standoff\": 15}, \"zerolinecolor\": \"white\", \"zerolinewidth\": 2}}}, \"width\": 1000, \"xaxis\": {\"anchor\": \"y\", \"domain\": [0.0, 1.0], \"title\": {\"text\": \"mes\"}}, \"xaxis2\": {\"anchor\": \"y2\", \"domain\": [0.0, 1.0], \"title\": {\"text\": \"d\\u00eda\"}}, \"yaxis\": {\"anchor\": \"x\", \"domain\": [0.625, 1.0], \"title\": {\"text\": \"hospitalizados\"}}, \"yaxis2\": {\"anchor\": \"x2\", \"domain\": [0.0, 0.375], \"title\": {\"text\": \"hospitalizados\"}}},\n",
       "                        {\"responsive\": true}\n",
       "                    ).then(function(){\n",
       "                            \n",
       "var gd = document.getElementById('30e7ddf6-ee45-45b0-9ba9-6b79725bebe9');\n",
       "var x = new MutationObserver(function (mutations, observer) {{\n",
       "        var display = window.getComputedStyle(gd).display;\n",
       "        if (!display || display === 'none') {{\n",
       "            console.log([gd, 'removed!']);\n",
       "            Plotly.purge(gd);\n",
       "            observer.disconnect();\n",
       "        }}\n",
       "}});\n",
       "\n",
       "// Listen for the removal of the full notebook cells\n",
       "var notebookContainer = gd.closest('#notebook-container');\n",
       "if (notebookContainer) {{\n",
       "    x.observe(notebookContainer, {childList: true});\n",
       "}}\n",
       "\n",
       "// Listen for the clearing of the current output cell\n",
       "var outputEl = gd.closest('.output');\n",
       "if (outputEl) {{\n",
       "    x.observe(outputEl, {childList: true});\n",
       "}}\n",
       "\n",
       "                        })\n",
       "                };\n",
       "                });\n",
       "            </script>\n",
       "        </div>"
      ]
     },
     "metadata": {},
     "output_type": "display_data"
    }
   ],
   "source": [
    "#hospitales con mas pacientes asociados a covid\n",
    "\n",
    "fig = make_subplots(rows=2, cols=1,subplot_titles=(\"por mes\",\"por día\"))\n",
    "#graficas\n",
    "\n",
    "for i in range(0,10):\n",
    "    #por mes\n",
    "    fig.add_trace(go.Bar(x=imss_mes.index, y=imss_mes[top10_hospitales.index[i]]\n",
    "                         ,name=top10_hospitales.index[i],), row=1,col=1)\n",
    "#por día\n",
    "fig.add_trace(go.Scatter(x=imss_dia.index, y=imss_dia['Total'],name='Total',), row=2,col=1)\n",
    "    \n",
    "\n",
    "#ejes\n",
    "fig.update_yaxes(title_text=\"hospitalizados\", row=1, col=1)\n",
    "fig.update_xaxes(title_text=\"mes\", row=1, col=1)\n",
    "\n",
    "fig.update_yaxes(title_text=\"hospitalizados\", row=2, col=1)\n",
    "fig.update_xaxes(title_text=\"día\", row=2, col=1)\n",
    "\n",
    "#tamaño\n",
    "fig.update_layout(height=800, width=1000,showlegend=True,\n",
    "                 legend=dict(orientation=\"h\",yanchor=\"bottom\",y=1.02,xanchor=\"right\",x=1))\n",
    "\n",
    "fig.show()\n",
    "\n",
    "#fig.write_html(\"/Users/rube/labs-de-ironhack/proyecto-final/graficas_html/hospitalizados_top.html\")\n",
    "\n"
   ]
  },
  {
   "cell_type": "markdown",
   "metadata": {},
   "source": [
    "# sinave"
   ]
  },
  {
   "cell_type": "code",
   "execution_count": 133,
   "metadata": {},
   "outputs": [
    {
     "data": {
      "text/html": [
       "<div>\n",
       "<style scoped>\n",
       "    .dataframe tbody tr th:only-of-type {\n",
       "        vertical-align: middle;\n",
       "    }\n",
       "\n",
       "    .dataframe tbody tr th {\n",
       "        vertical-align: top;\n",
       "    }\n",
       "\n",
       "    .dataframe thead th {\n",
       "        text-align: right;\n",
       "    }\n",
       "</style>\n",
       "<table border=\"1\" class=\"dataframe\">\n",
       "  <thead>\n",
       "    <tr style=\"text-align: right;\">\n",
       "      <th></th>\n",
       "      <th>origen</th>\n",
       "      <th>sector</th>\n",
       "      <th>cve_entidad_unidad_medica</th>\n",
       "      <th>entidad_unidad_medica</th>\n",
       "      <th>delegacion_unidad_medica</th>\n",
       "      <th>unidad_medica</th>\n",
       "      <th>fecha_de_registro</th>\n",
       "      <th>sexo</th>\n",
       "      <th>entidad_residencia</th>\n",
       "      <th>cve_entidad_residencia</th>\n",
       "      <th>...</th>\n",
       "      <th>dias_puerperio</th>\n",
       "      <th>antipireticos</th>\n",
       "      <th>unidad_cuidados_intensivos</th>\n",
       "      <th>linaje_influenza_tipo_b</th>\n",
       "      <th>viaje_1</th>\n",
       "      <th>viaje_2</th>\n",
       "      <th>viaje_3</th>\n",
       "      <th>viaje_4</th>\n",
       "      <th>viaje_5</th>\n",
       "      <th>rango_de_edad</th>\n",
       "    </tr>\n",
       "  </thead>\n",
       "  <tbody>\n",
       "    <tr>\n",
       "      <th>0</th>\n",
       "      <td>FUERA DE USMI</td>\n",
       "      <td>SSA</td>\n",
       "      <td>9</td>\n",
       "      <td>CIUDAD DE MEXICO</td>\n",
       "      <td>CIUDAD DE MEXICO</td>\n",
       "      <td>C.S.T-III DR. ATANACIO GARZA RIOS</td>\n",
       "      <td>2020-09-10</td>\n",
       "      <td>MASCULINO</td>\n",
       "      <td>CIUDAD DE MEXICO</td>\n",
       "      <td>9</td>\n",
       "      <td>...</td>\n",
       "      <td>NaN</td>\n",
       "      <td>NO</td>\n",
       "      <td>NaN</td>\n",
       "      <td>NaN</td>\n",
       "      <td>NaN</td>\n",
       "      <td>NaN</td>\n",
       "      <td>NaN</td>\n",
       "      <td>NaN</td>\n",
       "      <td>NaN</td>\n",
       "      <td>31-40</td>\n",
       "    </tr>\n",
       "    <tr>\n",
       "      <th>1</th>\n",
       "      <td>FUERA DE USMI</td>\n",
       "      <td>PRIVADA</td>\n",
       "      <td>9</td>\n",
       "      <td>CIUDAD DE MEXICO</td>\n",
       "      <td>CIUDAD DE MEXICO</td>\n",
       "      <td>HOSPITAL SAN ANGEL INN CHAPULTEPEC</td>\n",
       "      <td>2020-05-14</td>\n",
       "      <td>FEMENINO</td>\n",
       "      <td>CIUDAD DE MEXICO</td>\n",
       "      <td>9</td>\n",
       "      <td>...</td>\n",
       "      <td>NaN</td>\n",
       "      <td>NO</td>\n",
       "      <td>NaN</td>\n",
       "      <td>NaN</td>\n",
       "      <td>NaN</td>\n",
       "      <td>NaN</td>\n",
       "      <td>NaN</td>\n",
       "      <td>NaN</td>\n",
       "      <td>NaN</td>\n",
       "      <td>21-30</td>\n",
       "    </tr>\n",
       "    <tr>\n",
       "      <th>2</th>\n",
       "      <td>FUERA DE USMI</td>\n",
       "      <td>SSA</td>\n",
       "      <td>9</td>\n",
       "      <td>CIUDAD DE MEXICO</td>\n",
       "      <td>CIUDAD DE MEXICO</td>\n",
       "      <td>C.S.T-II QUETZALCOATL</td>\n",
       "      <td>2020-07-23</td>\n",
       "      <td>FEMENINO</td>\n",
       "      <td>CIUDAD DE MEXICO</td>\n",
       "      <td>9</td>\n",
       "      <td>...</td>\n",
       "      <td>NaN</td>\n",
       "      <td>NO</td>\n",
       "      <td>NaN</td>\n",
       "      <td>NaN</td>\n",
       "      <td>NaN</td>\n",
       "      <td>NaN</td>\n",
       "      <td>NaN</td>\n",
       "      <td>NaN</td>\n",
       "      <td>NaN</td>\n",
       "      <td>31-40</td>\n",
       "    </tr>\n",
       "    <tr>\n",
       "      <th>3</th>\n",
       "      <td>USMI</td>\n",
       "      <td>SSA</td>\n",
       "      <td>9</td>\n",
       "      <td>CIUDAD DE MEXICO</td>\n",
       "      <td>CIUDAD DE MEXICO</td>\n",
       "      <td>C.S.T-III MIXCOAC</td>\n",
       "      <td>2020-09-10</td>\n",
       "      <td>FEMENINO</td>\n",
       "      <td>CIUDAD DE MEXICO</td>\n",
       "      <td>9</td>\n",
       "      <td>...</td>\n",
       "      <td>NaN</td>\n",
       "      <td>NO</td>\n",
       "      <td>NaN</td>\n",
       "      <td>NaN</td>\n",
       "      <td>NaN</td>\n",
       "      <td>NaN</td>\n",
       "      <td>NaN</td>\n",
       "      <td>NaN</td>\n",
       "      <td>NaN</td>\n",
       "      <td>31-40</td>\n",
       "    </tr>\n",
       "    <tr>\n",
       "      <th>4</th>\n",
       "      <td>FUERA DE USMI</td>\n",
       "      <td>SSA</td>\n",
       "      <td>9</td>\n",
       "      <td>CIUDAD DE MEXICO</td>\n",
       "      <td>CIUDAD DE MEXICO</td>\n",
       "      <td>C.S.T-III DR. JOSE CASTRO VILLAGRANA</td>\n",
       "      <td>2020-07-29</td>\n",
       "      <td>MASCULINO</td>\n",
       "      <td>CIUDAD DE MEXICO</td>\n",
       "      <td>9</td>\n",
       "      <td>...</td>\n",
       "      <td>NaN</td>\n",
       "      <td>NO</td>\n",
       "      <td>NaN</td>\n",
       "      <td>NaN</td>\n",
       "      <td>NaN</td>\n",
       "      <td>NaN</td>\n",
       "      <td>NaN</td>\n",
       "      <td>NaN</td>\n",
       "      <td>NaN</td>\n",
       "      <td>41-50</td>\n",
       "    </tr>\n",
       "    <tr>\n",
       "      <th>...</th>\n",
       "      <td>...</td>\n",
       "      <td>...</td>\n",
       "      <td>...</td>\n",
       "      <td>...</td>\n",
       "      <td>...</td>\n",
       "      <td>...</td>\n",
       "      <td>...</td>\n",
       "      <td>...</td>\n",
       "      <td>...</td>\n",
       "      <td>...</td>\n",
       "      <td>...</td>\n",
       "      <td>...</td>\n",
       "      <td>...</td>\n",
       "      <td>...</td>\n",
       "      <td>...</td>\n",
       "      <td>...</td>\n",
       "      <td>...</td>\n",
       "      <td>...</td>\n",
       "      <td>...</td>\n",
       "      <td>...</td>\n",
       "      <td>...</td>\n",
       "    </tr>\n",
       "    <tr>\n",
       "      <th>435853</th>\n",
       "      <td>FUERA DE USMI</td>\n",
       "      <td>SSA</td>\n",
       "      <td>9</td>\n",
       "      <td>CIUDAD DE MEXICO</td>\n",
       "      <td>CIUDAD DE MEXICO</td>\n",
       "      <td>C.S.T-II JOSE M. MORELOS Y PAVON</td>\n",
       "      <td>2020-07-27</td>\n",
       "      <td>MASCULINO</td>\n",
       "      <td>CIUDAD DE MEXICO</td>\n",
       "      <td>9</td>\n",
       "      <td>...</td>\n",
       "      <td>NaN</td>\n",
       "      <td>NO</td>\n",
       "      <td>NaN</td>\n",
       "      <td>NaN</td>\n",
       "      <td>NaN</td>\n",
       "      <td>NaN</td>\n",
       "      <td>NaN</td>\n",
       "      <td>NaN</td>\n",
       "      <td>NaN</td>\n",
       "      <td>31-40</td>\n",
       "    </tr>\n",
       "    <tr>\n",
       "      <th>435854</th>\n",
       "      <td>FUERA DE USMI</td>\n",
       "      <td>IMSS</td>\n",
       "      <td>9</td>\n",
       "      <td>CIUDAD DE MEXICO</td>\n",
       "      <td>CIUDAD DE MEXICO</td>\n",
       "      <td>HG      CM LA RAZA</td>\n",
       "      <td>2020-06-12</td>\n",
       "      <td>MASCULINO</td>\n",
       "      <td>CIUDAD DE MEXICO</td>\n",
       "      <td>9</td>\n",
       "      <td>...</td>\n",
       "      <td>NaN</td>\n",
       "      <td>SI</td>\n",
       "      <td>NO</td>\n",
       "      <td>NaN</td>\n",
       "      <td>NaN</td>\n",
       "      <td>NaN</td>\n",
       "      <td>NaN</td>\n",
       "      <td>NaN</td>\n",
       "      <td>NaN</td>\n",
       "      <td>71-80</td>\n",
       "    </tr>\n",
       "    <tr>\n",
       "      <th>435855</th>\n",
       "      <td>USMI</td>\n",
       "      <td>SSA</td>\n",
       "      <td>9</td>\n",
       "      <td>CIUDAD DE MEXICO</td>\n",
       "      <td>CIUDAD DE MEXICO</td>\n",
       "      <td>INSTITUTO NACIONAL DE CIENCIAS MEDICAS Y NUTRI...</td>\n",
       "      <td>2020-04-05</td>\n",
       "      <td>FEMENINO</td>\n",
       "      <td>CIUDAD DE MEXICO</td>\n",
       "      <td>9</td>\n",
       "      <td>...</td>\n",
       "      <td>NaN</td>\n",
       "      <td>SI</td>\n",
       "      <td>NaN</td>\n",
       "      <td>NaN</td>\n",
       "      <td>NaN</td>\n",
       "      <td>NaN</td>\n",
       "      <td>NaN</td>\n",
       "      <td>NaN</td>\n",
       "      <td>NaN</td>\n",
       "      <td>81-90</td>\n",
       "    </tr>\n",
       "    <tr>\n",
       "      <th>435856</th>\n",
       "      <td>FUERA DE USMI</td>\n",
       "      <td>SSA</td>\n",
       "      <td>9</td>\n",
       "      <td>CIUDAD DE MEXICO</td>\n",
       "      <td>CIUDAD DE MEXICO</td>\n",
       "      <td>C.S.T-III BEATRIZ VELAZCO DE ALEMAN.</td>\n",
       "      <td>2020-07-30</td>\n",
       "      <td>MASCULINO</td>\n",
       "      <td>CIUDAD DE MEXICO</td>\n",
       "      <td>9</td>\n",
       "      <td>...</td>\n",
       "      <td>NaN</td>\n",
       "      <td>NO</td>\n",
       "      <td>NaN</td>\n",
       "      <td>NaN</td>\n",
       "      <td>NaN</td>\n",
       "      <td>NaN</td>\n",
       "      <td>NaN</td>\n",
       "      <td>NaN</td>\n",
       "      <td>NaN</td>\n",
       "      <td>41-50</td>\n",
       "    </tr>\n",
       "    <tr>\n",
       "      <th>435857</th>\n",
       "      <td>FUERA DE USMI</td>\n",
       "      <td>SSA</td>\n",
       "      <td>9</td>\n",
       "      <td>CIUDAD DE MEXICO</td>\n",
       "      <td>CIUDAD DE MEXICO</td>\n",
       "      <td>C.S.T-III. DR. LUIS E. RUIZ</td>\n",
       "      <td>2020-08-10</td>\n",
       "      <td>FEMENINO</td>\n",
       "      <td>CIUDAD DE MEXICO</td>\n",
       "      <td>9</td>\n",
       "      <td>...</td>\n",
       "      <td>NaN</td>\n",
       "      <td>NO</td>\n",
       "      <td>NaN</td>\n",
       "      <td>NaN</td>\n",
       "      <td>NaN</td>\n",
       "      <td>NaN</td>\n",
       "      <td>NaN</td>\n",
       "      <td>NaN</td>\n",
       "      <td>NaN</td>\n",
       "      <td>31-40</td>\n",
       "    </tr>\n",
       "  </tbody>\n",
       "</table>\n",
       "<p>435858 rows × 91 columns</p>\n",
       "</div>"
      ],
      "text/plain": [
       "               origen   sector  cve_entidad_unidad_medica  \\\n",
       "0       FUERA DE USMI      SSA                          9   \n",
       "1       FUERA DE USMI  PRIVADA                          9   \n",
       "2       FUERA DE USMI      SSA                          9   \n",
       "3                USMI      SSA                          9   \n",
       "4       FUERA DE USMI      SSA                          9   \n",
       "...               ...      ...                        ...   \n",
       "435853  FUERA DE USMI      SSA                          9   \n",
       "435854  FUERA DE USMI     IMSS                          9   \n",
       "435855           USMI      SSA                          9   \n",
       "435856  FUERA DE USMI      SSA                          9   \n",
       "435857  FUERA DE USMI      SSA                          9   \n",
       "\n",
       "       entidad_unidad_medica delegacion_unidad_medica  \\\n",
       "0           CIUDAD DE MEXICO         CIUDAD DE MEXICO   \n",
       "1           CIUDAD DE MEXICO         CIUDAD DE MEXICO   \n",
       "2           CIUDAD DE MEXICO         CIUDAD DE MEXICO   \n",
       "3           CIUDAD DE MEXICO         CIUDAD DE MEXICO   \n",
       "4           CIUDAD DE MEXICO         CIUDAD DE MEXICO   \n",
       "...                      ...                      ...   \n",
       "435853      CIUDAD DE MEXICO         CIUDAD DE MEXICO   \n",
       "435854      CIUDAD DE MEXICO         CIUDAD DE MEXICO   \n",
       "435855      CIUDAD DE MEXICO         CIUDAD DE MEXICO   \n",
       "435856      CIUDAD DE MEXICO         CIUDAD DE MEXICO   \n",
       "435857      CIUDAD DE MEXICO         CIUDAD DE MEXICO   \n",
       "\n",
       "                                            unidad_medica fecha_de_registro  \\\n",
       "0                       C.S.T-III DR. ATANACIO GARZA RIOS        2020-09-10   \n",
       "1                      HOSPITAL SAN ANGEL INN CHAPULTEPEC        2020-05-14   \n",
       "2                                   C.S.T-II QUETZALCOATL        2020-07-23   \n",
       "3                                       C.S.T-III MIXCOAC        2020-09-10   \n",
       "4                    C.S.T-III DR. JOSE CASTRO VILLAGRANA        2020-07-29   \n",
       "...                                                   ...               ...   \n",
       "435853                   C.S.T-II JOSE M. MORELOS Y PAVON        2020-07-27   \n",
       "435854                                 HG      CM LA RAZA        2020-06-12   \n",
       "435855  INSTITUTO NACIONAL DE CIENCIAS MEDICAS Y NUTRI...        2020-04-05   \n",
       "435856               C.S.T-III BEATRIZ VELAZCO DE ALEMAN.        2020-07-30   \n",
       "435857                        C.S.T-III. DR. LUIS E. RUIZ        2020-08-10   \n",
       "\n",
       "             sexo entidad_residencia  cve_entidad_residencia  ...  \\\n",
       "0       MASCULINO   CIUDAD DE MEXICO                       9  ...   \n",
       "1        FEMENINO   CIUDAD DE MEXICO                       9  ...   \n",
       "2        FEMENINO   CIUDAD DE MEXICO                       9  ...   \n",
       "3        FEMENINO   CIUDAD DE MEXICO                       9  ...   \n",
       "4       MASCULINO   CIUDAD DE MEXICO                       9  ...   \n",
       "...           ...                ...                     ...  ...   \n",
       "435853  MASCULINO   CIUDAD DE MEXICO                       9  ...   \n",
       "435854  MASCULINO   CIUDAD DE MEXICO                       9  ...   \n",
       "435855   FEMENINO   CIUDAD DE MEXICO                       9  ...   \n",
       "435856  MASCULINO   CIUDAD DE MEXICO                       9  ...   \n",
       "435857   FEMENINO   CIUDAD DE MEXICO                       9  ...   \n",
       "\n",
       "       dias_puerperio  antipireticos unidad_cuidados_intensivos  \\\n",
       "0                 NaN             NO                        NaN   \n",
       "1                 NaN             NO                        NaN   \n",
       "2                 NaN             NO                        NaN   \n",
       "3                 NaN             NO                        NaN   \n",
       "4                 NaN             NO                        NaN   \n",
       "...               ...            ...                        ...   \n",
       "435853            NaN             NO                        NaN   \n",
       "435854            NaN             SI                         NO   \n",
       "435855            NaN             SI                        NaN   \n",
       "435856            NaN             NO                        NaN   \n",
       "435857            NaN             NO                        NaN   \n",
       "\n",
       "        linaje_influenza_tipo_b viaje_1 viaje_2 viaje_3  viaje_4 viaje_5  \\\n",
       "0                           NaN     NaN     NaN     NaN      NaN     NaN   \n",
       "1                           NaN     NaN     NaN     NaN      NaN     NaN   \n",
       "2                           NaN     NaN     NaN     NaN      NaN     NaN   \n",
       "3                           NaN     NaN     NaN     NaN      NaN     NaN   \n",
       "4                           NaN     NaN     NaN     NaN      NaN     NaN   \n",
       "...                         ...     ...     ...     ...      ...     ...   \n",
       "435853                      NaN     NaN     NaN     NaN      NaN     NaN   \n",
       "435854                      NaN     NaN     NaN     NaN      NaN     NaN   \n",
       "435855                      NaN     NaN     NaN     NaN      NaN     NaN   \n",
       "435856                      NaN     NaN     NaN     NaN      NaN     NaN   \n",
       "435857                      NaN     NaN     NaN     NaN      NaN     NaN   \n",
       "\n",
       "       rango_de_edad  \n",
       "0              31-40  \n",
       "1              21-30  \n",
       "2              31-40  \n",
       "3              31-40  \n",
       "4              41-50  \n",
       "...              ...  \n",
       "435853         31-40  \n",
       "435854         71-80  \n",
       "435855         81-90  \n",
       "435856         41-50  \n",
       "435857         31-40  \n",
       "\n",
       "[435858 rows x 91 columns]"
      ]
     },
     "execution_count": 133,
     "metadata": {},
     "output_type": "execute_result"
    }
   ],
   "source": [
    "sinave= pd.read_csv('/Users/rube/Documents/ironhack/proyecto final/data_covid/base-covid-sinave.csv')\n",
    "sinave"
   ]
  },
  {
   "cell_type": "code",
   "execution_count": 134,
   "metadata": {},
   "outputs": [
    {
     "data": {
      "application/vnd.plotly.v1+json": {
       "config": {
        "plotlyServerURL": "https://plot.ly"
       },
       "data": [
        {
         "domain": {
          "x": [
           0,
           1
          ],
          "y": [
           0,
           1
          ]
         },
         "hovertemplate": "label=%{label}<br>value=%{value}<extra></extra>",
         "labels": [
          "SSA",
          "IMSS",
          "PRIVADA",
          "ISSSTE",
          "PEMEX",
          "SEDENA",
          "SEMAR",
          "ESTATAL",
          "CRUZ ROJA",
          "IMSS-OPORTUNIDADES"
         ],
         "legendgroup": "",
         "name": "",
         "showlegend": true,
         "type": "pie",
         "values": [
          330478,
          68311,
          15917,
          9711,
          4194,
          3655,
          3050,
          390,
          115,
          18
         ]
        }
       ],
       "layout": {
        "legend": {
         "tracegroupgap": 0
        },
        "margin": {
         "t": 60
        },
        "template": {
         "data": {
          "bar": [
           {
            "error_x": {
             "color": "#2a3f5f"
            },
            "error_y": {
             "color": "#2a3f5f"
            },
            "marker": {
             "line": {
              "color": "#E5ECF6",
              "width": 0.5
             }
            },
            "type": "bar"
           }
          ],
          "barpolar": [
           {
            "marker": {
             "line": {
              "color": "#E5ECF6",
              "width": 0.5
             }
            },
            "type": "barpolar"
           }
          ],
          "carpet": [
           {
            "aaxis": {
             "endlinecolor": "#2a3f5f",
             "gridcolor": "white",
             "linecolor": "white",
             "minorgridcolor": "white",
             "startlinecolor": "#2a3f5f"
            },
            "baxis": {
             "endlinecolor": "#2a3f5f",
             "gridcolor": "white",
             "linecolor": "white",
             "minorgridcolor": "white",
             "startlinecolor": "#2a3f5f"
            },
            "type": "carpet"
           }
          ],
          "choropleth": [
           {
            "colorbar": {
             "outlinewidth": 0,
             "ticks": ""
            },
            "type": "choropleth"
           }
          ],
          "contour": [
           {
            "colorbar": {
             "outlinewidth": 0,
             "ticks": ""
            },
            "colorscale": [
             [
              0,
              "#0d0887"
             ],
             [
              0.1111111111111111,
              "#46039f"
             ],
             [
              0.2222222222222222,
              "#7201a8"
             ],
             [
              0.3333333333333333,
              "#9c179e"
             ],
             [
              0.4444444444444444,
              "#bd3786"
             ],
             [
              0.5555555555555556,
              "#d8576b"
             ],
             [
              0.6666666666666666,
              "#ed7953"
             ],
             [
              0.7777777777777778,
              "#fb9f3a"
             ],
             [
              0.8888888888888888,
              "#fdca26"
             ],
             [
              1,
              "#f0f921"
             ]
            ],
            "type": "contour"
           }
          ],
          "contourcarpet": [
           {
            "colorbar": {
             "outlinewidth": 0,
             "ticks": ""
            },
            "type": "contourcarpet"
           }
          ],
          "heatmap": [
           {
            "colorbar": {
             "outlinewidth": 0,
             "ticks": ""
            },
            "colorscale": [
             [
              0,
              "#0d0887"
             ],
             [
              0.1111111111111111,
              "#46039f"
             ],
             [
              0.2222222222222222,
              "#7201a8"
             ],
             [
              0.3333333333333333,
              "#9c179e"
             ],
             [
              0.4444444444444444,
              "#bd3786"
             ],
             [
              0.5555555555555556,
              "#d8576b"
             ],
             [
              0.6666666666666666,
              "#ed7953"
             ],
             [
              0.7777777777777778,
              "#fb9f3a"
             ],
             [
              0.8888888888888888,
              "#fdca26"
             ],
             [
              1,
              "#f0f921"
             ]
            ],
            "type": "heatmap"
           }
          ],
          "heatmapgl": [
           {
            "colorbar": {
             "outlinewidth": 0,
             "ticks": ""
            },
            "colorscale": [
             [
              0,
              "#0d0887"
             ],
             [
              0.1111111111111111,
              "#46039f"
             ],
             [
              0.2222222222222222,
              "#7201a8"
             ],
             [
              0.3333333333333333,
              "#9c179e"
             ],
             [
              0.4444444444444444,
              "#bd3786"
             ],
             [
              0.5555555555555556,
              "#d8576b"
             ],
             [
              0.6666666666666666,
              "#ed7953"
             ],
             [
              0.7777777777777778,
              "#fb9f3a"
             ],
             [
              0.8888888888888888,
              "#fdca26"
             ],
             [
              1,
              "#f0f921"
             ]
            ],
            "type": "heatmapgl"
           }
          ],
          "histogram": [
           {
            "marker": {
             "colorbar": {
              "outlinewidth": 0,
              "ticks": ""
             }
            },
            "type": "histogram"
           }
          ],
          "histogram2d": [
           {
            "colorbar": {
             "outlinewidth": 0,
             "ticks": ""
            },
            "colorscale": [
             [
              0,
              "#0d0887"
             ],
             [
              0.1111111111111111,
              "#46039f"
             ],
             [
              0.2222222222222222,
              "#7201a8"
             ],
             [
              0.3333333333333333,
              "#9c179e"
             ],
             [
              0.4444444444444444,
              "#bd3786"
             ],
             [
              0.5555555555555556,
              "#d8576b"
             ],
             [
              0.6666666666666666,
              "#ed7953"
             ],
             [
              0.7777777777777778,
              "#fb9f3a"
             ],
             [
              0.8888888888888888,
              "#fdca26"
             ],
             [
              1,
              "#f0f921"
             ]
            ],
            "type": "histogram2d"
           }
          ],
          "histogram2dcontour": [
           {
            "colorbar": {
             "outlinewidth": 0,
             "ticks": ""
            },
            "colorscale": [
             [
              0,
              "#0d0887"
             ],
             [
              0.1111111111111111,
              "#46039f"
             ],
             [
              0.2222222222222222,
              "#7201a8"
             ],
             [
              0.3333333333333333,
              "#9c179e"
             ],
             [
              0.4444444444444444,
              "#bd3786"
             ],
             [
              0.5555555555555556,
              "#d8576b"
             ],
             [
              0.6666666666666666,
              "#ed7953"
             ],
             [
              0.7777777777777778,
              "#fb9f3a"
             ],
             [
              0.8888888888888888,
              "#fdca26"
             ],
             [
              1,
              "#f0f921"
             ]
            ],
            "type": "histogram2dcontour"
           }
          ],
          "mesh3d": [
           {
            "colorbar": {
             "outlinewidth": 0,
             "ticks": ""
            },
            "type": "mesh3d"
           }
          ],
          "parcoords": [
           {
            "line": {
             "colorbar": {
              "outlinewidth": 0,
              "ticks": ""
             }
            },
            "type": "parcoords"
           }
          ],
          "pie": [
           {
            "automargin": true,
            "type": "pie"
           }
          ],
          "scatter": [
           {
            "marker": {
             "colorbar": {
              "outlinewidth": 0,
              "ticks": ""
             }
            },
            "type": "scatter"
           }
          ],
          "scatter3d": [
           {
            "line": {
             "colorbar": {
              "outlinewidth": 0,
              "ticks": ""
             }
            },
            "marker": {
             "colorbar": {
              "outlinewidth": 0,
              "ticks": ""
             }
            },
            "type": "scatter3d"
           }
          ],
          "scattercarpet": [
           {
            "marker": {
             "colorbar": {
              "outlinewidth": 0,
              "ticks": ""
             }
            },
            "type": "scattercarpet"
           }
          ],
          "scattergeo": [
           {
            "marker": {
             "colorbar": {
              "outlinewidth": 0,
              "ticks": ""
             }
            },
            "type": "scattergeo"
           }
          ],
          "scattergl": [
           {
            "marker": {
             "colorbar": {
              "outlinewidth": 0,
              "ticks": ""
             }
            },
            "type": "scattergl"
           }
          ],
          "scattermapbox": [
           {
            "marker": {
             "colorbar": {
              "outlinewidth": 0,
              "ticks": ""
             }
            },
            "type": "scattermapbox"
           }
          ],
          "scatterpolar": [
           {
            "marker": {
             "colorbar": {
              "outlinewidth": 0,
              "ticks": ""
             }
            },
            "type": "scatterpolar"
           }
          ],
          "scatterpolargl": [
           {
            "marker": {
             "colorbar": {
              "outlinewidth": 0,
              "ticks": ""
             }
            },
            "type": "scatterpolargl"
           }
          ],
          "scatterternary": [
           {
            "marker": {
             "colorbar": {
              "outlinewidth": 0,
              "ticks": ""
             }
            },
            "type": "scatterternary"
           }
          ],
          "surface": [
           {
            "colorbar": {
             "outlinewidth": 0,
             "ticks": ""
            },
            "colorscale": [
             [
              0,
              "#0d0887"
             ],
             [
              0.1111111111111111,
              "#46039f"
             ],
             [
              0.2222222222222222,
              "#7201a8"
             ],
             [
              0.3333333333333333,
              "#9c179e"
             ],
             [
              0.4444444444444444,
              "#bd3786"
             ],
             [
              0.5555555555555556,
              "#d8576b"
             ],
             [
              0.6666666666666666,
              "#ed7953"
             ],
             [
              0.7777777777777778,
              "#fb9f3a"
             ],
             [
              0.8888888888888888,
              "#fdca26"
             ],
             [
              1,
              "#f0f921"
             ]
            ],
            "type": "surface"
           }
          ],
          "table": [
           {
            "cells": {
             "fill": {
              "color": "#EBF0F8"
             },
             "line": {
              "color": "white"
             }
            },
            "header": {
             "fill": {
              "color": "#C8D4E3"
             },
             "line": {
              "color": "white"
             }
            },
            "type": "table"
           }
          ]
         },
         "layout": {
          "annotationdefaults": {
           "arrowcolor": "#2a3f5f",
           "arrowhead": 0,
           "arrowwidth": 1
          },
          "coloraxis": {
           "colorbar": {
            "outlinewidth": 0,
            "ticks": ""
           }
          },
          "colorscale": {
           "diverging": [
            [
             0,
             "#8e0152"
            ],
            [
             0.1,
             "#c51b7d"
            ],
            [
             0.2,
             "#de77ae"
            ],
            [
             0.3,
             "#f1b6da"
            ],
            [
             0.4,
             "#fde0ef"
            ],
            [
             0.5,
             "#f7f7f7"
            ],
            [
             0.6,
             "#e6f5d0"
            ],
            [
             0.7,
             "#b8e186"
            ],
            [
             0.8,
             "#7fbc41"
            ],
            [
             0.9,
             "#4d9221"
            ],
            [
             1,
             "#276419"
            ]
           ],
           "sequential": [
            [
             0,
             "#0d0887"
            ],
            [
             0.1111111111111111,
             "#46039f"
            ],
            [
             0.2222222222222222,
             "#7201a8"
            ],
            [
             0.3333333333333333,
             "#9c179e"
            ],
            [
             0.4444444444444444,
             "#bd3786"
            ],
            [
             0.5555555555555556,
             "#d8576b"
            ],
            [
             0.6666666666666666,
             "#ed7953"
            ],
            [
             0.7777777777777778,
             "#fb9f3a"
            ],
            [
             0.8888888888888888,
             "#fdca26"
            ],
            [
             1,
             "#f0f921"
            ]
           ],
           "sequentialminus": [
            [
             0,
             "#0d0887"
            ],
            [
             0.1111111111111111,
             "#46039f"
            ],
            [
             0.2222222222222222,
             "#7201a8"
            ],
            [
             0.3333333333333333,
             "#9c179e"
            ],
            [
             0.4444444444444444,
             "#bd3786"
            ],
            [
             0.5555555555555556,
             "#d8576b"
            ],
            [
             0.6666666666666666,
             "#ed7953"
            ],
            [
             0.7777777777777778,
             "#fb9f3a"
            ],
            [
             0.8888888888888888,
             "#fdca26"
            ],
            [
             1,
             "#f0f921"
            ]
           ]
          },
          "colorway": [
           "#636efa",
           "#EF553B",
           "#00cc96",
           "#ab63fa",
           "#FFA15A",
           "#19d3f3",
           "#FF6692",
           "#B6E880",
           "#FF97FF",
           "#FECB52"
          ],
          "font": {
           "color": "#2a3f5f"
          },
          "geo": {
           "bgcolor": "white",
           "lakecolor": "white",
           "landcolor": "#E5ECF6",
           "showlakes": true,
           "showland": true,
           "subunitcolor": "white"
          },
          "hoverlabel": {
           "align": "left"
          },
          "hovermode": "closest",
          "mapbox": {
           "style": "light"
          },
          "paper_bgcolor": "white",
          "plot_bgcolor": "#E5ECF6",
          "polar": {
           "angularaxis": {
            "gridcolor": "white",
            "linecolor": "white",
            "ticks": ""
           },
           "bgcolor": "#E5ECF6",
           "radialaxis": {
            "gridcolor": "white",
            "linecolor": "white",
            "ticks": ""
           }
          },
          "scene": {
           "xaxis": {
            "backgroundcolor": "#E5ECF6",
            "gridcolor": "white",
            "gridwidth": 2,
            "linecolor": "white",
            "showbackground": true,
            "ticks": "",
            "zerolinecolor": "white"
           },
           "yaxis": {
            "backgroundcolor": "#E5ECF6",
            "gridcolor": "white",
            "gridwidth": 2,
            "linecolor": "white",
            "showbackground": true,
            "ticks": "",
            "zerolinecolor": "white"
           },
           "zaxis": {
            "backgroundcolor": "#E5ECF6",
            "gridcolor": "white",
            "gridwidth": 2,
            "linecolor": "white",
            "showbackground": true,
            "ticks": "",
            "zerolinecolor": "white"
           }
          },
          "shapedefaults": {
           "line": {
            "color": "#2a3f5f"
           }
          },
          "ternary": {
           "aaxis": {
            "gridcolor": "white",
            "linecolor": "white",
            "ticks": ""
           },
           "baxis": {
            "gridcolor": "white",
            "linecolor": "white",
            "ticks": ""
           },
           "bgcolor": "#E5ECF6",
           "caxis": {
            "gridcolor": "white",
            "linecolor": "white",
            "ticks": ""
           }
          },
          "title": {
           "x": 0.05
          },
          "xaxis": {
           "automargin": true,
           "gridcolor": "white",
           "linecolor": "white",
           "ticks": "",
           "title": {
            "standoff": 15
           },
           "zerolinecolor": "white",
           "zerolinewidth": 2
          },
          "yaxis": {
           "automargin": true,
           "gridcolor": "white",
           "linecolor": "white",
           "ticks": "",
           "title": {
            "standoff": 15
           },
           "zerolinecolor": "white",
           "zerolinewidth": 2
          }
         }
        }
       }
      },
      "text/html": [
       "<div>\n",
       "        \n",
       "        \n",
       "            <div id=\"7087d896-6983-4a4c-a5a6-92a630f7a026\" class=\"plotly-graph-div\" style=\"height:525px; width:100%;\"></div>\n",
       "            <script type=\"text/javascript\">\n",
       "                require([\"plotly\"], function(Plotly) {\n",
       "                    window.PLOTLYENV=window.PLOTLYENV || {};\n",
       "                    \n",
       "                if (document.getElementById(\"7087d896-6983-4a4c-a5a6-92a630f7a026\")) {\n",
       "                    Plotly.newPlot(\n",
       "                        '7087d896-6983-4a4c-a5a6-92a630f7a026',\n",
       "                        [{\"domain\": {\"x\": [0.0, 1.0], \"y\": [0.0, 1.0]}, \"hovertemplate\": \"label=%{label}<br>value=%{value}<extra></extra>\", \"labels\": [\"SSA\", \"IMSS\", \"PRIVADA\", \"ISSSTE\", \"PEMEX\", \"SEDENA\", \"SEMAR\", \"ESTATAL\", \"CRUZ ROJA\", \"IMSS-OPORTUNIDADES\"], \"legendgroup\": \"\", \"name\": \"\", \"showlegend\": true, \"type\": \"pie\", \"values\": [330478, 68311, 15917, 9711, 4194, 3655, 3050, 390, 115, 18]}],\n",
       "                        {\"legend\": {\"tracegroupgap\": 0}, \"margin\": {\"t\": 60}, \"template\": {\"data\": {\"bar\": [{\"error_x\": {\"color\": \"#2a3f5f\"}, \"error_y\": {\"color\": \"#2a3f5f\"}, \"marker\": {\"line\": {\"color\": \"#E5ECF6\", \"width\": 0.5}}, \"type\": \"bar\"}], \"barpolar\": [{\"marker\": {\"line\": {\"color\": \"#E5ECF6\", \"width\": 0.5}}, \"type\": \"barpolar\"}], \"carpet\": [{\"aaxis\": {\"endlinecolor\": \"#2a3f5f\", \"gridcolor\": \"white\", \"linecolor\": \"white\", \"minorgridcolor\": \"white\", \"startlinecolor\": \"#2a3f5f\"}, \"baxis\": {\"endlinecolor\": \"#2a3f5f\", \"gridcolor\": \"white\", \"linecolor\": \"white\", \"minorgridcolor\": \"white\", \"startlinecolor\": \"#2a3f5f\"}, \"type\": \"carpet\"}], \"choropleth\": [{\"colorbar\": {\"outlinewidth\": 0, \"ticks\": \"\"}, \"type\": \"choropleth\"}], \"contour\": [{\"colorbar\": {\"outlinewidth\": 0, \"ticks\": \"\"}, \"colorscale\": [[0.0, \"#0d0887\"], [0.1111111111111111, \"#46039f\"], [0.2222222222222222, \"#7201a8\"], [0.3333333333333333, \"#9c179e\"], [0.4444444444444444, \"#bd3786\"], [0.5555555555555556, \"#d8576b\"], [0.6666666666666666, \"#ed7953\"], [0.7777777777777778, \"#fb9f3a\"], [0.8888888888888888, \"#fdca26\"], [1.0, \"#f0f921\"]], \"type\": \"contour\"}], \"contourcarpet\": [{\"colorbar\": {\"outlinewidth\": 0, \"ticks\": \"\"}, \"type\": \"contourcarpet\"}], \"heatmap\": [{\"colorbar\": {\"outlinewidth\": 0, \"ticks\": \"\"}, \"colorscale\": [[0.0, \"#0d0887\"], [0.1111111111111111, \"#46039f\"], [0.2222222222222222, \"#7201a8\"], [0.3333333333333333, \"#9c179e\"], [0.4444444444444444, \"#bd3786\"], [0.5555555555555556, \"#d8576b\"], [0.6666666666666666, \"#ed7953\"], [0.7777777777777778, \"#fb9f3a\"], [0.8888888888888888, \"#fdca26\"], [1.0, \"#f0f921\"]], \"type\": \"heatmap\"}], \"heatmapgl\": [{\"colorbar\": {\"outlinewidth\": 0, \"ticks\": \"\"}, \"colorscale\": [[0.0, \"#0d0887\"], [0.1111111111111111, \"#46039f\"], [0.2222222222222222, \"#7201a8\"], [0.3333333333333333, \"#9c179e\"], [0.4444444444444444, \"#bd3786\"], [0.5555555555555556, \"#d8576b\"], [0.6666666666666666, \"#ed7953\"], [0.7777777777777778, \"#fb9f3a\"], [0.8888888888888888, \"#fdca26\"], [1.0, \"#f0f921\"]], \"type\": \"heatmapgl\"}], \"histogram\": [{\"marker\": {\"colorbar\": {\"outlinewidth\": 0, \"ticks\": \"\"}}, \"type\": \"histogram\"}], \"histogram2d\": [{\"colorbar\": {\"outlinewidth\": 0, \"ticks\": \"\"}, \"colorscale\": [[0.0, \"#0d0887\"], [0.1111111111111111, \"#46039f\"], [0.2222222222222222, \"#7201a8\"], [0.3333333333333333, \"#9c179e\"], [0.4444444444444444, \"#bd3786\"], [0.5555555555555556, \"#d8576b\"], [0.6666666666666666, \"#ed7953\"], [0.7777777777777778, \"#fb9f3a\"], [0.8888888888888888, \"#fdca26\"], [1.0, \"#f0f921\"]], \"type\": \"histogram2d\"}], \"histogram2dcontour\": [{\"colorbar\": {\"outlinewidth\": 0, \"ticks\": \"\"}, \"colorscale\": [[0.0, \"#0d0887\"], [0.1111111111111111, \"#46039f\"], [0.2222222222222222, \"#7201a8\"], [0.3333333333333333, \"#9c179e\"], [0.4444444444444444, \"#bd3786\"], [0.5555555555555556, \"#d8576b\"], [0.6666666666666666, \"#ed7953\"], [0.7777777777777778, \"#fb9f3a\"], [0.8888888888888888, \"#fdca26\"], [1.0, \"#f0f921\"]], \"type\": \"histogram2dcontour\"}], \"mesh3d\": [{\"colorbar\": {\"outlinewidth\": 0, \"ticks\": \"\"}, \"type\": \"mesh3d\"}], \"parcoords\": [{\"line\": {\"colorbar\": {\"outlinewidth\": 0, \"ticks\": \"\"}}, \"type\": \"parcoords\"}], \"pie\": [{\"automargin\": true, \"type\": \"pie\"}], \"scatter\": [{\"marker\": {\"colorbar\": {\"outlinewidth\": 0, \"ticks\": \"\"}}, \"type\": \"scatter\"}], \"scatter3d\": [{\"line\": {\"colorbar\": {\"outlinewidth\": 0, \"ticks\": \"\"}}, \"marker\": {\"colorbar\": {\"outlinewidth\": 0, \"ticks\": \"\"}}, \"type\": \"scatter3d\"}], \"scattercarpet\": [{\"marker\": {\"colorbar\": {\"outlinewidth\": 0, \"ticks\": \"\"}}, \"type\": \"scattercarpet\"}], \"scattergeo\": [{\"marker\": {\"colorbar\": {\"outlinewidth\": 0, \"ticks\": \"\"}}, \"type\": \"scattergeo\"}], \"scattergl\": [{\"marker\": {\"colorbar\": {\"outlinewidth\": 0, \"ticks\": \"\"}}, \"type\": \"scattergl\"}], \"scattermapbox\": [{\"marker\": {\"colorbar\": {\"outlinewidth\": 0, \"ticks\": \"\"}}, \"type\": \"scattermapbox\"}], \"scatterpolar\": [{\"marker\": {\"colorbar\": {\"outlinewidth\": 0, \"ticks\": \"\"}}, \"type\": \"scatterpolar\"}], \"scatterpolargl\": [{\"marker\": {\"colorbar\": {\"outlinewidth\": 0, \"ticks\": \"\"}}, \"type\": \"scatterpolargl\"}], \"scatterternary\": [{\"marker\": {\"colorbar\": {\"outlinewidth\": 0, \"ticks\": \"\"}}, \"type\": \"scatterternary\"}], \"surface\": [{\"colorbar\": {\"outlinewidth\": 0, \"ticks\": \"\"}, \"colorscale\": [[0.0, \"#0d0887\"], [0.1111111111111111, \"#46039f\"], [0.2222222222222222, \"#7201a8\"], [0.3333333333333333, \"#9c179e\"], [0.4444444444444444, \"#bd3786\"], [0.5555555555555556, \"#d8576b\"], [0.6666666666666666, \"#ed7953\"], [0.7777777777777778, \"#fb9f3a\"], [0.8888888888888888, \"#fdca26\"], [1.0, \"#f0f921\"]], \"type\": \"surface\"}], \"table\": [{\"cells\": {\"fill\": {\"color\": \"#EBF0F8\"}, \"line\": {\"color\": \"white\"}}, \"header\": {\"fill\": {\"color\": \"#C8D4E3\"}, \"line\": {\"color\": \"white\"}}, \"type\": \"table\"}]}, \"layout\": {\"annotationdefaults\": {\"arrowcolor\": \"#2a3f5f\", \"arrowhead\": 0, \"arrowwidth\": 1}, \"coloraxis\": {\"colorbar\": {\"outlinewidth\": 0, \"ticks\": \"\"}}, \"colorscale\": {\"diverging\": [[0, \"#8e0152\"], [0.1, \"#c51b7d\"], [0.2, \"#de77ae\"], [0.3, \"#f1b6da\"], [0.4, \"#fde0ef\"], [0.5, \"#f7f7f7\"], [0.6, \"#e6f5d0\"], [0.7, \"#b8e186\"], [0.8, \"#7fbc41\"], [0.9, \"#4d9221\"], [1, \"#276419\"]], \"sequential\": [[0.0, \"#0d0887\"], [0.1111111111111111, \"#46039f\"], [0.2222222222222222, \"#7201a8\"], [0.3333333333333333, \"#9c179e\"], [0.4444444444444444, \"#bd3786\"], [0.5555555555555556, \"#d8576b\"], [0.6666666666666666, \"#ed7953\"], [0.7777777777777778, \"#fb9f3a\"], [0.8888888888888888, \"#fdca26\"], [1.0, \"#f0f921\"]], \"sequentialminus\": [[0.0, \"#0d0887\"], [0.1111111111111111, \"#46039f\"], [0.2222222222222222, \"#7201a8\"], [0.3333333333333333, \"#9c179e\"], [0.4444444444444444, \"#bd3786\"], [0.5555555555555556, \"#d8576b\"], [0.6666666666666666, \"#ed7953\"], [0.7777777777777778, \"#fb9f3a\"], [0.8888888888888888, \"#fdca26\"], [1.0, \"#f0f921\"]]}, \"colorway\": [\"#636efa\", \"#EF553B\", \"#00cc96\", \"#ab63fa\", \"#FFA15A\", \"#19d3f3\", \"#FF6692\", \"#B6E880\", \"#FF97FF\", \"#FECB52\"], \"font\": {\"color\": \"#2a3f5f\"}, \"geo\": {\"bgcolor\": \"white\", \"lakecolor\": \"white\", \"landcolor\": \"#E5ECF6\", \"showlakes\": true, \"showland\": true, \"subunitcolor\": \"white\"}, \"hoverlabel\": {\"align\": \"left\"}, \"hovermode\": \"closest\", \"mapbox\": {\"style\": \"light\"}, \"paper_bgcolor\": \"white\", \"plot_bgcolor\": \"#E5ECF6\", \"polar\": {\"angularaxis\": {\"gridcolor\": \"white\", \"linecolor\": \"white\", \"ticks\": \"\"}, \"bgcolor\": \"#E5ECF6\", \"radialaxis\": {\"gridcolor\": \"white\", \"linecolor\": \"white\", \"ticks\": \"\"}}, \"scene\": {\"xaxis\": {\"backgroundcolor\": \"#E5ECF6\", \"gridcolor\": \"white\", \"gridwidth\": 2, \"linecolor\": \"white\", \"showbackground\": true, \"ticks\": \"\", \"zerolinecolor\": \"white\"}, \"yaxis\": {\"backgroundcolor\": \"#E5ECF6\", \"gridcolor\": \"white\", \"gridwidth\": 2, \"linecolor\": \"white\", \"showbackground\": true, \"ticks\": \"\", \"zerolinecolor\": \"white\"}, \"zaxis\": {\"backgroundcolor\": \"#E5ECF6\", \"gridcolor\": \"white\", \"gridwidth\": 2, \"linecolor\": \"white\", \"showbackground\": true, \"ticks\": \"\", \"zerolinecolor\": \"white\"}}, \"shapedefaults\": {\"line\": {\"color\": \"#2a3f5f\"}}, \"ternary\": {\"aaxis\": {\"gridcolor\": \"white\", \"linecolor\": \"white\", \"ticks\": \"\"}, \"baxis\": {\"gridcolor\": \"white\", \"linecolor\": \"white\", \"ticks\": \"\"}, \"bgcolor\": \"#E5ECF6\", \"caxis\": {\"gridcolor\": \"white\", \"linecolor\": \"white\", \"ticks\": \"\"}}, \"title\": {\"x\": 0.05}, \"xaxis\": {\"automargin\": true, \"gridcolor\": \"white\", \"linecolor\": \"white\", \"ticks\": \"\", \"title\": {\"standoff\": 15}, \"zerolinecolor\": \"white\", \"zerolinewidth\": 2}, \"yaxis\": {\"automargin\": true, \"gridcolor\": \"white\", \"linecolor\": \"white\", \"ticks\": \"\", \"title\": {\"standoff\": 15}, \"zerolinecolor\": \"white\", \"zerolinewidth\": 2}}}},\n",
       "                        {\"responsive\": true}\n",
       "                    ).then(function(){\n",
       "                            \n",
       "var gd = document.getElementById('7087d896-6983-4a4c-a5a6-92a630f7a026');\n",
       "var x = new MutationObserver(function (mutations, observer) {{\n",
       "        var display = window.getComputedStyle(gd).display;\n",
       "        if (!display || display === 'none') {{\n",
       "            console.log([gd, 'removed!']);\n",
       "            Plotly.purge(gd);\n",
       "            observer.disconnect();\n",
       "        }}\n",
       "}});\n",
       "\n",
       "// Listen for the removal of the full notebook cells\n",
       "var notebookContainer = gd.closest('#notebook-container');\n",
       "if (notebookContainer) {{\n",
       "    x.observe(notebookContainer, {childList: true});\n",
       "}}\n",
       "\n",
       "// Listen for the clearing of the current output cell\n",
       "var outputEl = gd.closest('.output');\n",
       "if (outputEl) {{\n",
       "    x.observe(outputEl, {childList: true});\n",
       "}}\n",
       "\n",
       "                        })\n",
       "                };\n",
       "                });\n",
       "            </script>\n",
       "        </div>"
      ]
     },
     "metadata": {},
     "output_type": "display_data"
    }
   ],
   "source": [
    "fig= px.pie(values = sinave['sector'].value_counts().head(10), names= (sinave['sector'].value_counts().head(10)).index)\n",
    "fig.show()\n",
    "#fig.write_html(\"/Users/rube/labs-de-ironhack/proyecto-final/graficas_html/sector_salud_pie.html\")\n",
    "\n"
   ]
  },
  {
   "cell_type": "code",
   "execution_count": 135,
   "metadata": {},
   "outputs": [
    {
     "data": {
      "text/html": [
       "<div>\n",
       "<style scoped>\n",
       "    .dataframe tbody tr th:only-of-type {\n",
       "        vertical-align: middle;\n",
       "    }\n",
       "\n",
       "    .dataframe tbody tr th {\n",
       "        vertical-align: top;\n",
       "    }\n",
       "\n",
       "    .dataframe thead th {\n",
       "        text-align: right;\n",
       "    }\n",
       "</style>\n",
       "<table border=\"1\" class=\"dataframe\">\n",
       "  <thead>\n",
       "    <tr style=\"text-align: right;\">\n",
       "      <th></th>\n",
       "      <th>origen</th>\n",
       "      <th>sector</th>\n",
       "      <th>cve_entidad_unidad_medica</th>\n",
       "      <th>entidad_unidad_medica</th>\n",
       "      <th>delegacion_unidad_medica</th>\n",
       "      <th>unidad_medica</th>\n",
       "      <th>fecha_de_registro</th>\n",
       "      <th>sexo</th>\n",
       "      <th>entidad_residencia</th>\n",
       "      <th>cve_entidad_residencia</th>\n",
       "      <th>...</th>\n",
       "      <th>dias_puerperio</th>\n",
       "      <th>antipireticos</th>\n",
       "      <th>unidad_cuidados_intensivos</th>\n",
       "      <th>linaje_influenza_tipo_b</th>\n",
       "      <th>viaje_1</th>\n",
       "      <th>viaje_2</th>\n",
       "      <th>viaje_3</th>\n",
       "      <th>viaje_4</th>\n",
       "      <th>viaje_5</th>\n",
       "      <th>rango_de_edad</th>\n",
       "    </tr>\n",
       "  </thead>\n",
       "  <tbody>\n",
       "    <tr>\n",
       "      <th>17</th>\n",
       "      <td>USMI</td>\n",
       "      <td>IMSS</td>\n",
       "      <td>9</td>\n",
       "      <td>CIUDAD DE MEXICO</td>\n",
       "      <td>CIUDAD DE MEXICO</td>\n",
       "      <td>HGZ  2A PASO-TRONCOSO</td>\n",
       "      <td>2020-06-10</td>\n",
       "      <td>FEMENINO</td>\n",
       "      <td>CIUDAD DE MEXICO</td>\n",
       "      <td>9</td>\n",
       "      <td>...</td>\n",
       "      <td>NaN</td>\n",
       "      <td>NO</td>\n",
       "      <td>NaN</td>\n",
       "      <td>NaN</td>\n",
       "      <td>NaN</td>\n",
       "      <td>NaN</td>\n",
       "      <td>NaN</td>\n",
       "      <td>NaN</td>\n",
       "      <td>NaN</td>\n",
       "      <td>31-40</td>\n",
       "    </tr>\n",
       "    <tr>\n",
       "      <th>20</th>\n",
       "      <td>FUERA DE USMI</td>\n",
       "      <td>IMSS</td>\n",
       "      <td>9</td>\n",
       "      <td>CIUDAD DE MEXICO</td>\n",
       "      <td>CIUDAD DE MEXICO</td>\n",
       "      <td>HES     CMN SIGLO XXI</td>\n",
       "      <td>2020-07-01</td>\n",
       "      <td>FEMENINO</td>\n",
       "      <td>CIUDAD DE MEXICO</td>\n",
       "      <td>9</td>\n",
       "      <td>...</td>\n",
       "      <td>NaN</td>\n",
       "      <td>NO</td>\n",
       "      <td>NaN</td>\n",
       "      <td>NaN</td>\n",
       "      <td>NaN</td>\n",
       "      <td>NaN</td>\n",
       "      <td>NaN</td>\n",
       "      <td>NaN</td>\n",
       "      <td>NaN</td>\n",
       "      <td>41-50</td>\n",
       "    </tr>\n",
       "    <tr>\n",
       "      <th>30</th>\n",
       "      <td>FUERA DE USMI</td>\n",
       "      <td>IMSS</td>\n",
       "      <td>9</td>\n",
       "      <td>CIUDAD DE MEXICO</td>\n",
       "      <td>CIUDAD DE MEXICO</td>\n",
       "      <td>UNIDAD DE MEDICINA FAMILIAR NO. 49</td>\n",
       "      <td>2020-06-17</td>\n",
       "      <td>FEMENINO</td>\n",
       "      <td>CIUDAD DE MEXICO</td>\n",
       "      <td>9</td>\n",
       "      <td>...</td>\n",
       "      <td>NaN</td>\n",
       "      <td>SI</td>\n",
       "      <td>NaN</td>\n",
       "      <td>NaN</td>\n",
       "      <td>NaN</td>\n",
       "      <td>NaN</td>\n",
       "      <td>NaN</td>\n",
       "      <td>NaN</td>\n",
       "      <td>NaN</td>\n",
       "      <td>51-60</td>\n",
       "    </tr>\n",
       "    <tr>\n",
       "      <th>44</th>\n",
       "      <td>FUERA DE USMI</td>\n",
       "      <td>IMSS</td>\n",
       "      <td>9</td>\n",
       "      <td>CIUDAD DE MEXICO</td>\n",
       "      <td>CIUDAD DE MEXICO</td>\n",
       "      <td>HPSIQ MF 10 POSTAL</td>\n",
       "      <td>2020-09-14</td>\n",
       "      <td>MASCULINO</td>\n",
       "      <td>CIUDAD DE MEXICO</td>\n",
       "      <td>9</td>\n",
       "      <td>...</td>\n",
       "      <td>NaN</td>\n",
       "      <td>NO</td>\n",
       "      <td>NaN</td>\n",
       "      <td>NaN</td>\n",
       "      <td>NaN</td>\n",
       "      <td>NaN</td>\n",
       "      <td>NaN</td>\n",
       "      <td>NaN</td>\n",
       "      <td>NaN</td>\n",
       "      <td>51-60</td>\n",
       "    </tr>\n",
       "    <tr>\n",
       "      <th>48</th>\n",
       "      <td>USMI</td>\n",
       "      <td>IMSS</td>\n",
       "      <td>9</td>\n",
       "      <td>CIUDAD DE MEXICO</td>\n",
       "      <td>CIUDAD DE MEXICO</td>\n",
       "      <td>HGZMF   29 S. JUAN ARAGON</td>\n",
       "      <td>2020-08-19</td>\n",
       "      <td>FEMENINO</td>\n",
       "      <td>CIUDAD DE MEXICO</td>\n",
       "      <td>9</td>\n",
       "      <td>...</td>\n",
       "      <td>NaN</td>\n",
       "      <td>NO</td>\n",
       "      <td>NO</td>\n",
       "      <td>NaN</td>\n",
       "      <td>NaN</td>\n",
       "      <td>NaN</td>\n",
       "      <td>NaN</td>\n",
       "      <td>NaN</td>\n",
       "      <td>NaN</td>\n",
       "      <td>81-90</td>\n",
       "    </tr>\n",
       "    <tr>\n",
       "      <th>...</th>\n",
       "      <td>...</td>\n",
       "      <td>...</td>\n",
       "      <td>...</td>\n",
       "      <td>...</td>\n",
       "      <td>...</td>\n",
       "      <td>...</td>\n",
       "      <td>...</td>\n",
       "      <td>...</td>\n",
       "      <td>...</td>\n",
       "      <td>...</td>\n",
       "      <td>...</td>\n",
       "      <td>...</td>\n",
       "      <td>...</td>\n",
       "      <td>...</td>\n",
       "      <td>...</td>\n",
       "      <td>...</td>\n",
       "      <td>...</td>\n",
       "      <td>...</td>\n",
       "      <td>...</td>\n",
       "      <td>...</td>\n",
       "      <td>...</td>\n",
       "    </tr>\n",
       "    <tr>\n",
       "      <th>435802</th>\n",
       "      <td>FUERA DE USMI</td>\n",
       "      <td>IMSS</td>\n",
       "      <td>9</td>\n",
       "      <td>CIUDAD DE MEXICO</td>\n",
       "      <td>CIUDAD DE MEXICO</td>\n",
       "      <td>HINFEC  CM LA RAZA</td>\n",
       "      <td>2020-04-27</td>\n",
       "      <td>MASCULINO</td>\n",
       "      <td>MEXICO</td>\n",
       "      <td>15</td>\n",
       "      <td>...</td>\n",
       "      <td>NaN</td>\n",
       "      <td>SI</td>\n",
       "      <td>NaN</td>\n",
       "      <td>NaN</td>\n",
       "      <td>NaN</td>\n",
       "      <td>NaN</td>\n",
       "      <td>NaN</td>\n",
       "      <td>NaN</td>\n",
       "      <td>NaN</td>\n",
       "      <td>21-30</td>\n",
       "    </tr>\n",
       "    <tr>\n",
       "      <th>435821</th>\n",
       "      <td>USMI</td>\n",
       "      <td>IMSS</td>\n",
       "      <td>9</td>\n",
       "      <td>CIUDAD DE MEXICO</td>\n",
       "      <td>CIUDAD DE MEXICO</td>\n",
       "      <td>HGZMF   8 SAN ANGEL</td>\n",
       "      <td>2020-04-05</td>\n",
       "      <td>FEMENINO</td>\n",
       "      <td>CIUDAD DE MEXICO</td>\n",
       "      <td>9</td>\n",
       "      <td>...</td>\n",
       "      <td>NaN</td>\n",
       "      <td>NO</td>\n",
       "      <td>NaN</td>\n",
       "      <td>NaN</td>\n",
       "      <td>NaN</td>\n",
       "      <td>NaN</td>\n",
       "      <td>NaN</td>\n",
       "      <td>NaN</td>\n",
       "      <td>NaN</td>\n",
       "      <td>51-60</td>\n",
       "    </tr>\n",
       "    <tr>\n",
       "      <th>435823</th>\n",
       "      <td>USMI</td>\n",
       "      <td>IMSS</td>\n",
       "      <td>9</td>\n",
       "      <td>CIUDAD DE MEXICO</td>\n",
       "      <td>CIUDAD DE MEXICO</td>\n",
       "      <td>HGZ     27 TLATELOLCO</td>\n",
       "      <td>2020-06-16</td>\n",
       "      <td>MASCULINO</td>\n",
       "      <td>CIUDAD DE MEXICO</td>\n",
       "      <td>9</td>\n",
       "      <td>...</td>\n",
       "      <td>NaN</td>\n",
       "      <td>NO</td>\n",
       "      <td>NO</td>\n",
       "      <td>NaN</td>\n",
       "      <td>NaN</td>\n",
       "      <td>NaN</td>\n",
       "      <td>NaN</td>\n",
       "      <td>NaN</td>\n",
       "      <td>NaN</td>\n",
       "      <td>51-60</td>\n",
       "    </tr>\n",
       "    <tr>\n",
       "      <th>435842</th>\n",
       "      <td>FUERA DE USMI</td>\n",
       "      <td>IMSS</td>\n",
       "      <td>9</td>\n",
       "      <td>CIUDAD DE MEXICO</td>\n",
       "      <td>CIUDAD DE MEXICO</td>\n",
       "      <td>UMF      94 S.JUAN ARAGON</td>\n",
       "      <td>2020-05-11</td>\n",
       "      <td>FEMENINO</td>\n",
       "      <td>MEXICO</td>\n",
       "      <td>15</td>\n",
       "      <td>...</td>\n",
       "      <td>NaN</td>\n",
       "      <td>NO</td>\n",
       "      <td>NaN</td>\n",
       "      <td>NaN</td>\n",
       "      <td>NaN</td>\n",
       "      <td>NaN</td>\n",
       "      <td>NaN</td>\n",
       "      <td>NaN</td>\n",
       "      <td>NaN</td>\n",
       "      <td>51-60</td>\n",
       "    </tr>\n",
       "    <tr>\n",
       "      <th>435854</th>\n",
       "      <td>FUERA DE USMI</td>\n",
       "      <td>IMSS</td>\n",
       "      <td>9</td>\n",
       "      <td>CIUDAD DE MEXICO</td>\n",
       "      <td>CIUDAD DE MEXICO</td>\n",
       "      <td>HG      CM LA RAZA</td>\n",
       "      <td>2020-06-12</td>\n",
       "      <td>MASCULINO</td>\n",
       "      <td>CIUDAD DE MEXICO</td>\n",
       "      <td>9</td>\n",
       "      <td>...</td>\n",
       "      <td>NaN</td>\n",
       "      <td>SI</td>\n",
       "      <td>NO</td>\n",
       "      <td>NaN</td>\n",
       "      <td>NaN</td>\n",
       "      <td>NaN</td>\n",
       "      <td>NaN</td>\n",
       "      <td>NaN</td>\n",
       "      <td>NaN</td>\n",
       "      <td>71-80</td>\n",
       "    </tr>\n",
       "  </tbody>\n",
       "</table>\n",
       "<p>68329 rows × 91 columns</p>\n",
       "</div>"
      ],
      "text/plain": [
       "               origen sector  cve_entidad_unidad_medica entidad_unidad_medica  \\\n",
       "17               USMI   IMSS                          9      CIUDAD DE MEXICO   \n",
       "20      FUERA DE USMI   IMSS                          9      CIUDAD DE MEXICO   \n",
       "30      FUERA DE USMI   IMSS                          9      CIUDAD DE MEXICO   \n",
       "44      FUERA DE USMI   IMSS                          9      CIUDAD DE MEXICO   \n",
       "48               USMI   IMSS                          9      CIUDAD DE MEXICO   \n",
       "...               ...    ...                        ...                   ...   \n",
       "435802  FUERA DE USMI   IMSS                          9      CIUDAD DE MEXICO   \n",
       "435821           USMI   IMSS                          9      CIUDAD DE MEXICO   \n",
       "435823           USMI   IMSS                          9      CIUDAD DE MEXICO   \n",
       "435842  FUERA DE USMI   IMSS                          9      CIUDAD DE MEXICO   \n",
       "435854  FUERA DE USMI   IMSS                          9      CIUDAD DE MEXICO   \n",
       "\n",
       "       delegacion_unidad_medica                       unidad_medica  \\\n",
       "17             CIUDAD DE MEXICO               HGZ  2A PASO-TRONCOSO   \n",
       "20             CIUDAD DE MEXICO               HES     CMN SIGLO XXI   \n",
       "30             CIUDAD DE MEXICO  UNIDAD DE MEDICINA FAMILIAR NO. 49   \n",
       "44             CIUDAD DE MEXICO                  HPSIQ MF 10 POSTAL   \n",
       "48             CIUDAD DE MEXICO           HGZMF   29 S. JUAN ARAGON   \n",
       "...                         ...                                 ...   \n",
       "435802         CIUDAD DE MEXICO                  HINFEC  CM LA RAZA   \n",
       "435821         CIUDAD DE MEXICO                 HGZMF   8 SAN ANGEL   \n",
       "435823         CIUDAD DE MEXICO               HGZ     27 TLATELOLCO   \n",
       "435842         CIUDAD DE MEXICO           UMF      94 S.JUAN ARAGON   \n",
       "435854         CIUDAD DE MEXICO                  HG      CM LA RAZA   \n",
       "\n",
       "       fecha_de_registro       sexo entidad_residencia  \\\n",
       "17            2020-06-10   FEMENINO   CIUDAD DE MEXICO   \n",
       "20            2020-07-01   FEMENINO   CIUDAD DE MEXICO   \n",
       "30            2020-06-17   FEMENINO   CIUDAD DE MEXICO   \n",
       "44            2020-09-14  MASCULINO   CIUDAD DE MEXICO   \n",
       "48            2020-08-19   FEMENINO   CIUDAD DE MEXICO   \n",
       "...                  ...        ...                ...   \n",
       "435802        2020-04-27  MASCULINO             MEXICO   \n",
       "435821        2020-04-05   FEMENINO   CIUDAD DE MEXICO   \n",
       "435823        2020-06-16  MASCULINO   CIUDAD DE MEXICO   \n",
       "435842        2020-05-11   FEMENINO             MEXICO   \n",
       "435854        2020-06-12  MASCULINO   CIUDAD DE MEXICO   \n",
       "\n",
       "        cve_entidad_residencia  ... dias_puerperio  antipireticos  \\\n",
       "17                           9  ...            NaN             NO   \n",
       "20                           9  ...            NaN             NO   \n",
       "30                           9  ...            NaN             SI   \n",
       "44                           9  ...            NaN             NO   \n",
       "48                           9  ...            NaN             NO   \n",
       "...                        ...  ...            ...            ...   \n",
       "435802                      15  ...            NaN             SI   \n",
       "435821                       9  ...            NaN             NO   \n",
       "435823                       9  ...            NaN             NO   \n",
       "435842                      15  ...            NaN             NO   \n",
       "435854                       9  ...            NaN             SI   \n",
       "\n",
       "       unidad_cuidados_intensivos  linaje_influenza_tipo_b viaje_1 viaje_2  \\\n",
       "17                            NaN                      NaN     NaN     NaN   \n",
       "20                            NaN                      NaN     NaN     NaN   \n",
       "30                            NaN                      NaN     NaN     NaN   \n",
       "44                            NaN                      NaN     NaN     NaN   \n",
       "48                             NO                      NaN     NaN     NaN   \n",
       "...                           ...                      ...     ...     ...   \n",
       "435802                        NaN                      NaN     NaN     NaN   \n",
       "435821                        NaN                      NaN     NaN     NaN   \n",
       "435823                         NO                      NaN     NaN     NaN   \n",
       "435842                        NaN                      NaN     NaN     NaN   \n",
       "435854                         NO                      NaN     NaN     NaN   \n",
       "\n",
       "       viaje_3  viaje_4 viaje_5 rango_de_edad  \n",
       "17         NaN      NaN     NaN         31-40  \n",
       "20         NaN      NaN     NaN         41-50  \n",
       "30         NaN      NaN     NaN         51-60  \n",
       "44         NaN      NaN     NaN         51-60  \n",
       "48         NaN      NaN     NaN         81-90  \n",
       "...        ...      ...     ...           ...  \n",
       "435802     NaN      NaN     NaN         21-30  \n",
       "435821     NaN      NaN     NaN         51-60  \n",
       "435823     NaN      NaN     NaN         51-60  \n",
       "435842     NaN      NaN     NaN         51-60  \n",
       "435854     NaN      NaN     NaN         71-80  \n",
       "\n",
       "[68329 rows x 91 columns]"
      ]
     },
     "execution_count": 135,
     "metadata": {},
     "output_type": "execute_result"
    }
   ],
   "source": [
    "sinave_imss = sinave[sinave['sector'].apply(lambda x: x.startswith('IMSS'))]\n",
    "sinave_imss"
   ]
  },
  {
   "cell_type": "code",
   "execution_count": 136,
   "metadata": {},
   "outputs": [],
   "source": [
    "#borro columnas que no sirven\n",
    "\n",
    "sinave_imss.drop(['origen', 'sector', 'cve_entidad_unidad_medica','municipio_residencia',\n",
    "       'entidad_unidad_medica', 'delegacion_unidad_medica', 'fecha_de_registro','entidad_residencia',\n",
    "                 'localidad_residencia','clave_localidad_residencia','evolucion_caso',\n",
    "       'fecha_defuncion', 'semana_defuncion','nacionalidad','es_indigena',\n",
    "       'habla_lengua_indigena','fecha_inicio_sintomas','antiviral',\n",
    "       'fecha_inicio_tratamiento_antiviral','contacto_aves', 'contacto_cerdos', 'contacto_animales',\n",
    "                 'fecha_estimada_vacunacion', 'toma_muestra', 'laboratorio',\n",
    "       'folio_laboratorio','es_migrante',\n",
    "       'pais_nacionalidad', 'pais_origen', 'fecha_ingreso_pais', 'puerperio',\n",
    "       'dias_puerperio', 'antipireticos', 'unidad_cuidados_intensivos',\n",
    "       'linaje_influenza_tipo_b', 'viaje_1', 'viaje_2', 'viaje_3', 'viaje_4',\n",
    "       'viaje_5', 'rango_de_edad'], axis=1, inplace=True)"
   ]
  },
  {
   "cell_type": "code",
   "execution_count": 137,
   "metadata": {},
   "outputs": [],
   "source": [
    "sinave_imss2= sinave_imss.copy()\n",
    "sinave_imss2.drop(['recibio_tratamiento_antibiotico', 'unidad_medica','contacto_infeccion_viral','intubado'], axis=1,\n",
    "                 inplace=True)"
   ]
  },
  {
   "cell_type": "code",
   "execution_count": 138,
   "metadata": {},
   "outputs": [
    {
     "data": {
      "text/plain": [
       "sexo                                0\n",
       "cve_entidad_residencia              0\n",
       "cve_municipio_residencia            7\n",
       "tipo_paciente                       0\n",
       "diagnostico_clinico_neumonia        3\n",
       "edad                                0\n",
       "esta_emabarazada                   39\n",
       "meses_embarazo                      8\n",
       "ocupacion                           0\n",
       "servicio_ingreso                    0\n",
       "fecha_ingreso                       0\n",
       "diagnostico_probable                0\n",
       "fiebre                              0\n",
       "tos                                 0\n",
       "odinofagia                          0\n",
       "disnea                              0\n",
       "irritabilidad                       0\n",
       "diarrea                             0\n",
       "dolor_toracico                      0\n",
       "calofrios                           0\n",
       "cefalea                             0\n",
       "mialgias                            0\n",
       "artralgias                          0\n",
       "ataque_al_estado_general            0\n",
       "rinorrea                            0\n",
       "polipnea                            0\n",
       "vomito                              0\n",
       "dolor_abdominal                     0\n",
       "conjuntivitis                       0\n",
       "cianosis                            0\n",
       "inicio_subito_sintomas              0\n",
       "diabetes                            0\n",
       "epoc                                0\n",
       "asma                                0\n",
       "inmunosupresivo                     0\n",
       "hipertension                        0\n",
       "VIH_SIDA                            0\n",
       "otra_condicion                      0\n",
       "enfermedad_cardiaca                 0\n",
       "obesidad                            0\n",
       "insuficiencia_renal_cronica         0\n",
       "tabaquismo                          0\n",
       "recibio_tratamiento                79\n",
       "recibio_tratamiento_antiviral    8666\n",
       "vacunado                            0\n",
       "resultado_definitivo             4596\n",
       "dtype: int64"
      ]
     },
     "execution_count": 138,
     "metadata": {},
     "output_type": "execute_result"
    }
   ],
   "source": [
    "sinave_imss2.isnull().sum()"
   ]
  },
  {
   "cell_type": "code",
   "execution_count": 139,
   "metadata": {},
   "outputs": [
    {
     "data": {
      "text/plain": [
       "sexo                             0\n",
       "cve_entidad_residencia           0\n",
       "cve_municipio_residencia         0\n",
       "tipo_paciente                    0\n",
       "diagnostico_clinico_neumonia     0\n",
       "edad                             0\n",
       "esta_emabarazada                 0\n",
       "meses_embarazo                   0\n",
       "ocupacion                        0\n",
       "servicio_ingreso                 0\n",
       "fecha_ingreso                    0\n",
       "diagnostico_probable             0\n",
       "fiebre                           0\n",
       "tos                              0\n",
       "odinofagia                       0\n",
       "disnea                           0\n",
       "irritabilidad                    0\n",
       "diarrea                          0\n",
       "dolor_toracico                   0\n",
       "calofrios                        0\n",
       "cefalea                          0\n",
       "mialgias                         0\n",
       "artralgias                       0\n",
       "ataque_al_estado_general         0\n",
       "rinorrea                         0\n",
       "polipnea                         0\n",
       "vomito                           0\n",
       "dolor_abdominal                  0\n",
       "conjuntivitis                    0\n",
       "cianosis                         0\n",
       "inicio_subito_sintomas           0\n",
       "diabetes                         0\n",
       "epoc                             0\n",
       "asma                             0\n",
       "inmunosupresivo                  0\n",
       "hipertension                     0\n",
       "VIH_SIDA                         0\n",
       "otra_condicion                   0\n",
       "enfermedad_cardiaca              0\n",
       "obesidad                         0\n",
       "insuficiencia_renal_cronica      0\n",
       "tabaquismo                       0\n",
       "recibio_tratamiento              0\n",
       "recibio_tratamiento_antiviral    0\n",
       "vacunado                         0\n",
       "resultado_definitivo             0\n",
       "dtype: int64"
      ]
     },
     "execution_count": 139,
     "metadata": {},
     "output_type": "execute_result"
    }
   ],
   "source": [
    "#lleno nulos con ceros\n",
    "sinave_imss2.fillna(0, inplace=True)\n",
    "sinave_imss2.isnull().sum()"
   ]
  },
  {
   "cell_type": "code",
   "execution_count": 140,
   "metadata": {},
   "outputs": [],
   "source": [
    "#cambio formato a fecha\n",
    "#importo\n",
    "import locale\n",
    "locale.setlocale(locale.LC_ALL,'es_ES.UTF-8')\n",
    "from datetime import datetime as dt"
   ]
  },
  {
   "cell_type": "code",
   "execution_count": 141,
   "metadata": {},
   "outputs": [
    {
     "data": {
      "text/html": [
       "<div>\n",
       "<style scoped>\n",
       "    .dataframe tbody tr th:only-of-type {\n",
       "        vertical-align: middle;\n",
       "    }\n",
       "\n",
       "    .dataframe tbody tr th {\n",
       "        vertical-align: top;\n",
       "    }\n",
       "\n",
       "    .dataframe thead th {\n",
       "        text-align: right;\n",
       "    }\n",
       "</style>\n",
       "<table border=\"1\" class=\"dataframe\">\n",
       "  <thead>\n",
       "    <tr style=\"text-align: right;\">\n",
       "      <th></th>\n",
       "      <th>sexo</th>\n",
       "      <th>cve_entidad_residencia</th>\n",
       "      <th>cve_municipio_residencia</th>\n",
       "      <th>tipo_paciente</th>\n",
       "      <th>diagnostico_clinico_neumonia</th>\n",
       "      <th>edad</th>\n",
       "      <th>esta_emabarazada</th>\n",
       "      <th>meses_embarazo</th>\n",
       "      <th>ocupacion</th>\n",
       "      <th>servicio_ingreso</th>\n",
       "      <th>...</th>\n",
       "      <th>VIH_SIDA</th>\n",
       "      <th>otra_condicion</th>\n",
       "      <th>enfermedad_cardiaca</th>\n",
       "      <th>obesidad</th>\n",
       "      <th>insuficiencia_renal_cronica</th>\n",
       "      <th>tabaquismo</th>\n",
       "      <th>recibio_tratamiento</th>\n",
       "      <th>recibio_tratamiento_antiviral</th>\n",
       "      <th>vacunado</th>\n",
       "      <th>resultado_definitivo</th>\n",
       "    </tr>\n",
       "    <tr>\n",
       "      <th>fecha_ingreso</th>\n",
       "      <th></th>\n",
       "      <th></th>\n",
       "      <th></th>\n",
       "      <th></th>\n",
       "      <th></th>\n",
       "      <th></th>\n",
       "      <th></th>\n",
       "      <th></th>\n",
       "      <th></th>\n",
       "      <th></th>\n",
       "      <th></th>\n",
       "      <th></th>\n",
       "      <th></th>\n",
       "      <th></th>\n",
       "      <th></th>\n",
       "      <th></th>\n",
       "      <th></th>\n",
       "      <th></th>\n",
       "      <th></th>\n",
       "      <th></th>\n",
       "      <th></th>\n",
       "    </tr>\n",
       "  </thead>\n",
       "  <tbody>\n",
       "    <tr>\n",
       "      <th>2020-06-10</th>\n",
       "      <td>FEMENINO</td>\n",
       "      <td>9</td>\n",
       "      <td>7.0</td>\n",
       "      <td>AMBULATORIO</td>\n",
       "      <td>NO</td>\n",
       "      <td>35</td>\n",
       "      <td>NO</td>\n",
       "      <td>0.0</td>\n",
       "      <td>MEDICOS</td>\n",
       "      <td>OBSERVACION DE URGENCIAS</td>\n",
       "      <td>...</td>\n",
       "      <td>NO</td>\n",
       "      <td>NO</td>\n",
       "      <td>NO</td>\n",
       "      <td>NO</td>\n",
       "      <td>NO</td>\n",
       "      <td>NO</td>\n",
       "      <td>NO</td>\n",
       "      <td>NO</td>\n",
       "      <td>NO</td>\n",
       "      <td>NEGATIVO</td>\n",
       "    </tr>\n",
       "    <tr>\n",
       "      <th>2020-07-01</th>\n",
       "      <td>FEMENINO</td>\n",
       "      <td>9</td>\n",
       "      <td>15.0</td>\n",
       "      <td>AMBULATORIO</td>\n",
       "      <td>NO</td>\n",
       "      <td>41</td>\n",
       "      <td>NO</td>\n",
       "      <td>0.0</td>\n",
       "      <td>EMPLEADOS</td>\n",
       "      <td>OBSERVACION DE URGENCIAS</td>\n",
       "      <td>...</td>\n",
       "      <td>NO</td>\n",
       "      <td>NO</td>\n",
       "      <td>NO</td>\n",
       "      <td>NO</td>\n",
       "      <td>NO</td>\n",
       "      <td>NO</td>\n",
       "      <td>NO</td>\n",
       "      <td>NO</td>\n",
       "      <td>NO</td>\n",
       "      <td>NEGATIVO</td>\n",
       "    </tr>\n",
       "    <tr>\n",
       "      <th>2020-06-17</th>\n",
       "      <td>FEMENINO</td>\n",
       "      <td>9</td>\n",
       "      <td>5.0</td>\n",
       "      <td>AMBULATORIO</td>\n",
       "      <td>NO</td>\n",
       "      <td>60</td>\n",
       "      <td>NO</td>\n",
       "      <td>0.0</td>\n",
       "      <td>ENFERMERAS</td>\n",
       "      <td>CONSULTA EXTERNA</td>\n",
       "      <td>...</td>\n",
       "      <td>NO</td>\n",
       "      <td>SI</td>\n",
       "      <td>NO</td>\n",
       "      <td>NO</td>\n",
       "      <td>NO</td>\n",
       "      <td>NO</td>\n",
       "      <td>NO</td>\n",
       "      <td>NO</td>\n",
       "      <td>NO</td>\n",
       "      <td>NEGATIVO</td>\n",
       "    </tr>\n",
       "    <tr>\n",
       "      <th>2020-09-14</th>\n",
       "      <td>MASCULINO</td>\n",
       "      <td>9</td>\n",
       "      <td>14.0</td>\n",
       "      <td>AMBULATORIO</td>\n",
       "      <td>NO</td>\n",
       "      <td>52</td>\n",
       "      <td>NO</td>\n",
       "      <td>0.0</td>\n",
       "      <td>EMPLEADOS</td>\n",
       "      <td>CONSULTA EXTERNA</td>\n",
       "      <td>...</td>\n",
       "      <td>NO</td>\n",
       "      <td>NO</td>\n",
       "      <td>NO</td>\n",
       "      <td>NO</td>\n",
       "      <td>NO</td>\n",
       "      <td>NO</td>\n",
       "      <td>NO</td>\n",
       "      <td>NO</td>\n",
       "      <td>NO</td>\n",
       "      <td>SARS-CoV-2</td>\n",
       "    </tr>\n",
       "    <tr>\n",
       "      <th>2020-08-08</th>\n",
       "      <td>FEMENINO</td>\n",
       "      <td>9</td>\n",
       "      <td>5.0</td>\n",
       "      <td>HOSPITALIZADO</td>\n",
       "      <td>NO</td>\n",
       "      <td>88</td>\n",
       "      <td>NO</td>\n",
       "      <td>0.0</td>\n",
       "      <td>HOGAR</td>\n",
       "      <td>URGENCIAS ADULTOS</td>\n",
       "      <td>...</td>\n",
       "      <td>NO</td>\n",
       "      <td>NO</td>\n",
       "      <td>NO</td>\n",
       "      <td>SI</td>\n",
       "      <td>NO</td>\n",
       "      <td>NO</td>\n",
       "      <td>NO</td>\n",
       "      <td>NO</td>\n",
       "      <td>NO</td>\n",
       "      <td>SARS-CoV-2</td>\n",
       "    </tr>\n",
       "    <tr>\n",
       "      <th>...</th>\n",
       "      <td>...</td>\n",
       "      <td>...</td>\n",
       "      <td>...</td>\n",
       "      <td>...</td>\n",
       "      <td>...</td>\n",
       "      <td>...</td>\n",
       "      <td>...</td>\n",
       "      <td>...</td>\n",
       "      <td>...</td>\n",
       "      <td>...</td>\n",
       "      <td>...</td>\n",
       "      <td>...</td>\n",
       "      <td>...</td>\n",
       "      <td>...</td>\n",
       "      <td>...</td>\n",
       "      <td>...</td>\n",
       "      <td>...</td>\n",
       "      <td>...</td>\n",
       "      <td>...</td>\n",
       "      <td>...</td>\n",
       "      <td>...</td>\n",
       "    </tr>\n",
       "    <tr>\n",
       "      <th>2020-04-27</th>\n",
       "      <td>MASCULINO</td>\n",
       "      <td>15</td>\n",
       "      <td>70.0</td>\n",
       "      <td>AMBULATORIO</td>\n",
       "      <td>NO</td>\n",
       "      <td>25</td>\n",
       "      <td>NO</td>\n",
       "      <td>0.0</td>\n",
       "      <td>LABORATORISTAS</td>\n",
       "      <td>OBSERVACION DE URGENCIAS</td>\n",
       "      <td>...</td>\n",
       "      <td>NO</td>\n",
       "      <td>NO</td>\n",
       "      <td>NO</td>\n",
       "      <td>NO</td>\n",
       "      <td>NO</td>\n",
       "      <td>SI</td>\n",
       "      <td>NO</td>\n",
       "      <td>NO</td>\n",
       "      <td>NO</td>\n",
       "      <td>SARS-CoV-2</td>\n",
       "    </tr>\n",
       "    <tr>\n",
       "      <th>2020-03-31</th>\n",
       "      <td>FEMENINO</td>\n",
       "      <td>9</td>\n",
       "      <td>3.0</td>\n",
       "      <td>AMBULATORIO</td>\n",
       "      <td>NO</td>\n",
       "      <td>57</td>\n",
       "      <td>NO</td>\n",
       "      <td>0.0</td>\n",
       "      <td>EMPLEADOS</td>\n",
       "      <td>CONSULTA EXTERNA</td>\n",
       "      <td>...</td>\n",
       "      <td>NO</td>\n",
       "      <td>NO</td>\n",
       "      <td>NO</td>\n",
       "      <td>NO</td>\n",
       "      <td>NO</td>\n",
       "      <td>NO</td>\n",
       "      <td>0</td>\n",
       "      <td>NO</td>\n",
       "      <td>SE IGNORA</td>\n",
       "      <td>NO RECIBIDA</td>\n",
       "    </tr>\n",
       "    <tr>\n",
       "      <th>2020-06-16</th>\n",
       "      <td>MASCULINO</td>\n",
       "      <td>9</td>\n",
       "      <td>15.0</td>\n",
       "      <td>HOSPITALIZADO</td>\n",
       "      <td>NO</td>\n",
       "      <td>57</td>\n",
       "      <td>NO</td>\n",
       "      <td>0.0</td>\n",
       "      <td>OTROS</td>\n",
       "      <td>MEDICINA INTERNA</td>\n",
       "      <td>...</td>\n",
       "      <td>NO</td>\n",
       "      <td>NO</td>\n",
       "      <td>NO</td>\n",
       "      <td>SI</td>\n",
       "      <td>NO</td>\n",
       "      <td>NO</td>\n",
       "      <td>SI</td>\n",
       "      <td>SI</td>\n",
       "      <td>NO</td>\n",
       "      <td>SARS-CoV-2</td>\n",
       "    </tr>\n",
       "    <tr>\n",
       "      <th>2020-05-11</th>\n",
       "      <td>FEMENINO</td>\n",
       "      <td>15</td>\n",
       "      <td>58.0</td>\n",
       "      <td>AMBULATORIO</td>\n",
       "      <td>NO</td>\n",
       "      <td>51</td>\n",
       "      <td>NO</td>\n",
       "      <td>0.0</td>\n",
       "      <td>EMPLEADOS</td>\n",
       "      <td>CONSULTA EXTERNA</td>\n",
       "      <td>...</td>\n",
       "      <td>NO</td>\n",
       "      <td>NO</td>\n",
       "      <td>NO</td>\n",
       "      <td>NO</td>\n",
       "      <td>NO</td>\n",
       "      <td>NO</td>\n",
       "      <td>NO</td>\n",
       "      <td>NO</td>\n",
       "      <td>NO</td>\n",
       "      <td>SARS-CoV-2</td>\n",
       "    </tr>\n",
       "    <tr>\n",
       "      <th>2020-06-11</th>\n",
       "      <td>MASCULINO</td>\n",
       "      <td>9</td>\n",
       "      <td>5.0</td>\n",
       "      <td>HOSPITALIZADO</td>\n",
       "      <td>NO</td>\n",
       "      <td>75</td>\n",
       "      <td>NO</td>\n",
       "      <td>0.0</td>\n",
       "      <td>DESEMPLEADOS</td>\n",
       "      <td>MEDICINA INTERNA</td>\n",
       "      <td>...</td>\n",
       "      <td>NO</td>\n",
       "      <td>NO</td>\n",
       "      <td>NO</td>\n",
       "      <td>NO</td>\n",
       "      <td>NO</td>\n",
       "      <td>NO</td>\n",
       "      <td>NO</td>\n",
       "      <td>NO</td>\n",
       "      <td>NO</td>\n",
       "      <td>SARS-CoV-2</td>\n",
       "    </tr>\n",
       "  </tbody>\n",
       "</table>\n",
       "<p>68329 rows × 46 columns</p>\n",
       "</div>"
      ],
      "text/plain": [
       "                    sexo  cve_entidad_residencia  cve_municipio_residencia  \\\n",
       "fecha_ingreso                                                                \n",
       "2020-06-10      FEMENINO                       9                       7.0   \n",
       "2020-07-01      FEMENINO                       9                      15.0   \n",
       "2020-06-17      FEMENINO                       9                       5.0   \n",
       "2020-09-14     MASCULINO                       9                      14.0   \n",
       "2020-08-08      FEMENINO                       9                       5.0   \n",
       "...                  ...                     ...                       ...   \n",
       "2020-04-27     MASCULINO                      15                      70.0   \n",
       "2020-03-31      FEMENINO                       9                       3.0   \n",
       "2020-06-16     MASCULINO                       9                      15.0   \n",
       "2020-05-11      FEMENINO                      15                      58.0   \n",
       "2020-06-11     MASCULINO                       9                       5.0   \n",
       "\n",
       "               tipo_paciente diagnostico_clinico_neumonia  edad  \\\n",
       "fecha_ingreso                                                     \n",
       "2020-06-10       AMBULATORIO                           NO    35   \n",
       "2020-07-01       AMBULATORIO                           NO    41   \n",
       "2020-06-17       AMBULATORIO                           NO    60   \n",
       "2020-09-14       AMBULATORIO                           NO    52   \n",
       "2020-08-08     HOSPITALIZADO                           NO    88   \n",
       "...                      ...                          ...   ...   \n",
       "2020-04-27       AMBULATORIO                           NO    25   \n",
       "2020-03-31       AMBULATORIO                           NO    57   \n",
       "2020-06-16     HOSPITALIZADO                           NO    57   \n",
       "2020-05-11       AMBULATORIO                           NO    51   \n",
       "2020-06-11     HOSPITALIZADO                           NO    75   \n",
       "\n",
       "              esta_emabarazada  meses_embarazo       ocupacion  \\\n",
       "fecha_ingreso                                                    \n",
       "2020-06-10                  NO             0.0         MEDICOS   \n",
       "2020-07-01                  NO             0.0       EMPLEADOS   \n",
       "2020-06-17                  NO             0.0      ENFERMERAS   \n",
       "2020-09-14                  NO             0.0       EMPLEADOS   \n",
       "2020-08-08                  NO             0.0           HOGAR   \n",
       "...                        ...             ...             ...   \n",
       "2020-04-27                  NO             0.0  LABORATORISTAS   \n",
       "2020-03-31                  NO             0.0       EMPLEADOS   \n",
       "2020-06-16                  NO             0.0           OTROS   \n",
       "2020-05-11                  NO             0.0       EMPLEADOS   \n",
       "2020-06-11                  NO             0.0    DESEMPLEADOS   \n",
       "\n",
       "                       servicio_ingreso  ... VIH_SIDA otra_condicion  \\\n",
       "fecha_ingreso                            ...                           \n",
       "2020-06-10     OBSERVACION DE URGENCIAS  ...       NO             NO   \n",
       "2020-07-01     OBSERVACION DE URGENCIAS  ...       NO             NO   \n",
       "2020-06-17             CONSULTA EXTERNA  ...       NO             SI   \n",
       "2020-09-14             CONSULTA EXTERNA  ...       NO             NO   \n",
       "2020-08-08            URGENCIAS ADULTOS  ...       NO             NO   \n",
       "...                                 ...  ...      ...            ...   \n",
       "2020-04-27     OBSERVACION DE URGENCIAS  ...       NO             NO   \n",
       "2020-03-31             CONSULTA EXTERNA  ...       NO             NO   \n",
       "2020-06-16             MEDICINA INTERNA  ...       NO             NO   \n",
       "2020-05-11             CONSULTA EXTERNA  ...       NO             NO   \n",
       "2020-06-11             MEDICINA INTERNA  ...       NO             NO   \n",
       "\n",
       "              enfermedad_cardiaca obesidad insuficiencia_renal_cronica  \\\n",
       "fecha_ingreso                                                            \n",
       "2020-06-10                     NO       NO                          NO   \n",
       "2020-07-01                     NO       NO                          NO   \n",
       "2020-06-17                     NO       NO                          NO   \n",
       "2020-09-14                     NO       NO                          NO   \n",
       "2020-08-08                     NO       SI                          NO   \n",
       "...                           ...      ...                         ...   \n",
       "2020-04-27                     NO       NO                          NO   \n",
       "2020-03-31                     NO       NO                          NO   \n",
       "2020-06-16                     NO       SI                          NO   \n",
       "2020-05-11                     NO       NO                          NO   \n",
       "2020-06-11                     NO       NO                          NO   \n",
       "\n",
       "              tabaquismo recibio_tratamiento recibio_tratamiento_antiviral  \\\n",
       "fecha_ingreso                                                                \n",
       "2020-06-10            NO                  NO                            NO   \n",
       "2020-07-01            NO                  NO                            NO   \n",
       "2020-06-17            NO                  NO                            NO   \n",
       "2020-09-14            NO                  NO                            NO   \n",
       "2020-08-08            NO                  NO                            NO   \n",
       "...                  ...                 ...                           ...   \n",
       "2020-04-27            SI                  NO                            NO   \n",
       "2020-03-31            NO                   0                            NO   \n",
       "2020-06-16            NO                  SI                            SI   \n",
       "2020-05-11            NO                  NO                            NO   \n",
       "2020-06-11            NO                  NO                            NO   \n",
       "\n",
       "                vacunado resultado_definitivo  \n",
       "fecha_ingreso                                  \n",
       "2020-06-10            NO             NEGATIVO  \n",
       "2020-07-01            NO             NEGATIVO  \n",
       "2020-06-17            NO             NEGATIVO  \n",
       "2020-09-14            NO           SARS-CoV-2  \n",
       "2020-08-08            NO           SARS-CoV-2  \n",
       "...                  ...                  ...  \n",
       "2020-04-27            NO           SARS-CoV-2  \n",
       "2020-03-31     SE IGNORA          NO RECIBIDA  \n",
       "2020-06-16            NO           SARS-CoV-2  \n",
       "2020-05-11            NO           SARS-CoV-2  \n",
       "2020-06-11            NO           SARS-CoV-2  \n",
       "\n",
       "[68329 rows x 46 columns]"
      ]
     },
     "execution_count": 141,
     "metadata": {},
     "output_type": "execute_result"
    }
   ],
   "source": [
    "#asigno índice\n",
    "sinave_imss2['fecha_ingreso']= pd.to_datetime(sinave_imss2['fecha_ingreso'])\n",
    "sinave_imss2.index =sinave_imss2['fecha_ingreso']\n",
    "sinave_imss2"
   ]
  },
  {
   "cell_type": "code",
   "execution_count": 142,
   "metadata": {},
   "outputs": [
    {
     "data": {
      "text/html": [
       "<div>\n",
       "<style scoped>\n",
       "    .dataframe tbody tr th:only-of-type {\n",
       "        vertical-align: middle;\n",
       "    }\n",
       "\n",
       "    .dataframe tbody tr th {\n",
       "        vertical-align: top;\n",
       "    }\n",
       "\n",
       "    .dataframe thead th {\n",
       "        text-align: right;\n",
       "    }\n",
       "</style>\n",
       "<table border=\"1\" class=\"dataframe\">\n",
       "  <thead>\n",
       "    <tr style=\"text-align: right;\">\n",
       "      <th></th>\n",
       "      <th>sexo</th>\n",
       "      <th>cve_entidad_residencia</th>\n",
       "      <th>cve_municipio_residencia</th>\n",
       "      <th>tipo_paciente</th>\n",
       "      <th>diagnostico_clinico_neumonia</th>\n",
       "      <th>edad</th>\n",
       "      <th>esta_emabarazada</th>\n",
       "      <th>meses_embarazo</th>\n",
       "      <th>ocupacion</th>\n",
       "      <th>servicio_ingreso</th>\n",
       "      <th>...</th>\n",
       "      <th>VIH_SIDA</th>\n",
       "      <th>otra_condicion</th>\n",
       "      <th>enfermedad_cardiaca</th>\n",
       "      <th>obesidad</th>\n",
       "      <th>insuficiencia_renal_cronica</th>\n",
       "      <th>tabaquismo</th>\n",
       "      <th>recibio_tratamiento</th>\n",
       "      <th>recibio_tratamiento_antiviral</th>\n",
       "      <th>vacunado</th>\n",
       "      <th>resultado_definitivo</th>\n",
       "    </tr>\n",
       "    <tr>\n",
       "      <th>fecha_ingreso</th>\n",
       "      <th></th>\n",
       "      <th></th>\n",
       "      <th></th>\n",
       "      <th></th>\n",
       "      <th></th>\n",
       "      <th></th>\n",
       "      <th></th>\n",
       "      <th></th>\n",
       "      <th></th>\n",
       "      <th></th>\n",
       "      <th></th>\n",
       "      <th></th>\n",
       "      <th></th>\n",
       "      <th></th>\n",
       "      <th></th>\n",
       "      <th></th>\n",
       "      <th></th>\n",
       "      <th></th>\n",
       "      <th></th>\n",
       "      <th></th>\n",
       "      <th></th>\n",
       "    </tr>\n",
       "  </thead>\n",
       "  <tbody>\n",
       "    <tr>\n",
       "      <th>2020-01-02</th>\n",
       "      <td>MASCULINO</td>\n",
       "      <td>9</td>\n",
       "      <td>2.0</td>\n",
       "      <td>AMBULATORIO</td>\n",
       "      <td>NO</td>\n",
       "      <td>5</td>\n",
       "      <td>NO</td>\n",
       "      <td>0.0</td>\n",
       "      <td>ESTUDIANTES</td>\n",
       "      <td>OBSERVACION DE URGENCIAS</td>\n",
       "      <td>...</td>\n",
       "      <td>NO</td>\n",
       "      <td>NO</td>\n",
       "      <td>NO</td>\n",
       "      <td>NO</td>\n",
       "      <td>NO</td>\n",
       "      <td>NO</td>\n",
       "      <td>NO</td>\n",
       "      <td>SI</td>\n",
       "      <td>NO</td>\n",
       "      <td>NEGATIVO</td>\n",
       "    </tr>\n",
       "    <tr>\n",
       "      <th>2020-01-02</th>\n",
       "      <td>MASCULINO</td>\n",
       "      <td>9</td>\n",
       "      <td>5.0</td>\n",
       "      <td>AMBULATORIO</td>\n",
       "      <td>NO</td>\n",
       "      <td>8</td>\n",
       "      <td>NO</td>\n",
       "      <td>0.0</td>\n",
       "      <td>ESTUDIANTES</td>\n",
       "      <td>OBSERVACION DE URGENCIAS</td>\n",
       "      <td>...</td>\n",
       "      <td>NO</td>\n",
       "      <td>NO</td>\n",
       "      <td>NO</td>\n",
       "      <td>NO</td>\n",
       "      <td>NO</td>\n",
       "      <td>NO</td>\n",
       "      <td>NO</td>\n",
       "      <td>SI</td>\n",
       "      <td>NO</td>\n",
       "      <td>NEGATIVO</td>\n",
       "    </tr>\n",
       "    <tr>\n",
       "      <th>2020-01-02</th>\n",
       "      <td>FEMENINO</td>\n",
       "      <td>9</td>\n",
       "      <td>8.0</td>\n",
       "      <td>AMBULATORIO</td>\n",
       "      <td>NO</td>\n",
       "      <td>3</td>\n",
       "      <td>NO</td>\n",
       "      <td>0.0</td>\n",
       "      <td>ESTUDIANTES</td>\n",
       "      <td>OBSERVACION DE URGENCIAS</td>\n",
       "      <td>...</td>\n",
       "      <td>NO</td>\n",
       "      <td>NO</td>\n",
       "      <td>SI</td>\n",
       "      <td>NO</td>\n",
       "      <td>NO</td>\n",
       "      <td>NO</td>\n",
       "      <td>SI</td>\n",
       "      <td>SI</td>\n",
       "      <td>NO</td>\n",
       "      <td>A H3</td>\n",
       "    </tr>\n",
       "    <tr>\n",
       "      <th>2020-01-02</th>\n",
       "      <td>MASCULINO</td>\n",
       "      <td>9</td>\n",
       "      <td>5.0</td>\n",
       "      <td>AMBULATORIO</td>\n",
       "      <td>NO</td>\n",
       "      <td>3</td>\n",
       "      <td>NO</td>\n",
       "      <td>0.0</td>\n",
       "      <td>DESEMPLEADOS</td>\n",
       "      <td>OBSERVACION DE URGENCIAS</td>\n",
       "      <td>...</td>\n",
       "      <td>NO</td>\n",
       "      <td>NO</td>\n",
       "      <td>NO</td>\n",
       "      <td>NO</td>\n",
       "      <td>NO</td>\n",
       "      <td>NO</td>\n",
       "      <td>NO</td>\n",
       "      <td>SI</td>\n",
       "      <td>NO</td>\n",
       "      <td>NEGATIVO</td>\n",
       "    </tr>\n",
       "    <tr>\n",
       "      <th>2020-01-02</th>\n",
       "      <td>FEMENINO</td>\n",
       "      <td>9</td>\n",
       "      <td>5.0</td>\n",
       "      <td>HOSPITALIZADO</td>\n",
       "      <td>SI</td>\n",
       "      <td>29</td>\n",
       "      <td>NO</td>\n",
       "      <td>0.0</td>\n",
       "      <td>MEDICOS</td>\n",
       "      <td>URGENCIAS ADULTOS</td>\n",
       "      <td>...</td>\n",
       "      <td>NO</td>\n",
       "      <td>NO</td>\n",
       "      <td>NO</td>\n",
       "      <td>NO</td>\n",
       "      <td>NO</td>\n",
       "      <td>SI</td>\n",
       "      <td>SI</td>\n",
       "      <td>SI</td>\n",
       "      <td>NO</td>\n",
       "      <td>INF AH1N1 PMD</td>\n",
       "    </tr>\n",
       "    <tr>\n",
       "      <th>...</th>\n",
       "      <td>...</td>\n",
       "      <td>...</td>\n",
       "      <td>...</td>\n",
       "      <td>...</td>\n",
       "      <td>...</td>\n",
       "      <td>...</td>\n",
       "      <td>...</td>\n",
       "      <td>...</td>\n",
       "      <td>...</td>\n",
       "      <td>...</td>\n",
       "      <td>...</td>\n",
       "      <td>...</td>\n",
       "      <td>...</td>\n",
       "      <td>...</td>\n",
       "      <td>...</td>\n",
       "      <td>...</td>\n",
       "      <td>...</td>\n",
       "      <td>...</td>\n",
       "      <td>...</td>\n",
       "      <td>...</td>\n",
       "      <td>...</td>\n",
       "    </tr>\n",
       "    <tr>\n",
       "      <th>2020-09-26</th>\n",
       "      <td>MASCULINO</td>\n",
       "      <td>9</td>\n",
       "      <td>14.0</td>\n",
       "      <td>HOSPITALIZADO</td>\n",
       "      <td>SI</td>\n",
       "      <td>68</td>\n",
       "      <td>NO</td>\n",
       "      <td>0.0</td>\n",
       "      <td>DESEMPLEADOS</td>\n",
       "      <td>URGENCIAS ADULTOS</td>\n",
       "      <td>...</td>\n",
       "      <td>NO</td>\n",
       "      <td>NO</td>\n",
       "      <td>NO</td>\n",
       "      <td>NO</td>\n",
       "      <td>NO</td>\n",
       "      <td>NO</td>\n",
       "      <td>NO</td>\n",
       "      <td>NO</td>\n",
       "      <td>NO</td>\n",
       "      <td>0</td>\n",
       "    </tr>\n",
       "    <tr>\n",
       "      <th>2020-09-26</th>\n",
       "      <td>MASCULINO</td>\n",
       "      <td>9</td>\n",
       "      <td>12.0</td>\n",
       "      <td>HOSPITALIZADO</td>\n",
       "      <td>SI</td>\n",
       "      <td>35</td>\n",
       "      <td>NO</td>\n",
       "      <td>0.0</td>\n",
       "      <td>OTROS</td>\n",
       "      <td>URGENCIAS ADULTOS</td>\n",
       "      <td>...</td>\n",
       "      <td>NO</td>\n",
       "      <td>NO</td>\n",
       "      <td>NO</td>\n",
       "      <td>NO</td>\n",
       "      <td>NO</td>\n",
       "      <td>SI</td>\n",
       "      <td>NO</td>\n",
       "      <td>NO</td>\n",
       "      <td>NO</td>\n",
       "      <td>0</td>\n",
       "    </tr>\n",
       "    <tr>\n",
       "      <th>2020-09-26</th>\n",
       "      <td>FEMENINO</td>\n",
       "      <td>9</td>\n",
       "      <td>15.0</td>\n",
       "      <td>AMBULATORIO</td>\n",
       "      <td>NO</td>\n",
       "      <td>46</td>\n",
       "      <td>NO</td>\n",
       "      <td>0.0</td>\n",
       "      <td>ENFERMERAS</td>\n",
       "      <td>OBSERVACION DE URGENCIAS</td>\n",
       "      <td>...</td>\n",
       "      <td>NO</td>\n",
       "      <td>NO</td>\n",
       "      <td>NO</td>\n",
       "      <td>NO</td>\n",
       "      <td>NO</td>\n",
       "      <td>NO</td>\n",
       "      <td>NO</td>\n",
       "      <td>NO</td>\n",
       "      <td>NO</td>\n",
       "      <td>0</td>\n",
       "    </tr>\n",
       "    <tr>\n",
       "      <th>2020-09-26</th>\n",
       "      <td>MASCULINO</td>\n",
       "      <td>9</td>\n",
       "      <td>13.0</td>\n",
       "      <td>HOSPITALIZADO</td>\n",
       "      <td>SI</td>\n",
       "      <td>51</td>\n",
       "      <td>NO</td>\n",
       "      <td>0.0</td>\n",
       "      <td>OTROS</td>\n",
       "      <td>URGENCIAS ADULTOS</td>\n",
       "      <td>...</td>\n",
       "      <td>NO</td>\n",
       "      <td>NO</td>\n",
       "      <td>NO</td>\n",
       "      <td>SI</td>\n",
       "      <td>NO</td>\n",
       "      <td>SI</td>\n",
       "      <td>NO</td>\n",
       "      <td>SI</td>\n",
       "      <td>NO</td>\n",
       "      <td>0</td>\n",
       "    </tr>\n",
       "    <tr>\n",
       "      <th>2020-09-26</th>\n",
       "      <td>MASCULINO</td>\n",
       "      <td>9</td>\n",
       "      <td>7.0</td>\n",
       "      <td>HOSPITALIZADO</td>\n",
       "      <td>SI</td>\n",
       "      <td>50</td>\n",
       "      <td>NO</td>\n",
       "      <td>0.0</td>\n",
       "      <td>CHOFERES</td>\n",
       "      <td>URGENCIAS ADULTOS</td>\n",
       "      <td>...</td>\n",
       "      <td>NO</td>\n",
       "      <td>NO</td>\n",
       "      <td>NO</td>\n",
       "      <td>SI</td>\n",
       "      <td>NO</td>\n",
       "      <td>NO</td>\n",
       "      <td>NO</td>\n",
       "      <td>NO</td>\n",
       "      <td>NO</td>\n",
       "      <td>0</td>\n",
       "    </tr>\n",
       "  </tbody>\n",
       "</table>\n",
       "<p>68329 rows × 46 columns</p>\n",
       "</div>"
      ],
      "text/plain": [
       "                    sexo  cve_entidad_residencia  cve_municipio_residencia  \\\n",
       "fecha_ingreso                                                                \n",
       "2020-01-02     MASCULINO                       9                       2.0   \n",
       "2020-01-02     MASCULINO                       9                       5.0   \n",
       "2020-01-02      FEMENINO                       9                       8.0   \n",
       "2020-01-02     MASCULINO                       9                       5.0   \n",
       "2020-01-02      FEMENINO                       9                       5.0   \n",
       "...                  ...                     ...                       ...   \n",
       "2020-09-26     MASCULINO                       9                      14.0   \n",
       "2020-09-26     MASCULINO                       9                      12.0   \n",
       "2020-09-26      FEMENINO                       9                      15.0   \n",
       "2020-09-26     MASCULINO                       9                      13.0   \n",
       "2020-09-26     MASCULINO                       9                       7.0   \n",
       "\n",
       "               tipo_paciente diagnostico_clinico_neumonia  edad  \\\n",
       "fecha_ingreso                                                     \n",
       "2020-01-02       AMBULATORIO                           NO     5   \n",
       "2020-01-02       AMBULATORIO                           NO     8   \n",
       "2020-01-02       AMBULATORIO                           NO     3   \n",
       "2020-01-02       AMBULATORIO                           NO     3   \n",
       "2020-01-02     HOSPITALIZADO                           SI    29   \n",
       "...                      ...                          ...   ...   \n",
       "2020-09-26     HOSPITALIZADO                           SI    68   \n",
       "2020-09-26     HOSPITALIZADO                           SI    35   \n",
       "2020-09-26       AMBULATORIO                           NO    46   \n",
       "2020-09-26     HOSPITALIZADO                           SI    51   \n",
       "2020-09-26     HOSPITALIZADO                           SI    50   \n",
       "\n",
       "              esta_emabarazada  meses_embarazo     ocupacion  \\\n",
       "fecha_ingreso                                                  \n",
       "2020-01-02                  NO             0.0   ESTUDIANTES   \n",
       "2020-01-02                  NO             0.0   ESTUDIANTES   \n",
       "2020-01-02                  NO             0.0   ESTUDIANTES   \n",
       "2020-01-02                  NO             0.0  DESEMPLEADOS   \n",
       "2020-01-02                  NO             0.0       MEDICOS   \n",
       "...                        ...             ...           ...   \n",
       "2020-09-26                  NO             0.0  DESEMPLEADOS   \n",
       "2020-09-26                  NO             0.0         OTROS   \n",
       "2020-09-26                  NO             0.0    ENFERMERAS   \n",
       "2020-09-26                  NO             0.0         OTROS   \n",
       "2020-09-26                  NO             0.0      CHOFERES   \n",
       "\n",
       "                       servicio_ingreso  ... VIH_SIDA otra_condicion  \\\n",
       "fecha_ingreso                            ...                           \n",
       "2020-01-02     OBSERVACION DE URGENCIAS  ...       NO             NO   \n",
       "2020-01-02     OBSERVACION DE URGENCIAS  ...       NO             NO   \n",
       "2020-01-02     OBSERVACION DE URGENCIAS  ...       NO             NO   \n",
       "2020-01-02     OBSERVACION DE URGENCIAS  ...       NO             NO   \n",
       "2020-01-02            URGENCIAS ADULTOS  ...       NO             NO   \n",
       "...                                 ...  ...      ...            ...   \n",
       "2020-09-26            URGENCIAS ADULTOS  ...       NO             NO   \n",
       "2020-09-26            URGENCIAS ADULTOS  ...       NO             NO   \n",
       "2020-09-26     OBSERVACION DE URGENCIAS  ...       NO             NO   \n",
       "2020-09-26            URGENCIAS ADULTOS  ...       NO             NO   \n",
       "2020-09-26            URGENCIAS ADULTOS  ...       NO             NO   \n",
       "\n",
       "              enfermedad_cardiaca obesidad insuficiencia_renal_cronica  \\\n",
       "fecha_ingreso                                                            \n",
       "2020-01-02                     NO       NO                          NO   \n",
       "2020-01-02                     NO       NO                          NO   \n",
       "2020-01-02                     SI       NO                          NO   \n",
       "2020-01-02                     NO       NO                          NO   \n",
       "2020-01-02                     NO       NO                          NO   \n",
       "...                           ...      ...                         ...   \n",
       "2020-09-26                     NO       NO                          NO   \n",
       "2020-09-26                     NO       NO                          NO   \n",
       "2020-09-26                     NO       NO                          NO   \n",
       "2020-09-26                     NO       SI                          NO   \n",
       "2020-09-26                     NO       SI                          NO   \n",
       "\n",
       "              tabaquismo recibio_tratamiento recibio_tratamiento_antiviral  \\\n",
       "fecha_ingreso                                                                \n",
       "2020-01-02            NO                  NO                            SI   \n",
       "2020-01-02            NO                  NO                            SI   \n",
       "2020-01-02            NO                  SI                            SI   \n",
       "2020-01-02            NO                  NO                            SI   \n",
       "2020-01-02            SI                  SI                            SI   \n",
       "...                  ...                 ...                           ...   \n",
       "2020-09-26            NO                  NO                            NO   \n",
       "2020-09-26            SI                  NO                            NO   \n",
       "2020-09-26            NO                  NO                            NO   \n",
       "2020-09-26            SI                  NO                            SI   \n",
       "2020-09-26            NO                  NO                            NO   \n",
       "\n",
       "              vacunado resultado_definitivo  \n",
       "fecha_ingreso                                \n",
       "2020-01-02          NO             NEGATIVO  \n",
       "2020-01-02          NO             NEGATIVO  \n",
       "2020-01-02          NO                 A H3  \n",
       "2020-01-02          NO             NEGATIVO  \n",
       "2020-01-02          NO        INF AH1N1 PMD  \n",
       "...                ...                  ...  \n",
       "2020-09-26          NO                    0  \n",
       "2020-09-26          NO                    0  \n",
       "2020-09-26          NO                    0  \n",
       "2020-09-26          NO                    0  \n",
       "2020-09-26          NO                    0  \n",
       "\n",
       "[68329 rows x 46 columns]"
      ]
     },
     "execution_count": 142,
     "metadata": {},
     "output_type": "execute_result"
    }
   ],
   "source": [
    "sinave_imss3=sinave_imss2.sort_index()\n",
    "sinave_imss3"
   ]
  },
  {
   "cell_type": "code",
   "execution_count": 143,
   "metadata": {},
   "outputs": [],
   "source": [
    "#lleno con cero y uno\n",
    "comorbolidades = ['diagnostico_clinico_neumonia','esta_emabarazada',\n",
    "    'fiebre', 'tos', 'odinofagia',\n",
    "       'disnea', 'irritabilidad', 'diarrea', 'dolor_toracico', 'calofrios',\n",
    "       'cefalea', 'mialgias', 'artralgias', 'ataque_al_estado_general',\n",
    "       'rinorrea', 'polipnea', 'vomito', 'dolor_abdominal', 'conjuntivitis',\n",
    "       'cianosis', 'inicio_subito_sintomas', 'diabetes', 'epoc', 'asma',\n",
    "       'inmunosupresivo', 'hipertension', 'VIH_SIDA', 'otra_condicion',\n",
    "       'enfermedad_cardiaca', 'obesidad', 'insuficiencia_renal_cronica',\n",
    "       'tabaquismo', 'recibio_tratamiento', 'recibio_tratamiento_antiviral',\n",
    "       'vacunado']"
   ]
  },
  {
   "cell_type": "code",
   "execution_count": 144,
   "metadata": {},
   "outputs": [],
   "source": [
    "for i in comorbolidades:\n",
    "    sinave_imss3[i]=np.where(sinave_imss3[i]=='SI',1,0)"
   ]
  },
  {
   "cell_type": "code",
   "execution_count": 145,
   "metadata": {},
   "outputs": [
    {
     "data": {
      "text/plain": [
       "sexo                                     object\n",
       "cve_entidad_residencia                    int64\n",
       "cve_municipio_residencia                float64\n",
       "tipo_paciente                            object\n",
       "diagnostico_clinico_neumonia              int64\n",
       "edad                                      int64\n",
       "esta_emabarazada                          int64\n",
       "meses_embarazo                          float64\n",
       "ocupacion                                object\n",
       "servicio_ingreso                         object\n",
       "fecha_ingreso                    datetime64[ns]\n",
       "diagnostico_probable                     object\n",
       "fiebre                                    int64\n",
       "tos                                       int64\n",
       "odinofagia                                int64\n",
       "disnea                                    int64\n",
       "irritabilidad                             int64\n",
       "diarrea                                   int64\n",
       "dolor_toracico                            int64\n",
       "calofrios                                 int64\n",
       "cefalea                                   int64\n",
       "mialgias                                  int64\n",
       "artralgias                                int64\n",
       "ataque_al_estado_general                  int64\n",
       "rinorrea                                  int64\n",
       "polipnea                                  int64\n",
       "vomito                                    int64\n",
       "dolor_abdominal                           int64\n",
       "conjuntivitis                             int64\n",
       "cianosis                                  int64\n",
       "inicio_subito_sintomas                    int64\n",
       "diabetes                                  int64\n",
       "epoc                                      int64\n",
       "asma                                      int64\n",
       "inmunosupresivo                           int64\n",
       "hipertension                              int64\n",
       "VIH_SIDA                                  int64\n",
       "otra_condicion                            int64\n",
       "enfermedad_cardiaca                       int64\n",
       "obesidad                                  int64\n",
       "insuficiencia_renal_cronica               int64\n",
       "tabaquismo                                int64\n",
       "recibio_tratamiento                       int64\n",
       "recibio_tratamiento_antiviral             int64\n",
       "vacunado                                  int64\n",
       "resultado_definitivo                     object\n",
       "dtype: object"
      ]
     },
     "execution_count": 145,
     "metadata": {},
     "output_type": "execute_result"
    }
   ],
   "source": [
    "sinave_imss3.dtypes"
   ]
  },
  {
   "cell_type": "code",
   "execution_count": 146,
   "metadata": {},
   "outputs": [],
   "source": [
    "sinave_imss3['Masculino']=np.where(sinave_imss3['sexo']=='Masculino',1,0)\n",
    "sinave_imss3['Femenino'] = np.where(sinave_imss3['sexo']=='Femenino',1,0)\n",
    "sinave_imss3['Ambulatorio']= np.where(sinave_imss3['tipo_paciente']=='AMBULATORIO',1,0)\n",
    "sinave_imss3['HOSPITALIZADO']=np.where(sinave_imss3['tipo_paciente']=='HOSPITALIZADO',1,0)\n",
    "sinave_imss3['tiene_covid19']=np.where(sinave_imss3['resultado_definitivo']=='SARS-CoV-2',1,0)\n",
    "\n",
    "\n"
   ]
  },
  {
   "cell_type": "code",
   "execution_count": 147,
   "metadata": {},
   "outputs": [],
   "source": [
    "sinave_imss3['negativo_covid19']=np.where(sinave_imss3['resultado_definitivo']!='SARS-CoV-2',1,0)\n"
   ]
  },
  {
   "cell_type": "code",
   "execution_count": 148,
   "metadata": {},
   "outputs": [],
   "source": [
    "#funcion para saber si es urgencia\n",
    "def urgencias(x):\n",
    "    import re\n",
    "    return bool(re.search('URGENCIA',x))\n",
    "    "
   ]
  },
  {
   "cell_type": "code",
   "execution_count": 149,
   "metadata": {},
   "outputs": [],
   "source": [
    "import re\n",
    "sinave_imss3['urgencia']=np.where(sinave_imss3['servicio_ingreso'].apply(urgencias),1,0)"
   ]
  },
  {
   "cell_type": "code",
   "execution_count": 150,
   "metadata": {},
   "outputs": [
    {
     "data": {
      "text/plain": [
       "EMPLEADOS                                         15170\n",
       "OTROS                                             10989\n",
       "HOGAR                                              7471\n",
       "ENFERMERAS                                         6881\n",
       "OTROS TRABAJADORES DE LA SALUD                     5885\n",
       "MEDICOS                                            5395\n",
       "DESEMPLEADOS                                       5129\n",
       "JUBILADO / PENSIONADO                              4199\n",
       "ESTUDIANTES                                        1718\n",
       "CHOFERES                                           1179\n",
       "OTROS PROFESIONISTAS                               1159\n",
       "COMERCIANTES DE MERCADOS FIJOS O AMBULANTES         991\n",
       "OBREROS                                             832\n",
       "LABORATORISTAS                                      548\n",
       "GERENTES O PROPIETARIOS DE EMPRESAS O NEGOCIOS      458\n",
       "MAESTROS                                            185\n",
       "DENTISTAS                                            97\n",
       "CAMPESINOS                                           43\n",
       "Name: ocupacion, dtype: int64"
      ]
     },
     "execution_count": 150,
     "metadata": {},
     "output_type": "execute_result"
    }
   ],
   "source": [
    "sinave_imss3['ocupacion'].value_counts() #insights antes de la prediccion hay muchos otros"
   ]
  },
  {
   "cell_type": "code",
   "execution_count": 151,
   "metadata": {},
   "outputs": [],
   "source": [
    "#borrar fecha que no es indice, sexo, tipo de paciente, diagnostico probable y resultado definitivo\n",
    "sinave_imss4=sinave_imss3.copy()\n",
    "\n",
    "sinave_imss4.drop(['sexo','tipo_paciente', 'resultado_definitivo', 'diagnostico_probable', 'fecha_ingreso',\n",
    "                   'servicio_ingreso', 'ocupacion'],\n",
    "                 axis =1, inplace=True)\n",
    "\n"
   ]
  },
  {
   "cell_type": "code",
   "execution_count": 152,
   "metadata": {},
   "outputs": [],
   "source": [
    "#agrupo por fecha\n",
    "sinave_imss5= sinave_imss4.groupby(sinave_imss4.index).agg('sum')"
   ]
  },
  {
   "cell_type": "code",
   "execution_count": 153,
   "metadata": {},
   "outputs": [],
   "source": [
    "#borro columnas categoricas\n",
    "sinave_imss5.drop(['cve_entidad_residencia', 'cve_municipio_residencia','edad','meses_embarazo'],axis =1, inplace=True)"
   ]
  },
  {
   "cell_type": "code",
   "execution_count": 154,
   "metadata": {},
   "outputs": [
    {
     "data": {
      "text/plain": [
       "<AxesSubplot:>"
      ]
     },
     "execution_count": 154,
     "metadata": {},
     "output_type": "execute_result"
    },
    {
     "data": {
      "image/png": "[encoded data removed]",
      "text/plain": [
       "<Figure size 432x288 with 2 Axes>"
      ]
     },
     "metadata": {
      "needs_background": "light"
     },
     "output_type": "display_data"
    }
   ],
   "source": [
    "sns.heatmap(sinave_imss5.corr()) #no hay correlación aparente"
   ]
  },
  {
   "cell_type": "code",
   "execution_count": 155,
   "metadata": {},
   "outputs": [],
   "source": [
    "#series de tiempo importo\n",
    "import statsmodels.api as sm\n",
    "import matplotlib.pyplot as plt"
   ]
  },
  {
   "cell_type": "code",
   "execution_count": 156,
   "metadata": {},
   "outputs": [
    {
     "data": {
      "image/png": "[encoded data removed]",
      "text/plain": [
       "<Figure size 432x288 with 4 Axes>"
      ]
     },
     "metadata": {
      "needs_background": "light"
     },
     "output_type": "display_data"
    }
   ],
   "source": [
    "res = sm.tsa.seasonal_decompose(sinave_imss5['tiene_covid19'], freq=1)\n",
    "resplot = res.plot()"
   ]
  },
  {
   "cell_type": "code",
   "execution_count": 157,
   "metadata": {},
   "outputs": [],
   "source": [
    "#hago prueba de adfuller\n",
    "from statsmodels.tsa.stattools import adfuller"
   ]
  },
  {
   "cell_type": "code",
   "execution_count": 158,
   "metadata": {},
   "outputs": [
    {
     "data": {
      "text/plain": [
       "(-1.5304219079347425,\n",
       " 0.5184119941304541,\n",
       " 14,\n",
       " 164,\n",
       " {'1%': -3.47086589632514, '5%': -2.879330279087651, '10%': -2.57625492712671},\n",
       " 1683.161424454352)"
      ]
     },
     "execution_count": 158,
     "metadata": {},
     "output_type": "execute_result"
    }
   ],
   "source": [
    "adfuller(sinave_imss5['tiene_covid19']['2020-04-01':]) #no es estacionario :|"
   ]
  },
  {
   "cell_type": "code",
   "execution_count": 159,
   "metadata": {},
   "outputs": [],
   "source": [
    "#agrego mes\n",
    "import datetime\n",
    "sinave_imss5['mes']=sinave_imss5.index.month\n"
   ]
  },
  {
   "cell_type": "code",
   "execution_count": 160,
   "metadata": {},
   "outputs": [],
   "source": [
    "#exporto csv\n",
    "\n",
    "#sinave_imss5.to_csv('/Users/rube/Documents/ironhack/proyecto final/data_limpia/sinave_imss_sept.csv')"
   ]
  },
  {
   "cell_type": "code",
   "execution_count": 161,
   "metadata": {},
   "outputs": [
    {
     "data": {
      "text/html": [
       "<div>\n",
       "<style scoped>\n",
       "    .dataframe tbody tr th:only-of-type {\n",
       "        vertical-align: middle;\n",
       "    }\n",
       "\n",
       "    .dataframe tbody tr th {\n",
       "        vertical-align: top;\n",
       "    }\n",
       "\n",
       "    .dataframe thead th {\n",
       "        text-align: right;\n",
       "    }\n",
       "</style>\n",
       "<table border=\"1\" class=\"dataframe\">\n",
       "  <thead>\n",
       "    <tr style=\"text-align: right;\">\n",
       "      <th></th>\n",
       "      <th>tiene_covid19</th>\n",
       "      <th>negativo_covid19</th>\n",
       "      <th>HOSPITALIZADO</th>\n",
       "      <th>Ambulatorio</th>\n",
       "    </tr>\n",
       "    <tr>\n",
       "      <th>mes</th>\n",
       "      <th></th>\n",
       "      <th></th>\n",
       "      <th></th>\n",
       "      <th></th>\n",
       "    </tr>\n",
       "  </thead>\n",
       "  <tbody>\n",
       "    <tr>\n",
       "      <th>1</th>\n",
       "      <td>0</td>\n",
       "      <td>278</td>\n",
       "      <td>118</td>\n",
       "      <td>160</td>\n",
       "    </tr>\n",
       "    <tr>\n",
       "      <th>2</th>\n",
       "      <td>0</td>\n",
       "      <td>171</td>\n",
       "      <td>68</td>\n",
       "      <td>103</td>\n",
       "    </tr>\n",
       "    <tr>\n",
       "      <th>3</th>\n",
       "      <td>218</td>\n",
       "      <td>1208</td>\n",
       "      <td>391</td>\n",
       "      <td>1035</td>\n",
       "    </tr>\n",
       "    <tr>\n",
       "      <th>4</th>\n",
       "      <td>2772</td>\n",
       "      <td>3385</td>\n",
       "      <td>2805</td>\n",
       "      <td>3352</td>\n",
       "    </tr>\n",
       "    <tr>\n",
       "      <th>5</th>\n",
       "      <td>8128</td>\n",
       "      <td>5754</td>\n",
       "      <td>6309</td>\n",
       "      <td>7573</td>\n",
       "    </tr>\n",
       "    <tr>\n",
       "      <th>6</th>\n",
       "      <td>7803</td>\n",
       "      <td>6549</td>\n",
       "      <td>4946</td>\n",
       "      <td>9406</td>\n",
       "    </tr>\n",
       "    <tr>\n",
       "      <th>7</th>\n",
       "      <td>5651</td>\n",
       "      <td>6242</td>\n",
       "      <td>3586</td>\n",
       "      <td>8307</td>\n",
       "    </tr>\n",
       "    <tr>\n",
       "      <th>8</th>\n",
       "      <td>5202</td>\n",
       "      <td>5380</td>\n",
       "      <td>3118</td>\n",
       "      <td>7464</td>\n",
       "    </tr>\n",
       "    <tr>\n",
       "      <th>9</th>\n",
       "      <td>4058</td>\n",
       "      <td>5530</td>\n",
       "      <td>2588</td>\n",
       "      <td>7000</td>\n",
       "    </tr>\n",
       "  </tbody>\n",
       "</table>\n",
       "</div>"
      ],
      "text/plain": [
       "     tiene_covid19  negativo_covid19  HOSPITALIZADO  Ambulatorio\n",
       "mes                                                             \n",
       "1                0               278            118          160\n",
       "2                0               171             68          103\n",
       "3              218              1208            391         1035\n",
       "4             2772              3385           2805         3352\n",
       "5             8128              5754           6309         7573\n",
       "6             7803              6549           4946         9406\n",
       "7             5651              6242           3586         8307\n",
       "8             5202              5380           3118         7464\n",
       "9             4058              5530           2588         7000"
      ]
     },
     "execution_count": 161,
     "metadata": {},
     "output_type": "execute_result"
    }
   ],
   "source": [
    "sinave_mes=sinave_imss5.groupby('mes').agg({'tiene_covid19':'sum','negativo_covid19':'sum',\n",
    "                                 'HOSPITALIZADO':'sum','Ambulatorio':'sum'})\n",
    "sinave_mes"
   ]
  },
  {
   "cell_type": "code",
   "execution_count": 131,
   "metadata": {},
   "outputs": [
    {
     "data": {
      "application/vnd.plotly.v1+json": {
       "config": {
        "plotlyServerURL": "https://plot.ly"
       },
       "data": [
        {
         "name": "positivo",
         "type": "scatter",
         "x": [
          1,
          2,
          3,
          4,
          5,
          6,
          7,
          8,
          9
         ],
         "xaxis": "x",
         "y": [
          0,
          0,
          218,
          2772,
          8128,
          7803,
          5651,
          5202,
          4058
         ],
         "yaxis": "y"
        },
        {
         "name": "negativo",
         "type": "scatter",
         "x": [
          1,
          2,
          3,
          4,
          5,
          6,
          7,
          8,
          9
         ],
         "xaxis": "x",
         "y": [
          278,
          171,
          1208,
          3385,
          5754,
          6549,
          6242,
          5380,
          5530
         ],
         "yaxis": "y"
        },
        {
         "name": "hospitalizado",
         "type": "scatter",
         "x": [
          1,
          2,
          3,
          4,
          5,
          6,
          7,
          8,
          9
         ],
         "xaxis": "x2",
         "y": [
          118,
          68,
          391,
          2805,
          6309,
          4946,
          3586,
          3118,
          2588
         ],
         "yaxis": "y2"
        },
        {
         "name": "ambulatorio",
         "type": "scatter",
         "x": [
          1,
          2,
          3,
          4,
          5,
          6,
          7,
          8,
          9
         ],
         "xaxis": "x2",
         "y": [
          160,
          103,
          1035,
          3352,
          7573,
          9406,
          8307,
          7464,
          7000
         ],
         "yaxis": "y2"
        }
       ],
       "layout": {
        "annotations": [
         {
          "font": {
           "size": 16
          },
          "showarrow": false,
          "text": "positivos vs negativos",
          "x": 0.225,
          "xanchor": "center",
          "xref": "paper",
          "y": 1,
          "yanchor": "bottom",
          "yref": "paper"
         },
         {
          "font": {
           "size": 16
          },
          "showarrow": false,
          "text": "hospitalización",
          "x": 0.775,
          "xanchor": "center",
          "xref": "paper",
          "y": 1,
          "yanchor": "bottom",
          "yref": "paper"
         }
        ],
        "height": 600,
        "template": {
         "data": {
          "bar": [
           {
            "error_x": {
             "color": "#2a3f5f"
            },
            "error_y": {
             "color": "#2a3f5f"
            },
            "marker": {
             "line": {
              "color": "#E5ECF6",
              "width": 0.5
             }
            },
            "type": "bar"
           }
          ],
          "barpolar": [
           {
            "marker": {
             "line": {
              "color": "#E5ECF6",
              "width": 0.5
             }
            },
            "type": "barpolar"
           }
          ],
          "carpet": [
           {
            "aaxis": {
             "endlinecolor": "#2a3f5f",
             "gridcolor": "white",
             "linecolor": "white",
             "minorgridcolor": "white",
             "startlinecolor": "#2a3f5f"
            },
            "baxis": {
             "endlinecolor": "#2a3f5f",
             "gridcolor": "white",
             "linecolor": "white",
             "minorgridcolor": "white",
             "startlinecolor": "#2a3f5f"
            },
            "type": "carpet"
           }
          ],
          "choropleth": [
           {
            "colorbar": {
             "outlinewidth": 0,
             "ticks": ""
            },
            "type": "choropleth"
           }
          ],
          "contour": [
           {
            "colorbar": {
             "outlinewidth": 0,
             "ticks": ""
            },
            "colorscale": [
             [
              0,
              "#0d0887"
             ],
             [
              0.1111111111111111,
              "#46039f"
             ],
             [
              0.2222222222222222,
              "#7201a8"
             ],
             [
              0.3333333333333333,
              "#9c179e"
             ],
             [
              0.4444444444444444,
              "#bd3786"
             ],
             [
              0.5555555555555556,
              "#d8576b"
             ],
             [
              0.6666666666666666,
              "#ed7953"
             ],
             [
              0.7777777777777778,
              "#fb9f3a"
             ],
             [
              0.8888888888888888,
              "#fdca26"
             ],
             [
              1,
              "#f0f921"
             ]
            ],
            "type": "contour"
           }
          ],
          "contourcarpet": [
           {
            "colorbar": {
             "outlinewidth": 0,
             "ticks": ""
            },
            "type": "contourcarpet"
           }
          ],
          "heatmap": [
           {
            "colorbar": {
             "outlinewidth": 0,
             "ticks": ""
            },
            "colorscale": [
             [
              0,
              "#0d0887"
             ],
             [
              0.1111111111111111,
              "#46039f"
             ],
             [
              0.2222222222222222,
              "#7201a8"
             ],
             [
              0.3333333333333333,
              "#9c179e"
             ],
             [
              0.4444444444444444,
              "#bd3786"
             ],
             [
              0.5555555555555556,
              "#d8576b"
             ],
             [
              0.6666666666666666,
              "#ed7953"
             ],
             [
              0.7777777777777778,
              "#fb9f3a"
             ],
             [
              0.8888888888888888,
              "#fdca26"
             ],
             [
              1,
              "#f0f921"
             ]
            ],
            "type": "heatmap"
           }
          ],
          "heatmapgl": [
           {
            "colorbar": {
             "outlinewidth": 0,
             "ticks": ""
            },
            "colorscale": [
             [
              0,
              "#0d0887"
             ],
             [
              0.1111111111111111,
              "#46039f"
             ],
             [
              0.2222222222222222,
              "#7201a8"
             ],
             [
              0.3333333333333333,
              "#9c179e"
             ],
             [
              0.4444444444444444,
              "#bd3786"
             ],
             [
              0.5555555555555556,
              "#d8576b"
             ],
             [
              0.6666666666666666,
              "#ed7953"
             ],
             [
              0.7777777777777778,
              "#fb9f3a"
             ],
             [
              0.8888888888888888,
              "#fdca26"
             ],
             [
              1,
              "#f0f921"
             ]
            ],
            "type": "heatmapgl"
           }
          ],
          "histogram": [
           {
            "marker": {
             "colorbar": {
              "outlinewidth": 0,
              "ticks": ""
             }
            },
            "type": "histogram"
           }
          ],
          "histogram2d": [
           {
            "colorbar": {
             "outlinewidth": 0,
             "ticks": ""
            },
            "colorscale": [
             [
              0,
              "#0d0887"
             ],
             [
              0.1111111111111111,
              "#46039f"
             ],
             [
              0.2222222222222222,
              "#7201a8"
             ],
             [
              0.3333333333333333,
              "#9c179e"
             ],
             [
              0.4444444444444444,
              "#bd3786"
             ],
             [
              0.5555555555555556,
              "#d8576b"
             ],
             [
              0.6666666666666666,
              "#ed7953"
             ],
             [
              0.7777777777777778,
              "#fb9f3a"
             ],
             [
              0.8888888888888888,
              "#fdca26"
             ],
             [
              1,
              "#f0f921"
             ]
            ],
            "type": "histogram2d"
           }
          ],
          "histogram2dcontour": [
           {
            "colorbar": {
             "outlinewidth": 0,
             "ticks": ""
            },
            "colorscale": [
             [
              0,
              "#0d0887"
             ],
             [
              0.1111111111111111,
              "#46039f"
             ],
             [
              0.2222222222222222,
              "#7201a8"
             ],
             [
              0.3333333333333333,
              "#9c179e"
             ],
             [
              0.4444444444444444,
              "#bd3786"
             ],
             [
              0.5555555555555556,
              "#d8576b"
             ],
             [
              0.6666666666666666,
              "#ed7953"
             ],
             [
              0.7777777777777778,
              "#fb9f3a"
             ],
             [
              0.8888888888888888,
              "#fdca26"
             ],
             [
              1,
              "#f0f921"
             ]
            ],
            "type": "histogram2dcontour"
           }
          ],
          "mesh3d": [
           {
            "colorbar": {
             "outlinewidth": 0,
             "ticks": ""
            },
            "type": "mesh3d"
           }
          ],
          "parcoords": [
           {
            "line": {
             "colorbar": {
              "outlinewidth": 0,
              "ticks": ""
             }
            },
            "type": "parcoords"
           }
          ],
          "pie": [
           {
            "automargin": true,
            "type": "pie"
           }
          ],
          "scatter": [
           {
            "marker": {
             "colorbar": {
              "outlinewidth": 0,
              "ticks": ""
             }
            },
            "type": "scatter"
           }
          ],
          "scatter3d": [
           {
            "line": {
             "colorbar": {
              "outlinewidth": 0,
              "ticks": ""
             }
            },
            "marker": {
             "colorbar": {
              "outlinewidth": 0,
              "ticks": ""
             }
            },
            "type": "scatter3d"
           }
          ],
          "scattercarpet": [
           {
            "marker": {
             "colorbar": {
              "outlinewidth": 0,
              "ticks": ""
             }
            },
            "type": "scattercarpet"
           }
          ],
          "scattergeo": [
           {
            "marker": {
             "colorbar": {
              "outlinewidth": 0,
              "ticks": ""
             }
            },
            "type": "scattergeo"
           }
          ],
          "scattergl": [
           {
            "marker": {
             "colorbar": {
              "outlinewidth": 0,
              "ticks": ""
             }
            },
            "type": "scattergl"
           }
          ],
          "scattermapbox": [
           {
            "marker": {
             "colorbar": {
              "outlinewidth": 0,
              "ticks": ""
             }
            },
            "type": "scattermapbox"
           }
          ],
          "scatterpolar": [
           {
            "marker": {
             "colorbar": {
              "outlinewidth": 0,
              "ticks": ""
             }
            },
            "type": "scatterpolar"
           }
          ],
          "scatterpolargl": [
           {
            "marker": {
             "colorbar": {
              "outlinewidth": 0,
              "ticks": ""
             }
            },
            "type": "scatterpolargl"
           }
          ],
          "scatterternary": [
           {
            "marker": {
             "colorbar": {
              "outlinewidth": 0,
              "ticks": ""
             }
            },
            "type": "scatterternary"
           }
          ],
          "surface": [
           {
            "colorbar": {
             "outlinewidth": 0,
             "ticks": ""
            },
            "colorscale": [
             [
              0,
              "#0d0887"
             ],
             [
              0.1111111111111111,
              "#46039f"
             ],
             [
              0.2222222222222222,
              "#7201a8"
             ],
             [
              0.3333333333333333,
              "#9c179e"
             ],
             [
              0.4444444444444444,
              "#bd3786"
             ],
             [
              0.5555555555555556,
              "#d8576b"
             ],
             [
              0.6666666666666666,
              "#ed7953"
             ],
             [
              0.7777777777777778,
              "#fb9f3a"
             ],
             [
              0.8888888888888888,
              "#fdca26"
             ],
             [
              1,
              "#f0f921"
             ]
            ],
            "type": "surface"
           }
          ],
          "table": [
           {
            "cells": {
             "fill": {
              "color": "#EBF0F8"
             },
             "line": {
              "color": "white"
             }
            },
            "header": {
             "fill": {
              "color": "#C8D4E3"
             },
             "line": {
              "color": "white"
             }
            },
            "type": "table"
           }
          ]
         },
         "layout": {
          "annotationdefaults": {
           "arrowcolor": "#2a3f5f",
           "arrowhead": 0,
           "arrowwidth": 1
          },
          "coloraxis": {
           "colorbar": {
            "outlinewidth": 0,
            "ticks": ""
           }
          },
          "colorscale": {
           "diverging": [
            [
             0,
             "#8e0152"
            ],
            [
             0.1,
             "#c51b7d"
            ],
            [
             0.2,
             "#de77ae"
            ],
            [
             0.3,
             "#f1b6da"
            ],
            [
             0.4,
             "#fde0ef"
            ],
            [
             0.5,
             "#f7f7f7"
            ],
            [
             0.6,
             "#e6f5d0"
            ],
            [
             0.7,
             "#b8e186"
            ],
            [
             0.8,
             "#7fbc41"
            ],
            [
             0.9,
             "#4d9221"
            ],
            [
             1,
             "#276419"
            ]
           ],
           "sequential": [
            [
             0,
             "#0d0887"
            ],
            [
             0.1111111111111111,
             "#46039f"
            ],
            [
             0.2222222222222222,
             "#7201a8"
            ],
            [
             0.3333333333333333,
             "#9c179e"
            ],
            [
             0.4444444444444444,
             "#bd3786"
            ],
            [
             0.5555555555555556,
             "#d8576b"
            ],
            [
             0.6666666666666666,
             "#ed7953"
            ],
            [
             0.7777777777777778,
             "#fb9f3a"
            ],
            [
             0.8888888888888888,
             "#fdca26"
            ],
            [
             1,
             "#f0f921"
            ]
           ],
           "sequentialminus": [
            [
             0,
             "#0d0887"
            ],
            [
             0.1111111111111111,
             "#46039f"
            ],
            [
             0.2222222222222222,
             "#7201a8"
            ],
            [
             0.3333333333333333,
             "#9c179e"
            ],
            [
             0.4444444444444444,
             "#bd3786"
            ],
            [
             0.5555555555555556,
             "#d8576b"
            ],
            [
             0.6666666666666666,
             "#ed7953"
            ],
            [
             0.7777777777777778,
             "#fb9f3a"
            ],
            [
             0.8888888888888888,
             "#fdca26"
            ],
            [
             1,
             "#f0f921"
            ]
           ]
          },
          "colorway": [
           "#636efa",
           "#EF553B",
           "#00cc96",
           "#ab63fa",
           "#FFA15A",
           "#19d3f3",
           "#FF6692",
           "#B6E880",
           "#FF97FF",
           "#FECB52"
          ],
          "font": {
           "color": "#2a3f5f"
          },
          "geo": {
           "bgcolor": "white",
           "lakecolor": "white",
           "landcolor": "#E5ECF6",
           "showlakes": true,
           "showland": true,
           "subunitcolor": "white"
          },
          "hoverlabel": {
           "align": "left"
          },
          "hovermode": "closest",
          "mapbox": {
           "style": "light"
          },
          "paper_bgcolor": "white",
          "plot_bgcolor": "#E5ECF6",
          "polar": {
           "angularaxis": {
            "gridcolor": "white",
            "linecolor": "white",
            "ticks": ""
           },
           "bgcolor": "#E5ECF6",
           "radialaxis": {
            "gridcolor": "white",
            "linecolor": "white",
            "ticks": ""
           }
          },
          "scene": {
           "xaxis": {
            "backgroundcolor": "#E5ECF6",
            "gridcolor": "white",
            "gridwidth": 2,
            "linecolor": "white",
            "showbackground": true,
            "ticks": "",
            "zerolinecolor": "white"
           },
           "yaxis": {
            "backgroundcolor": "#E5ECF6",
            "gridcolor": "white",
            "gridwidth": 2,
            "linecolor": "white",
            "showbackground": true,
            "ticks": "",
            "zerolinecolor": "white"
           },
           "zaxis": {
            "backgroundcolor": "#E5ECF6",
            "gridcolor": "white",
            "gridwidth": 2,
            "linecolor": "white",
            "showbackground": true,
            "ticks": "",
            "zerolinecolor": "white"
           }
          },
          "shapedefaults": {
           "line": {
            "color": "#2a3f5f"
           }
          },
          "ternary": {
           "aaxis": {
            "gridcolor": "white",
            "linecolor": "white",
            "ticks": ""
           },
           "baxis": {
            "gridcolor": "white",
            "linecolor": "white",
            "ticks": ""
           },
           "bgcolor": "#E5ECF6",
           "caxis": {
            "gridcolor": "white",
            "linecolor": "white",
            "ticks": ""
           }
          },
          "title": {
           "x": 0.05
          },
          "xaxis": {
           "automargin": true,
           "gridcolor": "white",
           "linecolor": "white",
           "ticks": "",
           "title": {
            "standoff": 15
           },
           "zerolinecolor": "white",
           "zerolinewidth": 2
          },
          "yaxis": {
           "automargin": true,
           "gridcolor": "white",
           "linecolor": "white",
           "ticks": "",
           "title": {
            "standoff": 15
           },
           "zerolinecolor": "white",
           "zerolinewidth": 2
          }
         }
        },
        "title": {
         "text": "pacientes al 28 septiembre 2020 IMSS"
        },
        "width": 1000,
        "xaxis": {
         "anchor": "y",
         "domain": [
          0,
          0.45
         ],
         "title": {
          "text": "mes"
         }
        },
        "xaxis2": {
         "anchor": "y2",
         "domain": [
          0.55,
          1
         ],
         "title": {
          "text": "mes"
         }
        },
        "yaxis": {
         "anchor": "x",
         "domain": [
          0,
          1
         ],
         "title": {
          "text": "pacientes"
         }
        },
        "yaxis2": {
         "anchor": "x2",
         "domain": [
          0,
          1
         ],
         "title": {
          "text": "pacientes"
         }
        }
       }
      },
      "text/html": [
       "<div>\n",
       "        \n",
       "        \n",
       "            <div id=\"4adca753-ba5d-4456-b749-d934ff656182\" class=\"plotly-graph-div\" style=\"height:600px; width:1000px;\"></div>\n",
       "            <script type=\"text/javascript\">\n",
       "                require([\"plotly\"], function(Plotly) {\n",
       "                    window.PLOTLYENV=window.PLOTLYENV || {};\n",
       "                    \n",
       "                if (document.getElementById(\"4adca753-ba5d-4456-b749-d934ff656182\")) {\n",
       "                    Plotly.newPlot(\n",
       "                        '4adca753-ba5d-4456-b749-d934ff656182',\n",
       "                        [{\"name\": \"positivo\", \"type\": \"scatter\", \"x\": [1, 2, 3, 4, 5, 6, 7, 8, 9], \"xaxis\": \"x\", \"y\": [0, 0, 218, 2772, 8128, 7803, 5651, 5202, 4058], \"yaxis\": \"y\"}, {\"name\": \"negativo\", \"type\": \"scatter\", \"x\": [1, 2, 3, 4, 5, 6, 7, 8, 9], \"xaxis\": \"x\", \"y\": [278, 171, 1208, 3385, 5754, 6549, 6242, 5380, 5530], \"yaxis\": \"y\"}, {\"name\": \"hospitalizado\", \"type\": \"scatter\", \"x\": [1, 2, 3, 4, 5, 6, 7, 8, 9], \"xaxis\": \"x2\", \"y\": [118, 68, 391, 2805, 6309, 4946, 3586, 3118, 2588], \"yaxis\": \"y2\"}, {\"name\": \"ambulatorio\", \"type\": \"scatter\", \"x\": [1, 2, 3, 4, 5, 6, 7, 8, 9], \"xaxis\": \"x2\", \"y\": [160, 103, 1035, 3352, 7573, 9406, 8307, 7464, 7000], \"yaxis\": \"y2\"}],\n",
       "                        {\"annotations\": [{\"font\": {\"size\": 16}, \"showarrow\": false, \"text\": \"positivos vs negativos\", \"x\": 0.225, \"xanchor\": \"center\", \"xref\": \"paper\", \"y\": 1.0, \"yanchor\": \"bottom\", \"yref\": \"paper\"}, {\"font\": {\"size\": 16}, \"showarrow\": false, \"text\": \"hospitalizaci\\u00f3n\", \"x\": 0.775, \"xanchor\": \"center\", \"xref\": \"paper\", \"y\": 1.0, \"yanchor\": \"bottom\", \"yref\": \"paper\"}], \"height\": 600, \"template\": {\"data\": {\"bar\": [{\"error_x\": {\"color\": \"#2a3f5f\"}, \"error_y\": {\"color\": \"#2a3f5f\"}, \"marker\": {\"line\": {\"color\": \"#E5ECF6\", \"width\": 0.5}}, \"type\": \"bar\"}], \"barpolar\": [{\"marker\": {\"line\": {\"color\": \"#E5ECF6\", \"width\": 0.5}}, \"type\": \"barpolar\"}], \"carpet\": [{\"aaxis\": {\"endlinecolor\": \"#2a3f5f\", \"gridcolor\": \"white\", \"linecolor\": \"white\", \"minorgridcolor\": \"white\", \"startlinecolor\": \"#2a3f5f\"}, \"baxis\": {\"endlinecolor\": \"#2a3f5f\", \"gridcolor\": \"white\", \"linecolor\": \"white\", \"minorgridcolor\": \"white\", \"startlinecolor\": \"#2a3f5f\"}, \"type\": \"carpet\"}], \"choropleth\": [{\"colorbar\": {\"outlinewidth\": 0, \"ticks\": \"\"}, \"type\": \"choropleth\"}], \"contour\": [{\"colorbar\": {\"outlinewidth\": 0, \"ticks\": \"\"}, \"colorscale\": [[0.0, \"#0d0887\"], [0.1111111111111111, \"#46039f\"], [0.2222222222222222, \"#7201a8\"], [0.3333333333333333, \"#9c179e\"], [0.4444444444444444, \"#bd3786\"], [0.5555555555555556, \"#d8576b\"], [0.6666666666666666, \"#ed7953\"], [0.7777777777777778, \"#fb9f3a\"], [0.8888888888888888, \"#fdca26\"], [1.0, \"#f0f921\"]], \"type\": \"contour\"}], \"contourcarpet\": [{\"colorbar\": {\"outlinewidth\": 0, \"ticks\": \"\"}, \"type\": \"contourcarpet\"}], \"heatmap\": [{\"colorbar\": {\"outlinewidth\": 0, \"ticks\": \"\"}, \"colorscale\": [[0.0, \"#0d0887\"], [0.1111111111111111, \"#46039f\"], [0.2222222222222222, \"#7201a8\"], [0.3333333333333333, \"#9c179e\"], [0.4444444444444444, \"#bd3786\"], [0.5555555555555556, \"#d8576b\"], [0.6666666666666666, \"#ed7953\"], [0.7777777777777778, \"#fb9f3a\"], [0.8888888888888888, \"#fdca26\"], [1.0, \"#f0f921\"]], \"type\": \"heatmap\"}], \"heatmapgl\": [{\"colorbar\": {\"outlinewidth\": 0, \"ticks\": \"\"}, \"colorscale\": [[0.0, \"#0d0887\"], [0.1111111111111111, \"#46039f\"], [0.2222222222222222, \"#7201a8\"], [0.3333333333333333, \"#9c179e\"], [0.4444444444444444, \"#bd3786\"], [0.5555555555555556, \"#d8576b\"], [0.6666666666666666, \"#ed7953\"], [0.7777777777777778, \"#fb9f3a\"], [0.8888888888888888, \"#fdca26\"], [1.0, \"#f0f921\"]], \"type\": \"heatmapgl\"}], \"histogram\": [{\"marker\": {\"colorbar\": {\"outlinewidth\": 0, \"ticks\": \"\"}}, \"type\": \"histogram\"}], \"histogram2d\": [{\"colorbar\": {\"outlinewidth\": 0, \"ticks\": \"\"}, \"colorscale\": [[0.0, \"#0d0887\"], [0.1111111111111111, \"#46039f\"], [0.2222222222222222, \"#7201a8\"], [0.3333333333333333, \"#9c179e\"], [0.4444444444444444, \"#bd3786\"], [0.5555555555555556, \"#d8576b\"], [0.6666666666666666, \"#ed7953\"], [0.7777777777777778, \"#fb9f3a\"], [0.8888888888888888, \"#fdca26\"], [1.0, \"#f0f921\"]], \"type\": \"histogram2d\"}], \"histogram2dcontour\": [{\"colorbar\": {\"outlinewidth\": 0, \"ticks\": \"\"}, \"colorscale\": [[0.0, \"#0d0887\"], [0.1111111111111111, \"#46039f\"], [0.2222222222222222, \"#7201a8\"], [0.3333333333333333, \"#9c179e\"], [0.4444444444444444, \"#bd3786\"], [0.5555555555555556, \"#d8576b\"], [0.6666666666666666, \"#ed7953\"], [0.7777777777777778, \"#fb9f3a\"], [0.8888888888888888, \"#fdca26\"], [1.0, \"#f0f921\"]], \"type\": \"histogram2dcontour\"}], \"mesh3d\": [{\"colorbar\": {\"outlinewidth\": 0, \"ticks\": \"\"}, \"type\": \"mesh3d\"}], \"parcoords\": [{\"line\": {\"colorbar\": {\"outlinewidth\": 0, \"ticks\": \"\"}}, \"type\": \"parcoords\"}], \"pie\": [{\"automargin\": true, \"type\": \"pie\"}], \"scatter\": [{\"marker\": {\"colorbar\": {\"outlinewidth\": 0, \"ticks\": \"\"}}, \"type\": \"scatter\"}], \"scatter3d\": [{\"line\": {\"colorbar\": {\"outlinewidth\": 0, \"ticks\": \"\"}}, \"marker\": {\"colorbar\": {\"outlinewidth\": 0, \"ticks\": \"\"}}, \"type\": \"scatter3d\"}], \"scattercarpet\": [{\"marker\": {\"colorbar\": {\"outlinewidth\": 0, \"ticks\": \"\"}}, \"type\": \"scattercarpet\"}], \"scattergeo\": [{\"marker\": {\"colorbar\": {\"outlinewidth\": 0, \"ticks\": \"\"}}, \"type\": \"scattergeo\"}], \"scattergl\": [{\"marker\": {\"colorbar\": {\"outlinewidth\": 0, \"ticks\": \"\"}}, \"type\": \"scattergl\"}], \"scattermapbox\": [{\"marker\": {\"colorbar\": {\"outlinewidth\": 0, \"ticks\": \"\"}}, \"type\": \"scattermapbox\"}], \"scatterpolar\": [{\"marker\": {\"colorbar\": {\"outlinewidth\": 0, \"ticks\": \"\"}}, \"type\": \"scatterpolar\"}], \"scatterpolargl\": [{\"marker\": {\"colorbar\": {\"outlinewidth\": 0, \"ticks\": \"\"}}, \"type\": \"scatterpolargl\"}], \"scatterternary\": [{\"marker\": {\"colorbar\": {\"outlinewidth\": 0, \"ticks\": \"\"}}, \"type\": \"scatterternary\"}], \"surface\": [{\"colorbar\": {\"outlinewidth\": 0, \"ticks\": \"\"}, \"colorscale\": [[0.0, \"#0d0887\"], [0.1111111111111111, \"#46039f\"], [0.2222222222222222, \"#7201a8\"], [0.3333333333333333, \"#9c179e\"], [0.4444444444444444, \"#bd3786\"], [0.5555555555555556, \"#d8576b\"], [0.6666666666666666, \"#ed7953\"], [0.7777777777777778, \"#fb9f3a\"], [0.8888888888888888, \"#fdca26\"], [1.0, \"#f0f921\"]], \"type\": \"surface\"}], \"table\": [{\"cells\": {\"fill\": {\"color\": \"#EBF0F8\"}, \"line\": {\"color\": \"white\"}}, \"header\": {\"fill\": {\"color\": \"#C8D4E3\"}, \"line\": {\"color\": \"white\"}}, \"type\": \"table\"}]}, \"layout\": {\"annotationdefaults\": {\"arrowcolor\": \"#2a3f5f\", \"arrowhead\": 0, \"arrowwidth\": 1}, \"coloraxis\": {\"colorbar\": {\"outlinewidth\": 0, \"ticks\": \"\"}}, \"colorscale\": {\"diverging\": [[0, \"#8e0152\"], [0.1, \"#c51b7d\"], [0.2, \"#de77ae\"], [0.3, \"#f1b6da\"], [0.4, \"#fde0ef\"], [0.5, \"#f7f7f7\"], [0.6, \"#e6f5d0\"], [0.7, \"#b8e186\"], [0.8, \"#7fbc41\"], [0.9, \"#4d9221\"], [1, \"#276419\"]], \"sequential\": [[0.0, \"#0d0887\"], [0.1111111111111111, \"#46039f\"], [0.2222222222222222, \"#7201a8\"], [0.3333333333333333, \"#9c179e\"], [0.4444444444444444, \"#bd3786\"], [0.5555555555555556, \"#d8576b\"], [0.6666666666666666, \"#ed7953\"], [0.7777777777777778, \"#fb9f3a\"], [0.8888888888888888, \"#fdca26\"], [1.0, \"#f0f921\"]], \"sequentialminus\": [[0.0, \"#0d0887\"], [0.1111111111111111, \"#46039f\"], [0.2222222222222222, \"#7201a8\"], [0.3333333333333333, \"#9c179e\"], [0.4444444444444444, \"#bd3786\"], [0.5555555555555556, \"#d8576b\"], [0.6666666666666666, \"#ed7953\"], [0.7777777777777778, \"#fb9f3a\"], [0.8888888888888888, \"#fdca26\"], [1.0, \"#f0f921\"]]}, \"colorway\": [\"#636efa\", \"#EF553B\", \"#00cc96\", \"#ab63fa\", \"#FFA15A\", \"#19d3f3\", \"#FF6692\", \"#B6E880\", \"#FF97FF\", \"#FECB52\"], \"font\": {\"color\": \"#2a3f5f\"}, \"geo\": {\"bgcolor\": \"white\", \"lakecolor\": \"white\", \"landcolor\": \"#E5ECF6\", \"showlakes\": true, \"showland\": true, \"subunitcolor\": \"white\"}, \"hoverlabel\": {\"align\": \"left\"}, \"hovermode\": \"closest\", \"mapbox\": {\"style\": \"light\"}, \"paper_bgcolor\": \"white\", \"plot_bgcolor\": \"#E5ECF6\", \"polar\": {\"angularaxis\": {\"gridcolor\": \"white\", \"linecolor\": \"white\", \"ticks\": \"\"}, \"bgcolor\": \"#E5ECF6\", \"radialaxis\": {\"gridcolor\": \"white\", \"linecolor\": \"white\", \"ticks\": \"\"}}, \"scene\": {\"xaxis\": {\"backgroundcolor\": \"#E5ECF6\", \"gridcolor\": \"white\", \"gridwidth\": 2, \"linecolor\": \"white\", \"showbackground\": true, \"ticks\": \"\", \"zerolinecolor\": \"white\"}, \"yaxis\": {\"backgroundcolor\": \"#E5ECF6\", \"gridcolor\": \"white\", \"gridwidth\": 2, \"linecolor\": \"white\", \"showbackground\": true, \"ticks\": \"\", \"zerolinecolor\": \"white\"}, \"zaxis\": {\"backgroundcolor\": \"#E5ECF6\", \"gridcolor\": \"white\", \"gridwidth\": 2, \"linecolor\": \"white\", \"showbackground\": true, \"ticks\": \"\", \"zerolinecolor\": \"white\"}}, \"shapedefaults\": {\"line\": {\"color\": \"#2a3f5f\"}}, \"ternary\": {\"aaxis\": {\"gridcolor\": \"white\", \"linecolor\": \"white\", \"ticks\": \"\"}, \"baxis\": {\"gridcolor\": \"white\", \"linecolor\": \"white\", \"ticks\": \"\"}, \"bgcolor\": \"#E5ECF6\", \"caxis\": {\"gridcolor\": \"white\", \"linecolor\": \"white\", \"ticks\": \"\"}}, \"title\": {\"x\": 0.05}, \"xaxis\": {\"automargin\": true, \"gridcolor\": \"white\", \"linecolor\": \"white\", \"ticks\": \"\", \"title\": {\"standoff\": 15}, \"zerolinecolor\": \"white\", \"zerolinewidth\": 2}, \"yaxis\": {\"automargin\": true, \"gridcolor\": \"white\", \"linecolor\": \"white\", \"ticks\": \"\", \"title\": {\"standoff\": 15}, \"zerolinecolor\": \"white\", \"zerolinewidth\": 2}}}, \"title\": {\"text\": \"pacientes al 28 septiembre 2020 IMSS\"}, \"width\": 1000, \"xaxis\": {\"anchor\": \"y\", \"domain\": [0.0, 0.45], \"title\": {\"text\": \"mes\"}}, \"xaxis2\": {\"anchor\": \"y2\", \"domain\": [0.55, 1.0], \"title\": {\"text\": \"mes\"}}, \"yaxis\": {\"anchor\": \"x\", \"domain\": [0.0, 1.0], \"title\": {\"text\": \"pacientes\"}}, \"yaxis2\": {\"anchor\": \"x2\", \"domain\": [0.0, 1.0], \"title\": {\"text\": \"pacientes\"}}},\n",
       "                        {\"responsive\": true}\n",
       "                    ).then(function(){\n",
       "                            \n",
       "var gd = document.getElementById('4adca753-ba5d-4456-b749-d934ff656182');\n",
       "var x = new MutationObserver(function (mutations, observer) {{\n",
       "        var display = window.getComputedStyle(gd).display;\n",
       "        if (!display || display === 'none') {{\n",
       "            console.log([gd, 'removed!']);\n",
       "            Plotly.purge(gd);\n",
       "            observer.disconnect();\n",
       "        }}\n",
       "}});\n",
       "\n",
       "// Listen for the removal of the full notebook cells\n",
       "var notebookContainer = gd.closest('#notebook-container');\n",
       "if (notebookContainer) {{\n",
       "    x.observe(notebookContainer, {childList: true});\n",
       "}}\n",
       "\n",
       "// Listen for the clearing of the current output cell\n",
       "var outputEl = gd.closest('.output');\n",
       "if (outputEl) {{\n",
       "    x.observe(outputEl, {childList: true});\n",
       "}}\n",
       "\n",
       "                        })\n",
       "                };\n",
       "                });\n",
       "            </script>\n",
       "        </div>"
      ]
     },
     "metadata": {},
     "output_type": "display_data"
    }
   ],
   "source": [
    "fig = make_subplots(rows=1, cols=2,subplot_titles=('positivos vs negativos', 'hospitalización'))\n",
    "\n",
    "#graficas\n",
    "fig.add_trace(go.Scatter( x=sinave_mes.index, y=sinave_mes['tiene_covid19'],name='positivo'), row=1,col=1)\n",
    "fig.add_trace(go.Scatter( x=sinave_mes.index, y=sinave_mes['negativo_covid19'], name='negativo'), row=1,col=1)\n",
    "\n",
    "fig.add_trace(go.Scatter( x=sinave_mes.index, y=sinave_mes['HOSPITALIZADO'],name='hospitalizado'), row=1,col=2)\n",
    "fig.add_trace(go.Scatter( x=sinave_mes.index, y=sinave_mes['Ambulatorio'], name='ambulatorio'), row=1,col=2)\n",
    "\n",
    "#ejes\n",
    "fig.update_yaxes(title_text=\"pacientes\", row=1, col=1)\n",
    "fig.update_yaxes(title_text=\"pacientes\", row=1, col=2)\n",
    "fig.update_xaxes(title_text=\"mes\", row=1, col=2)\n",
    "fig.update_xaxes(title_text=\"mes\", row=1, col=1)\n",
    "\n",
    "\n",
    "#titulo\n",
    "fig.update_layout(height=600, width=1000, title_text=\"pacientes al 28 septiembre 2020 IMSS\",)\n",
    "fig.show()\n",
    "\n",
    "#guardo html\n",
    "#fig.write_html(\"/Users/rube/labs-de-ironhack/proyecto-final/pacientes_imss_2020.html\")\n"
   ]
  },
  {
   "cell_type": "markdown",
   "metadata": {},
   "source": [
    "# probando modelo categorico Clasificación"
   ]
  },
  {
   "cell_type": "code",
   "execution_count": 162,
   "metadata": {},
   "outputs": [],
   "source": [
    "from sklearn.svm import SVC\n",
    "from sklearn.model_selection import train_test_split as tts"
   ]
  },
  {
   "cell_type": "code",
   "execution_count": 163,
   "metadata": {},
   "outputs": [],
   "source": [
    "from sklearn.metrics import confusion_matrix"
   ]
  },
  {
   "cell_type": "code",
   "execution_count": 164,
   "metadata": {},
   "outputs": [],
   "source": [
    "from sklearn.metrics import r2_score"
   ]
  },
  {
   "cell_type": "code",
   "execution_count": 165,
   "metadata": {},
   "outputs": [],
   "source": [
    "from sklearn.linear_model import LogisticRegression"
   ]
  },
  {
   "cell_type": "code",
   "execution_count": 166,
   "metadata": {},
   "outputs": [],
   "source": [
    "from sklearn.metrics import accuracy_score as acc"
   ]
  },
  {
   "cell_type": "code",
   "execution_count": 290,
   "metadata": {},
   "outputs": [],
   "source": [
    "#todo\n",
    "X_train, X_test, y_train, y_test=tts(sinave_imss4[['diagnostico_clinico_neumonia', 'edad', 'esta_emabarazada',\n",
    "       'meses_embarazo', 'fiebre', 'tos', 'odinofagia', 'disnea',\n",
    "       'irritabilidad', 'diarrea', 'dolor_toracico', 'calofrios', 'cefalea',\n",
    "       'mialgias', 'artralgias', 'ataque_al_estado_general', 'rinorrea',\n",
    "       'polipnea', 'vomito', 'dolor_abdominal', 'conjuntivitis', 'cianosis',\n",
    "       'inicio_subito_sintomas', 'diabetes', 'epoc', 'asma', 'inmunosupresivo',\n",
    "       'hipertension', 'VIH_SIDA', 'otra_condicion', 'enfermedad_cardiaca',\n",
    "       'obesidad', 'insuficiencia_renal_cronica', 'tabaquismo',\n",
    "       'recibio_tratamiento', 'recibio_tratamiento_antiviral', 'vacunado',\n",
    "       'Masculino','Femenino', 'Ambulatorio', 'HOSPITALIZADO','urgencia']]\n",
    "                                                   , sinave_imss4['tiene_covid19'], test_size=0.1)"
   ]
  },
  {
   "cell_type": "code",
   "execution_count": 291,
   "metadata": {},
   "outputs": [],
   "source": [
    "#solo con comorbilidades\n",
    "X_train2, X_test2, y_train2, y_test2=tts(sinave_imss4[[ 'edad','diabetes', 'epoc', 'asma', 'inmunosupresivo',\n",
    "       'hipertension', 'VIH_SIDA', 'otra_condicion', 'enfermedad_cardiaca',\n",
    "       'obesidad', 'insuficiencia_renal_cronica', 'tabaquismo', 'vacunado',\n",
    "       'Ambulatorio', 'HOSPITALIZADO','urgencia'\n",
    "       ]]\n",
    "                                                   , sinave_imss4['tiene_covid19'], test_size=0.1)"
   ]
  },
  {
   "cell_type": "code",
   "execution_count": 254,
   "metadata": {},
   "outputs": [
    {
     "name": "stdout",
     "output_type": "stream",
     "text": [
      "CPU times: user 6min 50s, sys: 5.05 s, total: 6min 55s\n",
      "Wall time: 7min 9s\n"
     ]
    }
   ],
   "source": [
    "%%time\n",
    "svc=SVC().fit(X_train, y_train)\n",
    "\n",
    "y_pred1=svc.predict(X_test)"
   ]
  },
  {
   "cell_type": "code",
   "execution_count": 255,
   "metadata": {},
   "outputs": [
    {
     "data": {
      "text/plain": [
       "0.6083711400556124"
      ]
     },
     "execution_count": 255,
     "metadata": {},
     "output_type": "execute_result"
    }
   ],
   "source": [
    "acc(y_test, y_pred1)"
   ]
  },
  {
   "cell_type": "code",
   "execution_count": 292,
   "metadata": {},
   "outputs": [
    {
     "name": "stdout",
     "output_type": "stream",
     "text": [
      "CPU times: user 1.83 s, sys: 109 ms, total: 1.94 s\n",
      "Wall time: 1.09 s\n"
     ]
    }
   ],
   "source": [
    "%%time\n",
    "#regresión logistica\n",
    "\n",
    "logit_reg = LogisticRegression()\n",
    "logit_fit = logit_reg.fit(X_train,y_train)\n",
    "y_pred_0 = logit_fit.predict(X_test)"
   ]
  },
  {
   "cell_type": "code",
   "execution_count": 293,
   "metadata": {},
   "outputs": [
    {
     "data": {
      "text/plain": [
       "0.6063222596224206"
      ]
     },
     "execution_count": 293,
     "metadata": {},
     "output_type": "execute_result"
    }
   ],
   "source": [
    "acc(y_test, y_pred_0)"
   ]
  },
  {
   "cell_type": "code",
   "execution_count": 173,
   "metadata": {},
   "outputs": [
    {
     "data": {
      "text/plain": [
       "array([[4292, 2620],\n",
       "       [2743, 4011]])"
      ]
     },
     "execution_count": 173,
     "metadata": {},
     "output_type": "execute_result"
    }
   ],
   "source": [
    "confusion_matrix(y_test, y_pred)"
   ]
  },
  {
   "cell_type": "code",
   "execution_count": 268,
   "metadata": {},
   "outputs": [
    {
     "name": "stdout",
     "output_type": "stream",
     "text": [
      "CPU times: user 1.12 s, sys: 79.4 ms, total: 1.2 s\n",
      "Wall time: 691 ms\n"
     ]
    }
   ],
   "source": [
    "%%time\n",
    "#regresión logistica con menos columnas\n",
    "\n",
    "logit_reg = LogisticRegression()\n",
    "logit_fit = logit_reg.fit(X_train2,y_train2)\n",
    "y_pred_m = logit_fit.predict(X_test2)"
   ]
  },
  {
   "cell_type": "code",
   "execution_count": 269,
   "metadata": {},
   "outputs": [
    {
     "data": {
      "text/plain": [
       "0.5783696765695887"
      ]
     },
     "execution_count": 269,
     "metadata": {},
     "output_type": "execute_result"
    }
   ],
   "source": [
    "acc(y_test2, y_pred_m)"
   ]
  },
  {
   "cell_type": "code",
   "execution_count": 176,
   "metadata": {},
   "outputs": [],
   "source": [
    "from sklearn.linear_model import SGDClassifier as SGDC"
   ]
  },
  {
   "cell_type": "code",
   "execution_count": 177,
   "metadata": {},
   "outputs": [],
   "source": [
    "from sklearn.naive_bayes import GaussianNB as GNB #Bayes para regresion \n",
    "from sklearn.naive_bayes import MultinomialNB as MNB #Bayes con variables discretas (categoricas)\n",
    "from sklearn.naive_bayes import ComplementNB as CNB\n",
    "from sklearn.naive_bayes import BernoulliNB as BNB \n",
    "from sklearn.ensemble import GradientBoostingClassifier as GBC\n"
   ]
  },
  {
   "cell_type": "code",
   "execution_count": 252,
   "metadata": {},
   "outputs": [
    {
     "name": "stdout",
     "output_type": "stream",
     "text": [
      "CPU times: user 4.31 s, sys: 72 ms, total: 4.38 s\n",
      "Wall time: 4.62 s\n"
     ]
    }
   ],
   "source": [
    "%%time\n",
    "sgdc=SGDC().fit(X_train,y_train)\n",
    "y_pred2= sgdc.predict(X_test)"
   ]
  },
  {
   "cell_type": "code",
   "execution_count": 253,
   "metadata": {},
   "outputs": [
    {
     "data": {
      "text/plain": [
       "0.574271915703205"
      ]
     },
     "execution_count": 253,
     "metadata": {},
     "output_type": "execute_result"
    }
   ],
   "source": [
    "acc(y_test, y_pred2)"
   ]
  },
  {
   "cell_type": "code",
   "execution_count": 180,
   "metadata": {},
   "outputs": [
    {
     "name": "stdout",
     "output_type": "stream",
     "text": [
      "CPU times: user 135 ms, sys: 37.8 ms, total: 173 ms\n",
      "Wall time: 90 ms\n"
     ]
    }
   ],
   "source": [
    "%%time\n",
    "gnb=GNB().fit(X_train,y_train)\n",
    "y_pred3= gnb.predict(X_test)"
   ]
  },
  {
   "cell_type": "code",
   "execution_count": 181,
   "metadata": {},
   "outputs": [
    {
     "data": {
      "text/plain": [
       "0.5971754719742427"
      ]
     },
     "execution_count": 181,
     "metadata": {},
     "output_type": "execute_result"
    }
   ],
   "source": [
    "acc(y_test, y_pred3)"
   ]
  },
  {
   "cell_type": "code",
   "execution_count": 182,
   "metadata": {},
   "outputs": [
    {
     "name": "stdout",
     "output_type": "stream",
     "text": [
      "CPU times: user 57.2 ms, sys: 23.7 ms, total: 80.8 ms\n",
      "Wall time: 56.4 ms\n"
     ]
    }
   ],
   "source": [
    "%%time\n",
    "mnb=MNB().fit(X_train,y_train)\n",
    "y_pred4=mnb.predict(X_test)"
   ]
  },
  {
   "cell_type": "code",
   "execution_count": 183,
   "metadata": {},
   "outputs": [
    {
     "data": {
      "text/plain": [
       "0.5436850578076979"
      ]
     },
     "execution_count": 183,
     "metadata": {},
     "output_type": "execute_result"
    }
   ],
   "source": [
    "acc(y_test, y_pred4)"
   ]
  },
  {
   "cell_type": "code",
   "execution_count": 272,
   "metadata": {},
   "outputs": [
    {
     "name": "stdout",
     "output_type": "stream",
     "text": [
      "CPU times: user 24.3 ms, sys: 3.14 ms, total: 27.4 ms\n",
      "Wall time: 31.4 ms\n"
     ]
    }
   ],
   "source": [
    "%%time\n",
    "mnb=MNB().fit(X_train2,y_train2)\n",
    "y_pred4_m=mnb.predict(X_test2)"
   ]
  },
  {
   "cell_type": "code",
   "execution_count": 273,
   "metadata": {},
   "outputs": [
    {
     "data": {
      "text/plain": [
       "0.5657836967656958"
      ]
     },
     "execution_count": 273,
     "metadata": {},
     "output_type": "execute_result"
    }
   ],
   "source": [
    "acc(y_test2, y_pred4_m)"
   ]
  },
  {
   "cell_type": "code",
   "execution_count": 184,
   "metadata": {},
   "outputs": [
    {
     "name": "stdout",
     "output_type": "stream",
     "text": [
      "CPU times: user 58.7 ms, sys: 12.3 ms, total: 71 ms\n",
      "Wall time: 69.8 ms\n"
     ]
    }
   ],
   "source": [
    "%%time\n",
    "cnb=CNB().fit(X_train,y_train)\n",
    "y_pred5=mnb.predict(X_test)"
   ]
  },
  {
   "cell_type": "code",
   "execution_count": 185,
   "metadata": {},
   "outputs": [
    {
     "data": {
      "text/plain": [
       "0.5436850578076979"
      ]
     },
     "execution_count": 185,
     "metadata": {},
     "output_type": "execute_result"
    }
   ],
   "source": [
    "acc(y_test, y_pred5)"
   ]
  },
  {
   "cell_type": "code",
   "execution_count": 186,
   "metadata": {},
   "outputs": [
    {
     "name": "stdout",
     "output_type": "stream",
     "text": [
      "CPU times: user 138 ms, sys: 23.5 ms, total: 162 ms\n",
      "Wall time: 91 ms\n"
     ]
    }
   ],
   "source": [
    "%%time\n",
    "bnb= BNB().fit(X_train,y_train)\n",
    "y_pred6=bnb.predict(X_test)"
   ]
  },
  {
   "cell_type": "code",
   "execution_count": 187,
   "metadata": {},
   "outputs": [
    {
     "data": {
      "text/plain": [
       "0.6017122786477389"
      ]
     },
     "execution_count": 187,
     "metadata": {},
     "output_type": "execute_result"
    }
   ],
   "source": [
    "acc(y_test, y_pred6)"
   ]
  },
  {
   "cell_type": "code",
   "execution_count": 188,
   "metadata": {},
   "outputs": [
    {
     "name": "stdout",
     "output_type": "stream",
     "text": [
      "CPU times: user 8.93 s, sys: 316 ms, total: 9.24 s\n",
      "Wall time: 9.99 s\n"
     ]
    }
   ],
   "source": [
    "%%time\n",
    "gbc= GBC().fit(X_train,y_train)\n",
    "y_pred7=bnb.predict(X_test)"
   ]
  },
  {
   "cell_type": "code",
   "execution_count": 189,
   "metadata": {},
   "outputs": [
    {
     "data": {
      "text/plain": [
       "0.6017122786477389"
      ]
     },
     "execution_count": 189,
     "metadata": {},
     "output_type": "execute_result"
    }
   ],
   "source": [
    "acc(y_test, y_pred7)"
   ]
  },
  {
   "cell_type": "code",
   "execution_count": 190,
   "metadata": {},
   "outputs": [],
   "source": [
    "from catboost import CatBoostClassifier as CATB"
   ]
  },
  {
   "cell_type": "code",
   "execution_count": 191,
   "metadata": {},
   "outputs": [
    {
     "name": "stdout",
     "output_type": "stream",
     "text": [
      "Learning rate set to 0.056876\n",
      "0:\tlearn: 0.6898004\ttotal: 68.7ms\tremaining: 1m 8s\n",
      "1:\tlearn: 0.6867725\ttotal: 120ms\tremaining: 59.8s\n",
      "2:\tlearn: 0.6843898\ttotal: 176ms\tremaining: 58.6s\n",
      "3:\tlearn: 0.6819486\ttotal: 264ms\tremaining: 1m 5s\n",
      "4:\tlearn: 0.6796208\ttotal: 360ms\tremaining: 1m 11s\n",
      "5:\tlearn: 0.6776311\ttotal: 420ms\tremaining: 1m 9s\n",
      "6:\tlearn: 0.6758638\ttotal: 466ms\tremaining: 1m 6s\n",
      "7:\tlearn: 0.6742426\ttotal: 498ms\tremaining: 1m 1s\n",
      "8:\tlearn: 0.6726862\ttotal: 521ms\tremaining: 57.4s\n",
      "9:\tlearn: 0.6713293\ttotal: 545ms\tremaining: 53.9s\n",
      "10:\tlearn: 0.6701720\ttotal: 564ms\tremaining: 50.7s\n",
      "11:\tlearn: 0.6691276\ttotal: 588ms\tremaining: 48.4s\n",
      "12:\tlearn: 0.6680839\ttotal: 612ms\tremaining: 46.5s\n",
      "13:\tlearn: 0.6671096\ttotal: 654ms\tremaining: 46s\n",
      "14:\tlearn: 0.6661980\ttotal: 741ms\tremaining: 48.7s\n",
      "15:\tlearn: 0.6653938\ttotal: 819ms\tremaining: 50.4s\n",
      "16:\tlearn: 0.6646161\ttotal: 892ms\tremaining: 51.6s\n",
      "17:\tlearn: 0.6639200\ttotal: 952ms\tremaining: 51.9s\n",
      "18:\tlearn: 0.6633170\ttotal: 995ms\tremaining: 51.4s\n",
      "19:\tlearn: 0.6626917\ttotal: 1.04s\tremaining: 50.8s\n",
      "20:\tlearn: 0.6621329\ttotal: 1.08s\tremaining: 50.2s\n",
      "21:\tlearn: 0.6616584\ttotal: 1.13s\tremaining: 50.1s\n",
      "22:\tlearn: 0.6611276\ttotal: 1.17s\tremaining: 49.8s\n",
      "23:\tlearn: 0.6606749\ttotal: 1.21s\tremaining: 49.2s\n",
      "24:\tlearn: 0.6602248\ttotal: 1.23s\tremaining: 48.1s\n",
      "25:\tlearn: 0.6598226\ttotal: 1.25s\tremaining: 47s\n",
      "26:\tlearn: 0.6593811\ttotal: 1.28s\tremaining: 46.2s\n",
      "27:\tlearn: 0.6589953\ttotal: 1.31s\tremaining: 45.4s\n",
      "28:\tlearn: 0.6586238\ttotal: 1.35s\tremaining: 45.2s\n",
      "29:\tlearn: 0.6582527\ttotal: 1.41s\tremaining: 45.6s\n",
      "30:\tlearn: 0.6579196\ttotal: 1.47s\tremaining: 45.9s\n",
      "31:\tlearn: 0.6576074\ttotal: 1.49s\tremaining: 45.1s\n",
      "32:\tlearn: 0.6572806\ttotal: 1.51s\tremaining: 44.3s\n",
      "33:\tlearn: 0.6569566\ttotal: 1.53s\tremaining: 43.6s\n",
      "34:\tlearn: 0.6566596\ttotal: 1.57s\tremaining: 43.2s\n",
      "35:\tlearn: 0.6564195\ttotal: 1.61s\tremaining: 43.2s\n",
      "36:\tlearn: 0.6561469\ttotal: 1.65s\tremaining: 42.9s\n",
      "37:\tlearn: 0.6558871\ttotal: 1.67s\tremaining: 42.2s\n",
      "38:\tlearn: 0.6555247\ttotal: 1.69s\tremaining: 41.5s\n",
      "39:\tlearn: 0.6552373\ttotal: 1.71s\tremaining: 41s\n",
      "40:\tlearn: 0.6550073\ttotal: 1.73s\tremaining: 40.5s\n",
      "41:\tlearn: 0.6548198\ttotal: 1.75s\tremaining: 40s\n",
      "42:\tlearn: 0.6545638\ttotal: 1.79s\tremaining: 40s\n",
      "43:\tlearn: 0.6543641\ttotal: 1.84s\tremaining: 40s\n",
      "44:\tlearn: 0.6541379\ttotal: 1.88s\tremaining: 39.9s\n",
      "45:\tlearn: 0.6539154\ttotal: 1.93s\tremaining: 40.1s\n",
      "46:\tlearn: 0.6537027\ttotal: 1.97s\tremaining: 39.9s\n",
      "47:\tlearn: 0.6534696\ttotal: 2s\tremaining: 39.6s\n",
      "48:\tlearn: 0.6532894\ttotal: 2.04s\tremaining: 39.7s\n",
      "49:\tlearn: 0.6530465\ttotal: 2.09s\tremaining: 39.7s\n",
      "50:\tlearn: 0.6528256\ttotal: 2.11s\tremaining: 39.3s\n",
      "51:\tlearn: 0.6526961\ttotal: 2.13s\tremaining: 38.9s\n",
      "52:\tlearn: 0.6525212\ttotal: 2.16s\tremaining: 38.6s\n",
      "53:\tlearn: 0.6523880\ttotal: 2.19s\tremaining: 38.4s\n",
      "54:\tlearn: 0.6522134\ttotal: 2.25s\tremaining: 38.7s\n",
      "55:\tlearn: 0.6520573\ttotal: 2.3s\tremaining: 38.8s\n",
      "56:\tlearn: 0.6518762\ttotal: 2.33s\tremaining: 38.5s\n",
      "57:\tlearn: 0.6517467\ttotal: 2.35s\tremaining: 38.2s\n",
      "58:\tlearn: 0.6515892\ttotal: 2.38s\tremaining: 37.9s\n",
      "59:\tlearn: 0.6514143\ttotal: 2.4s\tremaining: 37.6s\n",
      "60:\tlearn: 0.6512721\ttotal: 2.44s\tremaining: 37.5s\n",
      "61:\tlearn: 0.6510981\ttotal: 2.48s\tremaining: 37.5s\n",
      "62:\tlearn: 0.6509072\ttotal: 2.54s\tremaining: 37.7s\n",
      "63:\tlearn: 0.6507479\ttotal: 2.57s\tremaining: 37.7s\n",
      "64:\tlearn: 0.6505811\ttotal: 2.6s\tremaining: 37.5s\n",
      "65:\tlearn: 0.6503876\ttotal: 2.63s\tremaining: 37.3s\n",
      "66:\tlearn: 0.6502199\ttotal: 2.66s\tremaining: 37s\n",
      "67:\tlearn: 0.6500770\ttotal: 2.69s\tremaining: 36.9s\n",
      "68:\tlearn: 0.6499407\ttotal: 2.73s\tremaining: 36.9s\n",
      "69:\tlearn: 0.6497820\ttotal: 2.77s\tremaining: 36.8s\n",
      "70:\tlearn: 0.6497179\ttotal: 2.8s\tremaining: 36.6s\n",
      "71:\tlearn: 0.6495688\ttotal: 2.82s\tremaining: 36.4s\n",
      "72:\tlearn: 0.6494388\ttotal: 2.86s\tremaining: 36.3s\n",
      "73:\tlearn: 0.6493442\ttotal: 2.95s\tremaining: 36.9s\n",
      "74:\tlearn: 0.6491663\ttotal: 3.01s\tremaining: 37.2s\n",
      "75:\tlearn: 0.6490273\ttotal: 3.05s\tremaining: 37s\n",
      "76:\tlearn: 0.6488862\ttotal: 3.07s\tremaining: 36.8s\n",
      "77:\tlearn: 0.6487688\ttotal: 3.09s\tremaining: 36.6s\n",
      "78:\tlearn: 0.6486300\ttotal: 3.12s\tremaining: 36.4s\n",
      "79:\tlearn: 0.6485312\ttotal: 3.14s\tremaining: 36.1s\n",
      "80:\tlearn: 0.6484483\ttotal: 3.18s\tremaining: 36.1s\n",
      "81:\tlearn: 0.6482978\ttotal: 3.23s\tremaining: 36.2s\n",
      "82:\tlearn: 0.6481591\ttotal: 3.27s\tremaining: 36.1s\n",
      "83:\tlearn: 0.6480455\ttotal: 3.3s\tremaining: 36s\n",
      "84:\tlearn: 0.6479605\ttotal: 3.33s\tremaining: 35.8s\n",
      "85:\tlearn: 0.6478400\ttotal: 3.36s\tremaining: 35.7s\n",
      "86:\tlearn: 0.6477244\ttotal: 3.4s\tremaining: 35.7s\n",
      "87:\tlearn: 0.6476258\ttotal: 3.47s\tremaining: 35.9s\n",
      "88:\tlearn: 0.6475240\ttotal: 3.5s\tremaining: 35.9s\n",
      "89:\tlearn: 0.6473869\ttotal: 3.53s\tremaining: 35.7s\n",
      "90:\tlearn: 0.6472689\ttotal: 3.56s\tremaining: 35.5s\n",
      "91:\tlearn: 0.6471684\ttotal: 3.58s\tremaining: 35.3s\n",
      "92:\tlearn: 0.6470771\ttotal: 3.61s\tremaining: 35.2s\n",
      "93:\tlearn: 0.6469779\ttotal: 3.66s\tremaining: 35.2s\n",
      "94:\tlearn: 0.6468670\ttotal: 3.69s\tremaining: 35.2s\n",
      "95:\tlearn: 0.6468017\ttotal: 3.72s\tremaining: 35s\n",
      "96:\tlearn: 0.6466676\ttotal: 3.74s\tremaining: 34.9s\n",
      "97:\tlearn: 0.6465528\ttotal: 3.77s\tremaining: 34.7s\n",
      "98:\tlearn: 0.6463928\ttotal: 3.79s\tremaining: 34.5s\n",
      "99:\tlearn: 0.6463070\ttotal: 3.82s\tremaining: 34.3s\n",
      "100:\tlearn: 0.6462465\ttotal: 3.87s\tremaining: 34.4s\n",
      "101:\tlearn: 0.6461602\ttotal: 3.9s\tremaining: 34.4s\n",
      "102:\tlearn: 0.6460568\ttotal: 3.94s\tremaining: 34.3s\n",
      "103:\tlearn: 0.6459635\ttotal: 3.97s\tremaining: 34.2s\n",
      "104:\tlearn: 0.6458353\ttotal: 3.99s\tremaining: 34s\n",
      "105:\tlearn: 0.6457492\ttotal: 4.09s\tremaining: 34.5s\n",
      "106:\tlearn: 0.6457096\ttotal: 4.15s\tremaining: 34.7s\n",
      "107:\tlearn: 0.6456025\ttotal: 4.2s\tremaining: 34.7s\n",
      "108:\tlearn: 0.6455203\ttotal: 4.22s\tremaining: 34.5s\n",
      "109:\tlearn: 0.6454619\ttotal: 4.25s\tremaining: 34.4s\n",
      "110:\tlearn: 0.6453189\ttotal: 4.27s\tremaining: 34.2s\n",
      "111:\tlearn: 0.6452184\ttotal: 4.31s\tremaining: 34.2s\n",
      "112:\tlearn: 0.6451316\ttotal: 4.36s\tremaining: 34.2s\n",
      "113:\tlearn: 0.6450433\ttotal: 4.38s\tremaining: 34.1s\n",
      "114:\tlearn: 0.6449582\ttotal: 4.41s\tremaining: 33.9s\n",
      "115:\tlearn: 0.6449304\ttotal: 4.44s\tremaining: 33.8s\n",
      "116:\tlearn: 0.6448023\ttotal: 4.47s\tremaining: 33.7s\n",
      "117:\tlearn: 0.6447133\ttotal: 4.5s\tremaining: 33.6s\n",
      "118:\tlearn: 0.6445761\ttotal: 4.54s\tremaining: 33.6s\n",
      "119:\tlearn: 0.6444893\ttotal: 4.57s\tremaining: 33.5s\n",
      "120:\tlearn: 0.6444346\ttotal: 4.59s\tremaining: 33.4s\n",
      "121:\tlearn: 0.6443685\ttotal: 4.63s\tremaining: 33.3s\n",
      "122:\tlearn: 0.6442801\ttotal: 4.65s\tremaining: 33.2s\n",
      "123:\tlearn: 0.6442753\ttotal: 4.66s\tremaining: 33s\n",
      "124:\tlearn: 0.6441584\ttotal: 4.7s\tremaining: 32.9s\n",
      "125:\tlearn: 0.6440713\ttotal: 4.72s\tremaining: 32.8s\n",
      "126:\tlearn: 0.6439944\ttotal: 4.77s\tremaining: 32.8s\n",
      "127:\tlearn: 0.6438482\ttotal: 4.82s\tremaining: 32.8s\n",
      "128:\tlearn: 0.6437371\ttotal: 4.84s\tremaining: 32.7s\n",
      "129:\tlearn: 0.6437031\ttotal: 4.87s\tremaining: 32.6s\n",
      "130:\tlearn: 0.6436706\ttotal: 4.89s\tremaining: 32.4s\n",
      "131:\tlearn: 0.6435798\ttotal: 4.91s\tremaining: 32.3s\n",
      "132:\tlearn: 0.6434469\ttotal: 4.94s\tremaining: 32.2s\n",
      "133:\tlearn: 0.6433939\ttotal: 5s\tremaining: 32.3s\n",
      "134:\tlearn: 0.6433028\ttotal: 5.05s\tremaining: 32.4s\n",
      "135:\tlearn: 0.6432030\ttotal: 5.07s\tremaining: 32.2s\n",
      "136:\tlearn: 0.6431311\ttotal: 5.1s\tremaining: 32.2s\n",
      "137:\tlearn: 0.6430466\ttotal: 5.13s\tremaining: 32.1s\n",
      "138:\tlearn: 0.6429749\ttotal: 5.16s\tremaining: 32s\n",
      "139:\tlearn: 0.6428706\ttotal: 5.19s\tremaining: 31.9s\n",
      "140:\tlearn: 0.6428324\ttotal: 5.24s\tremaining: 31.9s\n",
      "141:\tlearn: 0.6427401\ttotal: 5.28s\tremaining: 31.9s\n",
      "142:\tlearn: 0.6426794\ttotal: 5.31s\tremaining: 31.8s\n",
      "143:\tlearn: 0.6425804\ttotal: 5.34s\tremaining: 31.8s\n",
      "144:\tlearn: 0.6425466\ttotal: 5.37s\tremaining: 31.6s\n",
      "145:\tlearn: 0.6424337\ttotal: 5.39s\tremaining: 31.5s\n",
      "146:\tlearn: 0.6423519\ttotal: 5.41s\tremaining: 31.4s\n",
      "147:\tlearn: 0.6422614\ttotal: 5.43s\tremaining: 31.3s\n",
      "148:\tlearn: 0.6421802\ttotal: 5.48s\tremaining: 31.3s\n",
      "149:\tlearn: 0.6421159\ttotal: 5.53s\tremaining: 31.3s\n",
      "150:\tlearn: 0.6420191\ttotal: 5.55s\tremaining: 31.2s\n",
      "151:\tlearn: 0.6419530\ttotal: 5.58s\tremaining: 31.1s\n",
      "152:\tlearn: 0.6418583\ttotal: 5.61s\tremaining: 31.1s\n",
      "153:\tlearn: 0.6418154\ttotal: 5.64s\tremaining: 31s\n",
      "154:\tlearn: 0.6417170\ttotal: 5.69s\tremaining: 31s\n",
      "155:\tlearn: 0.6416018\ttotal: 5.76s\tremaining: 31.1s\n",
      "156:\tlearn: 0.6415509\ttotal: 5.8s\tremaining: 31.2s\n",
      "157:\tlearn: 0.6414640\ttotal: 5.86s\tremaining: 31.2s\n",
      "158:\tlearn: 0.6413891\ttotal: 5.96s\tremaining: 31.5s\n",
      "159:\tlearn: 0.6412852\ttotal: 6.04s\tremaining: 31.7s\n",
      "160:\tlearn: 0.6411948\ttotal: 6.1s\tremaining: 31.8s\n"
     ]
    },
    {
     "name": "stdout",
     "output_type": "stream",
     "text": [
      "161:\tlearn: 0.6411018\ttotal: 6.17s\tremaining: 31.9s\n",
      "162:\tlearn: 0.6410330\ttotal: 6.25s\tremaining: 32.1s\n",
      "163:\tlearn: 0.6409435\ttotal: 6.29s\tremaining: 32.1s\n",
      "164:\tlearn: 0.6408858\ttotal: 6.39s\tremaining: 32.3s\n",
      "165:\tlearn: 0.6408496\ttotal: 6.44s\tremaining: 32.4s\n",
      "166:\tlearn: 0.6407869\ttotal: 6.49s\tremaining: 32.4s\n",
      "167:\tlearn: 0.6407433\ttotal: 6.54s\tremaining: 32.4s\n",
      "168:\tlearn: 0.6406532\ttotal: 6.57s\tremaining: 32.3s\n",
      "169:\tlearn: 0.6406031\ttotal: 6.6s\tremaining: 32.2s\n",
      "170:\tlearn: 0.6405297\ttotal: 6.63s\tremaining: 32.2s\n",
      "171:\tlearn: 0.6404531\ttotal: 6.67s\tremaining: 32.1s\n",
      "172:\tlearn: 0.6403796\ttotal: 6.7s\tremaining: 32s\n",
      "173:\tlearn: 0.6402508\ttotal: 6.72s\tremaining: 31.9s\n",
      "174:\tlearn: 0.6401997\ttotal: 6.74s\tremaining: 31.8s\n",
      "175:\tlearn: 0.6401395\ttotal: 6.77s\tremaining: 31.7s\n",
      "176:\tlearn: 0.6400535\ttotal: 6.79s\tremaining: 31.6s\n",
      "177:\tlearn: 0.6399548\ttotal: 6.82s\tremaining: 31.5s\n",
      "178:\tlearn: 0.6399158\ttotal: 6.85s\tremaining: 31.4s\n",
      "179:\tlearn: 0.6398533\ttotal: 6.88s\tremaining: 31.3s\n",
      "180:\tlearn: 0.6397939\ttotal: 6.91s\tremaining: 31.3s\n",
      "181:\tlearn: 0.6397005\ttotal: 6.94s\tremaining: 31.2s\n",
      "182:\tlearn: 0.6396333\ttotal: 6.97s\tremaining: 31.1s\n",
      "183:\tlearn: 0.6395826\ttotal: 6.99s\tremaining: 31s\n",
      "184:\tlearn: 0.6395089\ttotal: 7.02s\tremaining: 30.9s\n",
      "185:\tlearn: 0.6394194\ttotal: 7.04s\tremaining: 30.8s\n",
      "186:\tlearn: 0.6392858\ttotal: 7.06s\tremaining: 30.7s\n",
      "187:\tlearn: 0.6392215\ttotal: 7.09s\tremaining: 30.6s\n",
      "188:\tlearn: 0.6391657\ttotal: 7.11s\tremaining: 30.5s\n",
      "189:\tlearn: 0.6390808\ttotal: 7.14s\tremaining: 30.4s\n",
      "190:\tlearn: 0.6390178\ttotal: 7.16s\tremaining: 30.3s\n",
      "191:\tlearn: 0.6389288\ttotal: 7.2s\tremaining: 30.3s\n",
      "192:\tlearn: 0.6388468\ttotal: 7.22s\tremaining: 30.2s\n",
      "193:\tlearn: 0.6387470\ttotal: 7.25s\tremaining: 30.1s\n",
      "194:\tlearn: 0.6386721\ttotal: 7.27s\tremaining: 30s\n",
      "195:\tlearn: 0.6386125\ttotal: 7.33s\tremaining: 30s\n",
      "196:\tlearn: 0.6385693\ttotal: 7.36s\tremaining: 30s\n",
      "197:\tlearn: 0.6384896\ttotal: 7.39s\tremaining: 29.9s\n",
      "198:\tlearn: 0.6384125\ttotal: 7.41s\tremaining: 29.8s\n",
      "199:\tlearn: 0.6383193\ttotal: 7.44s\tremaining: 29.7s\n",
      "200:\tlearn: 0.6382222\ttotal: 7.46s\tremaining: 29.7s\n",
      "201:\tlearn: 0.6381458\ttotal: 7.48s\tremaining: 29.6s\n",
      "202:\tlearn: 0.6380823\ttotal: 7.51s\tremaining: 29.5s\n",
      "203:\tlearn: 0.6380268\ttotal: 7.53s\tremaining: 29.4s\n",
      "204:\tlearn: 0.6379127\ttotal: 7.55s\tremaining: 29.3s\n",
      "205:\tlearn: 0.6378297\ttotal: 7.57s\tremaining: 29.2s\n",
      "206:\tlearn: 0.6377557\ttotal: 7.6s\tremaining: 29.1s\n",
      "207:\tlearn: 0.6376627\ttotal: 7.62s\tremaining: 29s\n",
      "208:\tlearn: 0.6375895\ttotal: 7.65s\tremaining: 28.9s\n",
      "209:\tlearn: 0.6375014\ttotal: 7.67s\tremaining: 28.9s\n",
      "210:\tlearn: 0.6374181\ttotal: 7.7s\tremaining: 28.8s\n",
      "211:\tlearn: 0.6373604\ttotal: 7.72s\tremaining: 28.7s\n",
      "212:\tlearn: 0.6372803\ttotal: 7.75s\tremaining: 28.6s\n",
      "213:\tlearn: 0.6371970\ttotal: 7.77s\tremaining: 28.5s\n",
      "214:\tlearn: 0.6370848\ttotal: 7.79s\tremaining: 28.5s\n",
      "215:\tlearn: 0.6370235\ttotal: 7.83s\tremaining: 28.4s\n",
      "216:\tlearn: 0.6369040\ttotal: 7.85s\tremaining: 28.3s\n",
      "217:\tlearn: 0.6367935\ttotal: 7.87s\tremaining: 28.2s\n",
      "218:\tlearn: 0.6366914\ttotal: 7.9s\tremaining: 28.2s\n",
      "219:\tlearn: 0.6366041\ttotal: 7.92s\tremaining: 28.1s\n",
      "220:\tlearn: 0.6364918\ttotal: 7.95s\tremaining: 28s\n",
      "221:\tlearn: 0.6364027\ttotal: 7.97s\tremaining: 27.9s\n",
      "222:\tlearn: 0.6363376\ttotal: 8s\tremaining: 27.9s\n",
      "223:\tlearn: 0.6362591\ttotal: 8.02s\tremaining: 27.8s\n",
      "224:\tlearn: 0.6362056\ttotal: 8.04s\tremaining: 27.7s\n",
      "225:\tlearn: 0.6361066\ttotal: 8.07s\tremaining: 27.6s\n",
      "226:\tlearn: 0.6360195\ttotal: 8.1s\tremaining: 27.6s\n",
      "227:\tlearn: 0.6359587\ttotal: 8.13s\tremaining: 27.5s\n",
      "228:\tlearn: 0.6358771\ttotal: 8.17s\tremaining: 27.5s\n",
      "229:\tlearn: 0.6358283\ttotal: 8.19s\tremaining: 27.4s\n",
      "230:\tlearn: 0.6357926\ttotal: 8.21s\tremaining: 27.3s\n",
      "231:\tlearn: 0.6357287\ttotal: 8.23s\tremaining: 27.3s\n",
      "232:\tlearn: 0.6356719\ttotal: 8.26s\tremaining: 27.2s\n",
      "233:\tlearn: 0.6355826\ttotal: 8.28s\tremaining: 27.1s\n",
      "234:\tlearn: 0.6355146\ttotal: 8.31s\tremaining: 27.1s\n",
      "235:\tlearn: 0.6354602\ttotal: 8.34s\tremaining: 27s\n",
      "236:\tlearn: 0.6353786\ttotal: 8.37s\tremaining: 26.9s\n",
      "237:\tlearn: 0.6353046\ttotal: 8.39s\tremaining: 26.9s\n",
      "238:\tlearn: 0.6352111\ttotal: 8.45s\tremaining: 26.9s\n",
      "239:\tlearn: 0.6351747\ttotal: 8.49s\tremaining: 26.9s\n",
      "240:\tlearn: 0.6350883\ttotal: 8.51s\tremaining: 26.8s\n",
      "241:\tlearn: 0.6350051\ttotal: 8.54s\tremaining: 26.7s\n",
      "242:\tlearn: 0.6349406\ttotal: 8.56s\tremaining: 26.7s\n",
      "243:\tlearn: 0.6348720\ttotal: 8.58s\tremaining: 26.6s\n",
      "244:\tlearn: 0.6348322\ttotal: 8.6s\tremaining: 26.5s\n",
      "245:\tlearn: 0.6347573\ttotal: 8.63s\tremaining: 26.4s\n",
      "246:\tlearn: 0.6347275\ttotal: 8.65s\tremaining: 26.4s\n",
      "247:\tlearn: 0.6346510\ttotal: 8.68s\tremaining: 26.3s\n",
      "248:\tlearn: 0.6346079\ttotal: 8.7s\tremaining: 26.2s\n",
      "249:\tlearn: 0.6345063\ttotal: 8.72s\tremaining: 26.2s\n",
      "250:\tlearn: 0.6344539\ttotal: 8.76s\tremaining: 26.1s\n",
      "251:\tlearn: 0.6343795\ttotal: 8.8s\tremaining: 26.1s\n",
      "252:\tlearn: 0.6342960\ttotal: 8.83s\tremaining: 26.1s\n",
      "253:\tlearn: 0.6341959\ttotal: 8.86s\tremaining: 26s\n",
      "254:\tlearn: 0.6341344\ttotal: 8.89s\tremaining: 26s\n",
      "255:\tlearn: 0.6340467\ttotal: 8.92s\tremaining: 25.9s\n",
      "256:\tlearn: 0.6339558\ttotal: 8.96s\tremaining: 25.9s\n",
      "257:\tlearn: 0.6339019\ttotal: 8.99s\tremaining: 25.9s\n",
      "258:\tlearn: 0.6338181\ttotal: 9.02s\tremaining: 25.8s\n",
      "259:\tlearn: 0.6337671\ttotal: 9.06s\tremaining: 25.8s\n",
      "260:\tlearn: 0.6337129\ttotal: 9.09s\tremaining: 25.7s\n",
      "261:\tlearn: 0.6336457\ttotal: 9.12s\tremaining: 25.7s\n",
      "262:\tlearn: 0.6335722\ttotal: 9.16s\tremaining: 25.7s\n",
      "263:\tlearn: 0.6335076\ttotal: 9.19s\tremaining: 25.6s\n",
      "264:\tlearn: 0.6334323\ttotal: 9.23s\tremaining: 25.6s\n",
      "265:\tlearn: 0.6333557\ttotal: 9.26s\tremaining: 25.5s\n",
      "266:\tlearn: 0.6333027\ttotal: 9.3s\tremaining: 25.5s\n",
      "267:\tlearn: 0.6332352\ttotal: 9.34s\tremaining: 25.5s\n",
      "268:\tlearn: 0.6331760\ttotal: 9.37s\tremaining: 25.5s\n",
      "269:\tlearn: 0.6331435\ttotal: 9.41s\tremaining: 25.4s\n",
      "270:\tlearn: 0.6330532\ttotal: 9.45s\tremaining: 25.4s\n",
      "271:\tlearn: 0.6330159\ttotal: 9.48s\tremaining: 25.4s\n",
      "272:\tlearn: 0.6329781\ttotal: 9.51s\tremaining: 25.3s\n",
      "273:\tlearn: 0.6329383\ttotal: 9.55s\tremaining: 25.3s\n",
      "274:\tlearn: 0.6328495\ttotal: 9.57s\tremaining: 25.2s\n",
      "275:\tlearn: 0.6327818\ttotal: 9.6s\tremaining: 25.2s\n",
      "276:\tlearn: 0.6327071\ttotal: 9.62s\tremaining: 25.1s\n",
      "277:\tlearn: 0.6326454\ttotal: 9.65s\tremaining: 25.1s\n",
      "278:\tlearn: 0.6325535\ttotal: 9.68s\tremaining: 25s\n",
      "279:\tlearn: 0.6325137\ttotal: 9.71s\tremaining: 25s\n",
      "280:\tlearn: 0.6324137\ttotal: 9.73s\tremaining: 24.9s\n",
      "281:\tlearn: 0.6323225\ttotal: 9.77s\tremaining: 24.9s\n",
      "282:\tlearn: 0.6322300\ttotal: 9.83s\tremaining: 24.9s\n",
      "283:\tlearn: 0.6321210\ttotal: 9.89s\tremaining: 24.9s\n",
      "284:\tlearn: 0.6320242\ttotal: 9.92s\tremaining: 24.9s\n",
      "285:\tlearn: 0.6319856\ttotal: 9.95s\tremaining: 24.8s\n",
      "286:\tlearn: 0.6319177\ttotal: 9.97s\tremaining: 24.8s\n",
      "287:\tlearn: 0.6318628\ttotal: 9.99s\tremaining: 24.7s\n",
      "288:\tlearn: 0.6317977\ttotal: 10s\tremaining: 24.6s\n",
      "289:\tlearn: 0.6317179\ttotal: 10s\tremaining: 24.6s\n",
      "290:\tlearn: 0.6316348\ttotal: 10.1s\tremaining: 24.5s\n",
      "291:\tlearn: 0.6315766\ttotal: 10.1s\tremaining: 24.5s\n",
      "292:\tlearn: 0.6315181\ttotal: 10.1s\tremaining: 24.4s\n",
      "293:\tlearn: 0.6314540\ttotal: 10.1s\tremaining: 24.4s\n",
      "294:\tlearn: 0.6313922\ttotal: 10.2s\tremaining: 24.3s\n",
      "295:\tlearn: 0.6313103\ttotal: 10.2s\tremaining: 24.2s\n",
      "296:\tlearn: 0.6312349\ttotal: 10.2s\tremaining: 24.2s\n",
      "297:\tlearn: 0.6311749\ttotal: 10.2s\tremaining: 24.1s\n",
      "298:\tlearn: 0.6311371\ttotal: 10.3s\tremaining: 24.1s\n",
      "299:\tlearn: 0.6310870\ttotal: 10.3s\tremaining: 24s\n",
      "300:\tlearn: 0.6310267\ttotal: 10.3s\tremaining: 23.9s\n",
      "301:\tlearn: 0.6309786\ttotal: 10.3s\tremaining: 23.9s\n",
      "302:\tlearn: 0.6309295\ttotal: 10.4s\tremaining: 23.8s\n",
      "303:\tlearn: 0.6308355\ttotal: 10.4s\tremaining: 23.8s\n",
      "304:\tlearn: 0.6307558\ttotal: 10.4s\tremaining: 23.8s\n",
      "305:\tlearn: 0.6307063\ttotal: 10.5s\tremaining: 23.7s\n",
      "306:\tlearn: 0.6306564\ttotal: 10.5s\tremaining: 23.7s\n",
      "307:\tlearn: 0.6305468\ttotal: 10.5s\tremaining: 23.7s\n",
      "308:\tlearn: 0.6304670\ttotal: 10.6s\tremaining: 23.7s\n",
      "309:\tlearn: 0.6304109\ttotal: 10.6s\tremaining: 23.7s\n",
      "310:\tlearn: 0.6303504\ttotal: 10.7s\tremaining: 23.6s\n",
      "311:\tlearn: 0.6302892\ttotal: 10.7s\tremaining: 23.6s\n",
      "312:\tlearn: 0.6302390\ttotal: 10.7s\tremaining: 23.5s\n",
      "313:\tlearn: 0.6301824\ttotal: 10.7s\tremaining: 23.5s\n",
      "314:\tlearn: 0.6300837\ttotal: 10.8s\tremaining: 23.4s\n",
      "315:\tlearn: 0.6300363\ttotal: 10.8s\tremaining: 23.4s\n",
      "316:\tlearn: 0.6300088\ttotal: 10.8s\tremaining: 23.3s\n",
      "317:\tlearn: 0.6299328\ttotal: 10.8s\tremaining: 23.3s\n",
      "318:\tlearn: 0.6298509\ttotal: 10.9s\tremaining: 23.2s\n",
      "319:\tlearn: 0.6297925\ttotal: 10.9s\tremaining: 23.2s\n",
      "320:\tlearn: 0.6297466\ttotal: 10.9s\tremaining: 23.2s\n",
      "321:\tlearn: 0.6296680\ttotal: 11s\tremaining: 23.1s\n",
      "322:\tlearn: 0.6296539\ttotal: 11s\tremaining: 23.2s\n"
     ]
    },
    {
     "name": "stdout",
     "output_type": "stream",
     "text": [
      "323:\tlearn: 0.6295898\ttotal: 11.1s\tremaining: 23.2s\n",
      "324:\tlearn: 0.6295000\ttotal: 11.2s\tremaining: 23.2s\n",
      "325:\tlearn: 0.6294637\ttotal: 11.2s\tremaining: 23.1s\n",
      "326:\tlearn: 0.6293987\ttotal: 11.2s\tremaining: 23.1s\n",
      "327:\tlearn: 0.6293681\ttotal: 11.3s\tremaining: 23.1s\n",
      "328:\tlearn: 0.6293234\ttotal: 11.3s\tremaining: 23.1s\n",
      "329:\tlearn: 0.6292541\ttotal: 11.4s\tremaining: 23.2s\n",
      "330:\tlearn: 0.6291664\ttotal: 11.5s\tremaining: 23.2s\n",
      "331:\tlearn: 0.6290671\ttotal: 11.5s\tremaining: 23.2s\n",
      "332:\tlearn: 0.6290166\ttotal: 11.6s\tremaining: 23.2s\n",
      "333:\tlearn: 0.6289503\ttotal: 11.6s\tremaining: 23.2s\n",
      "334:\tlearn: 0.6289039\ttotal: 11.6s\tremaining: 23.1s\n",
      "335:\tlearn: 0.6288646\ttotal: 11.7s\tremaining: 23.1s\n",
      "336:\tlearn: 0.6288408\ttotal: 11.7s\tremaining: 23s\n",
      "337:\tlearn: 0.6288170\ttotal: 11.7s\tremaining: 23s\n",
      "338:\tlearn: 0.6287508\ttotal: 11.8s\tremaining: 23s\n",
      "339:\tlearn: 0.6286868\ttotal: 11.8s\tremaining: 22.9s\n",
      "340:\tlearn: 0.6286164\ttotal: 11.8s\tremaining: 22.9s\n",
      "341:\tlearn: 0.6285587\ttotal: 11.9s\tremaining: 22.9s\n",
      "342:\tlearn: 0.6285092\ttotal: 11.9s\tremaining: 22.9s\n",
      "343:\tlearn: 0.6284502\ttotal: 12s\tremaining: 22.8s\n",
      "344:\tlearn: 0.6283684\ttotal: 12s\tremaining: 22.8s\n",
      "345:\tlearn: 0.6283231\ttotal: 12s\tremaining: 22.7s\n",
      "346:\tlearn: 0.6282690\ttotal: 12.1s\tremaining: 22.7s\n",
      "347:\tlearn: 0.6282002\ttotal: 12.1s\tremaining: 22.7s\n",
      "348:\tlearn: 0.6281422\ttotal: 12.1s\tremaining: 22.6s\n",
      "349:\tlearn: 0.6280818\ttotal: 12.2s\tremaining: 22.7s\n",
      "350:\tlearn: 0.6280378\ttotal: 12.3s\tremaining: 22.7s\n",
      "351:\tlearn: 0.6279899\ttotal: 12.3s\tremaining: 22.7s\n",
      "352:\tlearn: 0.6279274\ttotal: 12.4s\tremaining: 22.6s\n",
      "353:\tlearn: 0.6278584\ttotal: 12.4s\tremaining: 22.6s\n",
      "354:\tlearn: 0.6277775\ttotal: 12.4s\tremaining: 22.6s\n",
      "355:\tlearn: 0.6276863\ttotal: 12.5s\tremaining: 22.5s\n",
      "356:\tlearn: 0.6276183\ttotal: 12.6s\tremaining: 22.7s\n",
      "357:\tlearn: 0.6275656\ttotal: 12.7s\tremaining: 22.7s\n",
      "358:\tlearn: 0.6274866\ttotal: 12.7s\tremaining: 22.7s\n",
      "359:\tlearn: 0.6274543\ttotal: 12.8s\tremaining: 22.8s\n",
      "360:\tlearn: 0.6274099\ttotal: 12.9s\tremaining: 22.9s\n",
      "361:\tlearn: 0.6273762\ttotal: 13s\tremaining: 22.9s\n",
      "362:\tlearn: 0.6272954\ttotal: 13s\tremaining: 22.9s\n",
      "363:\tlearn: 0.6272353\ttotal: 13.1s\tremaining: 22.8s\n",
      "364:\tlearn: 0.6271853\ttotal: 13.1s\tremaining: 22.8s\n",
      "365:\tlearn: 0.6271361\ttotal: 13.1s\tremaining: 22.8s\n",
      "366:\tlearn: 0.6271015\ttotal: 13.2s\tremaining: 22.8s\n",
      "367:\tlearn: 0.6270430\ttotal: 13.3s\tremaining: 22.8s\n",
      "368:\tlearn: 0.6269821\ttotal: 13.3s\tremaining: 22.8s\n",
      "369:\tlearn: 0.6268863\ttotal: 13.4s\tremaining: 22.8s\n",
      "370:\tlearn: 0.6268391\ttotal: 13.4s\tremaining: 22.8s\n",
      "371:\tlearn: 0.6267805\ttotal: 13.5s\tremaining: 22.8s\n",
      "372:\tlearn: 0.6267391\ttotal: 13.5s\tremaining: 22.7s\n",
      "373:\tlearn: 0.6266823\ttotal: 13.6s\tremaining: 22.7s\n",
      "374:\tlearn: 0.6266374\ttotal: 13.6s\tremaining: 22.6s\n",
      "375:\tlearn: 0.6266095\ttotal: 13.7s\tremaining: 22.7s\n",
      "376:\tlearn: 0.6265948\ttotal: 13.7s\tremaining: 22.6s\n",
      "377:\tlearn: 0.6265368\ttotal: 13.7s\tremaining: 22.6s\n",
      "378:\tlearn: 0.6265033\ttotal: 13.8s\tremaining: 22.6s\n",
      "379:\tlearn: 0.6264607\ttotal: 13.8s\tremaining: 22.6s\n",
      "380:\tlearn: 0.6264099\ttotal: 13.9s\tremaining: 22.5s\n",
      "381:\tlearn: 0.6263316\ttotal: 13.9s\tremaining: 22.5s\n",
      "382:\tlearn: 0.6262686\ttotal: 13.9s\tremaining: 22.5s\n",
      "383:\tlearn: 0.6262226\ttotal: 14s\tremaining: 22.4s\n",
      "384:\tlearn: 0.6261651\ttotal: 14s\tremaining: 22.4s\n",
      "385:\tlearn: 0.6261137\ttotal: 14s\tremaining: 22.3s\n",
      "386:\tlearn: 0.6260791\ttotal: 14s\tremaining: 22.2s\n",
      "387:\tlearn: 0.6260350\ttotal: 14.1s\tremaining: 22.2s\n",
      "388:\tlearn: 0.6260162\ttotal: 14.1s\tremaining: 22.2s\n",
      "389:\tlearn: 0.6259670\ttotal: 14.2s\tremaining: 22.2s\n",
      "390:\tlearn: 0.6259307\ttotal: 14.3s\tremaining: 22.3s\n",
      "391:\tlearn: 0.6258872\ttotal: 14.5s\tremaining: 22.5s\n",
      "392:\tlearn: 0.6258321\ttotal: 14.6s\tremaining: 22.5s\n",
      "393:\tlearn: 0.6257387\ttotal: 14.6s\tremaining: 22.5s\n",
      "394:\tlearn: 0.6257043\ttotal: 14.6s\tremaining: 22.4s\n",
      "395:\tlearn: 0.6256260\ttotal: 14.7s\tremaining: 22.4s\n",
      "396:\tlearn: 0.6255730\ttotal: 14.7s\tremaining: 22.3s\n",
      "397:\tlearn: 0.6254802\ttotal: 14.7s\tremaining: 22.3s\n",
      "398:\tlearn: 0.6254297\ttotal: 14.8s\tremaining: 22.2s\n",
      "399:\tlearn: 0.6253672\ttotal: 14.8s\tremaining: 22.2s\n",
      "400:\tlearn: 0.6252999\ttotal: 14.8s\tremaining: 22.1s\n",
      "401:\tlearn: 0.6252261\ttotal: 14.8s\tremaining: 22.1s\n",
      "402:\tlearn: 0.6251554\ttotal: 14.9s\tremaining: 22.1s\n",
      "403:\tlearn: 0.6251262\ttotal: 15s\tremaining: 22.1s\n",
      "404:\tlearn: 0.6250762\ttotal: 15s\tremaining: 22s\n",
      "405:\tlearn: 0.6250214\ttotal: 15s\tremaining: 22s\n",
      "406:\tlearn: 0.6249406\ttotal: 15s\tremaining: 21.9s\n",
      "407:\tlearn: 0.6248969\ttotal: 15.1s\tremaining: 21.8s\n",
      "408:\tlearn: 0.6248346\ttotal: 15.1s\tremaining: 21.8s\n",
      "409:\tlearn: 0.6247878\ttotal: 15.1s\tremaining: 21.8s\n",
      "410:\tlearn: 0.6247240\ttotal: 15.2s\tremaining: 21.7s\n",
      "411:\tlearn: 0.6247027\ttotal: 15.2s\tremaining: 21.7s\n",
      "412:\tlearn: 0.6246455\ttotal: 15.3s\tremaining: 21.7s\n",
      "413:\tlearn: 0.6246032\ttotal: 15.3s\tremaining: 21.6s\n",
      "414:\tlearn: 0.6245381\ttotal: 15.3s\tremaining: 21.6s\n",
      "415:\tlearn: 0.6244801\ttotal: 15.3s\tremaining: 21.5s\n",
      "416:\tlearn: 0.6244135\ttotal: 15.4s\tremaining: 21.5s\n",
      "417:\tlearn: 0.6243580\ttotal: 15.4s\tremaining: 21.5s\n",
      "418:\tlearn: 0.6243262\ttotal: 15.4s\tremaining: 21.4s\n",
      "419:\tlearn: 0.6242432\ttotal: 15.5s\tremaining: 21.3s\n",
      "420:\tlearn: 0.6241726\ttotal: 15.5s\tremaining: 21.3s\n",
      "421:\tlearn: 0.6241043\ttotal: 15.5s\tremaining: 21.2s\n",
      "422:\tlearn: 0.6240328\ttotal: 15.5s\tremaining: 21.2s\n",
      "423:\tlearn: 0.6240056\ttotal: 15.6s\tremaining: 21.1s\n",
      "424:\tlearn: 0.6239554\ttotal: 15.6s\tremaining: 21.1s\n",
      "425:\tlearn: 0.6239053\ttotal: 15.6s\tremaining: 21.1s\n",
      "426:\tlearn: 0.6238554\ttotal: 15.7s\tremaining: 21.1s\n",
      "427:\tlearn: 0.6238248\ttotal: 15.8s\tremaining: 21.1s\n",
      "428:\tlearn: 0.6237818\ttotal: 15.8s\tremaining: 21.1s\n",
      "429:\tlearn: 0.6237334\ttotal: 15.8s\tremaining: 21s\n",
      "430:\tlearn: 0.6236997\ttotal: 15.9s\tremaining: 20.9s\n",
      "431:\tlearn: 0.6236497\ttotal: 15.9s\tremaining: 20.9s\n",
      "432:\tlearn: 0.6236073\ttotal: 15.9s\tremaining: 20.8s\n",
      "433:\tlearn: 0.6235348\ttotal: 15.9s\tremaining: 20.8s\n",
      "434:\tlearn: 0.6234716\ttotal: 16s\tremaining: 20.7s\n",
      "435:\tlearn: 0.6233619\ttotal: 16s\tremaining: 20.7s\n",
      "436:\tlearn: 0.6233069\ttotal: 16s\tremaining: 20.6s\n",
      "437:\tlearn: 0.6232989\ttotal: 16.1s\tremaining: 20.6s\n",
      "438:\tlearn: 0.6232490\ttotal: 16.1s\tremaining: 20.5s\n",
      "439:\tlearn: 0.6232048\ttotal: 16.1s\tremaining: 20.5s\n",
      "440:\tlearn: 0.6231265\ttotal: 16.1s\tremaining: 20.4s\n",
      "441:\tlearn: 0.6230845\ttotal: 16.1s\tremaining: 20.4s\n",
      "442:\tlearn: 0.6230184\ttotal: 16.2s\tremaining: 20.3s\n",
      "443:\tlearn: 0.6229916\ttotal: 16.2s\tremaining: 20.3s\n",
      "444:\tlearn: 0.6229543\ttotal: 16.2s\tremaining: 20.2s\n",
      "445:\tlearn: 0.6229385\ttotal: 16.3s\tremaining: 20.2s\n",
      "446:\tlearn: 0.6228790\ttotal: 16.3s\tremaining: 20.2s\n",
      "447:\tlearn: 0.6228057\ttotal: 16.3s\tremaining: 20.1s\n",
      "448:\tlearn: 0.6227361\ttotal: 16.4s\tremaining: 20.1s\n",
      "449:\tlearn: 0.6226658\ttotal: 16.4s\tremaining: 20.1s\n",
      "450:\tlearn: 0.6225918\ttotal: 16.5s\tremaining: 20.1s\n",
      "451:\tlearn: 0.6225433\ttotal: 16.5s\tremaining: 20s\n",
      "452:\tlearn: 0.6224887\ttotal: 16.6s\tremaining: 20s\n",
      "453:\tlearn: 0.6224550\ttotal: 16.6s\tremaining: 20s\n",
      "454:\tlearn: 0.6223505\ttotal: 16.6s\tremaining: 19.9s\n",
      "455:\tlearn: 0.6222839\ttotal: 16.7s\tremaining: 19.9s\n",
      "456:\tlearn: 0.6222463\ttotal: 16.7s\tremaining: 19.9s\n",
      "457:\tlearn: 0.6221743\ttotal: 16.8s\tremaining: 19.8s\n",
      "458:\tlearn: 0.6221205\ttotal: 16.8s\tremaining: 19.8s\n",
      "459:\tlearn: 0.6220635\ttotal: 16.8s\tremaining: 19.7s\n",
      "460:\tlearn: 0.6220067\ttotal: 16.8s\tremaining: 19.7s\n",
      "461:\tlearn: 0.6219887\ttotal: 16.9s\tremaining: 19.7s\n",
      "462:\tlearn: 0.6219280\ttotal: 16.9s\tremaining: 19.6s\n",
      "463:\tlearn: 0.6218452\ttotal: 17s\tremaining: 19.6s\n",
      "464:\tlearn: 0.6218111\ttotal: 17s\tremaining: 19.5s\n",
      "465:\tlearn: 0.6217370\ttotal: 17s\tremaining: 19.5s\n",
      "466:\tlearn: 0.6216929\ttotal: 17s\tremaining: 19.5s\n",
      "467:\tlearn: 0.6216377\ttotal: 17.1s\tremaining: 19.4s\n",
      "468:\tlearn: 0.6215712\ttotal: 17.1s\tremaining: 19.4s\n",
      "469:\tlearn: 0.6215365\ttotal: 17.2s\tremaining: 19.4s\n",
      "470:\tlearn: 0.6214880\ttotal: 17.2s\tremaining: 19.3s\n",
      "471:\tlearn: 0.6214414\ttotal: 17.2s\tremaining: 19.3s\n",
      "472:\tlearn: 0.6214104\ttotal: 17.3s\tremaining: 19.2s\n",
      "473:\tlearn: 0.6213776\ttotal: 17.3s\tremaining: 19.2s\n",
      "474:\tlearn: 0.6213399\ttotal: 17.3s\tremaining: 19.1s\n",
      "475:\tlearn: 0.6213030\ttotal: 17.4s\tremaining: 19.1s\n",
      "476:\tlearn: 0.6212522\ttotal: 17.4s\tremaining: 19.1s\n",
      "477:\tlearn: 0.6211883\ttotal: 17.4s\tremaining: 19s\n",
      "478:\tlearn: 0.6211325\ttotal: 17.5s\tremaining: 19s\n",
      "479:\tlearn: 0.6210844\ttotal: 17.5s\tremaining: 18.9s\n",
      "480:\tlearn: 0.6210404\ttotal: 17.5s\tremaining: 18.9s\n",
      "481:\tlearn: 0.6209792\ttotal: 17.5s\tremaining: 18.8s\n",
      "482:\tlearn: 0.6209488\ttotal: 17.6s\tremaining: 18.8s\n"
     ]
    },
    {
     "name": "stdout",
     "output_type": "stream",
     "text": [
      "483:\tlearn: 0.6208783\ttotal: 17.6s\tremaining: 18.8s\n",
      "484:\tlearn: 0.6208419\ttotal: 17.6s\tremaining: 18.7s\n",
      "485:\tlearn: 0.6208201\ttotal: 17.7s\tremaining: 18.7s\n",
      "486:\tlearn: 0.6207796\ttotal: 17.7s\tremaining: 18.6s\n",
      "487:\tlearn: 0.6207335\ttotal: 17.7s\tremaining: 18.6s\n",
      "488:\tlearn: 0.6206635\ttotal: 17.7s\tremaining: 18.5s\n",
      "489:\tlearn: 0.6206279\ttotal: 17.8s\tremaining: 18.5s\n",
      "490:\tlearn: 0.6205925\ttotal: 17.8s\tremaining: 18.4s\n",
      "491:\tlearn: 0.6205219\ttotal: 17.8s\tremaining: 18.4s\n",
      "492:\tlearn: 0.6204973\ttotal: 17.9s\tremaining: 18.4s\n",
      "493:\tlearn: 0.6204207\ttotal: 17.9s\tremaining: 18.3s\n",
      "494:\tlearn: 0.6203541\ttotal: 17.9s\tremaining: 18.3s\n",
      "495:\tlearn: 0.6203203\ttotal: 18s\tremaining: 18.2s\n",
      "496:\tlearn: 0.6202434\ttotal: 18s\tremaining: 18.2s\n",
      "497:\tlearn: 0.6201952\ttotal: 18s\tremaining: 18.2s\n",
      "498:\tlearn: 0.6201152\ttotal: 18.1s\tremaining: 18.1s\n",
      "499:\tlearn: 0.6200478\ttotal: 18.1s\tremaining: 18.1s\n",
      "500:\tlearn: 0.6199653\ttotal: 18.1s\tremaining: 18s\n",
      "501:\tlearn: 0.6199123\ttotal: 18.2s\tremaining: 18s\n",
      "502:\tlearn: 0.6198565\ttotal: 18.2s\tremaining: 18s\n",
      "503:\tlearn: 0.6197999\ttotal: 18.2s\tremaining: 17.9s\n",
      "504:\tlearn: 0.6197705\ttotal: 18.2s\tremaining: 17.9s\n",
      "505:\tlearn: 0.6197119\ttotal: 18.3s\tremaining: 17.9s\n",
      "506:\tlearn: 0.6196657\ttotal: 18.3s\tremaining: 17.8s\n",
      "507:\tlearn: 0.6196003\ttotal: 18.3s\tremaining: 17.8s\n",
      "508:\tlearn: 0.6195094\ttotal: 18.4s\tremaining: 17.7s\n",
      "509:\tlearn: 0.6194565\ttotal: 18.4s\tremaining: 17.7s\n",
      "510:\tlearn: 0.6193939\ttotal: 18.4s\tremaining: 17.6s\n",
      "511:\tlearn: 0.6193570\ttotal: 18.4s\tremaining: 17.6s\n",
      "512:\tlearn: 0.6193015\ttotal: 18.4s\tremaining: 17.5s\n",
      "513:\tlearn: 0.6192296\ttotal: 18.5s\tremaining: 17.5s\n",
      "514:\tlearn: 0.6191433\ttotal: 18.5s\tremaining: 17.4s\n",
      "515:\tlearn: 0.6190991\ttotal: 18.5s\tremaining: 17.4s\n",
      "516:\tlearn: 0.6190832\ttotal: 18.6s\tremaining: 17.3s\n",
      "517:\tlearn: 0.6190459\ttotal: 18.6s\tremaining: 17.3s\n",
      "518:\tlearn: 0.6189690\ttotal: 18.6s\tremaining: 17.2s\n",
      "519:\tlearn: 0.6189098\ttotal: 18.6s\tremaining: 17.2s\n",
      "520:\tlearn: 0.6188508\ttotal: 18.7s\tremaining: 17.2s\n",
      "521:\tlearn: 0.6188055\ttotal: 18.7s\tremaining: 17.1s\n",
      "522:\tlearn: 0.6187716\ttotal: 18.8s\tremaining: 17.1s\n",
      "523:\tlearn: 0.6187296\ttotal: 18.9s\tremaining: 17.1s\n",
      "524:\tlearn: 0.6187106\ttotal: 18.9s\tremaining: 17.1s\n",
      "525:\tlearn: 0.6186501\ttotal: 19s\tremaining: 17.1s\n",
      "526:\tlearn: 0.6185975\ttotal: 19s\tremaining: 17.1s\n",
      "527:\tlearn: 0.6185273\ttotal: 19s\tremaining: 17s\n",
      "528:\tlearn: 0.6184692\ttotal: 19.1s\tremaining: 17s\n",
      "529:\tlearn: 0.6184253\ttotal: 19.1s\tremaining: 16.9s\n",
      "530:\tlearn: 0.6183725\ttotal: 19.1s\tremaining: 16.9s\n",
      "531:\tlearn: 0.6183348\ttotal: 19.1s\tremaining: 16.8s\n",
      "532:\tlearn: 0.6183056\ttotal: 19.2s\tremaining: 16.8s\n",
      "533:\tlearn: 0.6182766\ttotal: 19.2s\tremaining: 16.8s\n",
      "534:\tlearn: 0.6182283\ttotal: 19.3s\tremaining: 16.8s\n",
      "535:\tlearn: 0.6181858\ttotal: 19.3s\tremaining: 16.7s\n",
      "536:\tlearn: 0.6181490\ttotal: 19.3s\tremaining: 16.7s\n",
      "537:\tlearn: 0.6180938\ttotal: 19.4s\tremaining: 16.6s\n",
      "538:\tlearn: 0.6180484\ttotal: 19.4s\tremaining: 16.6s\n",
      "539:\tlearn: 0.6179949\ttotal: 19.5s\tremaining: 16.6s\n",
      "540:\tlearn: 0.6179545\ttotal: 19.5s\tremaining: 16.6s\n",
      "541:\tlearn: 0.6178959\ttotal: 19.6s\tremaining: 16.5s\n",
      "542:\tlearn: 0.6178749\ttotal: 19.6s\tremaining: 16.5s\n",
      "543:\tlearn: 0.6178248\ttotal: 19.6s\tremaining: 16.4s\n",
      "544:\tlearn: 0.6177866\ttotal: 19.7s\tremaining: 16.4s\n",
      "545:\tlearn: 0.6177283\ttotal: 19.7s\tremaining: 16.4s\n",
      "546:\tlearn: 0.6176850\ttotal: 19.7s\tremaining: 16.3s\n",
      "547:\tlearn: 0.6176164\ttotal: 19.7s\tremaining: 16.3s\n",
      "548:\tlearn: 0.6175445\ttotal: 19.8s\tremaining: 16.2s\n",
      "549:\tlearn: 0.6174894\ttotal: 19.8s\tremaining: 16.2s\n",
      "550:\tlearn: 0.6174521\ttotal: 19.8s\tremaining: 16.1s\n",
      "551:\tlearn: 0.6174157\ttotal: 19.8s\tremaining: 16.1s\n",
      "552:\tlearn: 0.6173514\ttotal: 19.9s\tremaining: 16.1s\n",
      "553:\tlearn: 0.6173352\ttotal: 19.9s\tremaining: 16s\n",
      "554:\tlearn: 0.6173132\ttotal: 19.9s\tremaining: 16s\n",
      "555:\tlearn: 0.6172698\ttotal: 20s\tremaining: 15.9s\n",
      "556:\tlearn: 0.6172076\ttotal: 20s\tremaining: 15.9s\n",
      "557:\tlearn: 0.6171433\ttotal: 20s\tremaining: 15.9s\n",
      "558:\tlearn: 0.6170827\ttotal: 20.1s\tremaining: 15.9s\n",
      "559:\tlearn: 0.6170589\ttotal: 20.1s\tremaining: 15.8s\n",
      "560:\tlearn: 0.6170124\ttotal: 20.2s\tremaining: 15.8s\n",
      "561:\tlearn: 0.6169802\ttotal: 20.2s\tremaining: 15.7s\n",
      "562:\tlearn: 0.6169511\ttotal: 20.2s\tremaining: 15.7s\n",
      "563:\tlearn: 0.6168909\ttotal: 20.2s\tremaining: 15.6s\n",
      "564:\tlearn: 0.6168512\ttotal: 20.3s\tremaining: 15.6s\n",
      "565:\tlearn: 0.6167932\ttotal: 20.3s\tremaining: 15.6s\n",
      "566:\tlearn: 0.6167492\ttotal: 20.4s\tremaining: 15.6s\n",
      "567:\tlearn: 0.6166916\ttotal: 20.5s\tremaining: 15.6s\n",
      "568:\tlearn: 0.6166135\ttotal: 20.5s\tremaining: 15.5s\n",
      "569:\tlearn: 0.6165832\ttotal: 20.5s\tremaining: 15.5s\n",
      "570:\tlearn: 0.6165496\ttotal: 20.6s\tremaining: 15.4s\n",
      "571:\tlearn: 0.6164997\ttotal: 20.6s\tremaining: 15.4s\n",
      "572:\tlearn: 0.6164686\ttotal: 20.6s\tremaining: 15.4s\n",
      "573:\tlearn: 0.6164469\ttotal: 20.6s\tremaining: 15.3s\n",
      "574:\tlearn: 0.6164222\ttotal: 20.7s\tremaining: 15.3s\n",
      "575:\tlearn: 0.6163574\ttotal: 20.7s\tremaining: 15.2s\n",
      "576:\tlearn: 0.6163227\ttotal: 20.7s\tremaining: 15.2s\n",
      "577:\tlearn: 0.6162651\ttotal: 20.8s\tremaining: 15.2s\n",
      "578:\tlearn: 0.6162241\ttotal: 20.8s\tremaining: 15.1s\n",
      "579:\tlearn: 0.6161589\ttotal: 20.8s\tremaining: 15.1s\n",
      "580:\tlearn: 0.6160935\ttotal: 20.9s\tremaining: 15.1s\n",
      "581:\tlearn: 0.6160501\ttotal: 20.9s\tremaining: 15s\n",
      "582:\tlearn: 0.6159937\ttotal: 20.9s\tremaining: 15s\n",
      "583:\tlearn: 0.6159569\ttotal: 21s\tremaining: 14.9s\n",
      "584:\tlearn: 0.6159014\ttotal: 21s\tremaining: 14.9s\n",
      "585:\tlearn: 0.6158793\ttotal: 21s\tremaining: 14.9s\n",
      "586:\tlearn: 0.6158180\ttotal: 21s\tremaining: 14.8s\n",
      "587:\tlearn: 0.6157735\ttotal: 21.1s\tremaining: 14.8s\n",
      "588:\tlearn: 0.6157619\ttotal: 21.1s\tremaining: 14.7s\n",
      "589:\tlearn: 0.6157326\ttotal: 21.1s\tremaining: 14.7s\n",
      "590:\tlearn: 0.6157180\ttotal: 21.1s\tremaining: 14.6s\n",
      "591:\tlearn: 0.6156825\ttotal: 21.2s\tremaining: 14.6s\n",
      "592:\tlearn: 0.6156349\ttotal: 21.2s\tremaining: 14.5s\n",
      "593:\tlearn: 0.6155868\ttotal: 21.2s\tremaining: 14.5s\n",
      "594:\tlearn: 0.6155460\ttotal: 21.3s\tremaining: 14.5s\n",
      "595:\tlearn: 0.6154834\ttotal: 21.3s\tremaining: 14.4s\n",
      "596:\tlearn: 0.6154513\ttotal: 21.3s\tremaining: 14.4s\n",
      "597:\tlearn: 0.6154058\ttotal: 21.3s\tremaining: 14.3s\n",
      "598:\tlearn: 0.6153426\ttotal: 21.3s\tremaining: 14.3s\n",
      "599:\tlearn: 0.6153349\ttotal: 21.4s\tremaining: 14.3s\n",
      "600:\tlearn: 0.6153006\ttotal: 21.4s\tremaining: 14.2s\n",
      "601:\tlearn: 0.6152294\ttotal: 21.5s\tremaining: 14.2s\n",
      "602:\tlearn: 0.6151817\ttotal: 21.5s\tremaining: 14.1s\n",
      "603:\tlearn: 0.6151190\ttotal: 21.5s\tremaining: 14.1s\n",
      "604:\tlearn: 0.6150867\ttotal: 21.6s\tremaining: 14.1s\n",
      "605:\tlearn: 0.6150433\ttotal: 21.6s\tremaining: 14s\n",
      "606:\tlearn: 0.6150095\ttotal: 21.6s\tremaining: 14s\n",
      "607:\tlearn: 0.6149623\ttotal: 21.7s\tremaining: 14s\n",
      "608:\tlearn: 0.6149121\ttotal: 21.7s\tremaining: 13.9s\n",
      "609:\tlearn: 0.6148307\ttotal: 21.7s\tremaining: 13.9s\n",
      "610:\tlearn: 0.6147837\ttotal: 21.8s\tremaining: 13.9s\n",
      "611:\tlearn: 0.6147521\ttotal: 21.8s\tremaining: 13.8s\n",
      "612:\tlearn: 0.6147190\ttotal: 21.8s\tremaining: 13.8s\n",
      "613:\tlearn: 0.6146752\ttotal: 21.9s\tremaining: 13.7s\n",
      "614:\tlearn: 0.6146146\ttotal: 21.9s\tremaining: 13.7s\n",
      "615:\tlearn: 0.6145847\ttotal: 21.9s\tremaining: 13.7s\n",
      "616:\tlearn: 0.6145532\ttotal: 22s\tremaining: 13.6s\n",
      "617:\tlearn: 0.6144947\ttotal: 22s\tremaining: 13.6s\n",
      "618:\tlearn: 0.6144600\ttotal: 22s\tremaining: 13.6s\n",
      "619:\tlearn: 0.6144038\ttotal: 22s\tremaining: 13.5s\n",
      "620:\tlearn: 0.6143566\ttotal: 22.1s\tremaining: 13.5s\n",
      "621:\tlearn: 0.6143067\ttotal: 22.1s\tremaining: 13.4s\n",
      "622:\tlearn: 0.6142811\ttotal: 22.1s\tremaining: 13.4s\n",
      "623:\tlearn: 0.6142749\ttotal: 22.2s\tremaining: 13.4s\n",
      "624:\tlearn: 0.6142083\ttotal: 22.2s\tremaining: 13.3s\n",
      "625:\tlearn: 0.6141838\ttotal: 22.2s\tremaining: 13.3s\n",
      "626:\tlearn: 0.6141658\ttotal: 22.3s\tremaining: 13.2s\n",
      "627:\tlearn: 0.6141141\ttotal: 22.3s\tremaining: 13.2s\n",
      "628:\tlearn: 0.6140816\ttotal: 22.3s\tremaining: 13.2s\n",
      "629:\tlearn: 0.6140217\ttotal: 22.4s\tremaining: 13.2s\n",
      "630:\tlearn: 0.6139583\ttotal: 22.5s\tremaining: 13.1s\n",
      "631:\tlearn: 0.6139162\ttotal: 22.5s\tremaining: 13.1s\n",
      "632:\tlearn: 0.6139063\ttotal: 22.6s\tremaining: 13.1s\n",
      "633:\tlearn: 0.6138656\ttotal: 22.7s\tremaining: 13.1s\n",
      "634:\tlearn: 0.6138339\ttotal: 22.7s\tremaining: 13.1s\n",
      "635:\tlearn: 0.6137866\ttotal: 22.7s\tremaining: 13s\n",
      "636:\tlearn: 0.6137408\ttotal: 22.8s\tremaining: 13s\n",
      "637:\tlearn: 0.6136911\ttotal: 22.8s\tremaining: 13s\n",
      "638:\tlearn: 0.6136452\ttotal: 22.9s\tremaining: 12.9s\n",
      "639:\tlearn: 0.6135894\ttotal: 23s\tremaining: 12.9s\n",
      "640:\tlearn: 0.6135263\ttotal: 23s\tremaining: 12.9s\n",
      "641:\tlearn: 0.6134723\ttotal: 23s\tremaining: 12.8s\n"
     ]
    },
    {
     "name": "stdout",
     "output_type": "stream",
     "text": [
      "642:\tlearn: 0.6134491\ttotal: 23.1s\tremaining: 12.8s\n",
      "643:\tlearn: 0.6134046\ttotal: 23.2s\tremaining: 12.8s\n",
      "644:\tlearn: 0.6133523\ttotal: 23.2s\tremaining: 12.8s\n",
      "645:\tlearn: 0.6133246\ttotal: 23.3s\tremaining: 12.8s\n",
      "646:\tlearn: 0.6132886\ttotal: 23.3s\tremaining: 12.7s\n",
      "647:\tlearn: 0.6132517\ttotal: 23.3s\tremaining: 12.7s\n",
      "648:\tlearn: 0.6132318\ttotal: 23.4s\tremaining: 12.6s\n",
      "649:\tlearn: 0.6131797\ttotal: 23.4s\tremaining: 12.6s\n",
      "650:\tlearn: 0.6131525\ttotal: 23.4s\tremaining: 12.6s\n",
      "651:\tlearn: 0.6130954\ttotal: 23.5s\tremaining: 12.5s\n",
      "652:\tlearn: 0.6130216\ttotal: 23.5s\tremaining: 12.5s\n",
      "653:\tlearn: 0.6129897\ttotal: 23.5s\tremaining: 12.4s\n",
      "654:\tlearn: 0.6129205\ttotal: 23.5s\tremaining: 12.4s\n",
      "655:\tlearn: 0.6128449\ttotal: 23.6s\tremaining: 12.4s\n",
      "656:\tlearn: 0.6127778\ttotal: 23.6s\tremaining: 12.3s\n",
      "657:\tlearn: 0.6127589\ttotal: 23.6s\tremaining: 12.3s\n",
      "658:\tlearn: 0.6127215\ttotal: 23.6s\tremaining: 12.2s\n",
      "659:\tlearn: 0.6126627\ttotal: 23.7s\tremaining: 12.2s\n",
      "660:\tlearn: 0.6126367\ttotal: 23.7s\tremaining: 12.1s\n",
      "661:\tlearn: 0.6125931\ttotal: 23.7s\tremaining: 12.1s\n",
      "662:\tlearn: 0.6125682\ttotal: 23.7s\tremaining: 12.1s\n",
      "663:\tlearn: 0.6125006\ttotal: 23.8s\tremaining: 12s\n",
      "664:\tlearn: 0.6124589\ttotal: 23.8s\tremaining: 12s\n",
      "665:\tlearn: 0.6124198\ttotal: 23.9s\tremaining: 12s\n",
      "666:\tlearn: 0.6123845\ttotal: 23.9s\tremaining: 11.9s\n",
      "667:\tlearn: 0.6123522\ttotal: 23.9s\tremaining: 11.9s\n",
      "668:\tlearn: 0.6123167\ttotal: 23.9s\tremaining: 11.8s\n",
      "669:\tlearn: 0.6123013\ttotal: 24s\tremaining: 11.8s\n",
      "670:\tlearn: 0.6122676\ttotal: 24s\tremaining: 11.8s\n",
      "671:\tlearn: 0.6122195\ttotal: 24s\tremaining: 11.7s\n",
      "672:\tlearn: 0.6121855\ttotal: 24s\tremaining: 11.7s\n",
      "673:\tlearn: 0.6121544\ttotal: 24.1s\tremaining: 11.6s\n",
      "674:\tlearn: 0.6121249\ttotal: 24.1s\tremaining: 11.6s\n",
      "675:\tlearn: 0.6121043\ttotal: 24.1s\tremaining: 11.5s\n",
      "676:\tlearn: 0.6120542\ttotal: 24.1s\tremaining: 11.5s\n",
      "677:\tlearn: 0.6120429\ttotal: 24.1s\tremaining: 11.5s\n",
      "678:\tlearn: 0.6120190\ttotal: 24.2s\tremaining: 11.4s\n",
      "679:\tlearn: 0.6119816\ttotal: 24.2s\tremaining: 11.4s\n",
      "680:\tlearn: 0.6119473\ttotal: 24.2s\tremaining: 11.3s\n",
      "681:\tlearn: 0.6119123\ttotal: 24.2s\tremaining: 11.3s\n",
      "682:\tlearn: 0.6118750\ttotal: 24.3s\tremaining: 11.3s\n",
      "683:\tlearn: 0.6118512\ttotal: 24.3s\tremaining: 11.2s\n",
      "684:\tlearn: 0.6117951\ttotal: 24.3s\tremaining: 11.2s\n",
      "685:\tlearn: 0.6117562\ttotal: 24.4s\tremaining: 11.2s\n",
      "686:\tlearn: 0.6117269\ttotal: 24.4s\tremaining: 11.1s\n",
      "687:\tlearn: 0.6116676\ttotal: 24.4s\tremaining: 11.1s\n",
      "688:\tlearn: 0.6116341\ttotal: 24.4s\tremaining: 11s\n",
      "689:\tlearn: 0.6116093\ttotal: 24.5s\tremaining: 11s\n",
      "690:\tlearn: 0.6115796\ttotal: 24.5s\tremaining: 11s\n",
      "691:\tlearn: 0.6115259\ttotal: 24.5s\tremaining: 10.9s\n",
      "692:\tlearn: 0.6115063\ttotal: 24.6s\tremaining: 10.9s\n",
      "693:\tlearn: 0.6114580\ttotal: 24.6s\tremaining: 10.8s\n",
      "694:\tlearn: 0.6114275\ttotal: 24.6s\tremaining: 10.8s\n",
      "695:\tlearn: 0.6113948\ttotal: 24.6s\tremaining: 10.8s\n",
      "696:\tlearn: 0.6113473\ttotal: 24.7s\tremaining: 10.7s\n",
      "697:\tlearn: 0.6113207\ttotal: 24.7s\tremaining: 10.7s\n",
      "698:\tlearn: 0.6113011\ttotal: 24.7s\tremaining: 10.6s\n",
      "699:\tlearn: 0.6112623\ttotal: 24.7s\tremaining: 10.6s\n",
      "700:\tlearn: 0.6112320\ttotal: 24.8s\tremaining: 10.6s\n",
      "701:\tlearn: 0.6111541\ttotal: 24.8s\tremaining: 10.5s\n",
      "702:\tlearn: 0.6111224\ttotal: 24.9s\tremaining: 10.5s\n",
      "703:\tlearn: 0.6110917\ttotal: 24.9s\tremaining: 10.5s\n",
      "704:\tlearn: 0.6110888\ttotal: 24.9s\tremaining: 10.4s\n",
      "705:\tlearn: 0.6110414\ttotal: 24.9s\tremaining: 10.4s\n",
      "706:\tlearn: 0.6110014\ttotal: 25s\tremaining: 10.3s\n",
      "707:\tlearn: 0.6109631\ttotal: 25s\tremaining: 10.3s\n",
      "708:\tlearn: 0.6109166\ttotal: 25s\tremaining: 10.3s\n",
      "709:\tlearn: 0.6108939\ttotal: 25s\tremaining: 10.2s\n",
      "710:\tlearn: 0.6108375\ttotal: 25.1s\tremaining: 10.2s\n",
      "711:\tlearn: 0.6108041\ttotal: 25.1s\tremaining: 10.1s\n",
      "712:\tlearn: 0.6107603\ttotal: 25.1s\tremaining: 10.1s\n",
      "713:\tlearn: 0.6107358\ttotal: 25.1s\tremaining: 10.1s\n",
      "714:\tlearn: 0.6107240\ttotal: 25.2s\tremaining: 10s\n",
      "715:\tlearn: 0.6106789\ttotal: 25.2s\tremaining: 9.99s\n",
      "716:\tlearn: 0.6106626\ttotal: 25.2s\tremaining: 9.95s\n",
      "717:\tlearn: 0.6106499\ttotal: 25.2s\tremaining: 9.91s\n",
      "718:\tlearn: 0.6105959\ttotal: 25.3s\tremaining: 9.87s\n",
      "719:\tlearn: 0.6105612\ttotal: 25.3s\tremaining: 9.83s\n",
      "720:\tlearn: 0.6105008\ttotal: 25.3s\tremaining: 9.79s\n",
      "721:\tlearn: 0.6104798\ttotal: 25.3s\tremaining: 9.76s\n",
      "722:\tlearn: 0.6104354\ttotal: 25.4s\tremaining: 9.72s\n",
      "723:\tlearn: 0.6104120\ttotal: 25.4s\tremaining: 9.68s\n",
      "724:\tlearn: 0.6103646\ttotal: 25.4s\tremaining: 9.64s\n",
      "725:\tlearn: 0.6103403\ttotal: 25.4s\tremaining: 9.6s\n",
      "726:\tlearn: 0.6102710\ttotal: 25.5s\tremaining: 9.56s\n",
      "727:\tlearn: 0.6102524\ttotal: 25.5s\tremaining: 9.53s\n",
      "728:\tlearn: 0.6102424\ttotal: 25.5s\tremaining: 9.48s\n",
      "729:\tlearn: 0.6102024\ttotal: 25.5s\tremaining: 9.45s\n",
      "730:\tlearn: 0.6101605\ttotal: 25.6s\tremaining: 9.41s\n",
      "731:\tlearn: 0.6101359\ttotal: 25.6s\tremaining: 9.37s\n",
      "732:\tlearn: 0.6100928\ttotal: 25.6s\tremaining: 9.33s\n",
      "733:\tlearn: 0.6100320\ttotal: 25.7s\tremaining: 9.3s\n",
      "734:\tlearn: 0.6099980\ttotal: 25.7s\tremaining: 9.26s\n",
      "735:\tlearn: 0.6099541\ttotal: 25.7s\tremaining: 9.22s\n",
      "736:\tlearn: 0.6099121\ttotal: 25.7s\tremaining: 9.19s\n",
      "737:\tlearn: 0.6098550\ttotal: 25.8s\tremaining: 9.15s\n",
      "738:\tlearn: 0.6098089\ttotal: 25.8s\tremaining: 9.11s\n",
      "739:\tlearn: 0.6097442\ttotal: 25.8s\tremaining: 9.07s\n",
      "740:\tlearn: 0.6097363\ttotal: 25.9s\tremaining: 9.04s\n",
      "741:\tlearn: 0.6096976\ttotal: 25.9s\tremaining: 9s\n",
      "742:\tlearn: 0.6096603\ttotal: 25.9s\tremaining: 8.96s\n",
      "743:\tlearn: 0.6096138\ttotal: 25.9s\tremaining: 8.92s\n",
      "744:\tlearn: 0.6095835\ttotal: 26s\tremaining: 8.88s\n",
      "745:\tlearn: 0.6095561\ttotal: 26s\tremaining: 8.85s\n",
      "746:\tlearn: 0.6094920\ttotal: 26s\tremaining: 8.81s\n",
      "747:\tlearn: 0.6094501\ttotal: 26s\tremaining: 8.77s\n",
      "748:\tlearn: 0.6094054\ttotal: 26.1s\tremaining: 8.73s\n",
      "749:\tlearn: 0.6093736\ttotal: 26.1s\tremaining: 8.7s\n",
      "750:\tlearn: 0.6093418\ttotal: 26.1s\tremaining: 8.66s\n",
      "751:\tlearn: 0.6092825\ttotal: 26.2s\tremaining: 8.63s\n",
      "752:\tlearn: 0.6092558\ttotal: 26.2s\tremaining: 8.59s\n",
      "753:\tlearn: 0.6092133\ttotal: 26.2s\tremaining: 8.55s\n",
      "754:\tlearn: 0.6091566\ttotal: 26.2s\tremaining: 8.52s\n",
      "755:\tlearn: 0.6091178\ttotal: 26.3s\tremaining: 8.48s\n",
      "756:\tlearn: 0.6091112\ttotal: 26.3s\tremaining: 8.44s\n",
      "757:\tlearn: 0.6090793\ttotal: 26.3s\tremaining: 8.4s\n",
      "758:\tlearn: 0.6090561\ttotal: 26.4s\tremaining: 8.37s\n",
      "759:\tlearn: 0.6090143\ttotal: 26.4s\tremaining: 8.33s\n",
      "760:\tlearn: 0.6089562\ttotal: 26.4s\tremaining: 8.3s\n",
      "761:\tlearn: 0.6089431\ttotal: 26.4s\tremaining: 8.26s\n",
      "762:\tlearn: 0.6089290\ttotal: 26.5s\tremaining: 8.22s\n",
      "763:\tlearn: 0.6088977\ttotal: 26.5s\tremaining: 8.18s\n",
      "764:\tlearn: 0.6088628\ttotal: 26.5s\tremaining: 8.15s\n",
      "765:\tlearn: 0.6088237\ttotal: 26.5s\tremaining: 8.11s\n",
      "766:\tlearn: 0.6087978\ttotal: 26.6s\tremaining: 8.07s\n",
      "767:\tlearn: 0.6087391\ttotal: 26.6s\tremaining: 8.03s\n",
      "768:\tlearn: 0.6086897\ttotal: 26.6s\tremaining: 8s\n",
      "769:\tlearn: 0.6086583\ttotal: 26.7s\tremaining: 7.96s\n",
      "770:\tlearn: 0.6086393\ttotal: 26.7s\tremaining: 7.92s\n",
      "771:\tlearn: 0.6086182\ttotal: 26.7s\tremaining: 7.88s\n",
      "772:\tlearn: 0.6085843\ttotal: 26.7s\tremaining: 7.85s\n",
      "773:\tlearn: 0.6085252\ttotal: 26.8s\tremaining: 7.82s\n",
      "774:\tlearn: 0.6085125\ttotal: 26.8s\tremaining: 7.79s\n",
      "775:\tlearn: 0.6084705\ttotal: 26.9s\tremaining: 7.76s\n",
      "776:\tlearn: 0.6084482\ttotal: 26.9s\tremaining: 7.73s\n",
      "777:\tlearn: 0.6083966\ttotal: 26.9s\tremaining: 7.69s\n",
      "778:\tlearn: 0.6083359\ttotal: 27s\tremaining: 7.65s\n",
      "779:\tlearn: 0.6083117\ttotal: 27s\tremaining: 7.62s\n",
      "780:\tlearn: 0.6082740\ttotal: 27s\tremaining: 7.58s\n",
      "781:\tlearn: 0.6082096\ttotal: 27.1s\tremaining: 7.54s\n",
      "782:\tlearn: 0.6081494\ttotal: 27.1s\tremaining: 7.51s\n",
      "783:\tlearn: 0.6080930\ttotal: 27.1s\tremaining: 7.47s\n",
      "784:\tlearn: 0.6080590\ttotal: 27.1s\tremaining: 7.43s\n",
      "785:\tlearn: 0.6079992\ttotal: 27.2s\tremaining: 7.4s\n",
      "786:\tlearn: 0.6079598\ttotal: 27.2s\tremaining: 7.36s\n",
      "787:\tlearn: 0.6079426\ttotal: 27.2s\tremaining: 7.32s\n",
      "788:\tlearn: 0.6079024\ttotal: 27.3s\tremaining: 7.29s\n",
      "789:\tlearn: 0.6078769\ttotal: 27.3s\tremaining: 7.25s\n",
      "790:\tlearn: 0.6078287\ttotal: 27.3s\tremaining: 7.22s\n",
      "791:\tlearn: 0.6078119\ttotal: 27.3s\tremaining: 7.18s\n",
      "792:\tlearn: 0.6077684\ttotal: 27.4s\tremaining: 7.15s\n",
      "793:\tlearn: 0.6077087\ttotal: 27.4s\tremaining: 7.12s\n",
      "794:\tlearn: 0.6076619\ttotal: 27.5s\tremaining: 7.08s\n",
      "795:\tlearn: 0.6076306\ttotal: 27.5s\tremaining: 7.05s\n",
      "796:\tlearn: 0.6076043\ttotal: 27.5s\tremaining: 7.01s\n",
      "797:\tlearn: 0.6075801\ttotal: 27.6s\tremaining: 6.98s\n",
      "798:\tlearn: 0.6075519\ttotal: 27.7s\tremaining: 6.96s\n",
      "799:\tlearn: 0.6075089\ttotal: 27.7s\tremaining: 6.93s\n",
      "800:\tlearn: 0.6074877\ttotal: 27.8s\tremaining: 6.89s\n",
      "801:\tlearn: 0.6074500\ttotal: 27.8s\tremaining: 6.86s\n",
      "802:\tlearn: 0.6074096\ttotal: 27.8s\tremaining: 6.83s\n",
      "803:\tlearn: 0.6073833\ttotal: 27.9s\tremaining: 6.79s\n",
      "804:\tlearn: 0.6073562\ttotal: 27.9s\tremaining: 6.76s\n"
     ]
    },
    {
     "name": "stdout",
     "output_type": "stream",
     "text": [
      "805:\tlearn: 0.6073409\ttotal: 27.9s\tremaining: 6.72s\n",
      "806:\tlearn: 0.6072896\ttotal: 28s\tremaining: 6.69s\n",
      "807:\tlearn: 0.6072021\ttotal: 28s\tremaining: 6.65s\n",
      "808:\tlearn: 0.6071531\ttotal: 28s\tremaining: 6.62s\n",
      "809:\tlearn: 0.6071398\ttotal: 28.1s\tremaining: 6.59s\n",
      "810:\tlearn: 0.6070967\ttotal: 28.1s\tremaining: 6.56s\n",
      "811:\tlearn: 0.6070778\ttotal: 28.2s\tremaining: 6.53s\n",
      "812:\tlearn: 0.6070465\ttotal: 28.2s\tremaining: 6.5s\n",
      "813:\tlearn: 0.6070056\ttotal: 28.3s\tremaining: 6.47s\n",
      "814:\tlearn: 0.6069707\ttotal: 28.4s\tremaining: 6.45s\n",
      "815:\tlearn: 0.6069297\ttotal: 28.4s\tremaining: 6.41s\n",
      "816:\tlearn: 0.6069094\ttotal: 28.5s\tremaining: 6.38s\n",
      "817:\tlearn: 0.6068768\ttotal: 28.6s\tremaining: 6.35s\n",
      "818:\tlearn: 0.6068409\ttotal: 28.6s\tremaining: 6.32s\n",
      "819:\tlearn: 0.6068138\ttotal: 28.6s\tremaining: 6.28s\n",
      "820:\tlearn: 0.6067966\ttotal: 28.6s\tremaining: 6.24s\n",
      "821:\tlearn: 0.6067518\ttotal: 28.7s\tremaining: 6.2s\n",
      "822:\tlearn: 0.6067259\ttotal: 28.7s\tremaining: 6.17s\n",
      "823:\tlearn: 0.6067051\ttotal: 28.7s\tremaining: 6.13s\n",
      "824:\tlearn: 0.6066576\ttotal: 28.7s\tremaining: 6.09s\n",
      "825:\tlearn: 0.6066430\ttotal: 28.8s\tremaining: 6.06s\n",
      "826:\tlearn: 0.6065984\ttotal: 28.8s\tremaining: 6.02s\n",
      "827:\tlearn: 0.6065391\ttotal: 28.8s\tremaining: 5.99s\n",
      "828:\tlearn: 0.6065143\ttotal: 28.8s\tremaining: 5.95s\n",
      "829:\tlearn: 0.6064728\ttotal: 28.9s\tremaining: 5.91s\n",
      "830:\tlearn: 0.6064186\ttotal: 28.9s\tremaining: 5.87s\n",
      "831:\tlearn: 0.6063874\ttotal: 28.9s\tremaining: 5.84s\n",
      "832:\tlearn: 0.6063663\ttotal: 28.9s\tremaining: 5.8s\n",
      "833:\tlearn: 0.6063297\ttotal: 28.9s\tremaining: 5.76s\n",
      "834:\tlearn: 0.6062752\ttotal: 29s\tremaining: 5.72s\n",
      "835:\tlearn: 0.6062238\ttotal: 29s\tremaining: 5.69s\n",
      "836:\tlearn: 0.6061955\ttotal: 29s\tremaining: 5.65s\n",
      "837:\tlearn: 0.6061284\ttotal: 29s\tremaining: 5.62s\n",
      "838:\tlearn: 0.6060877\ttotal: 29.1s\tremaining: 5.58s\n",
      "839:\tlearn: 0.6060236\ttotal: 29.1s\tremaining: 5.54s\n",
      "840:\tlearn: 0.6060013\ttotal: 29.1s\tremaining: 5.5s\n",
      "841:\tlearn: 0.6059465\ttotal: 29.1s\tremaining: 5.47s\n",
      "842:\tlearn: 0.6059237\ttotal: 29.2s\tremaining: 5.43s\n",
      "843:\tlearn: 0.6059093\ttotal: 29.2s\tremaining: 5.39s\n",
      "844:\tlearn: 0.6059018\ttotal: 29.2s\tremaining: 5.36s\n",
      "845:\tlearn: 0.6058773\ttotal: 29.2s\tremaining: 5.32s\n",
      "846:\tlearn: 0.6058459\ttotal: 29.3s\tremaining: 5.29s\n",
      "847:\tlearn: 0.6058030\ttotal: 29.3s\tremaining: 5.25s\n",
      "848:\tlearn: 0.6057842\ttotal: 29.3s\tremaining: 5.22s\n",
      "849:\tlearn: 0.6057539\ttotal: 29.4s\tremaining: 5.19s\n",
      "850:\tlearn: 0.6057147\ttotal: 29.4s\tremaining: 5.15s\n",
      "851:\tlearn: 0.6056892\ttotal: 29.5s\tremaining: 5.12s\n",
      "852:\tlearn: 0.6056237\ttotal: 29.5s\tremaining: 5.09s\n",
      "853:\tlearn: 0.6055812\ttotal: 29.6s\tremaining: 5.06s\n",
      "854:\tlearn: 0.6055470\ttotal: 29.6s\tremaining: 5.02s\n",
      "855:\tlearn: 0.6055136\ttotal: 29.6s\tremaining: 4.98s\n",
      "856:\tlearn: 0.6054906\ttotal: 29.8s\tremaining: 4.97s\n",
      "857:\tlearn: 0.6054505\ttotal: 29.8s\tremaining: 4.94s\n",
      "858:\tlearn: 0.6053929\ttotal: 29.9s\tremaining: 4.9s\n",
      "859:\tlearn: 0.6053366\ttotal: 29.9s\tremaining: 4.87s\n",
      "860:\tlearn: 0.6052806\ttotal: 29.9s\tremaining: 4.83s\n",
      "861:\tlearn: 0.6052430\ttotal: 30.1s\tremaining: 4.81s\n",
      "862:\tlearn: 0.6052166\ttotal: 30.1s\tremaining: 4.78s\n",
      "863:\tlearn: 0.6051814\ttotal: 30.2s\tremaining: 4.75s\n",
      "864:\tlearn: 0.6051246\ttotal: 30.2s\tremaining: 4.72s\n",
      "865:\tlearn: 0.6051060\ttotal: 30.3s\tremaining: 4.68s\n",
      "866:\tlearn: 0.6050810\ttotal: 30.3s\tremaining: 4.65s\n",
      "867:\tlearn: 0.6050365\ttotal: 30.4s\tremaining: 4.62s\n",
      "868:\tlearn: 0.6049649\ttotal: 30.4s\tremaining: 4.58s\n",
      "869:\tlearn: 0.6049249\ttotal: 30.4s\tremaining: 4.54s\n",
      "870:\tlearn: 0.6048963\ttotal: 30.4s\tremaining: 4.51s\n",
      "871:\tlearn: 0.6048816\ttotal: 30.5s\tremaining: 4.47s\n",
      "872:\tlearn: 0.6048315\ttotal: 30.5s\tremaining: 4.44s\n",
      "873:\tlearn: 0.6047854\ttotal: 30.5s\tremaining: 4.4s\n",
      "874:\tlearn: 0.6047514\ttotal: 30.6s\tremaining: 4.37s\n",
      "875:\tlearn: 0.6047290\ttotal: 30.6s\tremaining: 4.33s\n",
      "876:\tlearn: 0.6046859\ttotal: 30.6s\tremaining: 4.29s\n",
      "877:\tlearn: 0.6046153\ttotal: 30.6s\tremaining: 4.26s\n",
      "878:\tlearn: 0.6045861\ttotal: 30.7s\tremaining: 4.22s\n",
      "879:\tlearn: 0.6045329\ttotal: 30.7s\tremaining: 4.19s\n",
      "880:\tlearn: 0.6044793\ttotal: 30.8s\tremaining: 4.15s\n",
      "881:\tlearn: 0.6044408\ttotal: 30.8s\tremaining: 4.12s\n",
      "882:\tlearn: 0.6044016\ttotal: 30.8s\tremaining: 4.08s\n",
      "883:\tlearn: 0.6043605\ttotal: 30.9s\tremaining: 4.05s\n",
      "884:\tlearn: 0.6043401\ttotal: 30.9s\tremaining: 4.02s\n",
      "885:\tlearn: 0.6043213\ttotal: 31s\tremaining: 3.99s\n",
      "886:\tlearn: 0.6042882\ttotal: 31.1s\tremaining: 3.96s\n",
      "887:\tlearn: 0.6042775\ttotal: 31.1s\tremaining: 3.92s\n",
      "888:\tlearn: 0.6042167\ttotal: 31.1s\tremaining: 3.89s\n",
      "889:\tlearn: 0.6041710\ttotal: 31.2s\tremaining: 3.85s\n",
      "890:\tlearn: 0.6041413\ttotal: 31.2s\tremaining: 3.81s\n",
      "891:\tlearn: 0.6041078\ttotal: 31.2s\tremaining: 3.78s\n",
      "892:\tlearn: 0.6040861\ttotal: 31.2s\tremaining: 3.74s\n",
      "893:\tlearn: 0.6040385\ttotal: 31.3s\tremaining: 3.71s\n",
      "894:\tlearn: 0.6040145\ttotal: 31.3s\tremaining: 3.67s\n",
      "895:\tlearn: 0.6039706\ttotal: 31.4s\tremaining: 3.64s\n",
      "896:\tlearn: 0.6039455\ttotal: 31.4s\tremaining: 3.6s\n",
      "897:\tlearn: 0.6039214\ttotal: 31.4s\tremaining: 3.57s\n",
      "898:\tlearn: 0.6039024\ttotal: 31.5s\tremaining: 3.54s\n",
      "899:\tlearn: 0.6038811\ttotal: 31.5s\tremaining: 3.5s\n",
      "900:\tlearn: 0.6038415\ttotal: 31.5s\tremaining: 3.46s\n",
      "901:\tlearn: 0.6037803\ttotal: 31.6s\tremaining: 3.43s\n",
      "902:\tlearn: 0.6037207\ttotal: 31.6s\tremaining: 3.39s\n",
      "903:\tlearn: 0.6036598\ttotal: 31.6s\tremaining: 3.36s\n",
      "904:\tlearn: 0.6036146\ttotal: 31.6s\tremaining: 3.32s\n",
      "905:\tlearn: 0.6035667\ttotal: 31.7s\tremaining: 3.29s\n",
      "906:\tlearn: 0.6035417\ttotal: 31.7s\tremaining: 3.25s\n",
      "907:\tlearn: 0.6035143\ttotal: 31.7s\tremaining: 3.22s\n",
      "908:\tlearn: 0.6034573\ttotal: 31.8s\tremaining: 3.18s\n",
      "909:\tlearn: 0.6034308\ttotal: 31.8s\tremaining: 3.15s\n",
      "910:\tlearn: 0.6034087\ttotal: 31.8s\tremaining: 3.11s\n",
      "911:\tlearn: 0.6033725\ttotal: 31.9s\tremaining: 3.08s\n",
      "912:\tlearn: 0.6033338\ttotal: 31.9s\tremaining: 3.04s\n",
      "913:\tlearn: 0.6033043\ttotal: 32s\tremaining: 3.01s\n",
      "914:\tlearn: 0.6032457\ttotal: 32s\tremaining: 2.97s\n",
      "915:\tlearn: 0.6031980\ttotal: 32s\tremaining: 2.94s\n",
      "916:\tlearn: 0.6031540\ttotal: 32.3s\tremaining: 2.92s\n",
      "917:\tlearn: 0.6031274\ttotal: 32.3s\tremaining: 2.88s\n",
      "918:\tlearn: 0.6030907\ttotal: 32.3s\tremaining: 2.85s\n",
      "919:\tlearn: 0.6030453\ttotal: 32.3s\tremaining: 2.81s\n",
      "920:\tlearn: 0.6030092\ttotal: 32.4s\tremaining: 2.78s\n",
      "921:\tlearn: 0.6029792\ttotal: 32.4s\tremaining: 2.74s\n",
      "922:\tlearn: 0.6029514\ttotal: 32.4s\tremaining: 2.7s\n",
      "923:\tlearn: 0.6028949\ttotal: 32.4s\tremaining: 2.67s\n",
      "924:\tlearn: 0.6028556\ttotal: 32.6s\tremaining: 2.64s\n",
      "925:\tlearn: 0.6028249\ttotal: 32.8s\tremaining: 2.62s\n",
      "926:\tlearn: 0.6027619\ttotal: 33s\tremaining: 2.6s\n",
      "927:\tlearn: 0.6027326\ttotal: 33.1s\tremaining: 2.57s\n",
      "928:\tlearn: 0.6026866\ttotal: 33.2s\tremaining: 2.53s\n",
      "929:\tlearn: 0.6026447\ttotal: 33.2s\tremaining: 2.5s\n",
      "930:\tlearn: 0.6026083\ttotal: 33.2s\tremaining: 2.46s\n",
      "931:\tlearn: 0.6025711\ttotal: 33.3s\tremaining: 2.43s\n",
      "932:\tlearn: 0.6025527\ttotal: 33.3s\tremaining: 2.39s\n",
      "933:\tlearn: 0.6025225\ttotal: 33.3s\tremaining: 2.35s\n",
      "934:\tlearn: 0.6024879\ttotal: 33.4s\tremaining: 2.32s\n",
      "935:\tlearn: 0.6024429\ttotal: 33.4s\tremaining: 2.28s\n",
      "936:\tlearn: 0.6024030\ttotal: 33.4s\tremaining: 2.25s\n",
      "937:\tlearn: 0.6023629\ttotal: 33.5s\tremaining: 2.21s\n",
      "938:\tlearn: 0.6023427\ttotal: 33.5s\tremaining: 2.17s\n",
      "939:\tlearn: 0.6022831\ttotal: 33.5s\tremaining: 2.14s\n",
      "940:\tlearn: 0.6022314\ttotal: 33.6s\tremaining: 2.1s\n",
      "941:\tlearn: 0.6021736\ttotal: 33.6s\tremaining: 2.07s\n",
      "942:\tlearn: 0.6021406\ttotal: 33.6s\tremaining: 2.03s\n",
      "943:\tlearn: 0.6020867\ttotal: 33.6s\tremaining: 2s\n",
      "944:\tlearn: 0.6020360\ttotal: 33.7s\tremaining: 1.96s\n",
      "945:\tlearn: 0.6020028\ttotal: 33.7s\tremaining: 1.92s\n",
      "946:\tlearn: 0.6019492\ttotal: 33.8s\tremaining: 1.89s\n",
      "947:\tlearn: 0.6019292\ttotal: 33.8s\tremaining: 1.85s\n",
      "948:\tlearn: 0.6018733\ttotal: 33.8s\tremaining: 1.82s\n",
      "949:\tlearn: 0.6018285\ttotal: 33.8s\tremaining: 1.78s\n",
      "950:\tlearn: 0.6017725\ttotal: 33.9s\tremaining: 1.75s\n",
      "951:\tlearn: 0.6017433\ttotal: 34s\tremaining: 1.71s\n",
      "952:\tlearn: 0.6017064\ttotal: 34s\tremaining: 1.68s\n",
      "953:\tlearn: 0.6016626\ttotal: 34.1s\tremaining: 1.64s\n",
      "954:\tlearn: 0.6016342\ttotal: 34.2s\tremaining: 1.61s\n",
      "955:\tlearn: 0.6016063\ttotal: 34.3s\tremaining: 1.58s\n",
      "956:\tlearn: 0.6015708\ttotal: 34.3s\tremaining: 1.54s\n",
      "957:\tlearn: 0.6015547\ttotal: 34.4s\tremaining: 1.5s\n",
      "958:\tlearn: 0.6015388\ttotal: 34.4s\tremaining: 1.47s\n",
      "959:\tlearn: 0.6015061\ttotal: 34.5s\tremaining: 1.44s\n",
      "960:\tlearn: 0.6014809\ttotal: 34.5s\tremaining: 1.4s\n",
      "961:\tlearn: 0.6014429\ttotal: 34.6s\tremaining: 1.37s\n",
      "962:\tlearn: 0.6013948\ttotal: 34.6s\tremaining: 1.33s\n",
      "963:\tlearn: 0.6013352\ttotal: 34.7s\tremaining: 1.29s\n",
      "964:\tlearn: 0.6012770\ttotal: 34.7s\tremaining: 1.26s\n",
      "965:\tlearn: 0.6012417\ttotal: 34.7s\tremaining: 1.22s\n",
      "966:\tlearn: 0.6012300\ttotal: 34.8s\tremaining: 1.19s\n",
      "967:\tlearn: 0.6011921\ttotal: 34.8s\tremaining: 1.15s\n",
      "968:\tlearn: 0.6011574\ttotal: 34.8s\tremaining: 1.11s\n"
     ]
    },
    {
     "name": "stdout",
     "output_type": "stream",
     "text": [
      "969:\tlearn: 0.6011243\ttotal: 34.8s\tremaining: 1.08s\n",
      "970:\tlearn: 0.6011003\ttotal: 34.9s\tremaining: 1.04s\n",
      "971:\tlearn: 0.6010678\ttotal: 34.9s\tremaining: 1s\n",
      "972:\tlearn: 0.6010403\ttotal: 34.9s\tremaining: 969ms\n",
      "973:\tlearn: 0.6009963\ttotal: 34.9s\tremaining: 933ms\n",
      "974:\tlearn: 0.6009696\ttotal: 35s\tremaining: 897ms\n",
      "975:\tlearn: 0.6009482\ttotal: 35s\tremaining: 861ms\n",
      "976:\tlearn: 0.6009132\ttotal: 35s\tremaining: 825ms\n",
      "977:\tlearn: 0.6008793\ttotal: 35s\tremaining: 788ms\n",
      "978:\tlearn: 0.6008673\ttotal: 35.1s\tremaining: 752ms\n",
      "979:\tlearn: 0.6008277\ttotal: 35.1s\tremaining: 716ms\n",
      "980:\tlearn: 0.6007769\ttotal: 35.1s\tremaining: 680ms\n",
      "981:\tlearn: 0.6007700\ttotal: 35.2s\tremaining: 645ms\n",
      "982:\tlearn: 0.6007258\ttotal: 35.2s\tremaining: 609ms\n",
      "983:\tlearn: 0.6006803\ttotal: 35.3s\tremaining: 573ms\n",
      "984:\tlearn: 0.6006273\ttotal: 35.3s\tremaining: 537ms\n",
      "985:\tlearn: 0.6005862\ttotal: 35.3s\tremaining: 501ms\n",
      "986:\tlearn: 0.6005761\ttotal: 35.3s\tremaining: 465ms\n",
      "987:\tlearn: 0.6005556\ttotal: 35.3s\tremaining: 429ms\n",
      "988:\tlearn: 0.6005148\ttotal: 35.4s\tremaining: 393ms\n",
      "989:\tlearn: 0.6004833\ttotal: 35.4s\tremaining: 358ms\n",
      "990:\tlearn: 0.6004275\ttotal: 35.4s\tremaining: 322ms\n",
      "991:\tlearn: 0.6003976\ttotal: 35.4s\tremaining: 286ms\n",
      "992:\tlearn: 0.6003629\ttotal: 35.5s\tremaining: 250ms\n",
      "993:\tlearn: 0.6003246\ttotal: 35.5s\tremaining: 214ms\n",
      "994:\tlearn: 0.6002939\ttotal: 35.5s\tremaining: 179ms\n",
      "995:\tlearn: 0.6002701\ttotal: 35.5s\tremaining: 143ms\n",
      "996:\tlearn: 0.6002225\ttotal: 35.6s\tremaining: 107ms\n",
      "997:\tlearn: 0.6001915\ttotal: 35.6s\tremaining: 71.3ms\n",
      "998:\tlearn: 0.6001802\ttotal: 35.7s\tremaining: 35.7ms\n",
      "999:\tlearn: 0.6001367\ttotal: 35.7s\tremaining: 0us\n",
      "CPU times: user 1min 6s, sys: 10.1 s, total: 1min 16s\n",
      "Wall time: 36.8 s\n"
     ]
    }
   ],
   "source": [
    "%%time\n",
    "catb=CATB().fit(X_train,y_train)\n",
    "y_pred7=bnb.predict(X_test)"
   ]
  },
  {
   "cell_type": "code",
   "execution_count": 192,
   "metadata": {},
   "outputs": [
    {
     "data": {
      "text/plain": [
       "0.6017122786477389"
      ]
     },
     "execution_count": 192,
     "metadata": {},
     "output_type": "execute_result"
    }
   ],
   "source": [
    "acc(y_test, y_pred7)"
   ]
  },
  {
   "cell_type": "markdown",
   "metadata": {},
   "source": [
    "# hyperop para regresion logistica"
   ]
  },
  {
   "cell_type": "code",
   "execution_count": 193,
   "metadata": {},
   "outputs": [],
   "source": [
    "from hyperopt import fmin, hp, tpe, Trials, space_eval, STATUS_OK\n",
    "from hyperopt.pyll import scope as ho_scope\n",
    "from hyperopt.pyll.stochastic import sample as ho_sample"
   ]
  },
  {
   "cell_type": "code",
   "execution_count": 194,
   "metadata": {},
   "outputs": [],
   "source": [
    "space = {'penalty':hp.choice('penanlty',['l2']),\n",
    "         'tol':hp.choice('tol',[0.0001,0.000001]),\n",
    "         \n",
    "         'solver':hp.choice('solver',['newton-cg', 'lbfgs', 'liblinear', 'sag', 'saga']),\n",
    "         \n",
    "         \n",
    "    'fit_intercept':hp.choice('fit_intercept',[True,False]),\n",
    "    \n",
    "    'C': hp.choice('C', [0.01,0.1,1]),\n",
    "    \n",
    "    'max_iter':hp.choice('max_iter', [100, 1000,10000]),\n",
    "         \n",
    "        \n",
    "}"
   ]
  },
  {
   "cell_type": "code",
   "execution_count": 195,
   "metadata": {},
   "outputs": [],
   "source": [
    "from sklearn.metrics import mean_squared_error as mse"
   ]
  },
  {
   "cell_type": "code",
   "execution_count": 196,
   "metadata": {},
   "outputs": [],
   "source": [
    "def objetivo(x):\n",
    "    \n",
    "    modelo = LogisticRegression(penalty=x['penalty'],tol=x['tol'],C = x['C'], fit_intercept=x['fit_intercept'],\n",
    "            max_iter = x['max_iter'],solver=x['solver'])\n",
    "    \n",
    "    \n",
    "    modelo.fit(X_train, y_train) #Entrenamiento es fit()\n",
    "    \n",
    "    y_pred=modelo.predict(X_test) #Prediccion\n",
    "    \n",
    "    rmse=mse(y_test, y_pred)**0.5\n",
    "    \n",
    "    return {'loss': rmse, 'status':STATUS_OK}"
   ]
  },
  {
   "cell_type": "code",
   "execution_count": 197,
   "metadata": {},
   "outputs": [],
   "source": [
    "trials_reg=Trials()"
   ]
  },
  {
   "cell_type": "code",
   "execution_count": 294,
   "metadata": {},
   "outputs": [
    {
     "name": "stdout",
     "output_type": "stream",
     "text": [
      "100%|██████████| 10/10 [01:05<00:00,  6.54s/trial, best loss: 0.6267373044293393]\n",
      "CPU times: user 1min 11s, sys: 1.5 s, total: 1min 13s\n",
      "Wall time: 1min 5s\n"
     ]
    }
   ],
   "source": [
    "%%time\n",
    "best=fmin(fn=objetivo, space=space, algo=tpe.suggest, max_evals=10, trials=Trials())\n"
   ]
  },
  {
   "cell_type": "code",
   "execution_count": 295,
   "metadata": {},
   "outputs": [
    {
     "data": {
      "text/plain": [
       "{'C': 1,\n",
       " 'fit_intercept': 1,\n",
       " 'max_iter': 2,\n",
       " 'penanlty': 0,\n",
       " 'solver': 1,\n",
       " 'tol': 0}"
      ]
     },
     "execution_count": 295,
     "metadata": {},
     "output_type": "execute_result"
    }
   ],
   "source": [
    "best"
   ]
  },
  {
   "cell_type": "code",
   "execution_count": 296,
   "metadata": {},
   "outputs": [
    {
     "name": "stdout",
     "output_type": "stream",
     "text": [
      "CPU times: user 2.4 s, sys: 109 ms, total: 2.51 s\n",
      "Wall time: 1.3 s\n"
     ]
    }
   ],
   "source": [
    "%%time\n",
    "#regresión logistica\n",
    "\n",
    "logit_reg = LogisticRegression(fit_intercept=False, max_iter=10000, \n",
    "                               C=1,penalty='l2', tol=0.000001, solver='lbfgs')\n",
    "logit_fit = logit_reg.fit(X_train,y_train)\n",
    "y_pred_p = logit_fit.predict(X_test)"
   ]
  },
  {
   "cell_type": "code",
   "execution_count": 282,
   "metadata": {},
   "outputs": [
    {
     "data": {
      "text/plain": [
       "0.6083711400556124"
      ]
     },
     "execution_count": 282,
     "metadata": {},
     "output_type": "execute_result"
    }
   ],
   "source": [
    "acc(y_test, y_pred_p)"
   ]
  },
  {
   "cell_type": "markdown",
   "metadata": {},
   "source": [
    "# grid search"
   ]
  },
  {
   "cell_type": "code",
   "execution_count": 202,
   "metadata": {},
   "outputs": [],
   "source": [
    "from sklearn.model_selection import GridSearchCV"
   ]
  },
  {
   "cell_type": "code",
   "execution_count": 203,
   "metadata": {},
   "outputs": [],
   "source": [
    "grid_param = {\n",
    "         'tol':[0.0001,0.000001],\n",
    "         \n",
    "         'solver':['newton-cg', 'lbfgs', 'liblinear', 'sag', 'saga'],\n",
    "         \n",
    "         \n",
    "    'fit_intercept':[True,False],\n",
    "    \n",
    "    'C':[0.01,0.1,1],\n",
    "    \n",
    "    'max_iter':[100, 1000,2000]\n",
    "}"
   ]
  },
  {
   "cell_type": "code",
   "execution_count": 204,
   "metadata": {},
   "outputs": [],
   "source": [
    "logic_regresion = LogisticRegression()\n",
    "logic_regresion_grid = GridSearchCV(logic_regresion, grid_param)"
   ]
  },
  {
   "cell_type": "code",
   "execution_count": 205,
   "metadata": {},
   "outputs": [
    {
     "name": "stdout",
     "output_type": "stream",
     "text": [
      "CPU times: user 3h 29min 54s, sys: 3min 28s, total: 3h 33min 23s\n",
      "Wall time: 3h 34min 48s\n"
     ]
    }
   ],
   "source": [
    "%%time\n",
    "logic_trained = logic_regresion_grid.fit(X_train,y_train)"
   ]
  },
  {
   "cell_type": "code",
   "execution_count": 207,
   "metadata": {},
   "outputs": [
    {
     "data": {
      "text/plain": [
       "{'C': 0.1,\n",
       " 'fit_intercept': False,\n",
       " 'max_iter': 100,\n",
       " 'solver': 'lbfgs',\n",
       " 'tol': 0.0001}"
      ]
     },
     "execution_count": 207,
     "metadata": {},
     "output_type": "execute_result"
    }
   ],
   "source": [
    "logic_trained.best_params_"
   ]
  },
  {
   "cell_type": "code",
   "execution_count": 237,
   "metadata": {},
   "outputs": [
    {
     "name": "stdout",
     "output_type": "stream",
     "text": [
      "CPU times: user 1.84 s, sys: 111 ms, total: 1.95 s\n",
      "Wall time: 1.15 s\n"
     ]
    }
   ],
   "source": [
    "%%time\n",
    "#regresión logistica\n",
    "\n",
    "logit_reg = LogisticRegression(fit_intercept=False, max_iter=100, \n",
    "                               C=0.1, tol=0.0001, solver='lbfgs')\n",
    "logit_fit = logit_reg.fit(X_train,y_train)\n",
    "y_pred_p2 = logit_fit.predict(X_test)"
   ]
  },
  {
   "cell_type": "code",
   "execution_count": 238,
   "metadata": {},
   "outputs": [
    {
     "data": {
      "text/plain": [
       "0.6022244987560369"
      ]
     },
     "execution_count": 238,
     "metadata": {},
     "output_type": "execute_result"
    }
   ],
   "source": [
    "acc(y_test, y_pred_p2)"
   ]
  },
  {
   "cell_type": "markdown",
   "metadata": {},
   "source": [
    "# hyperop para soportes vectoriales (tronó)"
   ]
  },
  {
   "cell_type": "code",
   "execution_count": 115,
   "metadata": {},
   "outputs": [],
   "source": [
    "space2 = {'kernel':hp.choice('kernel',['linear', 'poly', 'rbf', 'sigmoid', 'precomputed']),\n",
    "         \n",
    "         'probability':hp.choice('probability',[True,False]),\n",
    "\n",
    "        'shrinking':hp.choice('fit_intercept',[True,False]),\n",
    "    \n",
    "\n",
    "\n",
    "}"
   ]
  },
  {
   "cell_type": "code",
   "execution_count": 116,
   "metadata": {},
   "outputs": [],
   "source": [
    "def objetivo2(x):\n",
    "    \n",
    "    modelo = SVC(kernel=x['kernel'],probability=x['probability'], shrinking=x['shrinking'])\n",
    "    \n",
    "    \n",
    "    modelo.fit(X_train, y_train) #Entrenamiento es fit()\n",
    "    \n",
    "    y_pred=modelo.predict(X_test) #Prediccion\n",
    "    \n",
    "    rmse=mse(y_test, y_pred)**0.5\n",
    "    \n",
    "    return {'loss': rmse, 'status':STATUS_OK}"
   ]
  },
  {
   "cell_type": "code",
   "execution_count": 117,
   "metadata": {},
   "outputs": [
    {
     "name": "stdout",
     "output_type": "stream",
     "text": [
      " 60%|██████    | 6/10 [14:27:53<8:19:44, 7496.18s/trial, best loss: 0.6249835355653712]  "
     ]
    },
    {
     "name": "stderr",
     "output_type": "stream",
     "text": [
      "job exception: Precomputed matrix must be a square matrix. Input is a 54663x42 matrix.\n",
      "\n"
     ]
    },
    {
     "name": "stdout",
     "output_type": "stream",
     "text": [
      " 60%|██████    | 6/10 [14:27:53<9:38:35, 8678.95s/trial, best loss: 0.6249835355653712]\n"
     ]
    },
    {
     "ename": "ValueError",
     "evalue": "Precomputed matrix must be a square matrix. Input is a 54663x42 matrix.",
     "output_type": "error",
     "traceback": [
      "\u001b[0;31m---------------------------------------------------------------------------\u001b[0m",
      "\u001b[0;31mValueError\u001b[0m                                Traceback (most recent call last)",
      "\u001b[0;32m<timed exec>\u001b[0m in \u001b[0;36m<module>\u001b[0;34m\u001b[0m\n",
      "\u001b[0;32m/usr/local/lib/python3.7/site-packages/hyperopt/fmin.py\u001b[0m in \u001b[0;36mfmin\u001b[0;34m(fn, space, algo, max_evals, timeout, loss_threshold, trials, rstate, allow_trials_fmin, pass_expr_memo_ctrl, catch_eval_exceptions, verbose, return_argmin, points_to_evaluate, max_queue_len, show_progressbar)\u001b[0m\n\u001b[1;32m    480\u001b[0m             \u001b[0mcatch_eval_exceptions\u001b[0m\u001b[0;34m=\u001b[0m\u001b[0mcatch_eval_exceptions\u001b[0m\u001b[0;34m,\u001b[0m\u001b[0;34m\u001b[0m\u001b[0;34m\u001b[0m\u001b[0m\n\u001b[1;32m    481\u001b[0m             \u001b[0mreturn_argmin\u001b[0m\u001b[0;34m=\u001b[0m\u001b[0mreturn_argmin\u001b[0m\u001b[0;34m,\u001b[0m\u001b[0;34m\u001b[0m\u001b[0;34m\u001b[0m\u001b[0m\n\u001b[0;32m--> 482\u001b[0;31m             \u001b[0mshow_progressbar\u001b[0m\u001b[0;34m=\u001b[0m\u001b[0mshow_progressbar\u001b[0m\u001b[0;34m,\u001b[0m\u001b[0;34m\u001b[0m\u001b[0;34m\u001b[0m\u001b[0m\n\u001b[0m\u001b[1;32m    483\u001b[0m         )\n\u001b[1;32m    484\u001b[0m \u001b[0;34m\u001b[0m\u001b[0m\n",
      "\u001b[0;32m/usr/local/lib/python3.7/site-packages/hyperopt/base.py\u001b[0m in \u001b[0;36mfmin\u001b[0;34m(self, fn, space, algo, max_evals, timeout, loss_threshold, max_queue_len, rstate, verbose, pass_expr_memo_ctrl, catch_eval_exceptions, return_argmin, show_progressbar)\u001b[0m\n\u001b[1;32m    684\u001b[0m             \u001b[0mcatch_eval_exceptions\u001b[0m\u001b[0;34m=\u001b[0m\u001b[0mcatch_eval_exceptions\u001b[0m\u001b[0;34m,\u001b[0m\u001b[0;34m\u001b[0m\u001b[0;34m\u001b[0m\u001b[0m\n\u001b[1;32m    685\u001b[0m             \u001b[0mreturn_argmin\u001b[0m\u001b[0;34m=\u001b[0m\u001b[0mreturn_argmin\u001b[0m\u001b[0;34m,\u001b[0m\u001b[0;34m\u001b[0m\u001b[0;34m\u001b[0m\u001b[0m\n\u001b[0;32m--> 686\u001b[0;31m             \u001b[0mshow_progressbar\u001b[0m\u001b[0;34m=\u001b[0m\u001b[0mshow_progressbar\u001b[0m\u001b[0;34m,\u001b[0m\u001b[0;34m\u001b[0m\u001b[0;34m\u001b[0m\u001b[0m\n\u001b[0m\u001b[1;32m    687\u001b[0m         )\n\u001b[1;32m    688\u001b[0m \u001b[0;34m\u001b[0m\u001b[0m\n",
      "\u001b[0;32m/usr/local/lib/python3.7/site-packages/hyperopt/fmin.py\u001b[0m in \u001b[0;36mfmin\u001b[0;34m(fn, space, algo, max_evals, timeout, loss_threshold, trials, rstate, allow_trials_fmin, pass_expr_memo_ctrl, catch_eval_exceptions, verbose, return_argmin, points_to_evaluate, max_queue_len, show_progressbar)\u001b[0m\n\u001b[1;32m    507\u001b[0m \u001b[0;34m\u001b[0m\u001b[0m\n\u001b[1;32m    508\u001b[0m     \u001b[0;31m# next line is where the fmin is actually executed\u001b[0m\u001b[0;34m\u001b[0m\u001b[0;34m\u001b[0m\u001b[0;34m\u001b[0m\u001b[0m\n\u001b[0;32m--> 509\u001b[0;31m     \u001b[0mrval\u001b[0m\u001b[0;34m.\u001b[0m\u001b[0mexhaust\u001b[0m\u001b[0;34m(\u001b[0m\u001b[0;34m)\u001b[0m\u001b[0;34m\u001b[0m\u001b[0;34m\u001b[0m\u001b[0m\n\u001b[0m\u001b[1;32m    510\u001b[0m \u001b[0;34m\u001b[0m\u001b[0m\n\u001b[1;32m    511\u001b[0m     \u001b[0;32mif\u001b[0m \u001b[0mreturn_argmin\u001b[0m\u001b[0;34m:\u001b[0m\u001b[0;34m\u001b[0m\u001b[0;34m\u001b[0m\u001b[0m\n",
      "\u001b[0;32m/usr/local/lib/python3.7/site-packages/hyperopt/fmin.py\u001b[0m in \u001b[0;36mexhaust\u001b[0;34m(self)\u001b[0m\n\u001b[1;32m    328\u001b[0m     \u001b[0;32mdef\u001b[0m \u001b[0mexhaust\u001b[0m\u001b[0;34m(\u001b[0m\u001b[0mself\u001b[0m\u001b[0;34m)\u001b[0m\u001b[0;34m:\u001b[0m\u001b[0;34m\u001b[0m\u001b[0;34m\u001b[0m\u001b[0m\n\u001b[1;32m    329\u001b[0m         \u001b[0mn_done\u001b[0m \u001b[0;34m=\u001b[0m \u001b[0mlen\u001b[0m\u001b[0;34m(\u001b[0m\u001b[0mself\u001b[0m\u001b[0;34m.\u001b[0m\u001b[0mtrials\u001b[0m\u001b[0;34m)\u001b[0m\u001b[0;34m\u001b[0m\u001b[0;34m\u001b[0m\u001b[0m\n\u001b[0;32m--> 330\u001b[0;31m         \u001b[0mself\u001b[0m\u001b[0;34m.\u001b[0m\u001b[0mrun\u001b[0m\u001b[0;34m(\u001b[0m\u001b[0mself\u001b[0m\u001b[0;34m.\u001b[0m\u001b[0mmax_evals\u001b[0m \u001b[0;34m-\u001b[0m \u001b[0mn_done\u001b[0m\u001b[0;34m,\u001b[0m \u001b[0mblock_until_done\u001b[0m\u001b[0;34m=\u001b[0m\u001b[0mself\u001b[0m\u001b[0;34m.\u001b[0m\u001b[0masynchronous\u001b[0m\u001b[0;34m)\u001b[0m\u001b[0;34m\u001b[0m\u001b[0;34m\u001b[0m\u001b[0m\n\u001b[0m\u001b[1;32m    331\u001b[0m         \u001b[0mself\u001b[0m\u001b[0;34m.\u001b[0m\u001b[0mtrials\u001b[0m\u001b[0;34m.\u001b[0m\u001b[0mrefresh\u001b[0m\u001b[0;34m(\u001b[0m\u001b[0;34m)\u001b[0m\u001b[0;34m\u001b[0m\u001b[0;34m\u001b[0m\u001b[0m\n\u001b[1;32m    332\u001b[0m         \u001b[0;32mreturn\u001b[0m \u001b[0mself\u001b[0m\u001b[0;34m\u001b[0m\u001b[0;34m\u001b[0m\u001b[0m\n",
      "\u001b[0;32m/usr/local/lib/python3.7/site-packages/hyperopt/fmin.py\u001b[0m in \u001b[0;36mrun\u001b[0;34m(self, N, block_until_done)\u001b[0m\n\u001b[1;32m    284\u001b[0m                 \u001b[0;32melse\u001b[0m\u001b[0;34m:\u001b[0m\u001b[0;34m\u001b[0m\u001b[0;34m\u001b[0m\u001b[0m\n\u001b[1;32m    285\u001b[0m                     \u001b[0;31m# -- loop over trials and do the jobs directly\u001b[0m\u001b[0;34m\u001b[0m\u001b[0;34m\u001b[0m\u001b[0;34m\u001b[0m\u001b[0m\n\u001b[0;32m--> 286\u001b[0;31m                     \u001b[0mself\u001b[0m\u001b[0;34m.\u001b[0m\u001b[0mserial_evaluate\u001b[0m\u001b[0;34m(\u001b[0m\u001b[0;34m)\u001b[0m\u001b[0;34m\u001b[0m\u001b[0;34m\u001b[0m\u001b[0m\n\u001b[0m\u001b[1;32m    287\u001b[0m \u001b[0;34m\u001b[0m\u001b[0m\n\u001b[1;32m    288\u001b[0m                 \u001b[0mself\u001b[0m\u001b[0;34m.\u001b[0m\u001b[0mtrials\u001b[0m\u001b[0;34m.\u001b[0m\u001b[0mrefresh\u001b[0m\u001b[0;34m(\u001b[0m\u001b[0;34m)\u001b[0m\u001b[0;34m\u001b[0m\u001b[0;34m\u001b[0m\u001b[0m\n",
      "\u001b[0;32m/usr/local/lib/python3.7/site-packages/hyperopt/fmin.py\u001b[0m in \u001b[0;36mserial_evaluate\u001b[0;34m(self, N)\u001b[0m\n\u001b[1;32m    163\u001b[0m                 \u001b[0mctrl\u001b[0m \u001b[0;34m=\u001b[0m \u001b[0mbase\u001b[0m\u001b[0;34m.\u001b[0m\u001b[0mCtrl\u001b[0m\u001b[0;34m(\u001b[0m\u001b[0mself\u001b[0m\u001b[0;34m.\u001b[0m\u001b[0mtrials\u001b[0m\u001b[0;34m,\u001b[0m \u001b[0mcurrent_trial\u001b[0m\u001b[0;34m=\u001b[0m\u001b[0mtrial\u001b[0m\u001b[0;34m)\u001b[0m\u001b[0;34m\u001b[0m\u001b[0;34m\u001b[0m\u001b[0m\n\u001b[1;32m    164\u001b[0m                 \u001b[0;32mtry\u001b[0m\u001b[0;34m:\u001b[0m\u001b[0;34m\u001b[0m\u001b[0;34m\u001b[0m\u001b[0m\n\u001b[0;32m--> 165\u001b[0;31m                     \u001b[0mresult\u001b[0m \u001b[0;34m=\u001b[0m \u001b[0mself\u001b[0m\u001b[0;34m.\u001b[0m\u001b[0mdomain\u001b[0m\u001b[0;34m.\u001b[0m\u001b[0mevaluate\u001b[0m\u001b[0;34m(\u001b[0m\u001b[0mspec\u001b[0m\u001b[0;34m,\u001b[0m \u001b[0mctrl\u001b[0m\u001b[0;34m)\u001b[0m\u001b[0;34m\u001b[0m\u001b[0;34m\u001b[0m\u001b[0m\n\u001b[0m\u001b[1;32m    166\u001b[0m                 \u001b[0;32mexcept\u001b[0m \u001b[0mException\u001b[0m \u001b[0;32mas\u001b[0m \u001b[0me\u001b[0m\u001b[0;34m:\u001b[0m\u001b[0;34m\u001b[0m\u001b[0;34m\u001b[0m\u001b[0m\n\u001b[1;32m    167\u001b[0m                     \u001b[0mlogger\u001b[0m\u001b[0;34m.\u001b[0m\u001b[0merror\u001b[0m\u001b[0;34m(\u001b[0m\u001b[0;34m\"job exception: %s\"\u001b[0m \u001b[0;34m%\u001b[0m \u001b[0mstr\u001b[0m\u001b[0;34m(\u001b[0m\u001b[0me\u001b[0m\u001b[0;34m)\u001b[0m\u001b[0;34m)\u001b[0m\u001b[0;34m\u001b[0m\u001b[0;34m\u001b[0m\u001b[0m\n",
      "\u001b[0;32m/usr/local/lib/python3.7/site-packages/hyperopt/base.py\u001b[0m in \u001b[0;36mevaluate\u001b[0;34m(self, config, ctrl, attach_attachments)\u001b[0m\n\u001b[1;32m    892\u001b[0m                 \u001b[0mprint_node_on_error\u001b[0m\u001b[0;34m=\u001b[0m\u001b[0mself\u001b[0m\u001b[0;34m.\u001b[0m\u001b[0mrec_eval_print_node_on_error\u001b[0m\u001b[0;34m,\u001b[0m\u001b[0;34m\u001b[0m\u001b[0;34m\u001b[0m\u001b[0m\n\u001b[1;32m    893\u001b[0m             )\n\u001b[0;32m--> 894\u001b[0;31m             \u001b[0mrval\u001b[0m \u001b[0;34m=\u001b[0m \u001b[0mself\u001b[0m\u001b[0;34m.\u001b[0m\u001b[0mfn\u001b[0m\u001b[0;34m(\u001b[0m\u001b[0mpyll_rval\u001b[0m\u001b[0;34m)\u001b[0m\u001b[0;34m\u001b[0m\u001b[0;34m\u001b[0m\u001b[0m\n\u001b[0m\u001b[1;32m    895\u001b[0m \u001b[0;34m\u001b[0m\u001b[0m\n\u001b[1;32m    896\u001b[0m         \u001b[0;32mif\u001b[0m \u001b[0misinstance\u001b[0m\u001b[0;34m(\u001b[0m\u001b[0mrval\u001b[0m\u001b[0;34m,\u001b[0m \u001b[0;34m(\u001b[0m\u001b[0mfloat\u001b[0m\u001b[0;34m,\u001b[0m \u001b[0mint\u001b[0m\u001b[0;34m,\u001b[0m \u001b[0mnp\u001b[0m\u001b[0;34m.\u001b[0m\u001b[0mnumber\u001b[0m\u001b[0;34m)\u001b[0m\u001b[0;34m)\u001b[0m\u001b[0;34m:\u001b[0m\u001b[0;34m\u001b[0m\u001b[0;34m\u001b[0m\u001b[0m\n",
      "\u001b[0;32m<ipython-input-116-b847b7ea843b>\u001b[0m in \u001b[0;36mobjetivo2\u001b[0;34m(x)\u001b[0m\n\u001b[1;32m      4\u001b[0m \u001b[0;34m\u001b[0m\u001b[0m\n\u001b[1;32m      5\u001b[0m \u001b[0;34m\u001b[0m\u001b[0m\n\u001b[0;32m----> 6\u001b[0;31m     \u001b[0mmodelo\u001b[0m\u001b[0;34m.\u001b[0m\u001b[0mfit\u001b[0m\u001b[0;34m(\u001b[0m\u001b[0mX_train\u001b[0m\u001b[0;34m,\u001b[0m \u001b[0my_train\u001b[0m\u001b[0;34m)\u001b[0m \u001b[0;31m#Entrenamiento es fit()\u001b[0m\u001b[0;34m\u001b[0m\u001b[0;34m\u001b[0m\u001b[0m\n\u001b[0m\u001b[1;32m      7\u001b[0m \u001b[0;34m\u001b[0m\u001b[0m\n\u001b[1;32m      8\u001b[0m     \u001b[0my_pred\u001b[0m\u001b[0;34m=\u001b[0m\u001b[0mmodelo\u001b[0m\u001b[0;34m.\u001b[0m\u001b[0mpredict\u001b[0m\u001b[0;34m(\u001b[0m\u001b[0mX_test\u001b[0m\u001b[0;34m)\u001b[0m \u001b[0;31m#Prediccion\u001b[0m\u001b[0;34m\u001b[0m\u001b[0;34m\u001b[0m\u001b[0m\n",
      "\u001b[0;32m/usr/local/lib/python3.7/site-packages/sklearn/svm/_base.py\u001b[0m in \u001b[0;36mfit\u001b[0;34m(self, X, y, sample_weight)\u001b[0m\n\u001b[1;32m    179\u001b[0m             raise ValueError(\"Precomputed matrix must be a square matrix.\"\n\u001b[1;32m    180\u001b[0m                              \u001b[0;34m\" Input is a {}x{} matrix.\"\u001b[0m\u001b[0;34m\u001b[0m\u001b[0;34m\u001b[0m\u001b[0m\n\u001b[0;32m--> 181\u001b[0;31m                              .format(X.shape[0], X.shape[1]))\n\u001b[0m\u001b[1;32m    182\u001b[0m \u001b[0;34m\u001b[0m\u001b[0m\n\u001b[1;32m    183\u001b[0m         \u001b[0;32mif\u001b[0m \u001b[0msample_weight\u001b[0m\u001b[0;34m.\u001b[0m\u001b[0mshape\u001b[0m\u001b[0;34m[\u001b[0m\u001b[0;36m0\u001b[0m\u001b[0;34m]\u001b[0m \u001b[0;34m>\u001b[0m \u001b[0;36m0\u001b[0m \u001b[0;32mand\u001b[0m \u001b[0msample_weight\u001b[0m\u001b[0;34m.\u001b[0m\u001b[0mshape\u001b[0m\u001b[0;34m[\u001b[0m\u001b[0;36m0\u001b[0m\u001b[0;34m]\u001b[0m \u001b[0;34m!=\u001b[0m \u001b[0mn_samples\u001b[0m\u001b[0;34m:\u001b[0m\u001b[0;34m\u001b[0m\u001b[0;34m\u001b[0m\u001b[0m\n",
      "\u001b[0;31mValueError\u001b[0m: Precomputed matrix must be a square matrix. Input is a 54663x42 matrix."
     ]
    }
   ],
   "source": [
    "%%time\n",
    "best2=fmin(fn=objetivo2, space=space2, algo=tpe.suggest, max_evals=10, trials=Trials())\n"
   ]
  },
  {
   "cell_type": "code",
   "execution_count": 118,
   "metadata": {},
   "outputs": [
    {
     "ename": "NameError",
     "evalue": "name 'best2' is not defined",
     "output_type": "error",
     "traceback": [
      "\u001b[0;31m---------------------------------------------------------------------------\u001b[0m",
      "\u001b[0;31mNameError\u001b[0m                                 Traceback (most recent call last)",
      "\u001b[0;32m<ipython-input-118-62dc8985db53>\u001b[0m in \u001b[0;36m<module>\u001b[0;34m\u001b[0m\n\u001b[0;32m----> 1\u001b[0;31m \u001b[0mbest2\u001b[0m\u001b[0;34m\u001b[0m\u001b[0;34m\u001b[0m\u001b[0m\n\u001b[0m",
      "\u001b[0;31mNameError\u001b[0m: name 'best2' is not defined"
     ]
    }
   ],
   "source": [
    "best2"
   ]
  },
  {
   "cell_type": "code",
   "execution_count": 260,
   "metadata": {},
   "outputs": [
    {
     "data": {
      "text/plain": [
       "Index(['cve_entidad_residencia', 'cve_municipio_residencia',\n",
       "       'diagnostico_clinico_neumonia', 'edad', 'esta_emabarazada',\n",
       "       'meses_embarazo', 'fiebre', 'tos', 'odinofagia', 'disnea',\n",
       "       'irritabilidad', 'diarrea', 'dolor_toracico', 'calofrios', 'cefalea',\n",
       "       'mialgias', 'artralgias', 'ataque_al_estado_general', 'rinorrea',\n",
       "       'polipnea', 'vomito', 'dolor_abdominal', 'conjuntivitis', 'cianosis',\n",
       "       'inicio_subito_sintomas', 'diabetes', 'epoc', 'asma', 'inmunosupresivo',\n",
       "       'hipertension', 'VIH_SIDA', 'otra_condicion', 'enfermedad_cardiaca',\n",
       "       'obesidad', 'insuficiencia_renal_cronica', 'tabaquismo',\n",
       "       'recibio_tratamiento', 'recibio_tratamiento_antiviral', 'vacunado',\n",
       "       'Masculino', 'Femenino', 'Ambulatorio', 'HOSPITALIZADO',\n",
       "       'tiene_covid19', 'negativo_covid19', 'urgencia'],\n",
       "      dtype='object')"
      ]
     },
     "execution_count": 260,
     "metadata": {},
     "output_type": "execute_result"
    }
   ],
   "source": [
    "sinave_imss4.columns"
   ]
  },
  {
   "cell_type": "markdown",
   "metadata": {},
   "source": [
    "# guardando modelo"
   ]
  },
  {
   "cell_type": "code",
   "execution_count": 310,
   "metadata": {},
   "outputs": [],
   "source": [
    "import pickle\n",
    "pkl_filename = \"coronavirus\"\n",
    "with open(pkl_filename, 'wb') as file:\n",
    "    pickle.dump(logit_reg, file)"
   ]
  },
  {
   "cell_type": "code",
   "execution_count": 311,
   "metadata": {},
   "outputs": [],
   "source": [
    "# Load from file\n",
    "with open('coronavirus', 'rb') as file:\n",
    "    modelo = pickle.load(file)\n",
    "    "
   ]
  },
  {
   "cell_type": "code",
   "execution_count": 312,
   "metadata": {},
   "outputs": [
    {
     "data": {
      "text/plain": [
       "array([1, 0, 1, ..., 1, 0, 1])"
      ]
     },
     "execution_count": 312,
     "metadata": {},
     "output_type": "execute_result"
    }
   ],
   "source": [
    "modelo.predict(X_test)"
   ]
  },
  {
   "cell_type": "code",
   "execution_count": 313,
   "metadata": {},
   "outputs": [
    {
     "data": {
      "text/plain": [
       "0.6061759110200498"
      ]
     },
     "execution_count": 313,
     "metadata": {},
     "output_type": "execute_result"
    }
   ],
   "source": [
    "modelo.score(X_test, y_test)"
   ]
  },
  {
   "cell_type": "code",
   "execution_count": 309,
   "metadata": {},
   "outputs": [
    {
     "data": {
      "text/plain": [
       "42"
      ]
     },
     "execution_count": 309,
     "metadata": {},
     "output_type": "execute_result"
    }
   ],
   "source": []
  },
  {
   "cell_type": "code",
   "execution_count": null,
   "metadata": {},
   "outputs": [],
   "source": []
  }
 ],
 "metadata": {
  "kernelspec": {
   "display_name": "Python 3",
   "language": "python",
   "name": "python3"
  },
  "language_info": {
   "codemirror_mode": {
    "name": "ipython",
    "version": 3
   },
   "file_extension": ".py",
   "mimetype": "text/x-python",
   "name": "python",
   "nbconvert_exporter": "python",
   "pygments_lexer": "ipython3",
   "version": "3.7.7"
  }
 },
 "nbformat": 4,
 "nbformat_minor": 4
}
