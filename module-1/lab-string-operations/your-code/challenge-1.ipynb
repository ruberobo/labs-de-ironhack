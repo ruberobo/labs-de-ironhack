{
 "cells": [
  {
   "cell_type": "markdown",
   "metadata": {},
   "source": [
    "# String Operations Lab\n",
    "\n",
    "**Before your start:**\n",
    "\n",
    "- Read the README.md file\n",
    "- Comment as much as you can and use the resources in the README.md file\n",
    "- Happy learning!"
   ]
  },
  {
   "cell_type": "code",
   "execution_count": 1,
   "metadata": {},
   "outputs": [],
   "source": [
    "import re"
   ]
  },
  {
   "cell_type": "markdown",
   "metadata": {},
   "source": [
    "# Challenge 1 - Combining Strings\n",
    "\n",
    "Combining strings is an important skill to acquire. There are multiple ways of combining strings in Python, as well as combining strings with variables. We will explore this in the first challenge. In the cell below, combine the strings in the list and add spaces between the strings (do not add a space after the last string). Insert a period after the last string."
   ]
  },
  {
   "cell_type": "code",
   "execution_count": 13,
   "metadata": {},
   "outputs": [
    {
     "data": {
      "text/plain": [
       "'Durante un tiempo no estuvo segura de si su marido era su marido'"
      ]
     },
     "execution_count": 13,
     "metadata": {},
     "output_type": "execute_result"
    }
   ],
   "source": [
    "str_list = ['Durante', 'un', 'tiempo', 'no', 'estuvo', 'segura', 'de', 'si', 'su', 'marido', 'era', 'su', 'marido']\n",
    "# Your code here:\n",
    "lista_junta= ' '.join(str_list)\n",
    "lista_stripeada = lista_junta.strip()\n",
    "\n",
    "lista_stripeada"
   ]
  },
  {
   "cell_type": "markdown",
   "metadata": {},
   "source": [
    "In the cell below, use the list of strings to create a grocery list. Start the list with the string `Grocery list: ` and include a comma and a space between each item except for the last one. Include a period at the end. Only include foods in the list that start with the letter 'b' and ensure all foods are lower case."
   ]
  },
  {
   "cell_type": "code",
   "execution_count": 79,
   "metadata": {},
   "outputs": [
    {
     "data": {
      "text/plain": [
       "'bananas, bread, brownie mix, broccoli'"
      ]
     },
     "execution_count": 79,
     "metadata": {},
     "output_type": "execute_result"
    }
   ],
   "source": [
    "food_list = ['Bananas', 'Chocolate', 'bread', 'diapers', 'Ice Cream', 'Brownie Mix', 'broccoli']\n",
    "# Your code here:\n",
    "\n",
    "#minusculas\n",
    "grocery_list1 =[]\n",
    "for i in food_list:\n",
    "    a=i.lower()\n",
    "    grocery_list1.append(a)\n",
    "    \n",
    "#con b\n",
    "grocery_list2 = []\n",
    "for i in grocery_list1:\n",
    "    if i.startswith('b'):\n",
    "        grocery_list2.append(i)\n",
    "\n",
    "\n",
    "\n",
    "#juntado\n",
    "for i in grocery_list2:\n",
    "    grocery_list3 = ', '.join(grocery_list2)\n",
    "\n",
    "grocery_list3"
   ]
  },
  {
   "cell_type": "markdown",
   "metadata": {},
   "source": [
    "In the cell below, write a function that computes the area of a circle using its radius. Compute the area of the circle and insert the radius and the area between the two strings. Make sure to include spaces between the variable and the strings. \n",
    "\n",
    "Note: You can use the techniques we have learned so far or use f-strings. F-strings allow us to embed code inside strings. You can read more about f-strings [here](https://www.python.org/dev/peps/pep-0498/)."
   ]
  },
  {
   "cell_type": "code",
   "execution_count": 84,
   "metadata": {},
   "outputs": [
    {
     "name": "stdout",
     "output_type": "stream",
     "text": [
      "The area of the circle with radius: radio\n",
      "is: 78.53981633974483\n"
     ]
    },
    {
     "data": {
      "text/plain": [
       "78.53981633974483"
      ]
     },
     "execution_count": 84,
     "metadata": {},
     "output_type": "execute_result"
    }
   ],
   "source": [
    "import math\n",
    "\n",
    "string1 = \"The area of the circle with radius:\"\n",
    "string2  = \"is:\"\n",
    "radius = 5\n",
    "\n",
    "def area(radio, pi = math.pi):\n",
    "    # This function takes a radius and returns the area of a circle. We also pass a default value for pi.\n",
    "    # Input: Float (and default value for pi)\n",
    "    # Output: Float\n",
    "    \n",
    "    # Sample input: 5.0\n",
    "    # Sample Output: 78.53981633\n",
    "    \n",
    "    # Your code here:\n",
    "    área = pi*(radio**2)\n",
    "    print(string1,\"radio\")\n",
    "    print(string2,área)\n",
    "    \n",
    "    return área\n",
    "    \n",
    "    \n",
    "    \n",
    "# Your output string here:\n",
    "area(radius,pi = math.pi )"
   ]
  },
  {
   "cell_type": "markdown",
   "metadata": {},
   "source": [
    "# Challenge 2 - Splitting Strings\n",
    "\n",
    "We have first looked at combining strings into one long string. There are times where we need to do the opposite and split the string into smaller components for further analysis. \n",
    "\n",
    "In the cell below, split the string into a list of strings using the space delimiter. Count the frequency of each word in the string in a dictionary. Strip the periods, line breaks and commas from the text. Make sure to remove empty strings from your dictionary."
   ]
  },
  {
   "cell_type": "code",
   "execution_count": 108,
   "metadata": {},
   "outputs": [
    {
     "name": "stdout",
     "output_type": "stream",
     "text": [
      "Counter({'say': 3, 'I': 3, 'Some': 2, 'in': 2, 'of': 2, 'the': 1, 'world': 1, 'will': 1, 'end': 1, 'fire,': 1, 'ice.': 1, 'From': 1, 'what': 1, 'I’ve': 1, 'tasted': 1, 'desire': 1, 'hold': 1, 'with': 1, 'those': 1, 'who': 1, 'favor': 1, 'fire.': 1, 'But': 1, 'if': 1, 'it': 1, 'had': 1, 'to': 1, 'perish': 1, 'twice,': 1, 'think': 1, 'know': 1, 'enough': 1, 'hate': 1, 'To': 1, 'that': 1, 'for': 1, 'destruction': 1, 'ice': 1, 'Is': 1, 'also': 1, 'great': 1, 'And': 1, 'would': 1, 'suffice.': 1})\n"
     ]
    }
   ],
   "source": [
    "poem = \"\"\"Some say the world will end in fire,\n",
    "Some say in ice.\n",
    "From what I’ve tasted of desire\n",
    "I hold with those who favor fire.\n",
    "But if it had to perish twice,\n",
    "I think I know enough of hate\n",
    "To say that for destruction ice\n",
    "Is also great\n",
    "And would suffice.\"\"\"\n",
    "\n",
    "# Your code here:\n",
    "\n",
    "#quito apartes\n",
    "poem1 = poem.split('\\n')\n",
    "\n",
    "#quito espacios\n",
    "poem2 = ' '.join(poem1)\n",
    "\n",
    "#separo palabras\n",
    "poem3 = poem2.split(' ')\n",
    "\n",
    "#frecuencias\n",
    "\n",
    "import collections as c\n",
    "\n",
    "d = c.Counter(poem3)\n",
    "print(d)"
   ]
  },
  {
   "cell_type": "markdown",
   "metadata": {},
   "source": [
    "In the cell below, find all the words that appear in the text and do not appear in the blacklist. You must parse the string but can choose any data structure you wish for the words that do not appear in the blacklist. Remove all non letter characters and convert all words to lower case."
   ]
  },
  {
   "cell_type": "code",
   "execution_count": 130,
   "metadata": {},
   "outputs": [
    {
     "name": "stdout",
     "output_type": "stream",
     "text": [
      "['i', 'was', 'angry', 'with', 'my', 'friend;', '', 'i', 'told', 'my', 'wrath,', 'my', 'wrath', 'did', 'end.', 'i', 'was', 'angry', 'with', 'my', 'foe:', '', 'i', 'told', 'not,', 'my', 'wrath', 'did', 'grow.', '', '', 'i', 'waterd', 'fears,', 'night', '&', 'morning', 'with', 'my', 'tears:', '', 'i', 'sunned', 'with', 'smiles,', 'with', 'soft', 'deceitful', 'wiles.', '', '', 'grew', 'both', 'day', 'night.', '', 'till', 'bore', 'apple', 'bright.', '', 'my', 'foe', 'beheld', 'shine,', 'he', 'knew', 'that', 'was', 'mine.', '', '', 'into', 'my', 'garden', 'stole,', '', 'when', 'night', 'had', 'veild', 'pole;', '', 'morning', 'glad', 'i', 'see;', '', 'my', 'foe', 'outstretched', 'beneath', 'tree.']\n"
     ]
    },
    {
     "data": {
      "text/plain": [
       "Counter({'i': 7,\n",
       "         'was': 3,\n",
       "         'angry': 2,\n",
       "         'with': 5,\n",
       "         'my': 9,\n",
       "         'friend;': 1,\n",
       "         '': 14,\n",
       "         'told': 2,\n",
       "         'wrath,': 1,\n",
       "         'wrath': 2,\n",
       "         'did': 2,\n",
       "         'end.': 1,\n",
       "         'foe:': 1,\n",
       "         'not,': 1,\n",
       "         'grow.': 1,\n",
       "         'waterd': 1,\n",
       "         'fears,': 1,\n",
       "         'night': 2,\n",
       "         '&': 1,\n",
       "         'morning': 2,\n",
       "         'tears:': 1,\n",
       "         'sunned': 1,\n",
       "         'smiles,': 1,\n",
       "         'soft': 1,\n",
       "         'deceitful': 1,\n",
       "         'wiles.': 1,\n",
       "         'grew': 1,\n",
       "         'both': 1,\n",
       "         'day': 1,\n",
       "         'night.': 1,\n",
       "         'till': 1,\n",
       "         'bore': 1,\n",
       "         'apple': 1,\n",
       "         'bright.': 1,\n",
       "         'foe': 2,\n",
       "         'beheld': 1,\n",
       "         'shine,': 1,\n",
       "         'he': 1,\n",
       "         'knew': 1,\n",
       "         'that': 1,\n",
       "         'mine.': 1,\n",
       "         'into': 1,\n",
       "         'garden': 1,\n",
       "         'stole,': 1,\n",
       "         'when': 1,\n",
       "         'had': 1,\n",
       "         'veild': 1,\n",
       "         'pole;': 1,\n",
       "         'glad': 1,\n",
       "         'see;': 1,\n",
       "         'outstretched': 1,\n",
       "         'beneath': 1,\n",
       "         'tree.': 1})"
      ]
     },
     "execution_count": 130,
     "metadata": {},
     "output_type": "execute_result"
    }
   ],
   "source": [
    "blacklist = ['and', 'as', 'an', 'a', 'the', 'in', 'it']\n",
    "\n",
    "poema = \"\"\"I was angry with my friend; \n",
    "I told my wrath, my wrath did end.\n",
    "I was angry with my foe: \n",
    "I told it not, my wrath did grow. \n",
    "\n",
    "And I waterd it in fears,\n",
    "Night & morning with my tears: \n",
    "And I sunned it with smiles,\n",
    "And with soft deceitful wiles. \n",
    "\n",
    "And it grew both day and night. \n",
    "Till it bore an apple bright. \n",
    "And my foe beheld it shine,\n",
    "And he knew that it was mine. \n",
    "\n",
    "And into my garden stole, \n",
    "When the night had veild the pole; \n",
    "In the morning glad I see; \n",
    "My foe outstretched beneath the tree.\"\"\"\n",
    "\n",
    "# Your code here:\n",
    "\n",
    "#quito apartes\n",
    "poema2 = poem.split( '\\n')\n",
    "\n",
    "#quito espacios\n",
    "poema3 = ' '.join(poema2)\n",
    "\n",
    "#minusculas\n",
    "poema4 = poema3.lower()\n",
    "\n",
    "\n",
    "#palabras\n",
    "poema5 = poema4.split(' ')\n",
    "\n",
    "#no en lista negra\n",
    "no_en_lista_negra = []\n",
    "\n",
    "for i in poema5:\n",
    "    if i not in blacklist:\n",
    "        no_en_lista_negra.append(i)\n",
    "print(no_en_lista_negra) \n",
    "\n",
    "#contando\n",
    "c.Counter(no_en_lista_negra)"
   ]
  },
  {
   "cell_type": "markdown",
   "metadata": {},
   "source": [
    "# Challenge 3 - Regular Expressions\n",
    "\n",
    "Sometimes, we would like to perform more complex manipulations of our string. This is where regular expressions come in handy. In the cell below, return all characters that are upper case from the string specified below."
   ]
  },
  {
   "cell_type": "code",
   "execution_count": 144,
   "metadata": {},
   "outputs": [
    {
     "name": "stdout",
     "output_type": "stream",
     "text": [
      "The apparition of these faces in the crowd; Petals on a wet, black bough.\n"
     ]
    },
    {
     "data": {
      "text/plain": [
       "['T', 'P']"
      ]
     },
     "execution_count": 144,
     "metadata": {},
     "output_type": "execute_result"
    }
   ],
   "source": [
    "poem_b = \"\"\"The apparition of these faces in the crowd;\n",
    "Petals on a wet, black bough.\"\"\"\n",
    "\n",
    "#quito apartes y vuelvo a juntar\n",
    "poem_b1 = poem_b.split('\\n')\n",
    "poem_b2 = ' '.join(poem_b1)\n",
    "\n",
    "print(poem_b2)\n",
    "# Your code here:\n",
    "\n",
    "re.findall('[A-Z]',poem_b2)"
   ]
  },
  {
   "cell_type": "markdown",
   "metadata": {},
   "source": [
    "In the cell below, filter the list provided and return all elements of the list containing a number. To filter the list, use the `re.search` function. Check if the function does not return `None`. You can read more about the `re.search` function [here](https://docs.python.org/3/library/re.html)."
   ]
  },
  {
   "cell_type": "code",
   "execution_count": 8,
   "metadata": {},
   "outputs": [
    {
     "name": "stdout",
     "output_type": "stream",
     "text": [
      "123abc\n",
      "abc123\n",
      "JohnSmith1\n",
      "ABBY4\n"
     ]
    }
   ],
   "source": [
    "data = ['123abc', 'abc123', 'JohnSmith1', 'ABBY4', 'JANE']\n",
    "\n",
    "# Your code here:\n",
    "\n",
    "for i in data:\n",
    "    if re.search('\\d',i):\n",
    "        print(i)\n",
    "    "
   ]
  },
  {
   "cell_type": "markdown",
   "metadata": {},
   "source": [
    "# Bonus Challenge - Regular Expressions II\n",
    "\n",
    "In the cell below, filter the list provided to keep only strings containing at least one digit and at least one lower case letter. As in the previous question, use the `re.search` function and check that the result is not `None`.\n",
    "\n",
    "To read more about regular expressions, check out [this link](https://developers.google.com/edu/python/regular-expressions)."
   ]
  },
  {
   "cell_type": "code",
   "execution_count": 7,
   "metadata": {},
   "outputs": [
    {
     "name": "stdout",
     "output_type": "stream",
     "text": [
      "123abc\n",
      "abc123\n",
      "JohnSmith1\n"
     ]
    }
   ],
   "source": [
    "data2 = ['123abc', 'abc123', 'JohnSmith1', 'ABBY4', 'JANE']\n",
    "# Your code here:\n",
    "\n",
    "for i in data2:\n",
    "    if re.search('\\d',i) and re.search('[a-z]',i):\n",
    "        print(i)\n",
    "    \n",
    "\n"
   ]
  },
  {
   "cell_type": "code",
   "execution_count": null,
   "metadata": {},
   "outputs": [],
   "source": []
  }
 ],
 "metadata": {
  "kernelspec": {
   "display_name": "Python 3",
   "language": "python",
   "name": "python3"
  },
  "language_info": {
   "codemirror_mode": {
    "name": "ipython",
    "version": 3
   },
   "file_extension": ".py",
   "mimetype": "text/x-python",
   "name": "python",
   "nbconvert_exporter": "python",
   "pygments_lexer": "ipython3",
   "version": "3.7.7"
  }
 },
 "nbformat": 4,
 "nbformat_minor": 2
}
