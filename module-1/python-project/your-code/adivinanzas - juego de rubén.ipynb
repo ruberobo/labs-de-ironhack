{
 "cells": [
  {
   "cell_type": "markdown",
   "metadata": {},
   "source": [
    "# Adivina adivinador\n",
    "\n",
    "Escribe \"adivinanza()\" sin las comillas para tratar de contestar los acertijos"
   ]
  },
  {
   "cell_type": "code",
   "execution_count": 1,
   "metadata": {},
   "outputs": [],
   "source": [
    "import random"
   ]
  },
  {
   "cell_type": "code",
   "execution_count": 2,
   "metadata": {},
   "outputs": [],
   "source": [
    "entrada1 = '''¿Qué cosa es, que a su paso el hierro oxida, el acero se rompe y la carne se pudre?\n",
    "¿Qué cosa es, que la hacen cantando, la compran llorando y la usan sin saber?\n",
    "Va de pared a pared, pero siempre está mojada.\n",
    "En el mar no me mojo, en las brasas no me quemo, en el aire no me caigo y me tienes en los labios. ¿Qué soy?\n",
    "Mi comadre la asustada, pega un grito en la quebrada.\n",
    "¿Qué cosa silba sin labios, corre sin pies, te pega en la espalda y aún no lo ves?\n",
    "¿Quién es algo y nada a la vez?\n",
    "Un platito de avellanas que de día se recogen y de noche se desparraman.\n",
    "¿Qué es eso que anda todo el día y nunca sale de su sitio?\n",
    "Alto, alto como un pino, pesa menos que un comino.\n",
    "Una caja blanquita como la cal, todos la saben abrir, nadie la sabe cerrar.\n",
    "Todos pasan por mí, yo nunca paso por nadie. Todos preguntan por mí, yo no pregunto por nadie.\n",
    "Tul, pero no es tela; pan pero no se come. ¿Qué es?\n",
    "¿Qué animal sigue dando vueltas después de muerto?\n",
    "¿Qué es, qué es, que mientras más le quitas más grande es?\n",
    "María va, María viene, y en un punto se detiene.\n",
    "Existe una santa mujer que con un solo diente llamaba a la gente.\n",
    "Si soy joven, joven quedo. Si soy viejo, viejo quedo. Tengo boca pero no hablo, tengo ojos pero no veo. ¿Qué soy?\n",
    "Es del tamaño de una nuez, siempre sube la cuesta aunque no tenga pies. Sin salir de su casa por todos los sitios pasa y aunque siempre le dan col nunca pone mala cara.\n",
    "¿Qué cosa es, que cuanto más grande se pone, menos todavía lo ves?\n",
    "Cien hermanitos en una sola tabla, si nadie los toca ninguno habla.\n",
    "¿Qué hay entre el río y la arena?\n",
    "Fui al cerro, corté un varón, cortarlo pude pero doblarlo no.\n",
    "Lana sube, lana baja. ¿Qué será?\n",
    "Sobre la mesa me ponen, me cortan, me usan, pero no me comen. ¿Qué soy?\n",
    "Cuando nos atan salimos y cuando nos sueltan nos quedamos. ¿Quiénes somos?\n",
    "Tengo ojos pero no veo, agua pero no bebo y barba pero no me afeito. ¿Quién soy?\n",
    "Nazco sin tener padre, muero y va naciendo mi madre. ¿Quién soy?\n",
    "Me abrigo con paños blancos, tengo blanca cabellera y por mi causa llora hasta la mejor cocinera.\n",
    "Cien monjas en un convento y todas orinan al mismo tiempo.\n",
    "La madre de Rosa tenía cinco hijas: Lala, Lele, Lili, Lolo y ¿cómo se llamaba la última?\n",
    "Fui por él y nunca lo traje.\n",
    "El burro me lleva a cuestas, me meten en un baúl, yo no lo tengo pero sí lo tienes tú.\n",
    "Lo tienes tú, pero los demás lo usan.\n",
    "Desde el momento en que nací, corro de día, corro de noche, corro sin parar, hasta morir en el mar. ¿Quién soy?\n",
    "Soy pequeño como un botón, pero tengo energía como un campeón.\n",
    "Adivina si te digo que soy negro y muy veloz, aunque corras y te escondas soy tu eterno seguidor.\n",
    "¿Qué es blanco como una hoja y tiene dientes pero no muerde?\n",
    "¿Qué cosa es, que si la nombras desaparece?\n",
    "¿De qué se llena una caja, si cuanto más lo llenas menos pesa?'''"
   ]
  },
  {
   "cell_type": "code",
   "execution_count": 3,
   "metadata": {},
   "outputs": [],
   "source": [
    "adivinanzas = entrada1.split('\\n')"
   ]
  },
  {
   "cell_type": "code",
   "execution_count": 4,
   "metadata": {},
   "outputs": [],
   "source": [
    "entrada2 = '''El tiempo.\n",
    "El ataúd.\n",
    "La lengua.\n",
    "La letra A.\n",
    "La escopeta.\n",
    "El viento.\n",
    "El pez.\n",
    "Las estrellas.\n",
    "El reloj.\n",
    "El humo.\n",
    "El huevo.\n",
    "La calle.\n",
    "El tulipán.\n",
    "El pollo asado.\n",
    "El agujero.\n",
    "La puerta.\n",
    "La campana.\n",
    "La fotografía.\n",
    "El caracol.\n",
    "La oscuridad.\n",
    "El piano.\n",
    "La letra Y.\n",
    "El cabello.\n",
    "La navaja.\n",
    "La servilleta.\n",
    "Los zapatos.\n",
    "El coco.\n",
    "La nieve.\n",
    "La cebolla.\n",
    "Las tejas.\n",
    "Rosa.\n",
    "El camino.\n",
    "La letra U.\n",
    "El nombre.\n",
    "El río.\n",
    "La batería o pila.\n",
    "La sombra.\n",
    "El ajo.\n",
    "El silencio.\n",
    "Agujeros'''"
   ]
  },
  {
   "cell_type": "code",
   "execution_count": 5,
   "metadata": {},
   "outputs": [],
   "source": [
    "r = entrada2.split('\\n')\n",
    "e = ''.join(r)\n",
    "s = e.lower()\n",
    "p = s.split('.')\n",
    "respuestas = p\n"
   ]
  },
  {
   "cell_type": "code",
   "execution_count": 6,
   "metadata": {},
   "outputs": [],
   "source": [
    "d = dict(zip(adivinanzas,respuestas))"
   ]
  },
  {
   "cell_type": "code",
   "execution_count": 7,
   "metadata": {},
   "outputs": [],
   "source": [
    "def adivinanza():\n",
    "    print(\"vamos a jugar Adivina adivinador\")\n",
    "\n",
    "    a = random.choice(adivinanzas)\n",
    "    respuesta_jugador = 0\n",
    "    print(a)\n",
    "    while respuesta_jugador!= d[a]:\n",
    "        respuesta_jugador = str(input(\"¿cual es la respuesta?\"))\n",
    "\n",
    "        if respuesta_jugador == d[a]:\n",
    "            print(f'correcto')\n",
    "        else:\n",
    "            print(f'incorrecto')\n",
    "            ayuda = str(input('¿necesitas ayuda? Escribe sí (con acento) si es afirmativa tu respuesta o me rindo si quieres saber la respuesta correcta'))\n",
    "            if ayuda == 'sí':\n",
    "                    print(f'la respuesta se encuentra dentro de la soguiente lista: {respuestas}')\n",
    "            if ayuda == 'me rindo':\n",
    "                respuesta_jugador = d[a]\n",
    "                print(f'solución: {d[a]}')\n",
    "            if ayuda!= 'sí' or ayuda!= 'me rindo':\n",
    "                print(f'intenta nuevamente')\n"
   ]
  },
  {
   "cell_type": "code",
   "execution_count": 8,
   "metadata": {},
   "outputs": [
    {
     "name": "stdout",
     "output_type": "stream",
     "text": [
      "vamos a jugar Adivina adivinador\n",
      "Tengo ojos pero no veo, agua pero no bebo y barba pero no me afeito. ¿Quién soy?\n",
      "¿cual es la respuesta?no se\n",
      "incorrecto\n",
      "¿necesitas ayuda? Escribe sí (con acento) si es afirmativa tu respuesta o me rindo si quieres saber la respuesta correctame rindo\n",
      "solución: el coco\n",
      "intenta nuevamente\n"
     ]
    }
   ],
   "source": [
    "adivinanza()"
   ]
  },
  {
   "cell_type": "code",
   "execution_count": null,
   "metadata": {},
   "outputs": [],
   "source": []
  }
 ],
 "metadata": {
  "kernelspec": {
   "display_name": "Python 3",
   "language": "python",
   "name": "python3"
  },
  "language_info": {
   "codemirror_mode": {
    "name": "ipython",
    "version": 3
   },
   "file_extension": ".py",
   "mimetype": "text/x-python",
   "name": "python",
   "nbconvert_exporter": "python",
   "pygments_lexer": "ipython3",
   "version": "3.7.7"
  }
 },
 "nbformat": 4,
 "nbformat_minor": 4
}
